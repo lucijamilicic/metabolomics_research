{
 "cells": [
  {
   "cell_type": "code",
   "execution_count": 1,
   "id": "a8146001",
   "metadata": {},
   "outputs": [],
   "source": [
    "import pandas as pd\n",
    "import numpy as np\n",
    "from matplotlib import pyplot as plt\n",
    "\n",
    "from combat.pycombat import pycombat\n",
    "\n",
    "from xgboost import XGBRegressor\n",
    "from sklearn.preprocessing import StandardScaler\n",
    "from sklearn.pipeline import Pipeline\n",
    "from sklearn.model_selection import GridSearchCV, cross_validate, StratifiedKFold, KFold\n",
    "from sklearn.feature_selection import SelectKBest, f_classif, mutual_info_classif\n",
    "from sklearn.metrics import mean_squared_error, mean_absolute_error, r2_score\n",
    "from sklearn.decomposition import PCA\n",
    "\n",
    "from pymrmre import mrmr\n",
    "from sklearn.base import BaseEstimator\n",
    "\n",
    "import warnings\n",
    "warnings.filterwarnings('ignore', module='pymrmre')\n",
    "warnings.simplefilter(action='ignore', category=FutureWarning)"
   ]
  },
  {
   "cell_type": "code",
   "execution_count": 71,
   "id": "c90872ab",
   "metadata": {},
   "outputs": [],
   "source": [
    "def data_load_preprocess():\n",
    "    \n",
    "    # load and drop all-NaN rows\n",
    "    met_df = (pd.read_csv(\"./novi/data_zscore_comp_id.csv\"))\n",
    "    met_df.set_index('Unnamed: 0', inplace=True)\n",
    "    met_df.index.name = None\n",
    "    met_df.dropna(axis=0, how='all', inplace=True)\n",
    "    \n",
    "    # drop rows containing >80% NaN\n",
    "    perc = 0.8\n",
    "    min_count =  int((1 - perc)*met_df.shape[1] + 1)\n",
    "    met_df.dropna(axis=0, thresh=min_count, inplace=True)\n",
    "    \n",
    "    # fill rest of NaN values     \n",
    "    met_df.fillna(0, inplace=True)\n",
    "    met_df = met_df.T\n",
    "    \n",
    "    # batch effect correction\n",
    "    clin_df = pd.read_csv(\"./novi/sampleAttr.csv\")\n",
    "    met_df_corrected = pycombat(met_df.T, clin_df['STUDY'].values).T\n",
    "    \n",
    "    # drop outliers\n",
    "    outliers = [17, 163, 222, 225, 255, 293, 362]\n",
    "    met_df_corrected.drop(met_df_corrected.iloc[outliers].index, axis=0, inplace=True)\n",
    "    \n",
    "    # drop columns with unknown metabolites\n",
    "    comp_df = pd.read_csv('./novi/compAnno.csv')\n",
    "    unknown = comp_df[comp_df.BIOCHEMICAL.str.contains('X-[0-9]*')].COMP_ID\n",
    "    met_df_corrected.drop(unknown, axis=1, inplace=True, errors='ignore')\n",
    "    \n",
    "    # join: gestation week, aspirin, preeclampsia, trimester\n",
    "    target = clin_df[['ga.w', 'ASA', 'pe', 'trimester']]\n",
    "    target.index = met_df.index\n",
    "    df = met_df_corrected.join(target)\n",
    "    \n",
    "    # drop non-pe data\n",
    "    df.drop(df[df.pe == 0].index, axis=0, inplace=True)\n",
    "    df.drop(['pe'], axis=1, inplace=True)\n",
    "    \n",
    "    # train on control group, test on aspirin group\n",
    "    train_df = df[df.ASA == False].drop(['ASA'], axis=1)\n",
    "    test_df = df[df.ASA == True].drop(['ASA'], axis=1)\n",
    "    \n",
    "    \n",
    "    # drop false data (ga.w < 25 & trim=3)\n",
    "    b = train_df[train_df.trimester == 3]\n",
    "    i = b[b['ga.w'] < 25].index\n",
    "    train_df.drop(i, inplace=True)\n",
    "\n",
    "\n",
    "    # use first trimester as train data (before aspirin treatmant)\n",
    "    train_df = train_df.append(test_df[test_df.trimester == 1])\n",
    "    test_df.drop(test_df[test_df.trimester == 1].index, axis=0, inplace=True)\n",
    "    \n",
    "    return train_df, test_df"
   ]
  },
  {
   "cell_type": "code",
   "execution_count": 3,
   "id": "d6b6366d",
   "metadata": {},
   "outputs": [],
   "source": [
    "from sklearn.metrics import make_scorer\n",
    "\n",
    "def mean_error(y_true, y_pred):\n",
    "    return np.mean(y_true - y_pred)\n",
    "\n",
    "mean_error_scorer = make_scorer(mean_error, greater_is_better=False)\n",
    "mean_absolute_error_scorer = make_scorer(mean_absolute_error, greater_is_better=True)\n",
    "mean_squared_error_scorer = make_scorer(mean_squared_error, greater_is_better=True)\n",
    "r2_scorer = make_scorer(r2_score)\n",
    "\n",
    "# nested cross validation\n",
    "def get_best_params_reg(pipeline, params, X, y):\n",
    "    \n",
    "    grid = GridSearchCV(pipeline, param_grid=params, cv=KFold(n_splits=5, shuffle=True, random_state=7), \n",
    "                        scoring='neg_mean_squared_error', n_jobs=-1)\n",
    "\n",
    "    cv = KFold(n_splits=5, shuffle=True, random_state=7)\n",
    "    scoring = {\n",
    "    'mean_error': mean_error_scorer,\n",
    "    'mean_absolute_error': mean_absolute_error_scorer,\n",
    "    'mean_squared_error': mean_squared_error_scorer,\n",
    "    'r2': r2_scorer\n",
    "}\n",
    "    \n",
    "    scores = cross_validate(grid, X, y, scoring=scoring, cv=cv, n_jobs=-1)\n",
    "    \n",
    "    grid.fit(X, y)\n",
    "    best_params = grid.best_params_\n",
    "\n",
    "    return scores, best_params "
   ]
  },
  {
   "cell_type": "code",
   "execution_count": 4,
   "id": "363bc254",
   "metadata": {},
   "outputs": [],
   "source": [
    "pipe = Pipeline([('scaler', StandardScaler()), ('regressor', XGBRegressor(objective='reg:squarederror'))])\n",
    "params = {\n",
    "    'regressor__n_estimators' : [100, 200, 300],\n",
    "    'regressor__max_depth' : [5, 10, 15],\n",
    "    'regressor__learning_rate' : [0.01, 0.1, 1]\n",
    "}\n"
   ]
  },
  {
   "cell_type": "code",
   "execution_count": 5,
   "id": "6ac5ca54",
   "metadata": {
    "scrolled": false
   },
   "outputs": [
    {
     "name": "stdout",
     "output_type": "stream",
     "text": [
      "Found 4 batches.\n",
      "Adjusting for 0 covariate(s) or covariate level(s).\n",
      "Standardizing Data across genes.\n",
      "Fitting L/S model and finding priors.\n",
      "Finding parametric adjustments.\n",
      "Adjusting the Data\n",
      "\n",
      "Shape:  (46, 798) (46,)\n"
     ]
    },
    {
     "name": "stderr",
     "output_type": "stream",
     "text": [
      "/home/lucija/.local/lib/python3.10/site-packages/combat/pycombat.py:159: RuntimeWarning: divide by zero encountered in divide\n",
      "  np.absolute(d_new-d_old)/d_old))  # maximum difference between new and old estimate\n"
     ]
    }
   ],
   "source": [
    "df_train, df_test = data_load_preprocess()\n",
    "X = df_train.drop(['ga.w', 'trimester'], axis=1)\n",
    "y = df_train['ga.w']\n",
    "print('\\nShape: ', X.shape, y.shape)"
   ]
  },
  {
   "cell_type": "code",
   "execution_count": 1,
   "id": "33bba5eb",
   "metadata": {
    "scrolled": false
   },
   "outputs": [],
   "source": [
    "# uncomment for nested cv:\n",
    "\n",
    "# scores, best_params = get_best_params_reg(pipe, params, X, y)\n",
    "# print(scores)\n",
    "\n",
    "# for k, v in scores.items():\n",
    "#     print(k, np.mean(v))\n",
    "\n",
    "# print(best_params)\n"
   ]
  },
  {
   "cell_type": "markdown",
   "id": "60ad2879",
   "metadata": {},
   "source": [
    "### saved scores output:\n",
    " \n",
    " {'fit_time': array([220.34272289, 219.65278292, 219.94975567, 220.19927287, 220.04858589]),\n",
    " \n",
    " 'score_time': array([0.01212096, 0.01717782, 0.01474404, 0.01697278, 0.01698613]),\n",
    " \n",
    " 'test_mean_error': array([-0.41916865, -0.67298173,  0.73988119,  0.84136396,  0.23471743]),\n",
    " \n",
    " 'test_mean_absolute_error': array([1.15184764, 0.93881567, 0.99256977, 1.60586266, 0.74115724]),\n",
    " \n",
    " 'test_mean_squared_error': array([3.21116726, 1.43391852, 1.44015574, 7.85330054, 0.69911276]),\n",
    " \n",
    " 'test_r2': array([0.82353133, 0.90685941, 0.89655105, 0.4737566 , 0.95459727])}\n",
    " \n",
    " ________\n",
    " \n",
    " ### saved best params\n",
    " \n",
    "{'regressor__learning_rate': 0.1,\n",
    " 'regressor__max_depth': 5,\n",
    " 'regressor__n_estimators': 200}\n"
   ]
  },
  {
   "cell_type": "code",
   "execution_count": 7,
   "id": "b17bec63",
   "metadata": {},
   "outputs": [],
   "source": [
    "# best params saved for quick run\n",
    "best_params = {'regressor__learning_rate': 0.1,\n",
    "               'regressor__max_depth': 5,\n",
    "               'regressor__n_estimators': 200}\n"
   ]
  },
  {
   "cell_type": "code",
   "execution_count": 8,
   "id": "7c09b474",
   "metadata": {},
   "outputs": [
    {
     "data": {
      "text/html": [
       "<style>#sk-container-id-1 {color: black;background-color: white;}#sk-container-id-1 pre{padding: 0;}#sk-container-id-1 div.sk-toggleable {background-color: white;}#sk-container-id-1 label.sk-toggleable__label {cursor: pointer;display: block;width: 100%;margin-bottom: 0;padding: 0.3em;box-sizing: border-box;text-align: center;}#sk-container-id-1 label.sk-toggleable__label-arrow:before {content: \"▸\";float: left;margin-right: 0.25em;color: #696969;}#sk-container-id-1 label.sk-toggleable__label-arrow:hover:before {color: black;}#sk-container-id-1 div.sk-estimator:hover label.sk-toggleable__label-arrow:before {color: black;}#sk-container-id-1 div.sk-toggleable__content {max-height: 0;max-width: 0;overflow: hidden;text-align: left;background-color: #f0f8ff;}#sk-container-id-1 div.sk-toggleable__content pre {margin: 0.2em;color: black;border-radius: 0.25em;background-color: #f0f8ff;}#sk-container-id-1 input.sk-toggleable__control:checked~div.sk-toggleable__content {max-height: 200px;max-width: 100%;overflow: auto;}#sk-container-id-1 input.sk-toggleable__control:checked~label.sk-toggleable__label-arrow:before {content: \"▾\";}#sk-container-id-1 div.sk-estimator input.sk-toggleable__control:checked~label.sk-toggleable__label {background-color: #d4ebff;}#sk-container-id-1 div.sk-label input.sk-toggleable__control:checked~label.sk-toggleable__label {background-color: #d4ebff;}#sk-container-id-1 input.sk-hidden--visually {border: 0;clip: rect(1px 1px 1px 1px);clip: rect(1px, 1px, 1px, 1px);height: 1px;margin: -1px;overflow: hidden;padding: 0;position: absolute;width: 1px;}#sk-container-id-1 div.sk-estimator {font-family: monospace;background-color: #f0f8ff;border: 1px dotted black;border-radius: 0.25em;box-sizing: border-box;margin-bottom: 0.5em;}#sk-container-id-1 div.sk-estimator:hover {background-color: #d4ebff;}#sk-container-id-1 div.sk-parallel-item::after {content: \"\";width: 100%;border-bottom: 1px solid gray;flex-grow: 1;}#sk-container-id-1 div.sk-label:hover label.sk-toggleable__label {background-color: #d4ebff;}#sk-container-id-1 div.sk-serial::before {content: \"\";position: absolute;border-left: 1px solid gray;box-sizing: border-box;top: 0;bottom: 0;left: 50%;z-index: 0;}#sk-container-id-1 div.sk-serial {display: flex;flex-direction: column;align-items: center;background-color: white;padding-right: 0.2em;padding-left: 0.2em;position: relative;}#sk-container-id-1 div.sk-item {position: relative;z-index: 1;}#sk-container-id-1 div.sk-parallel {display: flex;align-items: stretch;justify-content: center;background-color: white;position: relative;}#sk-container-id-1 div.sk-item::before, #sk-container-id-1 div.sk-parallel-item::before {content: \"\";position: absolute;border-left: 1px solid gray;box-sizing: border-box;top: 0;bottom: 0;left: 50%;z-index: -1;}#sk-container-id-1 div.sk-parallel-item {display: flex;flex-direction: column;z-index: 1;position: relative;background-color: white;}#sk-container-id-1 div.sk-parallel-item:first-child::after {align-self: flex-end;width: 50%;}#sk-container-id-1 div.sk-parallel-item:last-child::after {align-self: flex-start;width: 50%;}#sk-container-id-1 div.sk-parallel-item:only-child::after {width: 0;}#sk-container-id-1 div.sk-dashed-wrapped {border: 1px dashed gray;margin: 0 0.4em 0.5em 0.4em;box-sizing: border-box;padding-bottom: 0.4em;background-color: white;}#sk-container-id-1 div.sk-label label {font-family: monospace;font-weight: bold;display: inline-block;line-height: 1.2em;}#sk-container-id-1 div.sk-label-container {text-align: center;}#sk-container-id-1 div.sk-container {/* jupyter's `normalize.less` sets `[hidden] { display: none; }` but bootstrap.min.css set `[hidden] { display: none !important; }` so we also need the `!important` here to be able to override the default hidden behavior on the sphinx rendered scikit-learn.org. See: https://github.com/scikit-learn/scikit-learn/issues/21755 */display: inline-block !important;position: relative;}#sk-container-id-1 div.sk-text-repr-fallback {display: none;}</style><div id=\"sk-container-id-1\" class=\"sk-top-container\"><div class=\"sk-text-repr-fallback\"><pre>Pipeline(steps=[(&#x27;scaler&#x27;, StandardScaler()),\n",
       "                (&#x27;regressor&#x27;,\n",
       "                 XGBRegressor(base_score=None, booster=None, callbacks=None,\n",
       "                              colsample_bylevel=None, colsample_bynode=None,\n",
       "                              colsample_bytree=None, early_stopping_rounds=None,\n",
       "                              enable_categorical=False, eval_metric=None,\n",
       "                              feature_types=None, gamma=None, gpu_id=None,\n",
       "                              grow_policy=None, importance_type=None,\n",
       "                              interaction_constraints=None, learning_rate=0.1,\n",
       "                              max_bin=None, max_cat_threshold=None,\n",
       "                              max_cat_to_onehot=None, max_delta_step=None,\n",
       "                              max_depth=5, max_leaves=None,\n",
       "                              min_child_weight=None, missing=nan,\n",
       "                              monotone_constraints=None, n_estimators=200,\n",
       "                              n_jobs=None, num_parallel_tree=None,\n",
       "                              predictor=None, random_state=None, ...))])</pre><b>In a Jupyter environment, please rerun this cell to show the HTML representation or trust the notebook. <br />On GitHub, the HTML representation is unable to render, please try loading this page with nbviewer.org.</b></div><div class=\"sk-container\" hidden><div class=\"sk-item sk-dashed-wrapped\"><div class=\"sk-label-container\"><div class=\"sk-label sk-toggleable\"><input class=\"sk-toggleable__control sk-hidden--visually\" id=\"sk-estimator-id-1\" type=\"checkbox\" ><label for=\"sk-estimator-id-1\" class=\"sk-toggleable__label sk-toggleable__label-arrow\">Pipeline</label><div class=\"sk-toggleable__content\"><pre>Pipeline(steps=[(&#x27;scaler&#x27;, StandardScaler()),\n",
       "                (&#x27;regressor&#x27;,\n",
       "                 XGBRegressor(base_score=None, booster=None, callbacks=None,\n",
       "                              colsample_bylevel=None, colsample_bynode=None,\n",
       "                              colsample_bytree=None, early_stopping_rounds=None,\n",
       "                              enable_categorical=False, eval_metric=None,\n",
       "                              feature_types=None, gamma=None, gpu_id=None,\n",
       "                              grow_policy=None, importance_type=None,\n",
       "                              interaction_constraints=None, learning_rate=0.1,\n",
       "                              max_bin=None, max_cat_threshold=None,\n",
       "                              max_cat_to_onehot=None, max_delta_step=None,\n",
       "                              max_depth=5, max_leaves=None,\n",
       "                              min_child_weight=None, missing=nan,\n",
       "                              monotone_constraints=None, n_estimators=200,\n",
       "                              n_jobs=None, num_parallel_tree=None,\n",
       "                              predictor=None, random_state=None, ...))])</pre></div></div></div><div class=\"sk-serial\"><div class=\"sk-item\"><div class=\"sk-estimator sk-toggleable\"><input class=\"sk-toggleable__control sk-hidden--visually\" id=\"sk-estimator-id-2\" type=\"checkbox\" ><label for=\"sk-estimator-id-2\" class=\"sk-toggleable__label sk-toggleable__label-arrow\">StandardScaler</label><div class=\"sk-toggleable__content\"><pre>StandardScaler()</pre></div></div></div><div class=\"sk-item\"><div class=\"sk-estimator sk-toggleable\"><input class=\"sk-toggleable__control sk-hidden--visually\" id=\"sk-estimator-id-3\" type=\"checkbox\" ><label for=\"sk-estimator-id-3\" class=\"sk-toggleable__label sk-toggleable__label-arrow\">XGBRegressor</label><div class=\"sk-toggleable__content\"><pre>XGBRegressor(base_score=None, booster=None, callbacks=None,\n",
       "             colsample_bylevel=None, colsample_bynode=None,\n",
       "             colsample_bytree=None, early_stopping_rounds=None,\n",
       "             enable_categorical=False, eval_metric=None, feature_types=None,\n",
       "             gamma=None, gpu_id=None, grow_policy=None, importance_type=None,\n",
       "             interaction_constraints=None, learning_rate=0.1, max_bin=None,\n",
       "             max_cat_threshold=None, max_cat_to_onehot=None,\n",
       "             max_delta_step=None, max_depth=5, max_leaves=None,\n",
       "             min_child_weight=None, missing=nan, monotone_constraints=None,\n",
       "             n_estimators=200, n_jobs=None, num_parallel_tree=None,\n",
       "             predictor=None, random_state=None, ...)</pre></div></div></div></div></div></div></div>"
      ],
      "text/plain": [
       "Pipeline(steps=[('scaler', StandardScaler()),\n",
       "                ('regressor',\n",
       "                 XGBRegressor(base_score=None, booster=None, callbacks=None,\n",
       "                              colsample_bylevel=None, colsample_bynode=None,\n",
       "                              colsample_bytree=None, early_stopping_rounds=None,\n",
       "                              enable_categorical=False, eval_metric=None,\n",
       "                              feature_types=None, gamma=None, gpu_id=None,\n",
       "                              grow_policy=None, importance_type=None,\n",
       "                              interaction_constraints=None, learning_rate=0.1,\n",
       "                              max_bin=None, max_cat_threshold=None,\n",
       "                              max_cat_to_onehot=None, max_delta_step=None,\n",
       "                              max_depth=5, max_leaves=None,\n",
       "                              min_child_weight=None, missing=nan,\n",
       "                              monotone_constraints=None, n_estimators=200,\n",
       "                              n_jobs=None, num_parallel_tree=None,\n",
       "                              predictor=None, random_state=None, ...))])"
      ]
     },
     "execution_count": 8,
     "metadata": {},
     "output_type": "execute_result"
    }
   ],
   "source": [
    "pipe.set_params(**best_params)"
   ]
  },
  {
   "cell_type": "code",
   "execution_count": 9,
   "id": "b6942055",
   "metadata": {},
   "outputs": [
    {
     "data": {
      "text/html": [
       "<style>#sk-container-id-2 {color: black;background-color: white;}#sk-container-id-2 pre{padding: 0;}#sk-container-id-2 div.sk-toggleable {background-color: white;}#sk-container-id-2 label.sk-toggleable__label {cursor: pointer;display: block;width: 100%;margin-bottom: 0;padding: 0.3em;box-sizing: border-box;text-align: center;}#sk-container-id-2 label.sk-toggleable__label-arrow:before {content: \"▸\";float: left;margin-right: 0.25em;color: #696969;}#sk-container-id-2 label.sk-toggleable__label-arrow:hover:before {color: black;}#sk-container-id-2 div.sk-estimator:hover label.sk-toggleable__label-arrow:before {color: black;}#sk-container-id-2 div.sk-toggleable__content {max-height: 0;max-width: 0;overflow: hidden;text-align: left;background-color: #f0f8ff;}#sk-container-id-2 div.sk-toggleable__content pre {margin: 0.2em;color: black;border-radius: 0.25em;background-color: #f0f8ff;}#sk-container-id-2 input.sk-toggleable__control:checked~div.sk-toggleable__content {max-height: 200px;max-width: 100%;overflow: auto;}#sk-container-id-2 input.sk-toggleable__control:checked~label.sk-toggleable__label-arrow:before {content: \"▾\";}#sk-container-id-2 div.sk-estimator input.sk-toggleable__control:checked~label.sk-toggleable__label {background-color: #d4ebff;}#sk-container-id-2 div.sk-label input.sk-toggleable__control:checked~label.sk-toggleable__label {background-color: #d4ebff;}#sk-container-id-2 input.sk-hidden--visually {border: 0;clip: rect(1px 1px 1px 1px);clip: rect(1px, 1px, 1px, 1px);height: 1px;margin: -1px;overflow: hidden;padding: 0;position: absolute;width: 1px;}#sk-container-id-2 div.sk-estimator {font-family: monospace;background-color: #f0f8ff;border: 1px dotted black;border-radius: 0.25em;box-sizing: border-box;margin-bottom: 0.5em;}#sk-container-id-2 div.sk-estimator:hover {background-color: #d4ebff;}#sk-container-id-2 div.sk-parallel-item::after {content: \"\";width: 100%;border-bottom: 1px solid gray;flex-grow: 1;}#sk-container-id-2 div.sk-label:hover label.sk-toggleable__label {background-color: #d4ebff;}#sk-container-id-2 div.sk-serial::before {content: \"\";position: absolute;border-left: 1px solid gray;box-sizing: border-box;top: 0;bottom: 0;left: 50%;z-index: 0;}#sk-container-id-2 div.sk-serial {display: flex;flex-direction: column;align-items: center;background-color: white;padding-right: 0.2em;padding-left: 0.2em;position: relative;}#sk-container-id-2 div.sk-item {position: relative;z-index: 1;}#sk-container-id-2 div.sk-parallel {display: flex;align-items: stretch;justify-content: center;background-color: white;position: relative;}#sk-container-id-2 div.sk-item::before, #sk-container-id-2 div.sk-parallel-item::before {content: \"\";position: absolute;border-left: 1px solid gray;box-sizing: border-box;top: 0;bottom: 0;left: 50%;z-index: -1;}#sk-container-id-2 div.sk-parallel-item {display: flex;flex-direction: column;z-index: 1;position: relative;background-color: white;}#sk-container-id-2 div.sk-parallel-item:first-child::after {align-self: flex-end;width: 50%;}#sk-container-id-2 div.sk-parallel-item:last-child::after {align-self: flex-start;width: 50%;}#sk-container-id-2 div.sk-parallel-item:only-child::after {width: 0;}#sk-container-id-2 div.sk-dashed-wrapped {border: 1px dashed gray;margin: 0 0.4em 0.5em 0.4em;box-sizing: border-box;padding-bottom: 0.4em;background-color: white;}#sk-container-id-2 div.sk-label label {font-family: monospace;font-weight: bold;display: inline-block;line-height: 1.2em;}#sk-container-id-2 div.sk-label-container {text-align: center;}#sk-container-id-2 div.sk-container {/* jupyter's `normalize.less` sets `[hidden] { display: none; }` but bootstrap.min.css set `[hidden] { display: none !important; }` so we also need the `!important` here to be able to override the default hidden behavior on the sphinx rendered scikit-learn.org. See: https://github.com/scikit-learn/scikit-learn/issues/21755 */display: inline-block !important;position: relative;}#sk-container-id-2 div.sk-text-repr-fallback {display: none;}</style><div id=\"sk-container-id-2\" class=\"sk-top-container\"><div class=\"sk-text-repr-fallback\"><pre>Pipeline(steps=[(&#x27;scaler&#x27;, StandardScaler()),\n",
       "                (&#x27;regressor&#x27;,\n",
       "                 XGBRegressor(base_score=None, booster=None, callbacks=None,\n",
       "                              colsample_bylevel=None, colsample_bynode=None,\n",
       "                              colsample_bytree=None, early_stopping_rounds=None,\n",
       "                              enable_categorical=False, eval_metric=None,\n",
       "                              feature_types=None, gamma=None, gpu_id=None,\n",
       "                              grow_policy=None, importance_type=None,\n",
       "                              interaction_constraints=None, learning_rate=0.1,\n",
       "                              max_bin=None, max_cat_threshold=None,\n",
       "                              max_cat_to_onehot=None, max_delta_step=None,\n",
       "                              max_depth=5, max_leaves=None,\n",
       "                              min_child_weight=None, missing=nan,\n",
       "                              monotone_constraints=None, n_estimators=200,\n",
       "                              n_jobs=None, num_parallel_tree=None,\n",
       "                              predictor=None, random_state=None, ...))])</pre><b>In a Jupyter environment, please rerun this cell to show the HTML representation or trust the notebook. <br />On GitHub, the HTML representation is unable to render, please try loading this page with nbviewer.org.</b></div><div class=\"sk-container\" hidden><div class=\"sk-item sk-dashed-wrapped\"><div class=\"sk-label-container\"><div class=\"sk-label sk-toggleable\"><input class=\"sk-toggleable__control sk-hidden--visually\" id=\"sk-estimator-id-4\" type=\"checkbox\" ><label for=\"sk-estimator-id-4\" class=\"sk-toggleable__label sk-toggleable__label-arrow\">Pipeline</label><div class=\"sk-toggleable__content\"><pre>Pipeline(steps=[(&#x27;scaler&#x27;, StandardScaler()),\n",
       "                (&#x27;regressor&#x27;,\n",
       "                 XGBRegressor(base_score=None, booster=None, callbacks=None,\n",
       "                              colsample_bylevel=None, colsample_bynode=None,\n",
       "                              colsample_bytree=None, early_stopping_rounds=None,\n",
       "                              enable_categorical=False, eval_metric=None,\n",
       "                              feature_types=None, gamma=None, gpu_id=None,\n",
       "                              grow_policy=None, importance_type=None,\n",
       "                              interaction_constraints=None, learning_rate=0.1,\n",
       "                              max_bin=None, max_cat_threshold=None,\n",
       "                              max_cat_to_onehot=None, max_delta_step=None,\n",
       "                              max_depth=5, max_leaves=None,\n",
       "                              min_child_weight=None, missing=nan,\n",
       "                              monotone_constraints=None, n_estimators=200,\n",
       "                              n_jobs=None, num_parallel_tree=None,\n",
       "                              predictor=None, random_state=None, ...))])</pre></div></div></div><div class=\"sk-serial\"><div class=\"sk-item\"><div class=\"sk-estimator sk-toggleable\"><input class=\"sk-toggleable__control sk-hidden--visually\" id=\"sk-estimator-id-5\" type=\"checkbox\" ><label for=\"sk-estimator-id-5\" class=\"sk-toggleable__label sk-toggleable__label-arrow\">StandardScaler</label><div class=\"sk-toggleable__content\"><pre>StandardScaler()</pre></div></div></div><div class=\"sk-item\"><div class=\"sk-estimator sk-toggleable\"><input class=\"sk-toggleable__control sk-hidden--visually\" id=\"sk-estimator-id-6\" type=\"checkbox\" ><label for=\"sk-estimator-id-6\" class=\"sk-toggleable__label sk-toggleable__label-arrow\">XGBRegressor</label><div class=\"sk-toggleable__content\"><pre>XGBRegressor(base_score=None, booster=None, callbacks=None,\n",
       "             colsample_bylevel=None, colsample_bynode=None,\n",
       "             colsample_bytree=None, early_stopping_rounds=None,\n",
       "             enable_categorical=False, eval_metric=None, feature_types=None,\n",
       "             gamma=None, gpu_id=None, grow_policy=None, importance_type=None,\n",
       "             interaction_constraints=None, learning_rate=0.1, max_bin=None,\n",
       "             max_cat_threshold=None, max_cat_to_onehot=None,\n",
       "             max_delta_step=None, max_depth=5, max_leaves=None,\n",
       "             min_child_weight=None, missing=nan, monotone_constraints=None,\n",
       "             n_estimators=200, n_jobs=None, num_parallel_tree=None,\n",
       "             predictor=None, random_state=None, ...)</pre></div></div></div></div></div></div></div>"
      ],
      "text/plain": [
       "Pipeline(steps=[('scaler', StandardScaler()),\n",
       "                ('regressor',\n",
       "                 XGBRegressor(base_score=None, booster=None, callbacks=None,\n",
       "                              colsample_bylevel=None, colsample_bynode=None,\n",
       "                              colsample_bytree=None, early_stopping_rounds=None,\n",
       "                              enable_categorical=False, eval_metric=None,\n",
       "                              feature_types=None, gamma=None, gpu_id=None,\n",
       "                              grow_policy=None, importance_type=None,\n",
       "                              interaction_constraints=None, learning_rate=0.1,\n",
       "                              max_bin=None, max_cat_threshold=None,\n",
       "                              max_cat_to_onehot=None, max_delta_step=None,\n",
       "                              max_depth=5, max_leaves=None,\n",
       "                              min_child_weight=None, missing=nan,\n",
       "                              monotone_constraints=None, n_estimators=200,\n",
       "                              n_jobs=None, num_parallel_tree=None,\n",
       "                              predictor=None, random_state=None, ...))])"
      ]
     },
     "execution_count": 9,
     "metadata": {},
     "output_type": "execute_result"
    }
   ],
   "source": [
    "pipe.fit(X, y)"
   ]
  },
  {
   "cell_type": "markdown",
   "id": "6c63190b",
   "metadata": {},
   "source": [
    "## scores on aspirin data"
   ]
  },
  {
   "cell_type": "code",
   "execution_count": 12,
   "id": "cc2f3a7f",
   "metadata": {},
   "outputs": [],
   "source": [
    "df_test = df_test[df_test.trimester == 2]\n",
    "X_asa = df_test.drop(['ga.w', 'trimester'], axis=1)\n",
    "y_asa = df_test['ga.w']"
   ]
  },
  {
   "cell_type": "code",
   "execution_count": 13,
   "id": "770bea05",
   "metadata": {},
   "outputs": [],
   "source": [
    "y_pred = pipe.predict(X_asa)"
   ]
  },
  {
   "cell_type": "code",
   "execution_count": 14,
   "id": "15614e55",
   "metadata": {},
   "outputs": [
    {
     "data": {
      "text/plain": [
       "38.64062612083488"
      ]
     },
     "execution_count": 14,
     "metadata": {},
     "output_type": "execute_result"
    }
   ],
   "source": [
    "mean_squared_error(y_asa, y_pred)"
   ]
  },
  {
   "cell_type": "code",
   "execution_count": 15,
   "id": "bfdc8cd1",
   "metadata": {},
   "outputs": [
    {
     "data": {
      "text/plain": [
       "5.593030725206647"
      ]
     },
     "execution_count": 15,
     "metadata": {},
     "output_type": "execute_result"
    }
   ],
   "source": [
    "mean_absolute_error(y_asa, y_pred)"
   ]
  },
  {
   "cell_type": "code",
   "execution_count": 16,
   "id": "bcb11ec2",
   "metadata": {},
   "outputs": [
    {
     "data": {
      "text/plain": [
       "5.593030725206647"
      ]
     },
     "execution_count": 16,
     "metadata": {},
     "output_type": "execute_result"
    }
   ],
   "source": [
    "mean_error(y_asa, y_pred)"
   ]
  },
  {
   "cell_type": "code",
   "execution_count": 17,
   "id": "cb20fab5",
   "metadata": {},
   "outputs": [
    {
     "data": {
      "image/png": "[encoded data removed]",
      "text/plain": [
       "<Figure size 2000x500 with 1 Axes>"
      ]
     },
     "metadata": {},
     "output_type": "display_data"
    }
   ],
   "source": [
    "y_plot = [y_asa[i] - y_pred[i] for i in range(y_asa.shape[0])]\n",
    "plt.figure(figsize=(20, 5))\n",
    "plt.bar(range(y_asa.shape[0]), y_plot, color='#91668d')\n",
    "# plt.title('Greske modela na podacima iz aspirin grupe')\n",
    "plt.box(False)\n",
    "plt.xticks(ticks=[], labels=[])\n",
    "plt.ylim(-7, 30)\n",
    "plt.show()"
   ]
  },
  {
   "cell_type": "code",
   "execution_count": 18,
   "id": "168315d6",
   "metadata": {},
   "outputs": [
    {
     "data": {
      "image/png": "[encoded data removed]",
      "text/plain": [
       "<Figure size 1000x500 with 1 Axes>"
      ]
     },
     "metadata": {},
     "output_type": "display_data"
    }
   ],
   "source": [
    "plt.figure(figsize=(10, 5))\n",
    "plt.bar(range(y_asa.shape[0]), y_asa, color= '#322342')\n",
    "plt.bar(range(y_asa.shape[0]), y_pred, color= '#d3adbf', alpha=0.7)\n",
    "plt.legend(['true', 'predicted'], loc='upper left')\n",
    "# plt.title('Poredjenje stvarnih i predvidjenih vrednosti za podatke iz aspirin grupe')\n",
    "plt.box(False)\n",
    "plt.ylim(0, 35)\n",
    "plt.xticks(ticks=[], labels=[])\n",
    "plt.show()"
   ]
  },
  {
   "cell_type": "code",
   "execution_count": 20,
   "id": "c2307818",
   "metadata": {},
   "outputs": [
    {
     "data": {
      "image/png": "[encoded data removed]",
      "text/plain": [
       "<Figure size 1500x400 with 1 Axes>"
      ]
     },
     "metadata": {},
     "output_type": "display_data"
    }
   ],
   "source": [
    "# separate 2. and 3. trimester -> t in range(2, 4) \n",
    "plt.figure(figsize=(15, 4))\n",
    "\n",
    "for t in range(2, 3):\n",
    "    test1 = df_test[df_test.trimester == t]\n",
    "    X1 = test1.drop([ 'ga.w', 'trimester'], axis=1)\n",
    "    y1 = test1['ga.w']\n",
    "    pred1 = pipe.predict(X1)\n",
    "    \n",
    "    plt.subplot(1, 3, t)\n",
    "    plt.bar(range(y1.shape[0]), y1, color= '#322342')\n",
    "    plt.bar(range(y1.shape[0]), pred1, color= '#d3adbf', alpha=0.7)\n",
    "    plt.legend(['true', 'predicted'], loc='upper left')\n",
    "    plt.box(False)\n",
    "    plt.title(f'Trimester {t}, mse {mean_squared_error(y1, pred1) : .2f}, mae {mean_absolute_error(y1, pred1) : .2f}.')\n",
    "    plt.ylim(0, 40)\n",
    "    plt.xticks(ticks=[], labels=[])\n",
    "plt.show()"
   ]
  },
  {
   "cell_type": "code",
   "execution_count": null,
   "id": "1057e0dd",
   "metadata": {},
   "outputs": [],
   "source": []
  },
  {
   "cell_type": "code",
   "execution_count": null,
   "id": "69f5827a",
   "metadata": {},
   "outputs": [],
   "source": []
  },
  {
   "cell_type": "markdown",
   "id": "2f1f89d9",
   "metadata": {},
   "source": [
    "## OPLS"
   ]
  },
  {
   "cell_type": "code",
   "execution_count": 21,
   "id": "e66baf49",
   "metadata": {},
   "outputs": [
    {
     "name": "stdout",
     "output_type": "stream",
     "text": [
      "Defaulting to user installation because normal site-packages is not writeable\n",
      "Collecting pyopls\n",
      "  Downloading pyopls-20.3.post1.tar.gz (17 kB)\n",
      "  Preparing metadata (setup.py) ... \u001b[?25ldone\n",
      "\u001b[?25hRequirement already satisfied: numpy>=1.11.0 in /home/lucija/.local/lib/python3.10/site-packages (from pyopls) (1.23.5)\n",
      "Requirement already satisfied: scikit-learn>=0.18.0 in /home/lucija/.local/lib/python3.10/site-packages (from pyopls) (1.2.2)\n",
      "Requirement already satisfied: scipy>=0.18.0 in /home/lucija/.local/lib/python3.10/site-packages (from pyopls) (1.10.1)\n",
      "Requirement already satisfied: joblib>=1.1.1 in /home/lucija/.local/lib/python3.10/site-packages (from scikit-learn>=0.18.0->pyopls) (1.2.0)\n",
      "Requirement already satisfied: threadpoolctl>=2.0.0 in /home/lucija/.local/lib/python3.10/site-packages (from scikit-learn>=0.18.0->pyopls) (3.1.0)\n",
      "Building wheels for collected packages: pyopls\n",
      "  Building wheel for pyopls (setup.py) ... \u001b[?25ldone\n",
      "\u001b[?25h  Created wheel for pyopls: filename=pyopls-20.3.post1-py3-none-any.whl size=19455 sha256=3798420c5d384e1c29bf8fe6e554686205868d289d5ec5c069ed96b3a2338f05\n",
      "  Stored in directory: /home/lucija/.cache/pip/wheels/bb/da/70/ac90670a0c826877f65a85eed6a9c06e82e8a57f29fbd423c6\n",
      "Successfully built pyopls\n",
      "\u001b[33mWARNING: Error parsing dependencies of distro-info: Invalid version: '1.1build1'\u001b[0m\u001b[33m\n",
      "\u001b[0m\u001b[33mWARNING: Error parsing dependencies of python-debian: Invalid version: '0.1.43ubuntu1'\u001b[0m\u001b[33m\n",
      "\u001b[0mInstalling collected packages: pyopls\n",
      "Successfully installed pyopls-20.3.post1\n"
     ]
    }
   ],
   "source": [
    "# !pip install pyopls"
   ]
  },
  {
   "cell_type": "code",
   "execution_count": 22,
   "id": "11c41a81",
   "metadata": {},
   "outputs": [],
   "source": [
    "from pyopls import OPLS"
   ]
  },
  {
   "cell_type": "code",
   "execution_count": 72,
   "id": "710a7663",
   "metadata": {},
   "outputs": [
    {
     "name": "stdout",
     "output_type": "stream",
     "text": [
      "Found 4 batches.\n",
      "Adjusting for 0 covariate(s) or covariate level(s).\n",
      "Standardizing Data across genes.\n",
      "Fitting L/S model and finding priors.\n",
      "Finding parametric adjustments.\n",
      "Adjusting the Data\n"
     ]
    },
    {
     "name": "stderr",
     "output_type": "stream",
     "text": [
      "/home/lucija/.local/lib/python3.10/site-packages/combat/pycombat.py:159: RuntimeWarning: divide by zero encountered in divide\n",
      "  np.absolute(d_new-d_old)/d_old))  # maximum difference between new and old estimate\n"
     ]
    }
   ],
   "source": [
    "pl, asa = data_load_preprocess()"
   ]
  },
  {
   "cell_type": "code",
   "execution_count": 73,
   "id": "19df4084",
   "metadata": {},
   "outputs": [
    {
     "name": "stdout",
     "output_type": "stream",
     "text": [
      "\n",
      "Shape:  (73, 798) (73,)\n"
     ]
    }
   ],
   "source": [
    "X = pl.drop(['ga.w', 'trimester'], axis=1)\n",
    "y = pl['ga.w']\n",
    "print('\\nShape: ', X.shape, y.shape)"
   ]
  },
  {
   "cell_type": "code",
   "execution_count": 3,
   "id": "cd4b78ec",
   "metadata": {},
   "outputs": [
    {
     "ename": "NameError",
     "evalue": "name 'Pipeline' is not defined",
     "output_type": "error",
     "traceback": [
      "\u001b[0;31m---------------------------------------------------------------------------\u001b[0m",
      "\u001b[0;31mNameError\u001b[0m                                 Traceback (most recent call last)",
      "Cell \u001b[0;32mIn[3], line 2\u001b[0m\n\u001b[1;32m      1\u001b[0m \u001b[38;5;66;03m# create Pipeline with O-PLS\u001b[39;00m\n\u001b[0;32m----> 2\u001b[0m pipe \u001b[38;5;241m=\u001b[39m \u001b[43mPipeline\u001b[49m([(\u001b[38;5;124m'\u001b[39m\u001b[38;5;124mscaler\u001b[39m\u001b[38;5;124m'\u001b[39m, StandardScaler()), (\u001b[38;5;124m'\u001b[39m\u001b[38;5;124mopls\u001b[39m\u001b[38;5;124m'\u001b[39m, OPLS()), (\u001b[38;5;124m'\u001b[39m\u001b[38;5;124mregressor\u001b[39m\u001b[38;5;124m'\u001b[39m, XGBRegressor(objective\u001b[38;5;241m=\u001b[39m\u001b[38;5;124m'\u001b[39m\u001b[38;5;124mreg:squarederror\u001b[39m\u001b[38;5;124m'\u001b[39m))])\n\u001b[1;32m      3\u001b[0m params \u001b[38;5;241m=\u001b[39m {\n\u001b[1;32m      4\u001b[0m     \u001b[38;5;124m'\u001b[39m\u001b[38;5;124mopls__n_components\u001b[39m\u001b[38;5;124m'\u001b[39m : [\u001b[38;5;241m1\u001b[39m, \u001b[38;5;241m2\u001b[39m, \u001b[38;5;241m3\u001b[39m, \u001b[38;5;241m4\u001b[39m, \u001b[38;5;241m5\u001b[39m],\n\u001b[1;32m      5\u001b[0m     \u001b[38;5;124m'\u001b[39m\u001b[38;5;124mregressor__n_estimators\u001b[39m\u001b[38;5;124m'\u001b[39m : [\u001b[38;5;241m100\u001b[39m, \u001b[38;5;241m200\u001b[39m, \u001b[38;5;241m300\u001b[39m],\n\u001b[1;32m      6\u001b[0m     \u001b[38;5;124m'\u001b[39m\u001b[38;5;124mregressor__max_depth\u001b[39m\u001b[38;5;124m'\u001b[39m : [\u001b[38;5;241m5\u001b[39m, \u001b[38;5;241m10\u001b[39m, \u001b[38;5;241m15\u001b[39m],\n\u001b[1;32m      7\u001b[0m     \u001b[38;5;124m'\u001b[39m\u001b[38;5;124mregressor__learning_rate\u001b[39m\u001b[38;5;124m'\u001b[39m : [\u001b[38;5;241m0.01\u001b[39m, \u001b[38;5;241m0.1\u001b[39m, \u001b[38;5;241m1\u001b[39m]\n\u001b[1;32m      8\u001b[0m }\n",
      "\u001b[0;31mNameError\u001b[0m: name 'Pipeline' is not defined"
     ]
    }
   ],
   "source": [
    "# create Pipeline with O-PLS\n",
    "pipe = Pipeline([('scaler', StandardScaler()), ('opls', OPLS()), ('regressor', XGBRegressor(objective='reg:squarederror'))])\n",
    "params = {\n",
    "    'opls__n_components' : [1, 2, 3, 4, 5],\n",
    "    'regressor__n_estimators' : [100, 200, 300],\n",
    "    'regressor__max_depth' : [5, 10, 15],\n",
    "    'regressor__learning_rate' : [0.01, 0.1, 1]\n",
    "}"
   ]
  },
  {
   "cell_type": "code",
   "execution_count": 91,
   "id": "af5a8e95",
   "metadata": {},
   "outputs": [
    {
     "name": "stdout",
     "output_type": "stream",
     "text": [
      "{'fit_time': array([1165.47304082, 1161.11078405, 1162.06232429, 1165.04317999,\n",
      "       1164.51112628]), 'score_time': array([0.00489092, 0.00994325, 0.009799  , 0.0056715 , 0.00431561]), 'test_mean_error': array([-0.09621174, -1.06450712,  0.76257578, -0.2868457 , -0.09301322]), 'test_mean_absolute_error': array([1.12796419, 1.13609278, 1.1376981 , 0.76791991, 0.90400514]), 'test_mean_squared_error': array([2.79363905, 4.33972735, 1.77593016, 1.09608075, 1.35612708]), 'test_r2': array([0.84647646, 0.71811176, 0.87243178, 0.9265525 , 0.91192856])}\n",
      "fit_time 1163.640091085434\n",
      "score_time 0.006924057006835937\n",
      "test_mean_error -0.1556004021832702\n",
      "test_mean_absolute_error 1.0147360243764856\n",
      "test_mean_squared_error 2.272300879376514\n",
      "test_r2 0.8551002137345437\n",
      "{'opls__n_components': 1, 'regressor__learning_rate': 0.1, 'regressor__max_depth': 10, 'regressor__n_estimators': 200}\n"
     ]
    }
   ],
   "source": [
    "# uncomment to run nested cv\n",
    "\n",
    "# scores, best_params = get_best_params_reg(pipe, params, X, y)\n",
    "# print(scores)\n",
    "\n",
    "# for k, v in scores.items():\n",
    "#     print(k, np.mean(v))\n",
    "    \n",
    "# print(best_params)"
   ]
  },
  {
   "cell_type": "markdown",
   "id": "61390fb1",
   "metadata": {},
   "source": [
    "### saved scores output\n",
    "\n",
    "{'fit_time': array([1165.47304082, 1161.11078405, 1162.06232429, 1165.04317999, 1164.51112628]), \n",
    "\n",
    "'score_time': array([0.00489092, 0.00994325, 0.009799  , 0.0056715 , 0.00431561]), \n",
    "\n",
    "'test_mean_error': array([-0.09621174, -1.06450712,  0.76257578, -0.2868457 , -0.09301322]), \n",
    "\n",
    "'test_mean_absolute_error': array([1.12796419, 1.13609278, 1.1376981 , 0.76791991, 0.90400514]), \n",
    "\n",
    "'test_mean_squared_error': array([2.79363905, 4.33972735, 1.77593016, 1.09608075, 1.35612708]), \n",
    "\n",
    "'test_r2': array([0.84647646, 0.71811176, 0.87243178, 0.9265525 , 0.91192856])}\n",
    "\n",
    "_____________\n",
    "fit_time 1163.640091085434\n",
    "\n",
    "score_time 0.006924057006835937\n",
    "\n",
    "test_mean_error -0.1556004021832702\n",
    "\n",
    "test_mean_absolute_error 1.0147360243764856\n",
    "\n",
    "test_mean_squared_error 2.272300879376514\n",
    "\n",
    "test_r2 0.8551002137345437\n",
    "\n",
    "_____\n",
    "\n",
    "### saved best params\n",
    "{'opls__n_components': 1, 'regressor__learning_rate': 0.1, 'regressor__max_depth': 10, 'regressor__n_estimators': 200}"
   ]
  },
  {
   "cell_type": "code",
   "execution_count": 96,
   "id": "6ab983e6",
   "metadata": {},
   "outputs": [
    {
     "data": {
      "text/html": [
       "<style>#sk-container-id-8 {color: black;background-color: white;}#sk-container-id-8 pre{padding: 0;}#sk-container-id-8 div.sk-toggleable {background-color: white;}#sk-container-id-8 label.sk-toggleable__label {cursor: pointer;display: block;width: 100%;margin-bottom: 0;padding: 0.3em;box-sizing: border-box;text-align: center;}#sk-container-id-8 label.sk-toggleable__label-arrow:before {content: \"▸\";float: left;margin-right: 0.25em;color: #696969;}#sk-container-id-8 label.sk-toggleable__label-arrow:hover:before {color: black;}#sk-container-id-8 div.sk-estimator:hover label.sk-toggleable__label-arrow:before {color: black;}#sk-container-id-8 div.sk-toggleable__content {max-height: 0;max-width: 0;overflow: hidden;text-align: left;background-color: #f0f8ff;}#sk-container-id-8 div.sk-toggleable__content pre {margin: 0.2em;color: black;border-radius: 0.25em;background-color: #f0f8ff;}#sk-container-id-8 input.sk-toggleable__control:checked~div.sk-toggleable__content {max-height: 200px;max-width: 100%;overflow: auto;}#sk-container-id-8 input.sk-toggleable__control:checked~label.sk-toggleable__label-arrow:before {content: \"▾\";}#sk-container-id-8 div.sk-estimator input.sk-toggleable__control:checked~label.sk-toggleable__label {background-color: #d4ebff;}#sk-container-id-8 div.sk-label input.sk-toggleable__control:checked~label.sk-toggleable__label {background-color: #d4ebff;}#sk-container-id-8 input.sk-hidden--visually {border: 0;clip: rect(1px 1px 1px 1px);clip: rect(1px, 1px, 1px, 1px);height: 1px;margin: -1px;overflow: hidden;padding: 0;position: absolute;width: 1px;}#sk-container-id-8 div.sk-estimator {font-family: monospace;background-color: #f0f8ff;border: 1px dotted black;border-radius: 0.25em;box-sizing: border-box;margin-bottom: 0.5em;}#sk-container-id-8 div.sk-estimator:hover {background-color: #d4ebff;}#sk-container-id-8 div.sk-parallel-item::after {content: \"\";width: 100%;border-bottom: 1px solid gray;flex-grow: 1;}#sk-container-id-8 div.sk-label:hover label.sk-toggleable__label {background-color: #d4ebff;}#sk-container-id-8 div.sk-serial::before {content: \"\";position: absolute;border-left: 1px solid gray;box-sizing: border-box;top: 0;bottom: 0;left: 50%;z-index: 0;}#sk-container-id-8 div.sk-serial {display: flex;flex-direction: column;align-items: center;background-color: white;padding-right: 0.2em;padding-left: 0.2em;position: relative;}#sk-container-id-8 div.sk-item {position: relative;z-index: 1;}#sk-container-id-8 div.sk-parallel {display: flex;align-items: stretch;justify-content: center;background-color: white;position: relative;}#sk-container-id-8 div.sk-item::before, #sk-container-id-8 div.sk-parallel-item::before {content: \"\";position: absolute;border-left: 1px solid gray;box-sizing: border-box;top: 0;bottom: 0;left: 50%;z-index: -1;}#sk-container-id-8 div.sk-parallel-item {display: flex;flex-direction: column;z-index: 1;position: relative;background-color: white;}#sk-container-id-8 div.sk-parallel-item:first-child::after {align-self: flex-end;width: 50%;}#sk-container-id-8 div.sk-parallel-item:last-child::after {align-self: flex-start;width: 50%;}#sk-container-id-8 div.sk-parallel-item:only-child::after {width: 0;}#sk-container-id-8 div.sk-dashed-wrapped {border: 1px dashed gray;margin: 0 0.4em 0.5em 0.4em;box-sizing: border-box;padding-bottom: 0.4em;background-color: white;}#sk-container-id-8 div.sk-label label {font-family: monospace;font-weight: bold;display: inline-block;line-height: 1.2em;}#sk-container-id-8 div.sk-label-container {text-align: center;}#sk-container-id-8 div.sk-container {/* jupyter's `normalize.less` sets `[hidden] { display: none; }` but bootstrap.min.css set `[hidden] { display: none !important; }` so we also need the `!important` here to be able to override the default hidden behavior on the sphinx rendered scikit-learn.org. See: https://github.com/scikit-learn/scikit-learn/issues/21755 */display: inline-block !important;position: relative;}#sk-container-id-8 div.sk-text-repr-fallback {display: none;}</style><div id=\"sk-container-id-8\" class=\"sk-top-container\"><div class=\"sk-text-repr-fallback\"><pre>Pipeline(steps=[(&#x27;scaler&#x27;, StandardScaler()), (&#x27;opls&#x27;, OPLS(n_components=1)),\n",
       "                (&#x27;regressor&#x27;,\n",
       "                 XGBRegressor(base_score=None, booster=None, callbacks=None,\n",
       "                              colsample_bylevel=None, colsample_bynode=None,\n",
       "                              colsample_bytree=None, early_stopping_rounds=None,\n",
       "                              enable_categorical=False, eval_metric=None,\n",
       "                              feature_types=None, gamma=None, gpu_id=None,\n",
       "                              grow_policy=None, importance_type=None,\n",
       "                              interaction_constraints=None, learning_rate=0.1,\n",
       "                              max_bin=None, max_cat_threshold=None,\n",
       "                              max_cat_to_onehot=None, max_delta_step=None,\n",
       "                              max_depth=10, max_leaves=None,\n",
       "                              min_child_weight=None, missing=nan,\n",
       "                              monotone_constraints=None, n_estimators=200,\n",
       "                              n_jobs=None, num_parallel_tree=None,\n",
       "                              predictor=None, random_state=None, ...))])</pre><b>In a Jupyter environment, please rerun this cell to show the HTML representation or trust the notebook. <br />On GitHub, the HTML representation is unable to render, please try loading this page with nbviewer.org.</b></div><div class=\"sk-container\" hidden><div class=\"sk-item sk-dashed-wrapped\"><div class=\"sk-label-container\"><div class=\"sk-label sk-toggleable\"><input class=\"sk-toggleable__control sk-hidden--visually\" id=\"sk-estimator-id-14\" type=\"checkbox\" ><label for=\"sk-estimator-id-14\" class=\"sk-toggleable__label sk-toggleable__label-arrow\">Pipeline</label><div class=\"sk-toggleable__content\"><pre>Pipeline(steps=[(&#x27;scaler&#x27;, StandardScaler()), (&#x27;opls&#x27;, OPLS(n_components=1)),\n",
       "                (&#x27;regressor&#x27;,\n",
       "                 XGBRegressor(base_score=None, booster=None, callbacks=None,\n",
       "                              colsample_bylevel=None, colsample_bynode=None,\n",
       "                              colsample_bytree=None, early_stopping_rounds=None,\n",
       "                              enable_categorical=False, eval_metric=None,\n",
       "                              feature_types=None, gamma=None, gpu_id=None,\n",
       "                              grow_policy=None, importance_type=None,\n",
       "                              interaction_constraints=None, learning_rate=0.1,\n",
       "                              max_bin=None, max_cat_threshold=None,\n",
       "                              max_cat_to_onehot=None, max_delta_step=None,\n",
       "                              max_depth=10, max_leaves=None,\n",
       "                              min_child_weight=None, missing=nan,\n",
       "                              monotone_constraints=None, n_estimators=200,\n",
       "                              n_jobs=None, num_parallel_tree=None,\n",
       "                              predictor=None, random_state=None, ...))])</pre></div></div></div><div class=\"sk-serial\"><div class=\"sk-item\"><div class=\"sk-estimator sk-toggleable\"><input class=\"sk-toggleable__control sk-hidden--visually\" id=\"sk-estimator-id-15\" type=\"checkbox\" ><label for=\"sk-estimator-id-15\" class=\"sk-toggleable__label sk-toggleable__label-arrow\">StandardScaler</label><div class=\"sk-toggleable__content\"><pre>StandardScaler()</pre></div></div></div><div class=\"sk-item\"><div class=\"sk-estimator sk-toggleable\"><input class=\"sk-toggleable__control sk-hidden--visually\" id=\"sk-estimator-id-16\" type=\"checkbox\" ><label for=\"sk-estimator-id-16\" class=\"sk-toggleable__label sk-toggleable__label-arrow\">OPLS</label><div class=\"sk-toggleable__content\"><pre>OPLS(n_components=1)</pre></div></div></div><div class=\"sk-item\"><div class=\"sk-estimator sk-toggleable\"><input class=\"sk-toggleable__control sk-hidden--visually\" id=\"sk-estimator-id-17\" type=\"checkbox\" ><label for=\"sk-estimator-id-17\" class=\"sk-toggleable__label sk-toggleable__label-arrow\">XGBRegressor</label><div class=\"sk-toggleable__content\"><pre>XGBRegressor(base_score=None, booster=None, callbacks=None,\n",
       "             colsample_bylevel=None, colsample_bynode=None,\n",
       "             colsample_bytree=None, early_stopping_rounds=None,\n",
       "             enable_categorical=False, eval_metric=None, feature_types=None,\n",
       "             gamma=None, gpu_id=None, grow_policy=None, importance_type=None,\n",
       "             interaction_constraints=None, learning_rate=0.1, max_bin=None,\n",
       "             max_cat_threshold=None, max_cat_to_onehot=None,\n",
       "             max_delta_step=None, max_depth=10, max_leaves=None,\n",
       "             min_child_weight=None, missing=nan, monotone_constraints=None,\n",
       "             n_estimators=200, n_jobs=None, num_parallel_tree=None,\n",
       "             predictor=None, random_state=None, ...)</pre></div></div></div></div></div></div></div>"
      ],
      "text/plain": [
       "Pipeline(steps=[('scaler', StandardScaler()), ('opls', OPLS(n_components=1)),\n",
       "                ('regressor',\n",
       "                 XGBRegressor(base_score=None, booster=None, callbacks=None,\n",
       "                              colsample_bylevel=None, colsample_bynode=None,\n",
       "                              colsample_bytree=None, early_stopping_rounds=None,\n",
       "                              enable_categorical=False, eval_metric=None,\n",
       "                              feature_types=None, gamma=None, gpu_id=None,\n",
       "                              grow_policy=None, importance_type=None,\n",
       "                              interaction_constraints=None, learning_rate=0.1,\n",
       "                              max_bin=None, max_cat_threshold=None,\n",
       "                              max_cat_to_onehot=None, max_delta_step=None,\n",
       "                              max_depth=10, max_leaves=None,\n",
       "                              min_child_weight=None, missing=nan,\n",
       "                              monotone_constraints=None, n_estimators=200,\n",
       "                              n_jobs=None, num_parallel_tree=None,\n",
       "                              predictor=None, random_state=None, ...))])"
      ]
     },
     "execution_count": 96,
     "metadata": {},
     "output_type": "execute_result"
    }
   ],
   "source": [
    "# best params saved for quick run\n",
    "best_params = {\n",
    "    'opls__n_components': 1, \n",
    "    'regressor__learning_rate': 0.1, \n",
    "    'regressor__max_depth': 10, \n",
    "    'regressor__n_estimators': 200\n",
    "}\n",
    "\n",
    "pipe.set_params(**best_params)\n",
    "pipe.fit(X, y)"
   ]
  },
  {
   "cell_type": "markdown",
   "id": "709361e7",
   "metadata": {},
   "source": [
    "### scores on aspirin data"
   ]
  },
  {
   "cell_type": "code",
   "execution_count": 97,
   "id": "db06dd19",
   "metadata": {},
   "outputs": [],
   "source": [
    "asa.drop(asa[asa.trimester == 3].index, axis=0, inplace=True)\n",
    "X_asa = asa.drop(['ga.w', 'trimester'], axis=1)\n",
    "y_asa = asa['ga.w']"
   ]
  },
  {
   "cell_type": "code",
   "execution_count": 100,
   "id": "27b7bf54",
   "metadata": {},
   "outputs": [
    {
     "name": "stdout",
     "output_type": "stream",
     "text": [
      "mean squared error  18.909782952427943\n",
      "mean absolute error  3.483755104882376\n",
      "mean error  3.321192571095058\n"
     ]
    }
   ],
   "source": [
    "y_pred = pipe.predict(X_asa)\n",
    "print('mean squared error ', mean_squared_error(y_asa, y_pred))\n",
    "print('mean absolute error ', mean_absolute_error(y_asa, y_pred))\n",
    "print('mean error ', mean_error(y_asa, y_pred))\n"
   ]
  },
  {
   "cell_type": "code",
   "execution_count": 99,
   "id": "0b4859af",
   "metadata": {},
   "outputs": [
    {
     "data": {
      "image/png": "[encoded data removed]",
      "text/plain": [
       "<Figure size 1000x500 with 1 Axes>"
      ]
     },
     "metadata": {},
     "output_type": "display_data"
    }
   ],
   "source": [
    "plt.figure(figsize=(10, 5))\n",
    "plt.bar(range(y_asa.shape[0]), y_asa, color= '#322342')\n",
    "plt.bar(range(y_asa.shape[0]), y_pred, color= '#d3adbf', alpha=0.7)\n",
    "plt.legend(['true', 'predicted'], loc='upper left')\n",
    "# plt.title('Poredjenje stvarnih i predvidjenih vrednosti za podatke iz aspirin grupe')\n",
    "plt.box(False)\n",
    "plt.ylim(0, 35)\n",
    "plt.xticks(ticks=[], labels=[])\n",
    "plt.show()"
   ]
  },
  {
   "cell_type": "code",
   "execution_count": null,
   "id": "451b22f1",
   "metadata": {},
   "outputs": [],
   "source": []
  }
 ],
 "metadata": {
  "kernelspec": {
   "display_name": "Python 3 (ipykernel)",
   "language": "python",
   "name": "python3"
  },
  "language_info": {
   "codemirror_mode": {
    "name": "ipython",
    "version": 3
   },
   "file_extension": ".py",
   "mimetype": "text/x-python",
   "name": "python",
   "nbconvert_exporter": "python",
   "pygments_lexer": "ipython3",
   "version": "3.10.12"
  }
 },
 "nbformat": 4,
 "nbformat_minor": 5
}
