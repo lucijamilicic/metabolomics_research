{
 "cells": [
  {
   "cell_type": "code",
   "execution_count": 1,
   "id": "e5e41350",
   "metadata": {},
   "outputs": [],
   "source": [
    "import pandas as pd\n",
    "import numpy as np\n",
    "# !pip install umap-learn\n",
    "import umap.umap_ as umap\n",
    "\n",
    "from matplotlib import pyplot as plt"
   ]
  },
  {
   "cell_type": "markdown",
   "id": "fa251a6f",
   "metadata": {},
   "source": [
    "### Dataset analysis"
   ]
  },
  {
   "cell_type": "code",
   "execution_count": 2,
   "id": "e69888a3",
   "metadata": {},
   "outputs": [],
   "source": [
    "met_df = (pd.read_csv(\"./metabolomics/data_zscore_comp_id.csv\"))"
   ]
  },
  {
   "cell_type": "code",
   "execution_count": 3,
   "id": "987b4c3b",
   "metadata": {
    "scrolled": true
   },
   "outputs": [
    {
     "data": {
      "text/html": [
       "<div>\n",
       "<style scoped>\n",
       "    .dataframe tbody tr th:only-of-type {\n",
       "        vertical-align: middle;\n",
       "    }\n",
       "\n",
       "    .dataframe tbody tr th {\n",
       "        vertical-align: top;\n",
       "    }\n",
       "\n",
       "    .dataframe thead th {\n",
       "        text-align: right;\n",
       "    }\n",
       "</style>\n",
       "<table border=\"1\" class=\"dataframe\">\n",
       "  <thead>\n",
       "    <tr style=\"text-align: right;\">\n",
       "      <th></th>\n",
       "      <th>Unnamed: 0</th>\n",
       "      <th>BAYL-08997</th>\n",
       "      <th>BAYL-08998</th>\n",
       "      <th>BAYL-08999</th>\n",
       "      <th>BAYL-09000</th>\n",
       "      <th>BAYL-09001</th>\n",
       "      <th>BAYL-09002</th>\n",
       "      <th>BAYL-09003</th>\n",
       "      <th>BAYL-09004</th>\n",
       "      <th>BAYL-09005</th>\n",
       "      <th>...</th>\n",
       "      <th>s_21944</th>\n",
       "      <th>s_22832</th>\n",
       "      <th>s_22842</th>\n",
       "      <th>s_22997</th>\n",
       "      <th>s_23003</th>\n",
       "      <th>s_23077</th>\n",
       "      <th>s_23123</th>\n",
       "      <th>s_22787</th>\n",
       "      <th>s_23294</th>\n",
       "      <th>s_73385</th>\n",
       "    </tr>\n",
       "  </thead>\n",
       "  <tbody>\n",
       "    <tr>\n",
       "      <th>0</th>\n",
       "      <td>42370</td>\n",
       "      <td>-1.259948</td>\n",
       "      <td>0.170557</td>\n",
       "      <td>0.814204</td>\n",
       "      <td>0.038958</td>\n",
       "      <td>-0.504466</td>\n",
       "      <td>-0.757901</td>\n",
       "      <td>-0.986865</td>\n",
       "      <td>0.993000</td>\n",
       "      <td>0.986541</td>\n",
       "      <td>...</td>\n",
       "      <td>NaN</td>\n",
       "      <td>NaN</td>\n",
       "      <td>NaN</td>\n",
       "      <td>NaN</td>\n",
       "      <td>NaN</td>\n",
       "      <td>NaN</td>\n",
       "      <td>NaN</td>\n",
       "      <td>NaN</td>\n",
       "      <td>NaN</td>\n",
       "      <td>NaN</td>\n",
       "    </tr>\n",
       "    <tr>\n",
       "      <th>1</th>\n",
       "      <td>485</td>\n",
       "      <td>-0.610334</td>\n",
       "      <td>-0.811169</td>\n",
       "      <td>-0.554787</td>\n",
       "      <td>-0.603603</td>\n",
       "      <td>-0.549375</td>\n",
       "      <td>-0.631363</td>\n",
       "      <td>0.606882</td>\n",
       "      <td>1.238204</td>\n",
       "      <td>1.661840</td>\n",
       "      <td>...</td>\n",
       "      <td>-0.434904</td>\n",
       "      <td>-0.730548</td>\n",
       "      <td>-0.009508</td>\n",
       "      <td>-0.607362</td>\n",
       "      <td>0.219333</td>\n",
       "      <td>-0.767359</td>\n",
       "      <td>-0.421440</td>\n",
       "      <td>0.085019</td>\n",
       "      <td>-0.732586</td>\n",
       "      <td>-1.167603</td>\n",
       "    </tr>\n",
       "    <tr>\n",
       "      <th>2</th>\n",
       "      <td>27665</td>\n",
       "      <td>-1.201809</td>\n",
       "      <td>0.387317</td>\n",
       "      <td>-1.062940</td>\n",
       "      <td>0.525122</td>\n",
       "      <td>-0.973446</td>\n",
       "      <td>-0.253533</td>\n",
       "      <td>0.195547</td>\n",
       "      <td>0.769406</td>\n",
       "      <td>0.796718</td>\n",
       "      <td>...</td>\n",
       "      <td>0.825309</td>\n",
       "      <td>2.224161</td>\n",
       "      <td>0.182297</td>\n",
       "      <td>-0.697035</td>\n",
       "      <td>0.161942</td>\n",
       "      <td>-0.266286</td>\n",
       "      <td>0.775185</td>\n",
       "      <td>-0.640354</td>\n",
       "      <td>1.440073</td>\n",
       "      <td>0.458074</td>\n",
       "    </tr>\n",
       "    <tr>\n",
       "      <th>3</th>\n",
       "      <td>38395</td>\n",
       "      <td>-0.954275</td>\n",
       "      <td>-0.906589</td>\n",
       "      <td>4.929942</td>\n",
       "      <td>0.974496</td>\n",
       "      <td>-0.740805</td>\n",
       "      <td>0.642705</td>\n",
       "      <td>-0.293678</td>\n",
       "      <td>0.650630</td>\n",
       "      <td>1.008092</td>\n",
       "      <td>...</td>\n",
       "      <td>-1.505053</td>\n",
       "      <td>-1.112171</td>\n",
       "      <td>0.062801</td>\n",
       "      <td>-0.778621</td>\n",
       "      <td>0.574785</td>\n",
       "      <td>-0.251823</td>\n",
       "      <td>-0.822022</td>\n",
       "      <td>-1.332230</td>\n",
       "      <td>0.767016</td>\n",
       "      <td>-1.741468</td>\n",
       "    </tr>\n",
       "    <tr>\n",
       "      <th>4</th>\n",
       "      <td>437</td>\n",
       "      <td>0.240999</td>\n",
       "      <td>-0.454249</td>\n",
       "      <td>-0.000406</td>\n",
       "      <td>-0.542391</td>\n",
       "      <td>NaN</td>\n",
       "      <td>0.403722</td>\n",
       "      <td>-0.492163</td>\n",
       "      <td>0.252810</td>\n",
       "      <td>-0.517825</td>\n",
       "      <td>...</td>\n",
       "      <td>NaN</td>\n",
       "      <td>NaN</td>\n",
       "      <td>NaN</td>\n",
       "      <td>NaN</td>\n",
       "      <td>NaN</td>\n",
       "      <td>NaN</td>\n",
       "      <td>NaN</td>\n",
       "      <td>NaN</td>\n",
       "      <td>NaN</td>\n",
       "      <td>NaN</td>\n",
       "    </tr>\n",
       "  </tbody>\n",
       "</table>\n",
       "<p>5 rows × 464 columns</p>\n",
       "</div>"
      ],
      "text/plain": [
       "   Unnamed: 0  BAYL-08997  BAYL-08998  BAYL-08999  BAYL-09000  BAYL-09001  \\\n",
       "0       42370   -1.259948    0.170557    0.814204    0.038958   -0.504466   \n",
       "1         485   -0.610334   -0.811169   -0.554787   -0.603603   -0.549375   \n",
       "2       27665   -1.201809    0.387317   -1.062940    0.525122   -0.973446   \n",
       "3       38395   -0.954275   -0.906589    4.929942    0.974496   -0.740805   \n",
       "4         437    0.240999   -0.454249   -0.000406   -0.542391         NaN   \n",
       "\n",
       "   BAYL-09002  BAYL-09003  BAYL-09004  BAYL-09005  ...   s_21944   s_22832  \\\n",
       "0   -0.757901   -0.986865    0.993000    0.986541  ...       NaN       NaN   \n",
       "1   -0.631363    0.606882    1.238204    1.661840  ... -0.434904 -0.730548   \n",
       "2   -0.253533    0.195547    0.769406    0.796718  ...  0.825309  2.224161   \n",
       "3    0.642705   -0.293678    0.650630    1.008092  ... -1.505053 -1.112171   \n",
       "4    0.403722   -0.492163    0.252810   -0.517825  ...       NaN       NaN   \n",
       "\n",
       "    s_22842   s_22997   s_23003   s_23077   s_23123   s_22787   s_23294  \\\n",
       "0       NaN       NaN       NaN       NaN       NaN       NaN       NaN   \n",
       "1 -0.009508 -0.607362  0.219333 -0.767359 -0.421440  0.085019 -0.732586   \n",
       "2  0.182297 -0.697035  0.161942 -0.266286  0.775185 -0.640354  1.440073   \n",
       "3  0.062801 -0.778621  0.574785 -0.251823 -0.822022 -1.332230  0.767016   \n",
       "4       NaN       NaN       NaN       NaN       NaN       NaN       NaN   \n",
       "\n",
       "    s_73385  \n",
       "0       NaN  \n",
       "1 -1.167603  \n",
       "2  0.458074  \n",
       "3 -1.741468  \n",
       "4       NaN  \n",
       "\n",
       "[5 rows x 464 columns]"
      ]
     },
     "execution_count": 3,
     "metadata": {},
     "output_type": "execute_result"
    }
   ],
   "source": [
    "met_df.head()"
   ]
  },
  {
   "cell_type": "code",
   "execution_count": 4,
   "id": "b9c0bea6",
   "metadata": {},
   "outputs": [
    {
     "data": {
      "text/plain": [
       "(968, 464)"
      ]
     },
     "execution_count": 4,
     "metadata": {},
     "output_type": "execute_result"
    }
   ],
   "source": [
    "met_df.shape"
   ]
  },
  {
   "cell_type": "code",
   "execution_count": 5,
   "id": "1de510b9",
   "metadata": {},
   "outputs": [
    {
     "data": {
      "text/plain": [
       "(968,)"
      ]
     },
     "execution_count": 5,
     "metadata": {},
     "output_type": "execute_result"
    }
   ],
   "source": [
    "met_df['Unnamed: 0'].unique().shape # unnamed -> unique values, id?"
   ]
  },
  {
   "cell_type": "code",
   "execution_count": null,
   "id": "c5c00f82",
   "metadata": {},
   "outputs": [],
   "source": []
  },
  {
   "cell_type": "code",
   "execution_count": 6,
   "id": "57bcf4c6",
   "metadata": {},
   "outputs": [],
   "source": [
    "comp_df = pd.read_csv(\"./metabolomics/compAnno.csv\")"
   ]
  },
  {
   "cell_type": "code",
   "execution_count": 7,
   "id": "735bdf9e",
   "metadata": {},
   "outputs": [
    {
     "data": {
      "text/html": [
       "<div>\n",
       "<style scoped>\n",
       "    .dataframe tbody tr th:only-of-type {\n",
       "        vertical-align: middle;\n",
       "    }\n",
       "\n",
       "    .dataframe tbody tr th {\n",
       "        vertical-align: top;\n",
       "    }\n",
       "\n",
       "    .dataframe thead th {\n",
       "        text-align: right;\n",
       "    }\n",
       "</style>\n",
       "<table border=\"1\" class=\"dataframe\">\n",
       "  <thead>\n",
       "    <tr style=\"text-align: right;\">\n",
       "      <th></th>\n",
       "      <th>BIOCHEMICAL</th>\n",
       "      <th>PATHWAY_SORTORDER</th>\n",
       "      <th>SUPER_PATHWAY</th>\n",
       "      <th>SUB_PATHWAY</th>\n",
       "      <th>COMP_ID</th>\n",
       "      <th>PLATFORM</th>\n",
       "      <th>CHEMICAL_ID</th>\n",
       "      <th>PUBCHEM</th>\n",
       "      <th>CAS</th>\n",
       "      <th>KEGG</th>\n",
       "      <th>HMDB_ID</th>\n",
       "    </tr>\n",
       "  </thead>\n",
       "  <tbody>\n",
       "    <tr>\n",
       "      <th>0</th>\n",
       "      <td>S-1-pyrroline-5-carboxylate</td>\n",
       "      <td>64.0</td>\n",
       "      <td>Amino Acid</td>\n",
       "      <td>Glutamate Metabolism</td>\n",
       "      <td>42370</td>\n",
       "      <td>Pos Early</td>\n",
       "      <td>35</td>\n",
       "      <td>11966181</td>\n",
       "      <td>2906-39-0</td>\n",
       "      <td>C04322</td>\n",
       "      <td>HMDB0001301</td>\n",
       "    </tr>\n",
       "    <tr>\n",
       "      <th>1</th>\n",
       "      <td>spermidine</td>\n",
       "      <td>553.0</td>\n",
       "      <td>Amino Acid</td>\n",
       "      <td>Polyamine Metabolism</td>\n",
       "      <td>485</td>\n",
       "      <td>Pos Early</td>\n",
       "      <td>50</td>\n",
       "      <td>1102</td>\n",
       "      <td>124-20-9</td>\n",
       "      <td>C00315</td>\n",
       "      <td>HMDB0001257</td>\n",
       "    </tr>\n",
       "    <tr>\n",
       "      <th>2</th>\n",
       "      <td>1-methylnicotinamide</td>\n",
       "      <td>4336.0</td>\n",
       "      <td>Cofactors and Vitamins</td>\n",
       "      <td>Nicotinate and Nicotinamide Metabolism</td>\n",
       "      <td>27665</td>\n",
       "      <td>Pos Early</td>\n",
       "      <td>55</td>\n",
       "      <td>457</td>\n",
       "      <td>1005-24-9</td>\n",
       "      <td>C02918</td>\n",
       "      <td>HMDB0000699</td>\n",
       "    </tr>\n",
       "    <tr>\n",
       "      <th>3</th>\n",
       "      <td>12,13-DiHOME</td>\n",
       "      <td>2048.0</td>\n",
       "      <td>Lipid</td>\n",
       "      <td>Fatty Acid, Dihydroxy</td>\n",
       "      <td>38395</td>\n",
       "      <td>Neg</td>\n",
       "      <td>62</td>\n",
       "      <td>10236635</td>\n",
       "      <td>263399-35-5</td>\n",
       "      <td>C14829</td>\n",
       "      <td>HMDB0004705</td>\n",
       "    </tr>\n",
       "    <tr>\n",
       "      <th>4</th>\n",
       "      <td>5-hydroxyindoleacetate</td>\n",
       "      <td>295.0</td>\n",
       "      <td>Amino Acid</td>\n",
       "      <td>Tryptophan Metabolism</td>\n",
       "      <td>437</td>\n",
       "      <td>Neg</td>\n",
       "      <td>71</td>\n",
       "      <td>1826</td>\n",
       "      <td>54-16-0</td>\n",
       "      <td>C05635</td>\n",
       "      <td>HMDB0000763</td>\n",
       "    </tr>\n",
       "  </tbody>\n",
       "</table>\n",
       "</div>"
      ],
      "text/plain": [
       "                   BIOCHEMICAL  PATHWAY_SORTORDER           SUPER_PATHWAY  \\\n",
       "0  S-1-pyrroline-5-carboxylate               64.0              Amino Acid   \n",
       "1                   spermidine              553.0              Amino Acid   \n",
       "2         1-methylnicotinamide             4336.0  Cofactors and Vitamins   \n",
       "3                 12,13-DiHOME             2048.0                   Lipid   \n",
       "4       5-hydroxyindoleacetate              295.0              Amino Acid   \n",
       "\n",
       "                              SUB_PATHWAY  COMP_ID   PLATFORM  CHEMICAL_ID  \\\n",
       "0                    Glutamate Metabolism    42370  Pos Early           35   \n",
       "1                    Polyamine Metabolism      485  Pos Early           50   \n",
       "2  Nicotinate and Nicotinamide Metabolism    27665  Pos Early           55   \n",
       "3                   Fatty Acid, Dihydroxy    38395        Neg           62   \n",
       "4                   Tryptophan Metabolism      437        Neg           71   \n",
       "\n",
       "    PUBCHEM          CAS    KEGG      HMDB_ID  \n",
       "0  11966181    2906-39-0  C04322  HMDB0001301  \n",
       "1      1102     124-20-9  C00315  HMDB0001257  \n",
       "2       457    1005-24-9  C02918  HMDB0000699  \n",
       "3  10236635  263399-35-5  C14829  HMDB0004705  \n",
       "4      1826      54-16-0  C05635  HMDB0000763  "
      ]
     },
     "execution_count": 7,
     "metadata": {},
     "output_type": "execute_result"
    }
   ],
   "source": [
    "comp_df.head()"
   ]
  },
  {
   "cell_type": "markdown",
   "id": "538d234b",
   "metadata": {},
   "source": [
    "comp_df.shape"
   ]
  },
  {
   "cell_type": "code",
   "execution_count": 8,
   "id": "9fa2c9e1",
   "metadata": {},
   "outputs": [
    {
     "data": {
      "text/plain": [
       "(963,)"
      ]
     },
     "execution_count": 8,
     "metadata": {},
     "output_type": "execute_result"
    }
   ],
   "source": [
    "comp_df['COMP_ID'].unique().shape"
   ]
  },
  {
   "cell_type": "code",
   "execution_count": 9,
   "id": "00da1d6b",
   "metadata": {},
   "outputs": [
    {
     "data": {
      "text/plain": [
       "(968,)"
      ]
     },
     "execution_count": 9,
     "metadata": {},
     "output_type": "execute_result"
    }
   ],
   "source": [
    "met_df['Unnamed: 0'].unique().shape"
   ]
  },
  {
   "cell_type": "code",
   "execution_count": 10,
   "id": "7e3f60de",
   "metadata": {},
   "outputs": [
    {
     "data": {
      "text/plain": [
       "[33967, 38595, 53189, 52896, 52897]"
      ]
     },
     "execution_count": 10,
     "metadata": {},
     "output_type": "execute_result"
    }
   ],
   "source": [
    "# missing ids?\n",
    "missing_ids = [x for x in list(met_df['Unnamed: 0']) if x not in list(comp_df['COMP_ID'])]\n",
    "missing_ids"
   ]
  },
  {
   "cell_type": "code",
   "execution_count": 11,
   "id": "474a2307",
   "metadata": {},
   "outputs": [
    {
     "name": "stdout",
     "output_type": "stream",
     "text": [
      "33967 963    463\n",
      "dtype: int64\n",
      "38595 964    463\n",
      "dtype: int64\n",
      "53189 965    463\n",
      "dtype: int64\n",
      "52896 966    463\n",
      "dtype: int64\n",
      "52897 967    463\n",
      "dtype: int64\n"
     ]
    }
   ],
   "source": [
    "for x in missing_ids:\n",
    "    print(x, met_df[met_df['Unnamed: 0'] == x].isna().sum(axis=1))"
   ]
  },
  {
   "cell_type": "code",
   "execution_count": 12,
   "id": "82f03ae4",
   "metadata": {},
   "outputs": [
    {
     "data": {
      "text/plain": [
       "8"
      ]
     },
     "execution_count": 12,
     "metadata": {},
     "output_type": "execute_result"
    }
   ],
   "source": [
    "# rows with all NaN\n",
    "len([x for x in met_df.isna().sum(axis=1) if x == 463])"
   ]
  },
  {
   "cell_type": "code",
   "execution_count": 13,
   "id": "9eaf9565",
   "metadata": {},
   "outputs": [
    {
     "data": {
      "text/html": [
       "<div>\n",
       "<style scoped>\n",
       "    .dataframe tbody tr th:only-of-type {\n",
       "        vertical-align: middle;\n",
       "    }\n",
       "\n",
       "    .dataframe tbody tr th {\n",
       "        vertical-align: top;\n",
       "    }\n",
       "\n",
       "    .dataframe thead th {\n",
       "        text-align: right;\n",
       "    }\n",
       "</style>\n",
       "<table border=\"1\" class=\"dataframe\">\n",
       "  <thead>\n",
       "    <tr style=\"text-align: right;\">\n",
       "      <th></th>\n",
       "      <th>BAYL-08997</th>\n",
       "      <th>BAYL-08998</th>\n",
       "      <th>BAYL-08999</th>\n",
       "      <th>BAYL-09000</th>\n",
       "      <th>BAYL-09001</th>\n",
       "      <th>BAYL-09002</th>\n",
       "      <th>BAYL-09003</th>\n",
       "      <th>BAYL-09004</th>\n",
       "      <th>BAYL-09005</th>\n",
       "      <th>BAYL-09006</th>\n",
       "      <th>...</th>\n",
       "      <th>s_21944</th>\n",
       "      <th>s_22832</th>\n",
       "      <th>s_22842</th>\n",
       "      <th>s_22997</th>\n",
       "      <th>s_23003</th>\n",
       "      <th>s_23077</th>\n",
       "      <th>s_23123</th>\n",
       "      <th>s_22787</th>\n",
       "      <th>s_23294</th>\n",
       "      <th>s_73385</th>\n",
       "    </tr>\n",
       "  </thead>\n",
       "  <tbody>\n",
       "    <tr>\n",
       "      <th>42370</th>\n",
       "      <td>-1.259948</td>\n",
       "      <td>0.170557</td>\n",
       "      <td>0.814204</td>\n",
       "      <td>0.038958</td>\n",
       "      <td>-0.504466</td>\n",
       "      <td>-0.757901</td>\n",
       "      <td>-0.986865</td>\n",
       "      <td>0.993000</td>\n",
       "      <td>0.986541</td>\n",
       "      <td>0.000250</td>\n",
       "      <td>...</td>\n",
       "      <td>NaN</td>\n",
       "      <td>NaN</td>\n",
       "      <td>NaN</td>\n",
       "      <td>NaN</td>\n",
       "      <td>NaN</td>\n",
       "      <td>NaN</td>\n",
       "      <td>NaN</td>\n",
       "      <td>NaN</td>\n",
       "      <td>NaN</td>\n",
       "      <td>NaN</td>\n",
       "    </tr>\n",
       "    <tr>\n",
       "      <th>485</th>\n",
       "      <td>-0.610334</td>\n",
       "      <td>-0.811169</td>\n",
       "      <td>-0.554787</td>\n",
       "      <td>-0.603603</td>\n",
       "      <td>-0.549375</td>\n",
       "      <td>-0.631363</td>\n",
       "      <td>0.606882</td>\n",
       "      <td>1.238204</td>\n",
       "      <td>1.661840</td>\n",
       "      <td>-0.931552</td>\n",
       "      <td>...</td>\n",
       "      <td>-0.434904</td>\n",
       "      <td>-0.730548</td>\n",
       "      <td>-0.009508</td>\n",
       "      <td>-0.607362</td>\n",
       "      <td>0.219333</td>\n",
       "      <td>-0.767359</td>\n",
       "      <td>-0.421440</td>\n",
       "      <td>0.085019</td>\n",
       "      <td>-0.732586</td>\n",
       "      <td>-1.167603</td>\n",
       "    </tr>\n",
       "    <tr>\n",
       "      <th>27665</th>\n",
       "      <td>-1.201809</td>\n",
       "      <td>0.387317</td>\n",
       "      <td>-1.062940</td>\n",
       "      <td>0.525122</td>\n",
       "      <td>-0.973446</td>\n",
       "      <td>-0.253533</td>\n",
       "      <td>0.195547</td>\n",
       "      <td>0.769406</td>\n",
       "      <td>0.796718</td>\n",
       "      <td>-0.058625</td>\n",
       "      <td>...</td>\n",
       "      <td>0.825309</td>\n",
       "      <td>2.224161</td>\n",
       "      <td>0.182297</td>\n",
       "      <td>-0.697035</td>\n",
       "      <td>0.161942</td>\n",
       "      <td>-0.266286</td>\n",
       "      <td>0.775185</td>\n",
       "      <td>-0.640354</td>\n",
       "      <td>1.440073</td>\n",
       "      <td>0.458074</td>\n",
       "    </tr>\n",
       "    <tr>\n",
       "      <th>38395</th>\n",
       "      <td>-0.954275</td>\n",
       "      <td>-0.906589</td>\n",
       "      <td>4.929942</td>\n",
       "      <td>0.974496</td>\n",
       "      <td>-0.740805</td>\n",
       "      <td>0.642705</td>\n",
       "      <td>-0.293678</td>\n",
       "      <td>0.650630</td>\n",
       "      <td>1.008092</td>\n",
       "      <td>-0.778676</td>\n",
       "      <td>...</td>\n",
       "      <td>-1.505053</td>\n",
       "      <td>-1.112171</td>\n",
       "      <td>0.062801</td>\n",
       "      <td>-0.778621</td>\n",
       "      <td>0.574785</td>\n",
       "      <td>-0.251823</td>\n",
       "      <td>-0.822022</td>\n",
       "      <td>-1.332230</td>\n",
       "      <td>0.767016</td>\n",
       "      <td>-1.741468</td>\n",
       "    </tr>\n",
       "    <tr>\n",
       "      <th>437</th>\n",
       "      <td>0.240999</td>\n",
       "      <td>-0.454249</td>\n",
       "      <td>-0.000406</td>\n",
       "      <td>-0.542391</td>\n",
       "      <td>NaN</td>\n",
       "      <td>0.403722</td>\n",
       "      <td>-0.492163</td>\n",
       "      <td>0.252810</td>\n",
       "      <td>-0.517825</td>\n",
       "      <td>NaN</td>\n",
       "      <td>...</td>\n",
       "      <td>NaN</td>\n",
       "      <td>NaN</td>\n",
       "      <td>NaN</td>\n",
       "      <td>NaN</td>\n",
       "      <td>NaN</td>\n",
       "      <td>NaN</td>\n",
       "      <td>NaN</td>\n",
       "      <td>NaN</td>\n",
       "      <td>NaN</td>\n",
       "      <td>NaN</td>\n",
       "    </tr>\n",
       "  </tbody>\n",
       "</table>\n",
       "<p>5 rows × 463 columns</p>\n",
       "</div>"
      ],
      "text/plain": [
       "       BAYL-08997  BAYL-08998  BAYL-08999  BAYL-09000  BAYL-09001  BAYL-09002  \\\n",
       "42370   -1.259948    0.170557    0.814204    0.038958   -0.504466   -0.757901   \n",
       "485     -0.610334   -0.811169   -0.554787   -0.603603   -0.549375   -0.631363   \n",
       "27665   -1.201809    0.387317   -1.062940    0.525122   -0.973446   -0.253533   \n",
       "38395   -0.954275   -0.906589    4.929942    0.974496   -0.740805    0.642705   \n",
       "437      0.240999   -0.454249   -0.000406   -0.542391         NaN    0.403722   \n",
       "\n",
       "       BAYL-09003  BAYL-09004  BAYL-09005  BAYL-09006  ...   s_21944  \\\n",
       "42370   -0.986865    0.993000    0.986541    0.000250  ...       NaN   \n",
       "485      0.606882    1.238204    1.661840   -0.931552  ... -0.434904   \n",
       "27665    0.195547    0.769406    0.796718   -0.058625  ...  0.825309   \n",
       "38395   -0.293678    0.650630    1.008092   -0.778676  ... -1.505053   \n",
       "437     -0.492163    0.252810   -0.517825         NaN  ...       NaN   \n",
       "\n",
       "        s_22832   s_22842   s_22997   s_23003   s_23077   s_23123   s_22787  \\\n",
       "42370       NaN       NaN       NaN       NaN       NaN       NaN       NaN   \n",
       "485   -0.730548 -0.009508 -0.607362  0.219333 -0.767359 -0.421440  0.085019   \n",
       "27665  2.224161  0.182297 -0.697035  0.161942 -0.266286  0.775185 -0.640354   \n",
       "38395 -1.112171  0.062801 -0.778621  0.574785 -0.251823 -0.822022 -1.332230   \n",
       "437         NaN       NaN       NaN       NaN       NaN       NaN       NaN   \n",
       "\n",
       "        s_23294   s_73385  \n",
       "42370       NaN       NaN  \n",
       "485   -0.732586 -1.167603  \n",
       "27665  1.440073  0.458074  \n",
       "38395  0.767016 -1.741468  \n",
       "437         NaN       NaN  \n",
       "\n",
       "[5 rows x 463 columns]"
      ]
     },
     "execution_count": 13,
     "metadata": {},
     "output_type": "execute_result"
    }
   ],
   "source": [
    "met_df.set_index('Unnamed: 0', inplace=True)\n",
    "met_df.index.name = None\n",
    "met_df.head()"
   ]
  },
  {
   "cell_type": "code",
   "execution_count": 14,
   "id": "effa46fe",
   "metadata": {},
   "outputs": [],
   "source": [
    "# drop rows with all NaN values\n",
    "met_df.dropna(axis=0, how='all', inplace=True)"
   ]
  },
  {
   "cell_type": "code",
   "execution_count": 15,
   "id": "0ae39482",
   "metadata": {},
   "outputs": [
    {
     "data": {
      "text/plain": [
       "(960, 463)"
      ]
     },
     "execution_count": 15,
     "metadata": {},
     "output_type": "execute_result"
    }
   ],
   "source": [
    "met_df.shape"
   ]
  },
  {
   "cell_type": "code",
   "execution_count": 16,
   "id": "972964cd",
   "metadata": {},
   "outputs": [],
   "source": [
    "# drop rows containing more than 80% NaN values\n",
    "perc = 0.8\n",
    "min_count =  int((1 - perc)*met_df.shape[1] + 1)\n",
    "met_df.dropna(axis=0, thresh=min_count, inplace=True)"
   ]
  },
  {
   "cell_type": "code",
   "execution_count": 17,
   "id": "bc58c146",
   "metadata": {},
   "outputs": [
    {
     "data": {
      "text/plain": [
       "(948, 463)"
      ]
     },
     "execution_count": 17,
     "metadata": {},
     "output_type": "execute_result"
    }
   ],
   "source": [
    "met_df.shape"
   ]
  },
  {
   "cell_type": "code",
   "execution_count": 18,
   "id": "e9149811",
   "metadata": {},
   "outputs": [],
   "source": [
    "# fill missing z-scores\n",
    "met_df.fillna(0, inplace=True)"
   ]
  },
  {
   "cell_type": "code",
   "execution_count": 19,
   "id": "b4d9d042",
   "metadata": {},
   "outputs": [],
   "source": [
    "# features: metabolomics z-scores\n",
    "# samples: patients\n",
    "met_df = met_df.T"
   ]
  },
  {
   "cell_type": "code",
   "execution_count": 20,
   "id": "276b667b",
   "metadata": {},
   "outputs": [
    {
     "data": {
      "text/plain": [
       "(463, 948)"
      ]
     },
     "execution_count": 20,
     "metadata": {},
     "output_type": "execute_result"
    }
   ],
   "source": [
    "met_df.shape"
   ]
  },
  {
   "cell_type": "code",
   "execution_count": 21,
   "id": "d92fe82f",
   "metadata": {},
   "outputs": [
    {
     "data": {
      "text/html": [
       "<div>\n",
       "<style scoped>\n",
       "    .dataframe tbody tr th:only-of-type {\n",
       "        vertical-align: middle;\n",
       "    }\n",
       "\n",
       "    .dataframe tbody tr th {\n",
       "        vertical-align: top;\n",
       "    }\n",
       "\n",
       "    .dataframe thead th {\n",
       "        text-align: right;\n",
       "    }\n",
       "</style>\n",
       "<table border=\"1\" class=\"dataframe\">\n",
       "  <thead>\n",
       "    <tr style=\"text-align: right;\">\n",
       "      <th></th>\n",
       "      <th>42370</th>\n",
       "      <th>485</th>\n",
       "      <th>27665</th>\n",
       "      <th>38395</th>\n",
       "      <th>437</th>\n",
       "      <th>528</th>\n",
       "      <th>1417</th>\n",
       "      <th>1549</th>\n",
       "      <th>531</th>\n",
       "      <th>1414</th>\n",
       "      <th>...</th>\n",
       "      <th>53157</th>\n",
       "      <th>53266</th>\n",
       "      <th>53267</th>\n",
       "      <th>54840</th>\n",
       "      <th>57714</th>\n",
       "      <th>57716</th>\n",
       "      <th>57718</th>\n",
       "      <th>57719</th>\n",
       "      <th>57720</th>\n",
       "      <th>57754</th>\n",
       "    </tr>\n",
       "  </thead>\n",
       "  <tbody>\n",
       "    <tr>\n",
       "      <th>BAYL-08997</th>\n",
       "      <td>-1.259948</td>\n",
       "      <td>-0.610334</td>\n",
       "      <td>-1.201809</td>\n",
       "      <td>-0.954275</td>\n",
       "      <td>0.240999</td>\n",
       "      <td>-0.485987</td>\n",
       "      <td>0.598959</td>\n",
       "      <td>-0.286401</td>\n",
       "      <td>-1.043185</td>\n",
       "      <td>-0.660514</td>\n",
       "      <td>...</td>\n",
       "      <td>-1.094129</td>\n",
       "      <td>-0.419479</td>\n",
       "      <td>0.158619</td>\n",
       "      <td>-0.817640</td>\n",
       "      <td>1.120043</td>\n",
       "      <td>0.045789</td>\n",
       "      <td>0.201601</td>\n",
       "      <td>-0.039255</td>\n",
       "      <td>2.783415</td>\n",
       "      <td>-0.127840</td>\n",
       "    </tr>\n",
       "    <tr>\n",
       "      <th>BAYL-08998</th>\n",
       "      <td>0.170557</td>\n",
       "      <td>-0.811169</td>\n",
       "      <td>0.387317</td>\n",
       "      <td>-0.906589</td>\n",
       "      <td>-0.454249</td>\n",
       "      <td>-0.409053</td>\n",
       "      <td>0.612680</td>\n",
       "      <td>-0.315412</td>\n",
       "      <td>-1.095163</td>\n",
       "      <td>0.001887</td>\n",
       "      <td>...</td>\n",
       "      <td>-1.116107</td>\n",
       "      <td>0.000000</td>\n",
       "      <td>-0.424652</td>\n",
       "      <td>0.987125</td>\n",
       "      <td>-0.045571</td>\n",
       "      <td>0.295498</td>\n",
       "      <td>0.409790</td>\n",
       "      <td>-0.195962</td>\n",
       "      <td>1.987574</td>\n",
       "      <td>-0.160196</td>\n",
       "    </tr>\n",
       "    <tr>\n",
       "      <th>BAYL-08999</th>\n",
       "      <td>0.814204</td>\n",
       "      <td>-0.554787</td>\n",
       "      <td>-1.062940</td>\n",
       "      <td>4.929942</td>\n",
       "      <td>-0.000406</td>\n",
       "      <td>0.022588</td>\n",
       "      <td>3.050217</td>\n",
       "      <td>2.366699</td>\n",
       "      <td>1.132455</td>\n",
       "      <td>-0.142467</td>\n",
       "      <td>...</td>\n",
       "      <td>0.391963</td>\n",
       "      <td>0.284916</td>\n",
       "      <td>0.020418</td>\n",
       "      <td>-0.129573</td>\n",
       "      <td>-0.090421</td>\n",
       "      <td>0.118741</td>\n",
       "      <td>1.112410</td>\n",
       "      <td>-0.048789</td>\n",
       "      <td>1.794673</td>\n",
       "      <td>-0.226005</td>\n",
       "    </tr>\n",
       "    <tr>\n",
       "      <th>BAYL-09000</th>\n",
       "      <td>0.038958</td>\n",
       "      <td>-0.603603</td>\n",
       "      <td>0.525122</td>\n",
       "      <td>0.974496</td>\n",
       "      <td>-0.542391</td>\n",
       "      <td>-0.494779</td>\n",
       "      <td>-0.347355</td>\n",
       "      <td>-0.392808</td>\n",
       "      <td>-0.713237</td>\n",
       "      <td>-0.359097</td>\n",
       "      <td>...</td>\n",
       "      <td>-0.119144</td>\n",
       "      <td>-0.807474</td>\n",
       "      <td>1.317694</td>\n",
       "      <td>0.175748</td>\n",
       "      <td>1.241565</td>\n",
       "      <td>0.113926</td>\n",
       "      <td>-0.978284</td>\n",
       "      <td>-0.653111</td>\n",
       "      <td>0.000000</td>\n",
       "      <td>-0.063945</td>\n",
       "    </tr>\n",
       "    <tr>\n",
       "      <th>BAYL-09001</th>\n",
       "      <td>-0.504466</td>\n",
       "      <td>-0.549375</td>\n",
       "      <td>-0.973446</td>\n",
       "      <td>-0.740805</td>\n",
       "      <td>0.000000</td>\n",
       "      <td>-0.049422</td>\n",
       "      <td>-0.787278</td>\n",
       "      <td>-0.598359</td>\n",
       "      <td>-0.781751</td>\n",
       "      <td>-0.515097</td>\n",
       "      <td>...</td>\n",
       "      <td>-0.351091</td>\n",
       "      <td>0.000000</td>\n",
       "      <td>-0.405493</td>\n",
       "      <td>0.000000</td>\n",
       "      <td>0.297091</td>\n",
       "      <td>-0.581249</td>\n",
       "      <td>0.637026</td>\n",
       "      <td>-0.778015</td>\n",
       "      <td>0.829880</td>\n",
       "      <td>-0.017687</td>\n",
       "    </tr>\n",
       "  </tbody>\n",
       "</table>\n",
       "<p>5 rows × 948 columns</p>\n",
       "</div>"
      ],
      "text/plain": [
       "               42370     485       27665     38395     437       528    \\\n",
       "BAYL-08997 -1.259948 -0.610334 -1.201809 -0.954275  0.240999 -0.485987   \n",
       "BAYL-08998  0.170557 -0.811169  0.387317 -0.906589 -0.454249 -0.409053   \n",
       "BAYL-08999  0.814204 -0.554787 -1.062940  4.929942 -0.000406  0.022588   \n",
       "BAYL-09000  0.038958 -0.603603  0.525122  0.974496 -0.542391 -0.494779   \n",
       "BAYL-09001 -0.504466 -0.549375 -0.973446 -0.740805  0.000000 -0.049422   \n",
       "\n",
       "               1417      1549      531       1414   ...     53157     53266  \\\n",
       "BAYL-08997  0.598959 -0.286401 -1.043185 -0.660514  ... -1.094129 -0.419479   \n",
       "BAYL-08998  0.612680 -0.315412 -1.095163  0.001887  ... -1.116107  0.000000   \n",
       "BAYL-08999  3.050217  2.366699  1.132455 -0.142467  ...  0.391963  0.284916   \n",
       "BAYL-09000 -0.347355 -0.392808 -0.713237 -0.359097  ... -0.119144 -0.807474   \n",
       "BAYL-09001 -0.787278 -0.598359 -0.781751 -0.515097  ... -0.351091  0.000000   \n",
       "\n",
       "               53267     54840     57714     57716     57718     57719  \\\n",
       "BAYL-08997  0.158619 -0.817640  1.120043  0.045789  0.201601 -0.039255   \n",
       "BAYL-08998 -0.424652  0.987125 -0.045571  0.295498  0.409790 -0.195962   \n",
       "BAYL-08999  0.020418 -0.129573 -0.090421  0.118741  1.112410 -0.048789   \n",
       "BAYL-09000  1.317694  0.175748  1.241565  0.113926 -0.978284 -0.653111   \n",
       "BAYL-09001 -0.405493  0.000000  0.297091 -0.581249  0.637026 -0.778015   \n",
       "\n",
       "               57720     57754  \n",
       "BAYL-08997  2.783415 -0.127840  \n",
       "BAYL-08998  1.987574 -0.160196  \n",
       "BAYL-08999  1.794673 -0.226005  \n",
       "BAYL-09000  0.000000 -0.063945  \n",
       "BAYL-09001  0.829880 -0.017687  \n",
       "\n",
       "[5 rows x 948 columns]"
      ]
     },
     "execution_count": 21,
     "metadata": {},
     "output_type": "execute_result"
    }
   ],
   "source": [
    "met_df.head()"
   ]
  },
  {
   "cell_type": "code",
   "execution_count": null,
   "id": "30e19d9f",
   "metadata": {},
   "outputs": [],
   "source": []
  },
  {
   "cell_type": "code",
   "execution_count": null,
   "id": "532e10ea",
   "metadata": {},
   "outputs": [],
   "source": []
  },
  {
   "cell_type": "code",
   "execution_count": 22,
   "id": "5a25a8f3",
   "metadata": {},
   "outputs": [],
   "source": [
    "clin_df = pd.read_csv(\"./metabolomics/sampleAttr.csv\")"
   ]
  },
  {
   "cell_type": "code",
   "execution_count": 23,
   "id": "835278af",
   "metadata": {
    "scrolled": true
   },
   "outputs": [
    {
     "data": {
      "text/html": [
       "<div>\n",
       "<style scoped>\n",
       "    .dataframe tbody tr th:only-of-type {\n",
       "        vertical-align: middle;\n",
       "    }\n",
       "\n",
       "    .dataframe tbody tr th {\n",
       "        vertical-align: top;\n",
       "    }\n",
       "\n",
       "    .dataframe thead th {\n",
       "        text-align: right;\n",
       "    }\n",
       "</style>\n",
       "<table border=\"1\" class=\"dataframe\">\n",
       "  <thead>\n",
       "    <tr style=\"text-align: right;\">\n",
       "      <th></th>\n",
       "      <th>sIDs</th>\n",
       "      <th>sle</th>\n",
       "      <th>BErm</th>\n",
       "      <th>weight</th>\n",
       "      <th>conception</th>\n",
       "      <th>smoking</th>\n",
       "      <th>race</th>\n",
       "      <th>crl</th>\n",
       "      <th>pe</th>\n",
       "      <th>ASA</th>\n",
       "      <th>ptIDs</th>\n",
       "      <th>age</th>\n",
       "      <th>prev.pe</th>\n",
       "      <th>ga.w</th>\n",
       "      <th>consss_batch</th>\n",
       "      <th>ASA_tri_chr</th>\n",
       "      <th>STUDY</th>\n",
       "      <th>Compliance</th>\n",
       "      <th>trimester</th>\n",
       "      <th>height</th>\n",
       "    </tr>\n",
       "  </thead>\n",
       "  <tbody>\n",
       "    <tr>\n",
       "      <th>0</th>\n",
       "      <td>BAYL-08997</td>\n",
       "      <td>0</td>\n",
       "      <td>batch_2023</td>\n",
       "      <td>45.1</td>\n",
       "      <td>7</td>\n",
       "      <td>0</td>\n",
       "      <td>Chinese</td>\n",
       "      <td>55.3</td>\n",
       "      <td>1.0</td>\n",
       "      <td>True</td>\n",
       "      <td>S1_1_Ca</td>\n",
       "      <td>36.64887063655031</td>\n",
       "      <td>7</td>\n",
       "      <td>NaN</td>\n",
       "      <td>batch-2023</td>\n",
       "      <td>ASA - 1st Trimester</td>\n",
       "      <td>CHUK</td>\n",
       "      <td>94.444444</td>\n",
       "      <td>1</td>\n",
       "      <td>150</td>\n",
       "    </tr>\n",
       "    <tr>\n",
       "      <th>1</th>\n",
       "      <td>BAYL-08998</td>\n",
       "      <td>0</td>\n",
       "      <td>batch_2023</td>\n",
       "      <td>82.2</td>\n",
       "      <td>7</td>\n",
       "      <td>0</td>\n",
       "      <td>Chinese</td>\n",
       "      <td>63.1</td>\n",
       "      <td>1.0</td>\n",
       "      <td>True</td>\n",
       "      <td>S1_2_Ca</td>\n",
       "      <td>32.309377138945926</td>\n",
       "      <td>2</td>\n",
       "      <td>NaN</td>\n",
       "      <td>batch-2023</td>\n",
       "      <td>ASA - 1st Trimester</td>\n",
       "      <td>CHUK</td>\n",
       "      <td>94.267516</td>\n",
       "      <td>1</td>\n",
       "      <td>171</td>\n",
       "    </tr>\n",
       "    <tr>\n",
       "      <th>2</th>\n",
       "      <td>BAYL-08999</td>\n",
       "      <td>0</td>\n",
       "      <td>batch_2023</td>\n",
       "      <td>69.6</td>\n",
       "      <td>7</td>\n",
       "      <td>0</td>\n",
       "      <td>Chinese</td>\n",
       "      <td>58.8</td>\n",
       "      <td>0.0</td>\n",
       "      <td>True</td>\n",
       "      <td>S1_1_Co</td>\n",
       "      <td>43.90143737166324</td>\n",
       "      <td>7</td>\n",
       "      <td>NaN</td>\n",
       "      <td>batch-2023</td>\n",
       "      <td>ASA - 1st Trimester</td>\n",
       "      <td>CHUK</td>\n",
       "      <td>99.367089</td>\n",
       "      <td>1</td>\n",
       "      <td>161</td>\n",
       "    </tr>\n",
       "    <tr>\n",
       "      <th>3</th>\n",
       "      <td>BAYL-09000</td>\n",
       "      <td>0</td>\n",
       "      <td>batch_2023</td>\n",
       "      <td>51.4</td>\n",
       "      <td>7</td>\n",
       "      <td>0</td>\n",
       "      <td>Chinese</td>\n",
       "      <td>62.9</td>\n",
       "      <td>0.0</td>\n",
       "      <td>True</td>\n",
       "      <td>S1_2_Co</td>\n",
       "      <td>33.11430527036276</td>\n",
       "      <td>7</td>\n",
       "      <td>NaN</td>\n",
       "      <td>batch-2023</td>\n",
       "      <td>ASA - 1st Trimester</td>\n",
       "      <td>CHUK</td>\n",
       "      <td>98.684211</td>\n",
       "      <td>1</td>\n",
       "      <td>154</td>\n",
       "    </tr>\n",
       "    <tr>\n",
       "      <th>4</th>\n",
       "      <td>BAYL-09001</td>\n",
       "      <td>0</td>\n",
       "      <td>batch_2023</td>\n",
       "      <td>39.2</td>\n",
       "      <td>7</td>\n",
       "      <td>0</td>\n",
       "      <td>Chinese</td>\n",
       "      <td>45.3</td>\n",
       "      <td>0.0</td>\n",
       "      <td>True</td>\n",
       "      <td>S1_4_Co</td>\n",
       "      <td>24.32032854209445</td>\n",
       "      <td>7</td>\n",
       "      <td>NaN</td>\n",
       "      <td>batch-2023</td>\n",
       "      <td>ASA - 1st Trimester</td>\n",
       "      <td>CHUK</td>\n",
       "      <td>95.597484</td>\n",
       "      <td>1</td>\n",
       "      <td>161</td>\n",
       "    </tr>\n",
       "  </tbody>\n",
       "</table>\n",
       "</div>"
      ],
      "text/plain": [
       "         sIDs sle        BErm weight conception smoking     race   crl   pe  \\\n",
       "0  BAYL-08997   0  batch_2023   45.1          7       0  Chinese  55.3  1.0   \n",
       "1  BAYL-08998   0  batch_2023   82.2          7       0  Chinese  63.1  1.0   \n",
       "2  BAYL-08999   0  batch_2023   69.6          7       0  Chinese  58.8  0.0   \n",
       "3  BAYL-09000   0  batch_2023   51.4          7       0  Chinese  62.9  0.0   \n",
       "4  BAYL-09001   0  batch_2023   39.2          7       0  Chinese  45.3  0.0   \n",
       "\n",
       "    ASA    ptIDs                 age prev.pe  ga.w consss_batch  \\\n",
       "0  True  S1_1_Ca   36.64887063655031       7   NaN   batch-2023   \n",
       "1  True  S1_2_Ca  32.309377138945926       2   NaN   batch-2023   \n",
       "2  True  S1_1_Co   43.90143737166324       7   NaN   batch-2023   \n",
       "3  True  S1_2_Co   33.11430527036276       7   NaN   batch-2023   \n",
       "4  True  S1_4_Co   24.32032854209445       7   NaN   batch-2023   \n",
       "\n",
       "           ASA_tri_chr STUDY  Compliance  trimester height  \n",
       "0  ASA - 1st Trimester  CHUK   94.444444          1    150  \n",
       "1  ASA - 1st Trimester  CHUK   94.267516          1    171  \n",
       "2  ASA - 1st Trimester  CHUK   99.367089          1    161  \n",
       "3  ASA - 1st Trimester  CHUK   98.684211          1    154  \n",
       "4  ASA - 1st Trimester  CHUK   95.597484          1    161  "
      ]
     },
     "execution_count": 23,
     "metadata": {},
     "output_type": "execute_result"
    }
   ],
   "source": [
    "clin_df.head()"
   ]
  },
  {
   "cell_type": "code",
   "execution_count": 24,
   "id": "52cbce48",
   "metadata": {},
   "outputs": [
    {
     "data": {
      "text/plain": [
       "(463, 20)"
      ]
     },
     "execution_count": 24,
     "metadata": {},
     "output_type": "execute_result"
    }
   ],
   "source": [
    "clin_df.shape"
   ]
  },
  {
   "cell_type": "code",
   "execution_count": 25,
   "id": "4f208b9c",
   "metadata": {},
   "outputs": [
    {
     "data": {
      "text/plain": [
       "sIDs              0\n",
       "sle               0\n",
       "BErm              0\n",
       "weight            0\n",
       "conception        0\n",
       "smoking           0\n",
       "race              0\n",
       "crl               0\n",
       "pe                0\n",
       "ASA               0\n",
       "ptIDs             0\n",
       "age               0\n",
       "prev.pe           0\n",
       "ga.w            463\n",
       "consss_batch      0\n",
       "ASA_tri_chr       0\n",
       "STUDY             0\n",
       "Compliance        0\n",
       "trimester         0\n",
       "height            0\n",
       "dtype: int64"
      ]
     },
     "execution_count": 25,
     "metadata": {},
     "output_type": "execute_result"
    }
   ],
   "source": [
    "clin_df.isna().sum()"
   ]
  },
  {
   "cell_type": "code",
   "execution_count": 26,
   "id": "bf8ff764",
   "metadata": {},
   "outputs": [],
   "source": [
    "# fixed value for ga.w available in new dataset\n",
    "\n",
    "# ga.w -> all NaN\n",
    "clin_df.drop(['ga.w'], axis=1, inplace=True)"
   ]
  },
  {
   "cell_type": "code",
   "execution_count": 27,
   "id": "1404c0c6",
   "metadata": {},
   "outputs": [
    {
     "data": {
      "text/plain": [
       "(463, 19)"
      ]
     },
     "execution_count": 27,
     "metadata": {},
     "output_type": "execute_result"
    }
   ],
   "source": [
    "clin_df.shape"
   ]
  },
  {
   "cell_type": "code",
   "execution_count": 28,
   "id": "3d9b3d1b",
   "metadata": {},
   "outputs": [],
   "source": [
    "# [int(x) for x in clin_df['age']]\n",
    "# invalid literal for int() with base 10: '36.64887063655031'\n",
    "\n",
    "# [float(x) for x in clin_df['age']]\n",
    "# could not convert string to float: '30,3'\n",
    "\n",
    "clin_df['age'] = [float(x.replace(',', '.')) for x in clin_df['age']]"
   ]
  },
  {
   "cell_type": "code",
   "execution_count": 29,
   "id": "5eaff3bd",
   "metadata": {},
   "outputs": [],
   "source": [
    "age = np.rint(clin_df.age).sort_values()"
   ]
  },
  {
   "cell_type": "code",
   "execution_count": 30,
   "id": "8cdb4024",
   "metadata": {},
   "outputs": [
    {
     "data": {
      "text/plain": [
       "229    18.0\n",
       "228    18.0\n",
       "227    18.0\n",
       "421    18.0\n",
       "172    18.0\n",
       "       ... \n",
       "8      44.0\n",
       "12     44.0\n",
       "30     44.0\n",
       "374    45.0\n",
       "369    46.0\n",
       "Name: age, Length: 463, dtype: float64"
      ]
     },
     "execution_count": 30,
     "metadata": {},
     "output_type": "execute_result"
    }
   ],
   "source": [
    "age"
   ]
  },
  {
   "cell_type": "code",
   "execution_count": 31,
   "id": "2052325f",
   "metadata": {},
   "outputs": [
    {
     "data": {
      "text/plain": [
       "array([ 0,  0,  0,  0,  0,  0,  0,  0,  0,  0,  0,  0,  0,  0,  0,  0,  0,\n",
       "        0,  5,  0,  8,  2,  1,  7, 33, 18, 11, 17, 19, 11, 29, 33, 38, 57,\n",
       "       37, 24, 29, 15, 16,  5,  5, 12, 16,  0, 13,  1,  1])"
      ]
     },
     "execution_count": 31,
     "metadata": {},
     "output_type": "execute_result"
    }
   ],
   "source": [
    "np.bincount(age)"
   ]
  },
  {
   "cell_type": "code",
   "execution_count": 32,
   "id": "53c989a9",
   "metadata": {},
   "outputs": [
    {
     "data": {
      "image/png": "[encoded data removed]",
      "text/plain": [
       "<Figure size 1000x500 with 1 Axes>"
      ]
     },
     "metadata": {},
     "output_type": "display_data"
    }
   ],
   "source": [
    "plt.figure(figsize=(10, 5))\n",
    "plt.bar(range(18, 47), np.bincount(age)[18:])\n",
    "plt.xticks(range(18, 47))\n",
    "plt.show()"
   ]
  },
  {
   "cell_type": "code",
   "execution_count": 33,
   "id": "99c5754a",
   "metadata": {},
   "outputs": [
    {
     "data": {
      "text/plain": [
       "28.0"
      ]
     },
     "execution_count": 33,
     "metadata": {},
     "output_type": "execute_result"
    }
   ],
   "source": [
    "age.quantile(0.25)"
   ]
  },
  {
   "cell_type": "code",
   "execution_count": 34,
   "id": "fc5d574c",
   "metadata": {},
   "outputs": [
    {
     "data": {
      "text/plain": [
       "32.0"
      ]
     },
     "execution_count": 34,
     "metadata": {},
     "output_type": "execute_result"
    }
   ],
   "source": [
    "age.median()"
   ]
  },
  {
   "cell_type": "code",
   "execution_count": 35,
   "id": "4891e4ca",
   "metadata": {},
   "outputs": [
    {
     "data": {
      "text/plain": [
       "35.0"
      ]
     },
     "execution_count": 35,
     "metadata": {},
     "output_type": "execute_result"
    }
   ],
   "source": [
    "age.quantile(0.75)"
   ]
  },
  {
   "cell_type": "code",
   "execution_count": null,
   "id": "e4e00b41",
   "metadata": {},
   "outputs": [],
   "source": []
  },
  {
   "cell_type": "code",
   "execution_count": 36,
   "id": "b50d39f0",
   "metadata": {},
   "outputs": [],
   "source": [
    "clin_df['weight'] = [float(x.replace(',', '.')) for x in clin_df['weight']]\n",
    "clin_df['height'] = [float(x.replace(',', '.')) for x in clin_df['height']]"
   ]
  },
  {
   "cell_type": "code",
   "execution_count": 37,
   "id": "365fc02c",
   "metadata": {},
   "outputs": [],
   "source": [
    "clin_df['BMI'] = clin_df['weight'] / (clin_df['height'] / 100)**2"
   ]
  },
  {
   "cell_type": "code",
   "execution_count": 38,
   "id": "9c7b08e4",
   "metadata": {},
   "outputs": [],
   "source": [
    "# BMI             Weight Status\n",
    "\n",
    "# Below 18.5      Underweight\n",
    "# 18.5—24.9       Healthy Weight\n",
    "# 25.0—29.9       Overweight\n",
    "# 30.0 and Above  Obesity\n",
    "\n",
    "bmi = [clin_df[clin_df['BMI'] < 18.5].shape[0], \n",
    " clin_df[clin_df['BMI'] < 25.0].shape[0] - clin_df[clin_df['BMI'] < 18.5].shape[0], \n",
    " clin_df[clin_df['BMI'] >= 25].shape[0] - clin_df[clin_df['BMI'] >= 30].shape[0],\n",
    " clin_df[clin_df['BMI'] >= 30].shape[0]]"
   ]
  },
  {
   "cell_type": "code",
   "execution_count": 39,
   "id": "60252bb4",
   "metadata": {},
   "outputs": [
    {
     "data": {
      "image/png": "[encoded data removed]",
      "text/plain": [
       "<Figure size 640x480 with 1 Axes>"
      ]
     },
     "metadata": {},
     "output_type": "display_data"
    }
   ],
   "source": [
    "plt.bar(range(4), bmi)\n",
    "plt.xticks(range(4), ['underweight', 'healthy', 'overweight', 'obesity'])\n",
    "plt.show()"
   ]
  },
  {
   "cell_type": "code",
   "execution_count": null,
   "id": "af8634a2",
   "metadata": {},
   "outputs": [],
   "source": []
  },
  {
   "cell_type": "markdown",
   "id": "6eb10ba2",
   "metadata": {},
   "source": [
    "### batch effect correction"
   ]
  },
  {
   "cell_type": "code",
   "execution_count": 40,
   "id": "d8762f8c",
   "metadata": {},
   "outputs": [
    {
     "data": {
      "text/plain": [
       "{'CHUK': 0, 'ASPRE_LR': 1, 'ASPRE_HR': 2, 'from-2015': 3}"
      ]
     },
     "execution_count": 40,
     "metadata": {},
     "output_type": "execute_result"
    }
   ],
   "source": [
    "batches = list(clin_df[\"STUDY\"].unique())\n",
    "batches_dict = {k:v for v, k in enumerate(batches)}\n",
    "batches_dict"
   ]
  },
  {
   "cell_type": "code",
   "execution_count": 41,
   "id": "c39335c6",
   "metadata": {},
   "outputs": [],
   "source": [
    "umap_model = umap.UMAP()\n",
    "umap_result = umap_model.fit_transform(met_df)"
   ]
  },
  {
   "cell_type": "code",
   "execution_count": 42,
   "id": "fe406a0f",
   "metadata": {},
   "outputs": [],
   "source": [
    "# !pip install seaborn\n",
    "import seaborn as sns"
   ]
  },
  {
   "cell_type": "code",
   "execution_count": 43,
   "id": "5888dcc1",
   "metadata": {},
   "outputs": [
    {
     "data": {
      "image/png": "[encoded data removed]",
      "text/plain": [
       "<Figure size 640x480 with 1 Axes>"
      ]
     },
     "metadata": {},
     "output_type": "display_data"
    }
   ],
   "source": [
    "sns.scatterplot(x=umap_result[:, 0], y=umap_result[:, 1], hue=clin_df['STUDY'].apply(lambda x: batches_dict[x]).values)\n",
    "plt.show()"
   ]
  },
  {
   "cell_type": "code",
   "execution_count": 44,
   "id": "4ee8847c",
   "metadata": {},
   "outputs": [],
   "source": [
    "# !pip install combat\n",
    "from combat.pycombat import pycombat"
   ]
  },
  {
   "cell_type": "code",
   "execution_count": 45,
   "id": "b1fda630",
   "metadata": {},
   "outputs": [
    {
     "name": "stdout",
     "output_type": "stream",
     "text": [
      "Found 4 batches.\n",
      "Adjusting for 0 covariate(s) or covariate level(s).\n",
      "Standardizing Data across genes.\n",
      "Fitting L/S model and finding priors.\n",
      "Finding parametric adjustments.\n",
      "Adjusting the Data\n"
     ]
    },
    {
     "name": "stderr",
     "output_type": "stream",
     "text": [
      "/home/lucija/.local/lib/python3.10/site-packages/combat/pycombat.py:159: RuntimeWarning: divide by zero encountered in divide\n",
      "  np.absolute(d_new-d_old)/d_old))  # maximum difference between new and old estimate\n"
     ]
    }
   ],
   "source": [
    "met_df_corrected = pycombat(met_df.T, clin_df['STUDY'].values).T"
   ]
  },
  {
   "cell_type": "code",
   "execution_count": 46,
   "id": "2fb77a78",
   "metadata": {},
   "outputs": [],
   "source": [
    "umap_result_corrected = umap_model.fit_transform(met_df_corrected)"
   ]
  },
  {
   "cell_type": "code",
   "execution_count": 47,
   "id": "10461003",
   "metadata": {},
   "outputs": [
    {
     "data": {
      "image/png": "[encoded data removed]",
      "text/plain": [
       "<Figure size 640x480 with 1 Axes>"
      ]
     },
     "metadata": {},
     "output_type": "display_data"
    }
   ],
   "source": [
    "sns.scatterplot(x=umap_result_corrected[:, 0], y=umap_result_corrected[:, 1], hue=clin_df['STUDY'].apply(lambda x: batches_dict[x]).values)\n",
    "plt.show()"
   ]
  },
  {
   "cell_type": "code",
   "execution_count": 49,
   "id": "74574345",
   "metadata": {},
   "outputs": [],
   "source": [
    "def find_outliers_IQR(df):\n",
    "    q1=df.quantile(0.25)\n",
    "    q3=df.quantile(0.75)\n",
    "    IQR=q3-q1\n",
    "    outliers = df[((df<(q1-1.5*IQR)) | (df>(q3+1.5*IQR)))]\n",
    "\n",
    "    return outliers"
   ]
  },
  {
   "cell_type": "code",
   "execution_count": 50,
   "id": "0b421244",
   "metadata": {
    "scrolled": false
   },
   "outputs": [
    {
     "data": {
      "text/html": [
       "<div>\n",
       "<style scoped>\n",
       "    .dataframe tbody tr th:only-of-type {\n",
       "        vertical-align: middle;\n",
       "    }\n",
       "\n",
       "    .dataframe tbody tr th {\n",
       "        vertical-align: top;\n",
       "    }\n",
       "\n",
       "    .dataframe thead th {\n",
       "        text-align: right;\n",
       "    }\n",
       "</style>\n",
       "<table border=\"1\" class=\"dataframe\">\n",
       "  <thead>\n",
       "    <tr style=\"text-align: right;\">\n",
       "      <th></th>\n",
       "      <th>0</th>\n",
       "      <th>1</th>\n",
       "    </tr>\n",
       "  </thead>\n",
       "  <tbody>\n",
       "    <tr>\n",
       "      <th>17</th>\n",
       "      <td>9.414780</td>\n",
       "      <td>NaN</td>\n",
       "    </tr>\n",
       "    <tr>\n",
       "      <th>163</th>\n",
       "      <td>9.390374</td>\n",
       "      <td>NaN</td>\n",
       "    </tr>\n",
       "    <tr>\n",
       "      <th>222</th>\n",
       "      <td>9.411551</td>\n",
       "      <td>NaN</td>\n",
       "    </tr>\n",
       "    <tr>\n",
       "      <th>225</th>\n",
       "      <td>9.455212</td>\n",
       "      <td>NaN</td>\n",
       "    </tr>\n",
       "    <tr>\n",
       "      <th>255</th>\n",
       "      <td>9.348239</td>\n",
       "      <td>NaN</td>\n",
       "    </tr>\n",
       "    <tr>\n",
       "      <th>293</th>\n",
       "      <td>9.401004</td>\n",
       "      <td>NaN</td>\n",
       "    </tr>\n",
       "    <tr>\n",
       "      <th>362</th>\n",
       "      <td>9.429009</td>\n",
       "      <td>NaN</td>\n",
       "    </tr>\n",
       "  </tbody>\n",
       "</table>\n",
       "</div>"
      ],
      "text/plain": [
       "            0   1\n",
       "17   9.414780 NaN\n",
       "163  9.390374 NaN\n",
       "222  9.411551 NaN\n",
       "225  9.455212 NaN\n",
       "255  9.348239 NaN\n",
       "293  9.401004 NaN\n",
       "362  9.429009 NaN"
      ]
     },
     "execution_count": 50,
     "metadata": {},
     "output_type": "execute_result"
    }
   ],
   "source": [
    "outliers = find_outliers_IQR(pd.DataFrame(umap_result_corrected)).dropna(how='all')\n",
    "outliers"
   ]
  },
  {
   "cell_type": "code",
   "execution_count": 51,
   "id": "0895e994",
   "metadata": {},
   "outputs": [],
   "source": [
    "outliers = outliers.index"
   ]
  },
  {
   "cell_type": "code",
   "execution_count": 52,
   "id": "c7aecb95",
   "metadata": {},
   "outputs": [
    {
     "data": {
      "text/plain": [
       "[9.41478, 9.390374, 9.411551, 9.455212, 9.348239, 9.401004, 9.429009]"
      ]
     },
     "execution_count": 52,
     "metadata": {},
     "output_type": "execute_result"
    }
   ],
   "source": [
    "[x[0] for i, x in enumerate(umap_result_corrected) if i in outliers]"
   ]
  },
  {
   "cell_type": "code",
   "execution_count": 53,
   "id": "23dd5daf",
   "metadata": {},
   "outputs": [
    {
     "data": {
      "text/plain": [
       "[8.296674, 8.322327, 8.333928, 8.380497, 8.385041, 8.325596, 8.342075]"
      ]
     },
     "execution_count": 53,
     "metadata": {},
     "output_type": "execute_result"
    }
   ],
   "source": [
    "[x[1] for i, x in enumerate(umap_result_corrected) if i in outliers]"
   ]
  },
  {
   "cell_type": "code",
   "execution_count": null,
   "id": "249d9c95",
   "metadata": {},
   "outputs": [],
   "source": []
  },
  {
   "cell_type": "code",
   "execution_count": 54,
   "id": "e34fe7a0",
   "metadata": {
    "scrolled": false
   },
   "outputs": [
    {
     "data": {
      "text/html": [
       "<div>\n",
       "<style scoped>\n",
       "    .dataframe tbody tr th:only-of-type {\n",
       "        vertical-align: middle;\n",
       "    }\n",
       "\n",
       "    .dataframe tbody tr th {\n",
       "        vertical-align: top;\n",
       "    }\n",
       "\n",
       "    .dataframe thead th {\n",
       "        text-align: right;\n",
       "    }\n",
       "</style>\n",
       "<table border=\"1\" class=\"dataframe\">\n",
       "  <thead>\n",
       "    <tr style=\"text-align: right;\">\n",
       "      <th></th>\n",
       "      <th>42370</th>\n",
       "      <th>485</th>\n",
       "      <th>27665</th>\n",
       "      <th>38395</th>\n",
       "      <th>437</th>\n",
       "      <th>528</th>\n",
       "      <th>1417</th>\n",
       "      <th>1549</th>\n",
       "      <th>531</th>\n",
       "      <th>1414</th>\n",
       "      <th>...</th>\n",
       "      <th>53157</th>\n",
       "      <th>53266</th>\n",
       "      <th>53267</th>\n",
       "      <th>54840</th>\n",
       "      <th>57714</th>\n",
       "      <th>57716</th>\n",
       "      <th>57718</th>\n",
       "      <th>57719</th>\n",
       "      <th>57720</th>\n",
       "      <th>57754</th>\n",
       "    </tr>\n",
       "  </thead>\n",
       "  <tbody>\n",
       "    <tr>\n",
       "      <th>BAYL-09015</th>\n",
       "      <td>0.116498</td>\n",
       "      <td>0.383105</td>\n",
       "      <td>-0.360268</td>\n",
       "      <td>-0.463560</td>\n",
       "      <td>6.005495</td>\n",
       "      <td>4.367434</td>\n",
       "      <td>-1.694316</td>\n",
       "      <td>-0.689994</td>\n",
       "      <td>-0.512699</td>\n",
       "      <td>-0.901225</td>\n",
       "      <td>...</td>\n",
       "      <td>-0.166551</td>\n",
       "      <td>-0.106908</td>\n",
       "      <td>-0.639404</td>\n",
       "      <td>0.050890</td>\n",
       "      <td>-0.294085</td>\n",
       "      <td>0.396847</td>\n",
       "      <td>-0.657205</td>\n",
       "      <td>-0.432585</td>\n",
       "      <td>0.152489</td>\n",
       "      <td>-0.483516</td>\n",
       "    </tr>\n",
       "    <tr>\n",
       "      <th>BAYL-09161</th>\n",
       "      <td>0.522531</td>\n",
       "      <td>0.383105</td>\n",
       "      <td>0.082822</td>\n",
       "      <td>2.941358</td>\n",
       "      <td>0.690321</td>\n",
       "      <td>2.215887</td>\n",
       "      <td>0.247275</td>\n",
       "      <td>-0.321594</td>\n",
       "      <td>0.083705</td>\n",
       "      <td>0.164495</td>\n",
       "      <td>...</td>\n",
       "      <td>-0.165977</td>\n",
       "      <td>-0.106908</td>\n",
       "      <td>0.648035</td>\n",
       "      <td>0.050890</td>\n",
       "      <td>-0.140734</td>\n",
       "      <td>-0.118689</td>\n",
       "      <td>0.644181</td>\n",
       "      <td>0.164672</td>\n",
       "      <td>-0.428638</td>\n",
       "      <td>-0.551160</td>\n",
       "    </tr>\n",
       "    <tr>\n",
       "      <th>BAYL-09222</th>\n",
       "      <td>0.365699</td>\n",
       "      <td>0.383105</td>\n",
       "      <td>-0.431740</td>\n",
       "      <td>2.222691</td>\n",
       "      <td>1.752334</td>\n",
       "      <td>2.074243</td>\n",
       "      <td>-0.848717</td>\n",
       "      <td>-0.406086</td>\n",
       "      <td>-1.023829</td>\n",
       "      <td>-0.249435</td>\n",
       "      <td>...</td>\n",
       "      <td>-0.583404</td>\n",
       "      <td>-0.660069</td>\n",
       "      <td>-0.927951</td>\n",
       "      <td>0.050890</td>\n",
       "      <td>-0.136997</td>\n",
       "      <td>-0.522755</td>\n",
       "      <td>-0.014385</td>\n",
       "      <td>0.640155</td>\n",
       "      <td>0.152489</td>\n",
       "      <td>1.236648</td>\n",
       "    </tr>\n",
       "    <tr>\n",
       "      <th>BAYL-09225</th>\n",
       "      <td>0.550184</td>\n",
       "      <td>0.383105</td>\n",
       "      <td>-0.052851</td>\n",
       "      <td>-0.254190</td>\n",
       "      <td>1.753995</td>\n",
       "      <td>2.184723</td>\n",
       "      <td>-0.312599</td>\n",
       "      <td>0.175049</td>\n",
       "      <td>-0.560846</td>\n",
       "      <td>0.164495</td>\n",
       "      <td>...</td>\n",
       "      <td>0.103102</td>\n",
       "      <td>-0.106908</td>\n",
       "      <td>-0.699502</td>\n",
       "      <td>-0.580132</td>\n",
       "      <td>-0.138700</td>\n",
       "      <td>-0.080302</td>\n",
       "      <td>0.543037</td>\n",
       "      <td>1.681298</td>\n",
       "      <td>-0.016410</td>\n",
       "      <td>-0.506225</td>\n",
       "    </tr>\n",
       "    <tr>\n",
       "      <th>BAYL-09256</th>\n",
       "      <td>3.872999</td>\n",
       "      <td>0.383105</td>\n",
       "      <td>0.654252</td>\n",
       "      <td>1.946938</td>\n",
       "      <td>1.537732</td>\n",
       "      <td>0.124361</td>\n",
       "      <td>0.339038</td>\n",
       "      <td>-0.359395</td>\n",
       "      <td>-0.445721</td>\n",
       "      <td>-0.740339</td>\n",
       "      <td>...</td>\n",
       "      <td>-0.587718</td>\n",
       "      <td>0.120313</td>\n",
       "      <td>3.020476</td>\n",
       "      <td>0.050890</td>\n",
       "      <td>0.337144</td>\n",
       "      <td>-0.624513</td>\n",
       "      <td>0.434850</td>\n",
       "      <td>-0.121479</td>\n",
       "      <td>0.146506</td>\n",
       "      <td>-0.326006</td>\n",
       "    </tr>\n",
       "    <tr>\n",
       "      <th>BAYL-09296</th>\n",
       "      <td>0.952569</td>\n",
       "      <td>0.383105</td>\n",
       "      <td>-0.103382</td>\n",
       "      <td>1.859083</td>\n",
       "      <td>1.659126</td>\n",
       "      <td>0.381931</td>\n",
       "      <td>-0.512663</td>\n",
       "      <td>-0.349227</td>\n",
       "      <td>-0.136645</td>\n",
       "      <td>-0.623916</td>\n",
       "      <td>...</td>\n",
       "      <td>0.633059</td>\n",
       "      <td>1.484018</td>\n",
       "      <td>0.007291</td>\n",
       "      <td>-0.274105</td>\n",
       "      <td>0.021777</td>\n",
       "      <td>-0.647656</td>\n",
       "      <td>0.330725</td>\n",
       "      <td>-0.274728</td>\n",
       "      <td>1.359106</td>\n",
       "      <td>-0.411931</td>\n",
       "    </tr>\n",
       "    <tr>\n",
       "      <th>BAYL-09365</th>\n",
       "      <td>0.487793</td>\n",
       "      <td>0.383105</td>\n",
       "      <td>0.413072</td>\n",
       "      <td>0.824734</td>\n",
       "      <td>2.009939</td>\n",
       "      <td>3.263380</td>\n",
       "      <td>-1.082036</td>\n",
       "      <td>0.661877</td>\n",
       "      <td>-0.379400</td>\n",
       "      <td>-0.538346</td>\n",
       "      <td>...</td>\n",
       "      <td>0.405719</td>\n",
       "      <td>-0.550648</td>\n",
       "      <td>0.570457</td>\n",
       "      <td>-1.150586</td>\n",
       "      <td>1.383186</td>\n",
       "      <td>-0.535798</td>\n",
       "      <td>0.932104</td>\n",
       "      <td>0.298594</td>\n",
       "      <td>-0.899023</td>\n",
       "      <td>0.661324</td>\n",
       "    </tr>\n",
       "  </tbody>\n",
       "</table>\n",
       "<p>7 rows × 948 columns</p>\n",
       "</div>"
      ],
      "text/plain": [
       "               42370     485       27665     38395     437       528    \\\n",
       "BAYL-09015  0.116498  0.383105 -0.360268 -0.463560  6.005495  4.367434   \n",
       "BAYL-09161  0.522531  0.383105  0.082822  2.941358  0.690321  2.215887   \n",
       "BAYL-09222  0.365699  0.383105 -0.431740  2.222691  1.752334  2.074243   \n",
       "BAYL-09225  0.550184  0.383105 -0.052851 -0.254190  1.753995  2.184723   \n",
       "BAYL-09256  3.872999  0.383105  0.654252  1.946938  1.537732  0.124361   \n",
       "BAYL-09296  0.952569  0.383105 -0.103382  1.859083  1.659126  0.381931   \n",
       "BAYL-09365  0.487793  0.383105  0.413072  0.824734  2.009939  3.263380   \n",
       "\n",
       "               1417      1549      531       1414   ...     53157     53266  \\\n",
       "BAYL-09015 -1.694316 -0.689994 -0.512699 -0.901225  ... -0.166551 -0.106908   \n",
       "BAYL-09161  0.247275 -0.321594  0.083705  0.164495  ... -0.165977 -0.106908   \n",
       "BAYL-09222 -0.848717 -0.406086 -1.023829 -0.249435  ... -0.583404 -0.660069   \n",
       "BAYL-09225 -0.312599  0.175049 -0.560846  0.164495  ...  0.103102 -0.106908   \n",
       "BAYL-09256  0.339038 -0.359395 -0.445721 -0.740339  ... -0.587718  0.120313   \n",
       "BAYL-09296 -0.512663 -0.349227 -0.136645 -0.623916  ...  0.633059  1.484018   \n",
       "BAYL-09365 -1.082036  0.661877 -0.379400 -0.538346  ...  0.405719 -0.550648   \n",
       "\n",
       "               53267     54840     57714     57716     57718     57719  \\\n",
       "BAYL-09015 -0.639404  0.050890 -0.294085  0.396847 -0.657205 -0.432585   \n",
       "BAYL-09161  0.648035  0.050890 -0.140734 -0.118689  0.644181  0.164672   \n",
       "BAYL-09222 -0.927951  0.050890 -0.136997 -0.522755 -0.014385  0.640155   \n",
       "BAYL-09225 -0.699502 -0.580132 -0.138700 -0.080302  0.543037  1.681298   \n",
       "BAYL-09256  3.020476  0.050890  0.337144 -0.624513  0.434850 -0.121479   \n",
       "BAYL-09296  0.007291 -0.274105  0.021777 -0.647656  0.330725 -0.274728   \n",
       "BAYL-09365  0.570457 -1.150586  1.383186 -0.535798  0.932104  0.298594   \n",
       "\n",
       "               57720     57754  \n",
       "BAYL-09015  0.152489 -0.483516  \n",
       "BAYL-09161 -0.428638 -0.551160  \n",
       "BAYL-09222  0.152489  1.236648  \n",
       "BAYL-09225 -0.016410 -0.506225  \n",
       "BAYL-09256  0.146506 -0.326006  \n",
       "BAYL-09296  1.359106 -0.411931  \n",
       "BAYL-09365 -0.899023  0.661324  \n",
       "\n",
       "[7 rows x 948 columns]"
      ]
     },
     "execution_count": 54,
     "metadata": {},
     "output_type": "execute_result"
    }
   ],
   "source": [
    "met_df_corrected.iloc[outliers]"
   ]
  },
  {
   "cell_type": "code",
   "execution_count": 55,
   "id": "12936e61",
   "metadata": {},
   "outputs": [
    {
     "data": {
      "text/html": [
       "<div>\n",
       "<style scoped>\n",
       "    .dataframe tbody tr th:only-of-type {\n",
       "        vertical-align: middle;\n",
       "    }\n",
       "\n",
       "    .dataframe tbody tr th {\n",
       "        vertical-align: top;\n",
       "    }\n",
       "\n",
       "    .dataframe thead th {\n",
       "        text-align: right;\n",
       "    }\n",
       "</style>\n",
       "<table border=\"1\" class=\"dataframe\">\n",
       "  <thead>\n",
       "    <tr style=\"text-align: right;\">\n",
       "      <th></th>\n",
       "      <th>sIDs</th>\n",
       "      <th>sle</th>\n",
       "      <th>BErm</th>\n",
       "      <th>weight</th>\n",
       "      <th>conception</th>\n",
       "      <th>smoking</th>\n",
       "      <th>race</th>\n",
       "      <th>crl</th>\n",
       "      <th>pe</th>\n",
       "      <th>ASA</th>\n",
       "      <th>ptIDs</th>\n",
       "      <th>age</th>\n",
       "      <th>prev.pe</th>\n",
       "      <th>consss_batch</th>\n",
       "      <th>ASA_tri_chr</th>\n",
       "      <th>STUDY</th>\n",
       "      <th>Compliance</th>\n",
       "      <th>trimester</th>\n",
       "      <th>height</th>\n",
       "      <th>BMI</th>\n",
       "    </tr>\n",
       "  </thead>\n",
       "  <tbody>\n",
       "    <tr>\n",
       "      <th>17</th>\n",
       "      <td>BAYL-09015</td>\n",
       "      <td>No</td>\n",
       "      <td>batch_2023</td>\n",
       "      <td>60.8</td>\n",
       "      <td>Spontaneous</td>\n",
       "      <td>No</td>\n",
       "      <td>Black</td>\n",
       "      <td>71.6</td>\n",
       "      <td>0.0</td>\n",
       "      <td>False</td>\n",
       "      <td>S2_6</td>\n",
       "      <td>33.1</td>\n",
       "      <td>Multip-no PE</td>\n",
       "      <td>batch-2023</td>\n",
       "      <td>PLACEBO - 2nd Trimester</td>\n",
       "      <td>ASPRE_LR</td>\n",
       "      <td>0.0</td>\n",
       "      <td>2</td>\n",
       "      <td>160.0</td>\n",
       "      <td>23.750000</td>\n",
       "    </tr>\n",
       "    <tr>\n",
       "      <th>163</th>\n",
       "      <td>BAYL-09161</td>\n",
       "      <td>No</td>\n",
       "      <td>batch_2023</td>\n",
       "      <td>70.8</td>\n",
       "      <td>Spontaneous</td>\n",
       "      <td>No</td>\n",
       "      <td>Black</td>\n",
       "      <td>63.8</td>\n",
       "      <td>0.0</td>\n",
       "      <td>False</td>\n",
       "      <td>S2_27</td>\n",
       "      <td>35.8</td>\n",
       "      <td>Multip-no PE</td>\n",
       "      <td>batch-2023</td>\n",
       "      <td>PLACEBO - 2nd Trimester</td>\n",
       "      <td>ASPRE_LR</td>\n",
       "      <td>0.0</td>\n",
       "      <td>2</td>\n",
       "      <td>162.0</td>\n",
       "      <td>26.977595</td>\n",
       "    </tr>\n",
       "    <tr>\n",
       "      <th>222</th>\n",
       "      <td>BAYL-09222</td>\n",
       "      <td>No</td>\n",
       "      <td>batch_2023</td>\n",
       "      <td>65.0</td>\n",
       "      <td>Spontaneous</td>\n",
       "      <td>No</td>\n",
       "      <td>Black</td>\n",
       "      <td>73.0</td>\n",
       "      <td>0.0</td>\n",
       "      <td>False</td>\n",
       "      <td>S2_1</td>\n",
       "      <td>30.0</td>\n",
       "      <td>Multip-no PE</td>\n",
       "      <td>batch-2023</td>\n",
       "      <td>PLACEBO - 1st Trimester</td>\n",
       "      <td>ASPRE_LR</td>\n",
       "      <td>0.0</td>\n",
       "      <td>1</td>\n",
       "      <td>165.0</td>\n",
       "      <td>23.875115</td>\n",
       "    </tr>\n",
       "    <tr>\n",
       "      <th>225</th>\n",
       "      <td>BAYL-09225</td>\n",
       "      <td>No</td>\n",
       "      <td>batch_2023</td>\n",
       "      <td>91.0</td>\n",
       "      <td>Spontaneous</td>\n",
       "      <td>No</td>\n",
       "      <td>Black</td>\n",
       "      <td>76.9</td>\n",
       "      <td>0.0</td>\n",
       "      <td>False</td>\n",
       "      <td>S2_2</td>\n",
       "      <td>31.4</td>\n",
       "      <td>Nullip</td>\n",
       "      <td>batch-2023</td>\n",
       "      <td>PLACEBO - 2nd Trimester</td>\n",
       "      <td>ASPRE_LR</td>\n",
       "      <td>0.0</td>\n",
       "      <td>2</td>\n",
       "      <td>176.0</td>\n",
       "      <td>29.377583</td>\n",
       "    </tr>\n",
       "    <tr>\n",
       "      <th>255</th>\n",
       "      <td>BAYL-09256</td>\n",
       "      <td>No</td>\n",
       "      <td>batch_2023</td>\n",
       "      <td>64.0</td>\n",
       "      <td>Spontaneous</td>\n",
       "      <td>No</td>\n",
       "      <td>Black</td>\n",
       "      <td>74.3</td>\n",
       "      <td>0.0</td>\n",
       "      <td>False</td>\n",
       "      <td>S2_3</td>\n",
       "      <td>31.0</td>\n",
       "      <td>Nullip</td>\n",
       "      <td>batch-2023</td>\n",
       "      <td>PLACEBO - 2nd Trimester</td>\n",
       "      <td>ASPRE_LR</td>\n",
       "      <td>0.0</td>\n",
       "      <td>2</td>\n",
       "      <td>163.4</td>\n",
       "      <td>23.970432</td>\n",
       "    </tr>\n",
       "    <tr>\n",
       "      <th>293</th>\n",
       "      <td>BAYL-09296</td>\n",
       "      <td>No</td>\n",
       "      <td>batch_2023</td>\n",
       "      <td>69.0</td>\n",
       "      <td>Spontaneous</td>\n",
       "      <td>No</td>\n",
       "      <td>White</td>\n",
       "      <td>48.3</td>\n",
       "      <td>0.0</td>\n",
       "      <td>False</td>\n",
       "      <td>S2_30</td>\n",
       "      <td>31.2</td>\n",
       "      <td>Nullip</td>\n",
       "      <td>batch-2023</td>\n",
       "      <td>PLACEBO - 2nd Trimester</td>\n",
       "      <td>ASPRE_LR</td>\n",
       "      <td>0.0</td>\n",
       "      <td>2</td>\n",
       "      <td>173.0</td>\n",
       "      <td>23.054562</td>\n",
       "    </tr>\n",
       "    <tr>\n",
       "      <th>362</th>\n",
       "      <td>BAYL-09365</td>\n",
       "      <td>No</td>\n",
       "      <td>batch_2023</td>\n",
       "      <td>59.0</td>\n",
       "      <td>Spontaneous</td>\n",
       "      <td>No</td>\n",
       "      <td>White</td>\n",
       "      <td>64.5</td>\n",
       "      <td>0.0</td>\n",
       "      <td>False</td>\n",
       "      <td>S2_32</td>\n",
       "      <td>32.6</td>\n",
       "      <td>Nullip</td>\n",
       "      <td>batch-2023</td>\n",
       "      <td>PLACEBO - 2nd Trimester</td>\n",
       "      <td>ASPRE_LR</td>\n",
       "      <td>0.0</td>\n",
       "      <td>2</td>\n",
       "      <td>165.0</td>\n",
       "      <td>21.671258</td>\n",
       "    </tr>\n",
       "  </tbody>\n",
       "</table>\n",
       "</div>"
      ],
      "text/plain": [
       "           sIDs sle        BErm  weight   conception smoking   race   crl  \\\n",
       "17   BAYL-09015  No  batch_2023    60.8  Spontaneous      No  Black  71.6   \n",
       "163  BAYL-09161  No  batch_2023    70.8  Spontaneous      No  Black  63.8   \n",
       "222  BAYL-09222  No  batch_2023    65.0  Spontaneous      No  Black  73.0   \n",
       "225  BAYL-09225  No  batch_2023    91.0  Spontaneous      No  Black  76.9   \n",
       "255  BAYL-09256  No  batch_2023    64.0  Spontaneous      No  Black  74.3   \n",
       "293  BAYL-09296  No  batch_2023    69.0  Spontaneous      No  White  48.3   \n",
       "362  BAYL-09365  No  batch_2023    59.0  Spontaneous      No  White  64.5   \n",
       "\n",
       "      pe    ASA  ptIDs   age       prev.pe consss_batch  \\\n",
       "17   0.0  False   S2_6  33.1  Multip-no PE   batch-2023   \n",
       "163  0.0  False  S2_27  35.8  Multip-no PE   batch-2023   \n",
       "222  0.0  False   S2_1  30.0  Multip-no PE   batch-2023   \n",
       "225  0.0  False   S2_2  31.4        Nullip   batch-2023   \n",
       "255  0.0  False   S2_3  31.0        Nullip   batch-2023   \n",
       "293  0.0  False  S2_30  31.2        Nullip   batch-2023   \n",
       "362  0.0  False  S2_32  32.6        Nullip   batch-2023   \n",
       "\n",
       "                 ASA_tri_chr     STUDY  Compliance  trimester  height  \\\n",
       "17   PLACEBO - 2nd Trimester  ASPRE_LR         0.0          2   160.0   \n",
       "163  PLACEBO - 2nd Trimester  ASPRE_LR         0.0          2   162.0   \n",
       "222  PLACEBO - 1st Trimester  ASPRE_LR         0.0          1   165.0   \n",
       "225  PLACEBO - 2nd Trimester  ASPRE_LR         0.0          2   176.0   \n",
       "255  PLACEBO - 2nd Trimester  ASPRE_LR         0.0          2   163.4   \n",
       "293  PLACEBO - 2nd Trimester  ASPRE_LR         0.0          2   173.0   \n",
       "362  PLACEBO - 2nd Trimester  ASPRE_LR         0.0          2   165.0   \n",
       "\n",
       "           BMI  \n",
       "17   23.750000  \n",
       "163  26.977595  \n",
       "222  23.875115  \n",
       "225  29.377583  \n",
       "255  23.970432  \n",
       "293  23.054562  \n",
       "362  21.671258  "
      ]
     },
     "execution_count": 55,
     "metadata": {},
     "output_type": "execute_result"
    }
   ],
   "source": [
    "clin_df.iloc[outliers]"
   ]
  },
  {
   "cell_type": "code",
   "execution_count": null,
   "id": "12f6f6e5",
   "metadata": {},
   "outputs": [],
   "source": [
    "# outliers analysis"
   ]
  },
  {
   "cell_type": "code",
   "execution_count": 58,
   "id": "cca0e104",
   "metadata": {},
   "outputs": [],
   "source": [
    "stats = met_df_corrected.drop(met_df_corrected.iloc[outliers].index, axis=0).describe()"
   ]
  },
  {
   "cell_type": "code",
   "execution_count": 59,
   "id": "27c3fc0d",
   "metadata": {},
   "outputs": [
    {
     "data": {
      "text/plain": [
       "BAYL-09015    6.156105\n",
       "BAYL-09161    5.858073\n",
       "BAYL-09222    4.740809\n",
       "BAYL-09225    7.059204\n",
       "BAYL-09256    7.732188\n",
       "BAYL-09296    5.450692\n",
       "BAYL-09365    8.056359\n",
       "dtype: float64"
      ]
     },
     "execution_count": 59,
     "metadata": {},
     "output_type": "execute_result"
    }
   ],
   "source": [
    "(met_df_corrected.iloc[outliers] - stats.loc['mean']).T.max()"
   ]
  },
  {
   "cell_type": "code",
   "execution_count": 60,
   "id": "7eea6fbc",
   "metadata": {},
   "outputs": [
    {
     "data": {
      "text/plain": [
       "BAYL-09015    46142\n",
       "BAYL-09161    22185\n",
       "BAYL-09222    32489\n",
       "BAYL-09225    40008\n",
       "BAYL-09256    15681\n",
       "BAYL-09296     1494\n",
       "BAYL-09365    19324\n",
       "dtype: int64"
      ]
     },
     "execution_count": 60,
     "metadata": {},
     "output_type": "execute_result"
    }
   ],
   "source": [
    "(met_df_corrected.iloc[outliers] - stats.loc['mean']).T.idxmax()"
   ]
  },
  {
   "cell_type": "code",
   "execution_count": 61,
   "id": "474d6eac",
   "metadata": {},
   "outputs": [
    {
     "data": {
      "text/plain": [
       "4.177228307758046"
      ]
     },
     "execution_count": 61,
     "metadata": {},
     "output_type": "execute_result"
    }
   ],
   "source": [
    "stats.loc['max'][19324]"
   ]
  },
  {
   "cell_type": "code",
   "execution_count": 62,
   "id": "9f8bcc0a",
   "metadata": {},
   "outputs": [
    {
     "data": {
      "text/plain": [
       "0.1927136992474594"
      ]
     },
     "execution_count": 62,
     "metadata": {},
     "output_type": "execute_result"
    }
   ],
   "source": [
    "stats.loc['mean'][19324]"
   ]
  },
  {
   "cell_type": "code",
   "execution_count": 63,
   "id": "20444cb6",
   "metadata": {},
   "outputs": [],
   "source": [
    "# drop outliers\n",
    "met_df_corrected.drop(met_df_corrected.iloc[outliers].index, axis=0, inplace=True)"
   ]
  },
  {
   "cell_type": "code",
   "execution_count": null,
   "id": "1985ad9b",
   "metadata": {},
   "outputs": [],
   "source": []
  },
  {
   "cell_type": "markdown",
   "id": "0d85603e",
   "metadata": {},
   "source": [
    "#### selecting patients who do not take aspirin"
   ]
  },
  {
   "cell_type": "code",
   "execution_count": 64,
   "id": "154934b8",
   "metadata": {
    "scrolled": true
   },
   "outputs": [
    {
     "data": {
      "text/html": [
       "<div>\n",
       "<style scoped>\n",
       "    .dataframe tbody tr th:only-of-type {\n",
       "        vertical-align: middle;\n",
       "    }\n",
       "\n",
       "    .dataframe tbody tr th {\n",
       "        vertical-align: top;\n",
       "    }\n",
       "\n",
       "    .dataframe thead th {\n",
       "        text-align: right;\n",
       "    }\n",
       "</style>\n",
       "<table border=\"1\" class=\"dataframe\">\n",
       "  <thead>\n",
       "    <tr style=\"text-align: right;\">\n",
       "      <th></th>\n",
       "      <th>42370</th>\n",
       "      <th>485</th>\n",
       "      <th>27665</th>\n",
       "      <th>38395</th>\n",
       "      <th>437</th>\n",
       "      <th>528</th>\n",
       "      <th>1417</th>\n",
       "      <th>1549</th>\n",
       "      <th>531</th>\n",
       "      <th>1414</th>\n",
       "      <th>...</th>\n",
       "      <th>53157</th>\n",
       "      <th>53266</th>\n",
       "      <th>53267</th>\n",
       "      <th>54840</th>\n",
       "      <th>57714</th>\n",
       "      <th>57716</th>\n",
       "      <th>57718</th>\n",
       "      <th>57719</th>\n",
       "      <th>57720</th>\n",
       "      <th>57754</th>\n",
       "    </tr>\n",
       "  </thead>\n",
       "  <tbody>\n",
       "    <tr>\n",
       "      <th>BAYL-08997</th>\n",
       "      <td>-1.146044</td>\n",
       "      <td>-0.963613</td>\n",
       "      <td>-0.919117</td>\n",
       "      <td>-0.762660</td>\n",
       "      <td>0.465701</td>\n",
       "      <td>-0.320001</td>\n",
       "      <td>0.233840</td>\n",
       "      <td>-0.532667</td>\n",
       "      <td>-1.168056</td>\n",
       "      <td>-0.883133</td>\n",
       "      <td>...</td>\n",
       "      <td>-0.964491</td>\n",
       "      <td>-0.431870</td>\n",
       "      <td>-0.018127</td>\n",
       "      <td>-0.782722</td>\n",
       "      <td>0.726292</td>\n",
       "      <td>-0.162880</td>\n",
       "      <td>0.073752</td>\n",
       "      <td>0.280983</td>\n",
       "      <td>2.018124</td>\n",
       "      <td>-0.304346</td>\n",
       "    </tr>\n",
       "    <tr>\n",
       "      <th>BAYL-08998</th>\n",
       "      <td>0.477460</td>\n",
       "      <td>-1.334107</td>\n",
       "      <td>0.560994</td>\n",
       "      <td>-0.731371</td>\n",
       "      <td>-0.380466</td>\n",
       "      <td>-0.160025</td>\n",
       "      <td>0.244165</td>\n",
       "      <td>-0.555093</td>\n",
       "      <td>-1.230067</td>\n",
       "      <td>0.303362</td>\n",
       "      <td>...</td>\n",
       "      <td>-0.989288</td>\n",
       "      <td>-0.052062</td>\n",
       "      <td>-0.493536</td>\n",
       "      <td>1.048180</td>\n",
       "      <td>-0.247548</td>\n",
       "      <td>0.127745</td>\n",
       "      <td>0.257907</td>\n",
       "      <td>0.127953</td>\n",
       "      <td>1.356468</td>\n",
       "      <td>-0.354117</td>\n",
       "    </tr>\n",
       "    <tr>\n",
       "      <th>BAYL-08999</th>\n",
       "      <td>1.207946</td>\n",
       "      <td>-0.861143</td>\n",
       "      <td>-0.789775</td>\n",
       "      <td>3.098316</td>\n",
       "      <td>0.171894</td>\n",
       "      <td>0.737533</td>\n",
       "      <td>2.078369</td>\n",
       "      <td>1.518216</td>\n",
       "      <td>1.427540</td>\n",
       "      <td>0.044795</td>\n",
       "      <td>...</td>\n",
       "      <td>0.712233</td>\n",
       "      <td>0.205910</td>\n",
       "      <td>-0.130771</td>\n",
       "      <td>-0.084690</td>\n",
       "      <td>-0.285019</td>\n",
       "      <td>-0.077975</td>\n",
       "      <td>0.879417</td>\n",
       "      <td>0.271672</td>\n",
       "      <td>1.196092</td>\n",
       "      <td>-0.455349</td>\n",
       "    </tr>\n",
       "    <tr>\n",
       "      <th>BAYL-09000</th>\n",
       "      <td>0.328107</td>\n",
       "      <td>-0.951196</td>\n",
       "      <td>0.689346</td>\n",
       "      <td>0.502918</td>\n",
       "      <td>-0.487740</td>\n",
       "      <td>-0.338284</td>\n",
       "      <td>-0.478244</td>\n",
       "      <td>-0.614922</td>\n",
       "      <td>-0.774419</td>\n",
       "      <td>-0.343233</td>\n",
       "      <td>...</td>\n",
       "      <td>0.135561</td>\n",
       "      <td>-0.783174</td>\n",
       "      <td>0.926604</td>\n",
       "      <td>0.225052</td>\n",
       "      <td>0.827820</td>\n",
       "      <td>-0.083578</td>\n",
       "      <td>-0.969927</td>\n",
       "      <td>-0.318468</td>\n",
       "      <td>-0.295987</td>\n",
       "      <td>-0.206059</td>\n",
       "    </tr>\n",
       "    <tr>\n",
       "      <th>BAYL-09001</th>\n",
       "      <td>-0.288635</td>\n",
       "      <td>-0.851158</td>\n",
       "      <td>-0.706419</td>\n",
       "      <td>-0.622590</td>\n",
       "      <td>0.172388</td>\n",
       "      <td>0.587794</td>\n",
       "      <td>-0.809278</td>\n",
       "      <td>-0.773815</td>\n",
       "      <td>-0.856158</td>\n",
       "      <td>-0.622660</td>\n",
       "      <td>...</td>\n",
       "      <td>-0.126139</td>\n",
       "      <td>-0.052062</td>\n",
       "      <td>-0.477920</td>\n",
       "      <td>0.046759</td>\n",
       "      <td>0.038737</td>\n",
       "      <td>-0.892661</td>\n",
       "      <td>0.458911</td>\n",
       "      <td>-0.440441</td>\n",
       "      <td>0.393969</td>\n",
       "      <td>-0.134903</td>\n",
       "    </tr>\n",
       "  </tbody>\n",
       "</table>\n",
       "<p>5 rows × 948 columns</p>\n",
       "</div>"
      ],
      "text/plain": [
       "               42370     485       27665     38395     437       528    \\\n",
       "BAYL-08997 -1.146044 -0.963613 -0.919117 -0.762660  0.465701 -0.320001   \n",
       "BAYL-08998  0.477460 -1.334107  0.560994 -0.731371 -0.380466 -0.160025   \n",
       "BAYL-08999  1.207946 -0.861143 -0.789775  3.098316  0.171894  0.737533   \n",
       "BAYL-09000  0.328107 -0.951196  0.689346  0.502918 -0.487740 -0.338284   \n",
       "BAYL-09001 -0.288635 -0.851158 -0.706419 -0.622590  0.172388  0.587794   \n",
       "\n",
       "               1417      1549      531       1414   ...     53157     53266  \\\n",
       "BAYL-08997  0.233840 -0.532667 -1.168056 -0.883133  ... -0.964491 -0.431870   \n",
       "BAYL-08998  0.244165 -0.555093 -1.230067  0.303362  ... -0.989288 -0.052062   \n",
       "BAYL-08999  2.078369  1.518216  1.427540  0.044795  ...  0.712233  0.205910   \n",
       "BAYL-09000 -0.478244 -0.614922 -0.774419 -0.343233  ...  0.135561 -0.783174   \n",
       "BAYL-09001 -0.809278 -0.773815 -0.856158 -0.622660  ... -0.126139 -0.052062   \n",
       "\n",
       "               53267     54840     57714     57716     57718     57719  \\\n",
       "BAYL-08997 -0.018127 -0.782722  0.726292 -0.162880  0.073752  0.280983   \n",
       "BAYL-08998 -0.493536  1.048180 -0.247548  0.127745  0.257907  0.127953   \n",
       "BAYL-08999 -0.130771 -0.084690 -0.285019 -0.077975  0.879417  0.271672   \n",
       "BAYL-09000  0.926604  0.225052  0.827820 -0.083578 -0.969927 -0.318468   \n",
       "BAYL-09001 -0.477920  0.046759  0.038737 -0.892661  0.458911 -0.440441   \n",
       "\n",
       "               57720     57754  \n",
       "BAYL-08997  2.018124 -0.304346  \n",
       "BAYL-08998  1.356468 -0.354117  \n",
       "BAYL-08999  1.196092 -0.455349  \n",
       "BAYL-09000 -0.295987 -0.206059  \n",
       "BAYL-09001  0.393969 -0.134903  \n",
       "\n",
       "[5 rows x 948 columns]"
      ]
     },
     "execution_count": 64,
     "metadata": {},
     "output_type": "execute_result"
    }
   ],
   "source": [
    "met_df_corrected.head()"
   ]
  },
  {
   "cell_type": "code",
   "execution_count": 65,
   "id": "5c74652e",
   "metadata": {},
   "outputs": [
    {
     "data": {
      "text/plain": [
       "Index(['BAYL-08997', 'BAYL-08998', 'BAYL-08999', 'BAYL-09000', 'BAYL-09001',\n",
       "       'BAYL-09002', 'BAYL-09003', 'BAYL-09004', 'BAYL-09005', 'BAYL-09006',\n",
       "       ...\n",
       "       's_21944', 's_22832', 's_22842', 's_22997', 's_23003', 's_23077',\n",
       "       's_23123', 's_22787', 's_23294', 's_73385'],\n",
       "      dtype='object', length=456)"
      ]
     },
     "execution_count": 65,
     "metadata": {},
     "output_type": "execute_result"
    }
   ],
   "source": [
    "met_df_corrected.index"
   ]
  },
  {
   "cell_type": "code",
   "execution_count": 66,
   "id": "3621680b",
   "metadata": {},
   "outputs": [
    {
     "data": {
      "text/html": [
       "<div>\n",
       "<style scoped>\n",
       "    .dataframe tbody tr th:only-of-type {\n",
       "        vertical-align: middle;\n",
       "    }\n",
       "\n",
       "    .dataframe tbody tr th {\n",
       "        vertical-align: top;\n",
       "    }\n",
       "\n",
       "    .dataframe thead th {\n",
       "        text-align: right;\n",
       "    }\n",
       "</style>\n",
       "<table border=\"1\" class=\"dataframe\">\n",
       "  <thead>\n",
       "    <tr style=\"text-align: right;\">\n",
       "      <th></th>\n",
       "      <th>pe</th>\n",
       "      <th>ASA</th>\n",
       "    </tr>\n",
       "  </thead>\n",
       "  <tbody>\n",
       "    <tr>\n",
       "      <th>BAYL-08997</th>\n",
       "      <td>1.0</td>\n",
       "      <td>True</td>\n",
       "    </tr>\n",
       "    <tr>\n",
       "      <th>BAYL-08998</th>\n",
       "      <td>1.0</td>\n",
       "      <td>True</td>\n",
       "    </tr>\n",
       "    <tr>\n",
       "      <th>BAYL-08999</th>\n",
       "      <td>0.0</td>\n",
       "      <td>True</td>\n",
       "    </tr>\n",
       "    <tr>\n",
       "      <th>BAYL-09000</th>\n",
       "      <td>0.0</td>\n",
       "      <td>True</td>\n",
       "    </tr>\n",
       "    <tr>\n",
       "      <th>BAYL-09001</th>\n",
       "      <td>0.0</td>\n",
       "      <td>True</td>\n",
       "    </tr>\n",
       "    <tr>\n",
       "      <th>...</th>\n",
       "      <td>...</td>\n",
       "      <td>...</td>\n",
       "    </tr>\n",
       "    <tr>\n",
       "      <th>s_23077</th>\n",
       "      <td>0.0</td>\n",
       "      <td>False</td>\n",
       "    </tr>\n",
       "    <tr>\n",
       "      <th>s_23123</th>\n",
       "      <td>0.0</td>\n",
       "      <td>False</td>\n",
       "    </tr>\n",
       "    <tr>\n",
       "      <th>s_22787</th>\n",
       "      <td>0.0</td>\n",
       "      <td>False</td>\n",
       "    </tr>\n",
       "    <tr>\n",
       "      <th>s_23294</th>\n",
       "      <td>0.0</td>\n",
       "      <td>False</td>\n",
       "    </tr>\n",
       "    <tr>\n",
       "      <th>s_73385</th>\n",
       "      <td>1.0</td>\n",
       "      <td>False</td>\n",
       "    </tr>\n",
       "  </tbody>\n",
       "</table>\n",
       "<p>463 rows × 2 columns</p>\n",
       "</div>"
      ],
      "text/plain": [
       "             pe    ASA\n",
       "BAYL-08997  1.0   True\n",
       "BAYL-08998  1.0   True\n",
       "BAYL-08999  0.0   True\n",
       "BAYL-09000  0.0   True\n",
       "BAYL-09001  0.0   True\n",
       "...         ...    ...\n",
       "s_23077     0.0  False\n",
       "s_23123     0.0  False\n",
       "s_22787     0.0  False\n",
       "s_23294     0.0  False\n",
       "s_73385     1.0  False\n",
       "\n",
       "[463 rows x 2 columns]"
      ]
     },
     "execution_count": 66,
     "metadata": {},
     "output_type": "execute_result"
    }
   ],
   "source": [
    "# pe: preeclampsia (1/0)\n",
    "# ASA: aspirin (True/False)\n",
    "target = clin_df[['pe', 'ASA']]\n",
    "target.index = met_df.index\n",
    "target"
   ]
  },
  {
   "cell_type": "code",
   "execution_count": 67,
   "id": "32641066",
   "metadata": {},
   "outputs": [],
   "source": [
    "df = met_df_corrected.join(target)"
   ]
  },
  {
   "cell_type": "code",
   "execution_count": 68,
   "id": "e50fa0ab",
   "metadata": {},
   "outputs": [
    {
     "data": {
      "text/html": [
       "<div>\n",
       "<style scoped>\n",
       "    .dataframe tbody tr th:only-of-type {\n",
       "        vertical-align: middle;\n",
       "    }\n",
       "\n",
       "    .dataframe tbody tr th {\n",
       "        vertical-align: top;\n",
       "    }\n",
       "\n",
       "    .dataframe thead th {\n",
       "        text-align: right;\n",
       "    }\n",
       "</style>\n",
       "<table border=\"1\" class=\"dataframe\">\n",
       "  <thead>\n",
       "    <tr style=\"text-align: right;\">\n",
       "      <th></th>\n",
       "      <th>42370</th>\n",
       "      <th>485</th>\n",
       "      <th>27665</th>\n",
       "      <th>38395</th>\n",
       "      <th>437</th>\n",
       "      <th>528</th>\n",
       "      <th>1417</th>\n",
       "      <th>1549</th>\n",
       "      <th>531</th>\n",
       "      <th>1414</th>\n",
       "      <th>...</th>\n",
       "      <th>53267</th>\n",
       "      <th>54840</th>\n",
       "      <th>57714</th>\n",
       "      <th>57716</th>\n",
       "      <th>57718</th>\n",
       "      <th>57719</th>\n",
       "      <th>57720</th>\n",
       "      <th>57754</th>\n",
       "      <th>pe</th>\n",
       "      <th>ASA</th>\n",
       "    </tr>\n",
       "  </thead>\n",
       "  <tbody>\n",
       "    <tr>\n",
       "      <th>BAYL-08997</th>\n",
       "      <td>-1.146044</td>\n",
       "      <td>-0.963613</td>\n",
       "      <td>-0.919117</td>\n",
       "      <td>-0.762660</td>\n",
       "      <td>0.465701</td>\n",
       "      <td>-0.320001</td>\n",
       "      <td>0.233840</td>\n",
       "      <td>-0.532667</td>\n",
       "      <td>-1.168056</td>\n",
       "      <td>-0.883133</td>\n",
       "      <td>...</td>\n",
       "      <td>-0.018127</td>\n",
       "      <td>-0.782722</td>\n",
       "      <td>0.726292</td>\n",
       "      <td>-0.162880</td>\n",
       "      <td>0.073752</td>\n",
       "      <td>0.280983</td>\n",
       "      <td>2.018124</td>\n",
       "      <td>-0.304346</td>\n",
       "      <td>1.0</td>\n",
       "      <td>True</td>\n",
       "    </tr>\n",
       "    <tr>\n",
       "      <th>BAYL-08998</th>\n",
       "      <td>0.477460</td>\n",
       "      <td>-1.334107</td>\n",
       "      <td>0.560994</td>\n",
       "      <td>-0.731371</td>\n",
       "      <td>-0.380466</td>\n",
       "      <td>-0.160025</td>\n",
       "      <td>0.244165</td>\n",
       "      <td>-0.555093</td>\n",
       "      <td>-1.230067</td>\n",
       "      <td>0.303362</td>\n",
       "      <td>...</td>\n",
       "      <td>-0.493536</td>\n",
       "      <td>1.048180</td>\n",
       "      <td>-0.247548</td>\n",
       "      <td>0.127745</td>\n",
       "      <td>0.257907</td>\n",
       "      <td>0.127953</td>\n",
       "      <td>1.356468</td>\n",
       "      <td>-0.354117</td>\n",
       "      <td>1.0</td>\n",
       "      <td>True</td>\n",
       "    </tr>\n",
       "    <tr>\n",
       "      <th>BAYL-08999</th>\n",
       "      <td>1.207946</td>\n",
       "      <td>-0.861143</td>\n",
       "      <td>-0.789775</td>\n",
       "      <td>3.098316</td>\n",
       "      <td>0.171894</td>\n",
       "      <td>0.737533</td>\n",
       "      <td>2.078369</td>\n",
       "      <td>1.518216</td>\n",
       "      <td>1.427540</td>\n",
       "      <td>0.044795</td>\n",
       "      <td>...</td>\n",
       "      <td>-0.130771</td>\n",
       "      <td>-0.084690</td>\n",
       "      <td>-0.285019</td>\n",
       "      <td>-0.077975</td>\n",
       "      <td>0.879417</td>\n",
       "      <td>0.271672</td>\n",
       "      <td>1.196092</td>\n",
       "      <td>-0.455349</td>\n",
       "      <td>0.0</td>\n",
       "      <td>True</td>\n",
       "    </tr>\n",
       "    <tr>\n",
       "      <th>BAYL-09000</th>\n",
       "      <td>0.328107</td>\n",
       "      <td>-0.951196</td>\n",
       "      <td>0.689346</td>\n",
       "      <td>0.502918</td>\n",
       "      <td>-0.487740</td>\n",
       "      <td>-0.338284</td>\n",
       "      <td>-0.478244</td>\n",
       "      <td>-0.614922</td>\n",
       "      <td>-0.774419</td>\n",
       "      <td>-0.343233</td>\n",
       "      <td>...</td>\n",
       "      <td>0.926604</td>\n",
       "      <td>0.225052</td>\n",
       "      <td>0.827820</td>\n",
       "      <td>-0.083578</td>\n",
       "      <td>-0.969927</td>\n",
       "      <td>-0.318468</td>\n",
       "      <td>-0.295987</td>\n",
       "      <td>-0.206059</td>\n",
       "      <td>0.0</td>\n",
       "      <td>True</td>\n",
       "    </tr>\n",
       "    <tr>\n",
       "      <th>BAYL-09001</th>\n",
       "      <td>-0.288635</td>\n",
       "      <td>-0.851158</td>\n",
       "      <td>-0.706419</td>\n",
       "      <td>-0.622590</td>\n",
       "      <td>0.172388</td>\n",
       "      <td>0.587794</td>\n",
       "      <td>-0.809278</td>\n",
       "      <td>-0.773815</td>\n",
       "      <td>-0.856158</td>\n",
       "      <td>-0.622660</td>\n",
       "      <td>...</td>\n",
       "      <td>-0.477920</td>\n",
       "      <td>0.046759</td>\n",
       "      <td>0.038737</td>\n",
       "      <td>-0.892661</td>\n",
       "      <td>0.458911</td>\n",
       "      <td>-0.440441</td>\n",
       "      <td>0.393969</td>\n",
       "      <td>-0.134903</td>\n",
       "      <td>0.0</td>\n",
       "      <td>True</td>\n",
       "    </tr>\n",
       "  </tbody>\n",
       "</table>\n",
       "<p>5 rows × 950 columns</p>\n",
       "</div>"
      ],
      "text/plain": [
       "               42370       485     27665     38395       437       528  \\\n",
       "BAYL-08997 -1.146044 -0.963613 -0.919117 -0.762660  0.465701 -0.320001   \n",
       "BAYL-08998  0.477460 -1.334107  0.560994 -0.731371 -0.380466 -0.160025   \n",
       "BAYL-08999  1.207946 -0.861143 -0.789775  3.098316  0.171894  0.737533   \n",
       "BAYL-09000  0.328107 -0.951196  0.689346  0.502918 -0.487740 -0.338284   \n",
       "BAYL-09001 -0.288635 -0.851158 -0.706419 -0.622590  0.172388  0.587794   \n",
       "\n",
       "                1417      1549       531      1414  ...     53267     54840  \\\n",
       "BAYL-08997  0.233840 -0.532667 -1.168056 -0.883133  ... -0.018127 -0.782722   \n",
       "BAYL-08998  0.244165 -0.555093 -1.230067  0.303362  ... -0.493536  1.048180   \n",
       "BAYL-08999  2.078369  1.518216  1.427540  0.044795  ... -0.130771 -0.084690   \n",
       "BAYL-09000 -0.478244 -0.614922 -0.774419 -0.343233  ...  0.926604  0.225052   \n",
       "BAYL-09001 -0.809278 -0.773815 -0.856158 -0.622660  ... -0.477920  0.046759   \n",
       "\n",
       "               57714     57716     57718     57719     57720     57754   pe  \\\n",
       "BAYL-08997  0.726292 -0.162880  0.073752  0.280983  2.018124 -0.304346  1.0   \n",
       "BAYL-08998 -0.247548  0.127745  0.257907  0.127953  1.356468 -0.354117  1.0   \n",
       "BAYL-08999 -0.285019 -0.077975  0.879417  0.271672  1.196092 -0.455349  0.0   \n",
       "BAYL-09000  0.827820 -0.083578 -0.969927 -0.318468 -0.295987 -0.206059  0.0   \n",
       "BAYL-09001  0.038737 -0.892661  0.458911 -0.440441  0.393969 -0.134903  0.0   \n",
       "\n",
       "             ASA  \n",
       "BAYL-08997  True  \n",
       "BAYL-08998  True  \n",
       "BAYL-08999  True  \n",
       "BAYL-09000  True  \n",
       "BAYL-09001  True  \n",
       "\n",
       "[5 rows x 950 columns]"
      ]
     },
     "execution_count": 68,
     "metadata": {},
     "output_type": "execute_result"
    }
   ],
   "source": [
    "df.head()"
   ]
  },
  {
   "cell_type": "code",
   "execution_count": 69,
   "id": "8435c117",
   "metadata": {},
   "outputs": [],
   "source": [
    "df = df[df['ASA'] == False].copy(deep=True)"
   ]
  },
  {
   "cell_type": "code",
   "execution_count": 70,
   "id": "3990de77",
   "metadata": {},
   "outputs": [
    {
     "data": {
      "text/plain": [
       "(305, 950)"
      ]
     },
     "execution_count": 70,
     "metadata": {},
     "output_type": "execute_result"
    }
   ],
   "source": [
    "df.shape"
   ]
  },
  {
   "cell_type": "code",
   "execution_count": 71,
   "id": "d3888555",
   "metadata": {},
   "outputs": [],
   "source": [
    "df.drop(['ASA'], axis = 1, inplace=True)"
   ]
  },
  {
   "cell_type": "code",
   "execution_count": 72,
   "id": "4326e138",
   "metadata": {
    "scrolled": true
   },
   "outputs": [
    {
     "data": {
      "text/html": [
       "<div>\n",
       "<style scoped>\n",
       "    .dataframe tbody tr th:only-of-type {\n",
       "        vertical-align: middle;\n",
       "    }\n",
       "\n",
       "    .dataframe tbody tr th {\n",
       "        vertical-align: top;\n",
       "    }\n",
       "\n",
       "    .dataframe thead th {\n",
       "        text-align: right;\n",
       "    }\n",
       "</style>\n",
       "<table border=\"1\" class=\"dataframe\">\n",
       "  <thead>\n",
       "    <tr style=\"text-align: right;\">\n",
       "      <th></th>\n",
       "      <th>42370</th>\n",
       "      <th>485</th>\n",
       "      <th>27665</th>\n",
       "      <th>38395</th>\n",
       "      <th>437</th>\n",
       "      <th>528</th>\n",
       "      <th>1417</th>\n",
       "      <th>1549</th>\n",
       "      <th>531</th>\n",
       "      <th>1414</th>\n",
       "      <th>...</th>\n",
       "      <th>53266</th>\n",
       "      <th>53267</th>\n",
       "      <th>54840</th>\n",
       "      <th>57714</th>\n",
       "      <th>57716</th>\n",
       "      <th>57718</th>\n",
       "      <th>57719</th>\n",
       "      <th>57720</th>\n",
       "      <th>57754</th>\n",
       "      <th>pe</th>\n",
       "    </tr>\n",
       "  </thead>\n",
       "  <tbody>\n",
       "    <tr>\n",
       "      <th>BAYL-09014</th>\n",
       "      <td>0.187195</td>\n",
       "      <td>-0.411608</td>\n",
       "      <td>-0.201654</td>\n",
       "      <td>-0.086973</td>\n",
       "      <td>-0.309109</td>\n",
       "      <td>-0.203433</td>\n",
       "      <td>-0.713625</td>\n",
       "      <td>-0.778418</td>\n",
       "      <td>-1.113101</td>\n",
       "      <td>-0.866871</td>\n",
       "      <td>...</td>\n",
       "      <td>-0.106908</td>\n",
       "      <td>-1.411424</td>\n",
       "      <td>0.302590</td>\n",
       "      <td>-0.360792</td>\n",
       "      <td>-0.172929</td>\n",
       "      <td>-0.611234</td>\n",
       "      <td>-0.480311</td>\n",
       "      <td>-0.812788</td>\n",
       "      <td>-0.482809</td>\n",
       "      <td>0.0</td>\n",
       "    </tr>\n",
       "    <tr>\n",
       "      <th>BAYL-09016</th>\n",
       "      <td>0.328494</td>\n",
       "      <td>-0.351793</td>\n",
       "      <td>0.032687</td>\n",
       "      <td>0.278353</td>\n",
       "      <td>-0.466042</td>\n",
       "      <td>0.347924</td>\n",
       "      <td>-0.919203</td>\n",
       "      <td>-0.611164</td>\n",
       "      <td>-0.401548</td>\n",
       "      <td>-0.738094</td>\n",
       "      <td>...</td>\n",
       "      <td>-0.106908</td>\n",
       "      <td>-0.399493</td>\n",
       "      <td>0.050890</td>\n",
       "      <td>-0.130459</td>\n",
       "      <td>0.353794</td>\n",
       "      <td>-0.724256</td>\n",
       "      <td>0.272478</td>\n",
       "      <td>0.152489</td>\n",
       "      <td>0.023825</td>\n",
       "      <td>0.0</td>\n",
       "    </tr>\n",
       "    <tr>\n",
       "      <th>BAYL-09017</th>\n",
       "      <td>0.372754</td>\n",
       "      <td>0.223826</td>\n",
       "      <td>-0.084264</td>\n",
       "      <td>0.468975</td>\n",
       "      <td>-0.299095</td>\n",
       "      <td>0.116690</td>\n",
       "      <td>0.917165</td>\n",
       "      <td>-0.641642</td>\n",
       "      <td>-0.458021</td>\n",
       "      <td>-0.464570</td>\n",
       "      <td>...</td>\n",
       "      <td>-0.106908</td>\n",
       "      <td>-0.905314</td>\n",
       "      <td>0.050890</td>\n",
       "      <td>-0.527920</td>\n",
       "      <td>0.345362</td>\n",
       "      <td>0.399237</td>\n",
       "      <td>0.137705</td>\n",
       "      <td>0.152489</td>\n",
       "      <td>-0.399870</td>\n",
       "      <td>0.0</td>\n",
       "    </tr>\n",
       "    <tr>\n",
       "      <th>BAYL-09018</th>\n",
       "      <td>0.103126</td>\n",
       "      <td>0.523683</td>\n",
       "      <td>-0.238103</td>\n",
       "      <td>-1.071461</td>\n",
       "      <td>-0.336122</td>\n",
       "      <td>0.168030</td>\n",
       "      <td>0.032885</td>\n",
       "      <td>0.054229</td>\n",
       "      <td>0.430654</td>\n",
       "      <td>-0.579905</td>\n",
       "      <td>...</td>\n",
       "      <td>-0.403598</td>\n",
       "      <td>-0.138321</td>\n",
       "      <td>0.050890</td>\n",
       "      <td>-0.435343</td>\n",
       "      <td>1.017162</td>\n",
       "      <td>1.103591</td>\n",
       "      <td>0.000695</td>\n",
       "      <td>0.152489</td>\n",
       "      <td>-0.308875</td>\n",
       "      <td>0.0</td>\n",
       "    </tr>\n",
       "    <tr>\n",
       "      <th>BAYL-09019</th>\n",
       "      <td>-0.321200</td>\n",
       "      <td>0.231904</td>\n",
       "      <td>0.220926</td>\n",
       "      <td>-1.083531</td>\n",
       "      <td>0.267938</td>\n",
       "      <td>0.074257</td>\n",
       "      <td>0.248712</td>\n",
       "      <td>-0.216594</td>\n",
       "      <td>0.708339</td>\n",
       "      <td>-0.176621</td>\n",
       "      <td>...</td>\n",
       "      <td>-0.106908</td>\n",
       "      <td>-0.903452</td>\n",
       "      <td>0.172755</td>\n",
       "      <td>-0.356219</td>\n",
       "      <td>1.024855</td>\n",
       "      <td>-0.043238</td>\n",
       "      <td>-0.142566</td>\n",
       "      <td>0.152489</td>\n",
       "      <td>-0.407672</td>\n",
       "      <td>0.0</td>\n",
       "    </tr>\n",
       "  </tbody>\n",
       "</table>\n",
       "<p>5 rows × 949 columns</p>\n",
       "</div>"
      ],
      "text/plain": [
       "               42370       485     27665     38395       437       528  \\\n",
       "BAYL-09014  0.187195 -0.411608 -0.201654 -0.086973 -0.309109 -0.203433   \n",
       "BAYL-09016  0.328494 -0.351793  0.032687  0.278353 -0.466042  0.347924   \n",
       "BAYL-09017  0.372754  0.223826 -0.084264  0.468975 -0.299095  0.116690   \n",
       "BAYL-09018  0.103126  0.523683 -0.238103 -1.071461 -0.336122  0.168030   \n",
       "BAYL-09019 -0.321200  0.231904  0.220926 -1.083531  0.267938  0.074257   \n",
       "\n",
       "                1417      1549       531      1414  ...     53266     53267  \\\n",
       "BAYL-09014 -0.713625 -0.778418 -1.113101 -0.866871  ... -0.106908 -1.411424   \n",
       "BAYL-09016 -0.919203 -0.611164 -0.401548 -0.738094  ... -0.106908 -0.399493   \n",
       "BAYL-09017  0.917165 -0.641642 -0.458021 -0.464570  ... -0.106908 -0.905314   \n",
       "BAYL-09018  0.032885  0.054229  0.430654 -0.579905  ... -0.403598 -0.138321   \n",
       "BAYL-09019  0.248712 -0.216594  0.708339 -0.176621  ... -0.106908 -0.903452   \n",
       "\n",
       "               54840     57714     57716     57718     57719     57720  \\\n",
       "BAYL-09014  0.302590 -0.360792 -0.172929 -0.611234 -0.480311 -0.812788   \n",
       "BAYL-09016  0.050890 -0.130459  0.353794 -0.724256  0.272478  0.152489   \n",
       "BAYL-09017  0.050890 -0.527920  0.345362  0.399237  0.137705  0.152489   \n",
       "BAYL-09018  0.050890 -0.435343  1.017162  1.103591  0.000695  0.152489   \n",
       "BAYL-09019  0.172755 -0.356219  1.024855 -0.043238 -0.142566  0.152489   \n",
       "\n",
       "               57754   pe  \n",
       "BAYL-09014 -0.482809  0.0  \n",
       "BAYL-09016  0.023825  0.0  \n",
       "BAYL-09017 -0.399870  0.0  \n",
       "BAYL-09018 -0.308875  0.0  \n",
       "BAYL-09019 -0.407672  0.0  \n",
       "\n",
       "[5 rows x 949 columns]"
      ]
     },
     "execution_count": 72,
     "metadata": {},
     "output_type": "execute_result"
    }
   ],
   "source": [
    "df.head()"
   ]
  },
  {
   "cell_type": "code",
   "execution_count": 73,
   "id": "a7064cd3",
   "metadata": {},
   "outputs": [
    {
     "data": {
      "text/plain": [
       "BAYL-09014    0.0\n",
       "BAYL-09016    0.0\n",
       "BAYL-09017    0.0\n",
       "BAYL-09018    0.0\n",
       "BAYL-09019    0.0\n",
       "             ... \n",
       "s_23077       0.0\n",
       "s_23123       0.0\n",
       "s_22787       0.0\n",
       "s_23294       0.0\n",
       "s_73385       1.0\n",
       "Name: pe, Length: 305, dtype: float64"
      ]
     },
     "execution_count": 73,
     "metadata": {},
     "output_type": "execute_result"
    }
   ],
   "source": [
    "target = df['pe']\n",
    "df.drop(['pe'], axis=1, inplace=True)\n",
    "target"
   ]
  },
  {
   "cell_type": "code",
   "execution_count": 74,
   "id": "68e3bd8d",
   "metadata": {
    "scrolled": true
   },
   "outputs": [
    {
     "data": {
      "text/plain": [
       "array([208,  97])"
      ]
     },
     "execution_count": 74,
     "metadata": {},
     "output_type": "execute_result"
    }
   ],
   "source": [
    "np.bincount(target)"
   ]
  },
  {
   "cell_type": "code",
   "execution_count": 75,
   "id": "e8c922ea",
   "metadata": {
    "scrolled": true
   },
   "outputs": [
    {
     "data": {
      "text/html": [
       "<div>\n",
       "<style scoped>\n",
       "    .dataframe tbody tr th:only-of-type {\n",
       "        vertical-align: middle;\n",
       "    }\n",
       "\n",
       "    .dataframe tbody tr th {\n",
       "        vertical-align: top;\n",
       "    }\n",
       "\n",
       "    .dataframe thead th {\n",
       "        text-align: right;\n",
       "    }\n",
       "</style>\n",
       "<table border=\"1\" class=\"dataframe\">\n",
       "  <thead>\n",
       "    <tr style=\"text-align: right;\">\n",
       "      <th></th>\n",
       "      <th>42370</th>\n",
       "      <th>485</th>\n",
       "      <th>27665</th>\n",
       "      <th>38395</th>\n",
       "      <th>437</th>\n",
       "      <th>528</th>\n",
       "      <th>1417</th>\n",
       "      <th>1549</th>\n",
       "      <th>531</th>\n",
       "      <th>1414</th>\n",
       "      <th>...</th>\n",
       "      <th>53157</th>\n",
       "      <th>53266</th>\n",
       "      <th>53267</th>\n",
       "      <th>54840</th>\n",
       "      <th>57714</th>\n",
       "      <th>57716</th>\n",
       "      <th>57718</th>\n",
       "      <th>57719</th>\n",
       "      <th>57720</th>\n",
       "      <th>57754</th>\n",
       "    </tr>\n",
       "  </thead>\n",
       "  <tbody>\n",
       "    <tr>\n",
       "      <th>BAYL-09014</th>\n",
       "      <td>0.187195</td>\n",
       "      <td>-0.411608</td>\n",
       "      <td>-0.201654</td>\n",
       "      <td>-0.086973</td>\n",
       "      <td>-0.309109</td>\n",
       "      <td>-0.203433</td>\n",
       "      <td>-0.713625</td>\n",
       "      <td>-0.778418</td>\n",
       "      <td>-1.113101</td>\n",
       "      <td>-0.866871</td>\n",
       "      <td>...</td>\n",
       "      <td>-0.143234</td>\n",
       "      <td>-0.106908</td>\n",
       "      <td>-1.411424</td>\n",
       "      <td>0.302590</td>\n",
       "      <td>-0.360792</td>\n",
       "      <td>-0.172929</td>\n",
       "      <td>-0.611234</td>\n",
       "      <td>-0.480311</td>\n",
       "      <td>-0.812788</td>\n",
       "      <td>-0.482809</td>\n",
       "    </tr>\n",
       "    <tr>\n",
       "      <th>BAYL-09016</th>\n",
       "      <td>0.328494</td>\n",
       "      <td>-0.351793</td>\n",
       "      <td>0.032687</td>\n",
       "      <td>0.278353</td>\n",
       "      <td>-0.466042</td>\n",
       "      <td>0.347924</td>\n",
       "      <td>-0.919203</td>\n",
       "      <td>-0.611164</td>\n",
       "      <td>-0.401548</td>\n",
       "      <td>-0.738094</td>\n",
       "      <td>...</td>\n",
       "      <td>0.077473</td>\n",
       "      <td>-0.106908</td>\n",
       "      <td>-0.399493</td>\n",
       "      <td>0.050890</td>\n",
       "      <td>-0.130459</td>\n",
       "      <td>0.353794</td>\n",
       "      <td>-0.724256</td>\n",
       "      <td>0.272478</td>\n",
       "      <td>0.152489</td>\n",
       "      <td>0.023825</td>\n",
       "    </tr>\n",
       "    <tr>\n",
       "      <th>BAYL-09017</th>\n",
       "      <td>0.372754</td>\n",
       "      <td>0.223826</td>\n",
       "      <td>-0.084264</td>\n",
       "      <td>0.468975</td>\n",
       "      <td>-0.299095</td>\n",
       "      <td>0.116690</td>\n",
       "      <td>0.917165</td>\n",
       "      <td>-0.641642</td>\n",
       "      <td>-0.458021</td>\n",
       "      <td>-0.464570</td>\n",
       "      <td>...</td>\n",
       "      <td>1.807032</td>\n",
       "      <td>-0.106908</td>\n",
       "      <td>-0.905314</td>\n",
       "      <td>0.050890</td>\n",
       "      <td>-0.527920</td>\n",
       "      <td>0.345362</td>\n",
       "      <td>0.399237</td>\n",
       "      <td>0.137705</td>\n",
       "      <td>0.152489</td>\n",
       "      <td>-0.399870</td>\n",
       "    </tr>\n",
       "    <tr>\n",
       "      <th>BAYL-09018</th>\n",
       "      <td>0.103126</td>\n",
       "      <td>0.523683</td>\n",
       "      <td>-0.238103</td>\n",
       "      <td>-1.071461</td>\n",
       "      <td>-0.336122</td>\n",
       "      <td>0.168030</td>\n",
       "      <td>0.032885</td>\n",
       "      <td>0.054229</td>\n",
       "      <td>0.430654</td>\n",
       "      <td>-0.579905</td>\n",
       "      <td>...</td>\n",
       "      <td>-0.358738</td>\n",
       "      <td>-0.403598</td>\n",
       "      <td>-0.138321</td>\n",
       "      <td>0.050890</td>\n",
       "      <td>-0.435343</td>\n",
       "      <td>1.017162</td>\n",
       "      <td>1.103591</td>\n",
       "      <td>0.000695</td>\n",
       "      <td>0.152489</td>\n",
       "      <td>-0.308875</td>\n",
       "    </tr>\n",
       "    <tr>\n",
       "      <th>BAYL-09019</th>\n",
       "      <td>-0.321200</td>\n",
       "      <td>0.231904</td>\n",
       "      <td>0.220926</td>\n",
       "      <td>-1.083531</td>\n",
       "      <td>0.267938</td>\n",
       "      <td>0.074257</td>\n",
       "      <td>0.248712</td>\n",
       "      <td>-0.216594</td>\n",
       "      <td>0.708339</td>\n",
       "      <td>-0.176621</td>\n",
       "      <td>...</td>\n",
       "      <td>1.249983</td>\n",
       "      <td>-0.106908</td>\n",
       "      <td>-0.903452</td>\n",
       "      <td>0.172755</td>\n",
       "      <td>-0.356219</td>\n",
       "      <td>1.024855</td>\n",
       "      <td>-0.043238</td>\n",
       "      <td>-0.142566</td>\n",
       "      <td>0.152489</td>\n",
       "      <td>-0.407672</td>\n",
       "    </tr>\n",
       "  </tbody>\n",
       "</table>\n",
       "<p>5 rows × 948 columns</p>\n",
       "</div>"
      ],
      "text/plain": [
       "               42370     485       27665     38395     437       528    \\\n",
       "BAYL-09014  0.187195 -0.411608 -0.201654 -0.086973 -0.309109 -0.203433   \n",
       "BAYL-09016  0.328494 -0.351793  0.032687  0.278353 -0.466042  0.347924   \n",
       "BAYL-09017  0.372754  0.223826 -0.084264  0.468975 -0.299095  0.116690   \n",
       "BAYL-09018  0.103126  0.523683 -0.238103 -1.071461 -0.336122  0.168030   \n",
       "BAYL-09019 -0.321200  0.231904  0.220926 -1.083531  0.267938  0.074257   \n",
       "\n",
       "               1417      1549      531       1414   ...     53157     53266  \\\n",
       "BAYL-09014 -0.713625 -0.778418 -1.113101 -0.866871  ... -0.143234 -0.106908   \n",
       "BAYL-09016 -0.919203 -0.611164 -0.401548 -0.738094  ...  0.077473 -0.106908   \n",
       "BAYL-09017  0.917165 -0.641642 -0.458021 -0.464570  ...  1.807032 -0.106908   \n",
       "BAYL-09018  0.032885  0.054229  0.430654 -0.579905  ... -0.358738 -0.403598   \n",
       "BAYL-09019  0.248712 -0.216594  0.708339 -0.176621  ...  1.249983 -0.106908   \n",
       "\n",
       "               53267     54840     57714     57716     57718     57719  \\\n",
       "BAYL-09014 -1.411424  0.302590 -0.360792 -0.172929 -0.611234 -0.480311   \n",
       "BAYL-09016 -0.399493  0.050890 -0.130459  0.353794 -0.724256  0.272478   \n",
       "BAYL-09017 -0.905314  0.050890 -0.527920  0.345362  0.399237  0.137705   \n",
       "BAYL-09018 -0.138321  0.050890 -0.435343  1.017162  1.103591  0.000695   \n",
       "BAYL-09019 -0.903452  0.172755 -0.356219  1.024855 -0.043238 -0.142566   \n",
       "\n",
       "               57720     57754  \n",
       "BAYL-09014 -0.812788 -0.482809  \n",
       "BAYL-09016  0.152489  0.023825  \n",
       "BAYL-09017  0.152489 -0.399870  \n",
       "BAYL-09018  0.152489 -0.308875  \n",
       "BAYL-09019  0.152489 -0.407672  \n",
       "\n",
       "[5 rows x 948 columns]"
      ]
     },
     "execution_count": 75,
     "metadata": {},
     "output_type": "execute_result"
    }
   ],
   "source": [
    "df.head()"
   ]
  },
  {
   "cell_type": "code",
   "execution_count": null,
   "id": "19f80eb5",
   "metadata": {},
   "outputs": [],
   "source": []
  },
  {
   "cell_type": "code",
   "execution_count": 76,
   "id": "3a1702f2",
   "metadata": {},
   "outputs": [
    {
     "data": {
      "text/html": [
       "<div>\n",
       "<style scoped>\n",
       "    .dataframe tbody tr th:only-of-type {\n",
       "        vertical-align: middle;\n",
       "    }\n",
       "\n",
       "    .dataframe tbody tr th {\n",
       "        vertical-align: top;\n",
       "    }\n",
       "\n",
       "    .dataframe thead th {\n",
       "        text-align: right;\n",
       "    }\n",
       "</style>\n",
       "<table border=\"1\" class=\"dataframe\">\n",
       "  <thead>\n",
       "    <tr style=\"text-align: right;\">\n",
       "      <th></th>\n",
       "      <th>42370</th>\n",
       "      <th>485</th>\n",
       "      <th>27665</th>\n",
       "      <th>38395</th>\n",
       "      <th>437</th>\n",
       "      <th>528</th>\n",
       "      <th>1417</th>\n",
       "      <th>1549</th>\n",
       "      <th>531</th>\n",
       "      <th>1414</th>\n",
       "      <th>...</th>\n",
       "      <th>53157</th>\n",
       "      <th>53266</th>\n",
       "      <th>53267</th>\n",
       "      <th>54840</th>\n",
       "      <th>57714</th>\n",
       "      <th>57716</th>\n",
       "      <th>57718</th>\n",
       "      <th>57719</th>\n",
       "      <th>57720</th>\n",
       "      <th>57754</th>\n",
       "    </tr>\n",
       "  </thead>\n",
       "  <tbody>\n",
       "    <tr>\n",
       "      <th>BAYL-09014</th>\n",
       "      <td>0.187195</td>\n",
       "      <td>-0.411608</td>\n",
       "      <td>-0.201654</td>\n",
       "      <td>-0.086973</td>\n",
       "      <td>-0.309109</td>\n",
       "      <td>-0.203433</td>\n",
       "      <td>-0.713625</td>\n",
       "      <td>-0.778418</td>\n",
       "      <td>-1.113101</td>\n",
       "      <td>-0.866871</td>\n",
       "      <td>...</td>\n",
       "      <td>-0.143234</td>\n",
       "      <td>-0.106908</td>\n",
       "      <td>-1.411424</td>\n",
       "      <td>0.302590</td>\n",
       "      <td>-0.360792</td>\n",
       "      <td>-0.172929</td>\n",
       "      <td>-0.611234</td>\n",
       "      <td>-0.480311</td>\n",
       "      <td>-0.812788</td>\n",
       "      <td>-0.482809</td>\n",
       "    </tr>\n",
       "    <tr>\n",
       "      <th>BAYL-09016</th>\n",
       "      <td>0.328494</td>\n",
       "      <td>-0.351793</td>\n",
       "      <td>0.032687</td>\n",
       "      <td>0.278353</td>\n",
       "      <td>-0.466042</td>\n",
       "      <td>0.347924</td>\n",
       "      <td>-0.919203</td>\n",
       "      <td>-0.611164</td>\n",
       "      <td>-0.401548</td>\n",
       "      <td>-0.738094</td>\n",
       "      <td>...</td>\n",
       "      <td>0.077473</td>\n",
       "      <td>-0.106908</td>\n",
       "      <td>-0.399493</td>\n",
       "      <td>0.050890</td>\n",
       "      <td>-0.130459</td>\n",
       "      <td>0.353794</td>\n",
       "      <td>-0.724256</td>\n",
       "      <td>0.272478</td>\n",
       "      <td>0.152489</td>\n",
       "      <td>0.023825</td>\n",
       "    </tr>\n",
       "    <tr>\n",
       "      <th>BAYL-09017</th>\n",
       "      <td>0.372754</td>\n",
       "      <td>0.223826</td>\n",
       "      <td>-0.084264</td>\n",
       "      <td>0.468975</td>\n",
       "      <td>-0.299095</td>\n",
       "      <td>0.116690</td>\n",
       "      <td>0.917165</td>\n",
       "      <td>-0.641642</td>\n",
       "      <td>-0.458021</td>\n",
       "      <td>-0.464570</td>\n",
       "      <td>...</td>\n",
       "      <td>1.807032</td>\n",
       "      <td>-0.106908</td>\n",
       "      <td>-0.905314</td>\n",
       "      <td>0.050890</td>\n",
       "      <td>-0.527920</td>\n",
       "      <td>0.345362</td>\n",
       "      <td>0.399237</td>\n",
       "      <td>0.137705</td>\n",
       "      <td>0.152489</td>\n",
       "      <td>-0.399870</td>\n",
       "    </tr>\n",
       "    <tr>\n",
       "      <th>BAYL-09018</th>\n",
       "      <td>0.103126</td>\n",
       "      <td>0.523683</td>\n",
       "      <td>-0.238103</td>\n",
       "      <td>-1.071461</td>\n",
       "      <td>-0.336122</td>\n",
       "      <td>0.168030</td>\n",
       "      <td>0.032885</td>\n",
       "      <td>0.054229</td>\n",
       "      <td>0.430654</td>\n",
       "      <td>-0.579905</td>\n",
       "      <td>...</td>\n",
       "      <td>-0.358738</td>\n",
       "      <td>-0.403598</td>\n",
       "      <td>-0.138321</td>\n",
       "      <td>0.050890</td>\n",
       "      <td>-0.435343</td>\n",
       "      <td>1.017162</td>\n",
       "      <td>1.103591</td>\n",
       "      <td>0.000695</td>\n",
       "      <td>0.152489</td>\n",
       "      <td>-0.308875</td>\n",
       "    </tr>\n",
       "    <tr>\n",
       "      <th>BAYL-09019</th>\n",
       "      <td>-0.321200</td>\n",
       "      <td>0.231904</td>\n",
       "      <td>0.220926</td>\n",
       "      <td>-1.083531</td>\n",
       "      <td>0.267938</td>\n",
       "      <td>0.074257</td>\n",
       "      <td>0.248712</td>\n",
       "      <td>-0.216594</td>\n",
       "      <td>0.708339</td>\n",
       "      <td>-0.176621</td>\n",
       "      <td>...</td>\n",
       "      <td>1.249983</td>\n",
       "      <td>-0.106908</td>\n",
       "      <td>-0.903452</td>\n",
       "      <td>0.172755</td>\n",
       "      <td>-0.356219</td>\n",
       "      <td>1.024855</td>\n",
       "      <td>-0.043238</td>\n",
       "      <td>-0.142566</td>\n",
       "      <td>0.152489</td>\n",
       "      <td>-0.407672</td>\n",
       "    </tr>\n",
       "    <tr>\n",
       "      <th>...</th>\n",
       "      <td>...</td>\n",
       "      <td>...</td>\n",
       "      <td>...</td>\n",
       "      <td>...</td>\n",
       "      <td>...</td>\n",
       "      <td>...</td>\n",
       "      <td>...</td>\n",
       "      <td>...</td>\n",
       "      <td>...</td>\n",
       "      <td>...</td>\n",
       "      <td>...</td>\n",
       "      <td>...</td>\n",
       "      <td>...</td>\n",
       "      <td>...</td>\n",
       "      <td>...</td>\n",
       "      <td>...</td>\n",
       "      <td>...</td>\n",
       "      <td>...</td>\n",
       "      <td>...</td>\n",
       "      <td>...</td>\n",
       "      <td>...</td>\n",
       "    </tr>\n",
       "    <tr>\n",
       "      <th>s_23077</th>\n",
       "      <td>-0.052360</td>\n",
       "      <td>-0.645759</td>\n",
       "      <td>-0.928460</td>\n",
       "      <td>0.322687</td>\n",
       "      <td>-0.011331</td>\n",
       "      <td>-0.009173</td>\n",
       "      <td>-1.298761</td>\n",
       "      <td>-0.056718</td>\n",
       "      <td>-0.104810</td>\n",
       "      <td>-0.513336</td>\n",
       "      <td>...</td>\n",
       "      <td>-0.736803</td>\n",
       "      <td>-0.663873</td>\n",
       "      <td>-0.115364</td>\n",
       "      <td>0.032251</td>\n",
       "      <td>-0.928072</td>\n",
       "      <td>-0.391278</td>\n",
       "      <td>2.037867</td>\n",
       "      <td>-0.016027</td>\n",
       "      <td>1.079962</td>\n",
       "      <td>-0.623414</td>\n",
       "    </tr>\n",
       "    <tr>\n",
       "      <th>s_23123</th>\n",
       "      <td>-0.052360</td>\n",
       "      <td>-0.166949</td>\n",
       "      <td>0.115088</td>\n",
       "      <td>-0.439904</td>\n",
       "      <td>-0.011331</td>\n",
       "      <td>-0.332268</td>\n",
       "      <td>-0.551854</td>\n",
       "      <td>0.175810</td>\n",
       "      <td>-0.489038</td>\n",
       "      <td>-0.477625</td>\n",
       "      <td>...</td>\n",
       "      <td>-0.610517</td>\n",
       "      <td>-0.854820</td>\n",
       "      <td>-0.115364</td>\n",
       "      <td>0.032251</td>\n",
       "      <td>-2.891681</td>\n",
       "      <td>-0.114168</td>\n",
       "      <td>1.405134</td>\n",
       "      <td>-0.016027</td>\n",
       "      <td>1.153829</td>\n",
       "      <td>-0.559394</td>\n",
       "    </tr>\n",
       "    <tr>\n",
       "      <th>s_22787</th>\n",
       "      <td>-0.052360</td>\n",
       "      <td>0.534076</td>\n",
       "      <td>-1.303274</td>\n",
       "      <td>-1.122262</td>\n",
       "      <td>-0.011331</td>\n",
       "      <td>0.466516</td>\n",
       "      <td>-1.077055</td>\n",
       "      <td>-0.012729</td>\n",
       "      <td>1.205847</td>\n",
       "      <td>-0.321399</td>\n",
       "      <td>...</td>\n",
       "      <td>-0.012596</td>\n",
       "      <td>-0.725384</td>\n",
       "      <td>-0.115364</td>\n",
       "      <td>0.032251</td>\n",
       "      <td>0.505416</td>\n",
       "      <td>1.012587</td>\n",
       "      <td>-1.602580</td>\n",
       "      <td>-0.016027</td>\n",
       "      <td>-1.581236</td>\n",
       "      <td>-0.520321</td>\n",
       "    </tr>\n",
       "    <tr>\n",
       "      <th>s_23294</th>\n",
       "      <td>-0.052360</td>\n",
       "      <td>-0.597626</td>\n",
       "      <td>0.781302</td>\n",
       "      <td>1.685294</td>\n",
       "      <td>-0.011331</td>\n",
       "      <td>-0.980053</td>\n",
       "      <td>-0.276637</td>\n",
       "      <td>0.632209</td>\n",
       "      <td>-0.021027</td>\n",
       "      <td>-0.833430</td>\n",
       "      <td>...</td>\n",
       "      <td>-1.089903</td>\n",
       "      <td>0.229379</td>\n",
       "      <td>-0.115364</td>\n",
       "      <td>0.032251</td>\n",
       "      <td>-0.049360</td>\n",
       "      <td>-0.354491</td>\n",
       "      <td>-0.570818</td>\n",
       "      <td>-0.016027</td>\n",
       "      <td>-0.574198</td>\n",
       "      <td>-0.587279</td>\n",
       "    </tr>\n",
       "    <tr>\n",
       "      <th>s_73385</th>\n",
       "      <td>-0.052360</td>\n",
       "      <td>-1.199764</td>\n",
       "      <td>-0.202655</td>\n",
       "      <td>-1.669582</td>\n",
       "      <td>-0.011331</td>\n",
       "      <td>-0.440943</td>\n",
       "      <td>-0.204341</td>\n",
       "      <td>0.651641</td>\n",
       "      <td>-0.819509</td>\n",
       "      <td>0.247728</td>\n",
       "      <td>...</td>\n",
       "      <td>-1.321522</td>\n",
       "      <td>-0.031761</td>\n",
       "      <td>-0.115364</td>\n",
       "      <td>0.032251</td>\n",
       "      <td>-1.582903</td>\n",
       "      <td>-1.138093</td>\n",
       "      <td>0.495655</td>\n",
       "      <td>-0.016027</td>\n",
       "      <td>0.643745</td>\n",
       "      <td>-0.337945</td>\n",
       "    </tr>\n",
       "  </tbody>\n",
       "</table>\n",
       "<p>305 rows × 948 columns</p>\n",
       "</div>"
      ],
      "text/plain": [
       "               42370     485       27665     38395     437       528    \\\n",
       "BAYL-09014  0.187195 -0.411608 -0.201654 -0.086973 -0.309109 -0.203433   \n",
       "BAYL-09016  0.328494 -0.351793  0.032687  0.278353 -0.466042  0.347924   \n",
       "BAYL-09017  0.372754  0.223826 -0.084264  0.468975 -0.299095  0.116690   \n",
       "BAYL-09018  0.103126  0.523683 -0.238103 -1.071461 -0.336122  0.168030   \n",
       "BAYL-09019 -0.321200  0.231904  0.220926 -1.083531  0.267938  0.074257   \n",
       "...              ...       ...       ...       ...       ...       ...   \n",
       "s_23077    -0.052360 -0.645759 -0.928460  0.322687 -0.011331 -0.009173   \n",
       "s_23123    -0.052360 -0.166949  0.115088 -0.439904 -0.011331 -0.332268   \n",
       "s_22787    -0.052360  0.534076 -1.303274 -1.122262 -0.011331  0.466516   \n",
       "s_23294    -0.052360 -0.597626  0.781302  1.685294 -0.011331 -0.980053   \n",
       "s_73385    -0.052360 -1.199764 -0.202655 -1.669582 -0.011331 -0.440943   \n",
       "\n",
       "               1417      1549      531       1414   ...     53157     53266  \\\n",
       "BAYL-09014 -0.713625 -0.778418 -1.113101 -0.866871  ... -0.143234 -0.106908   \n",
       "BAYL-09016 -0.919203 -0.611164 -0.401548 -0.738094  ...  0.077473 -0.106908   \n",
       "BAYL-09017  0.917165 -0.641642 -0.458021 -0.464570  ...  1.807032 -0.106908   \n",
       "BAYL-09018  0.032885  0.054229  0.430654 -0.579905  ... -0.358738 -0.403598   \n",
       "BAYL-09019  0.248712 -0.216594  0.708339 -0.176621  ...  1.249983 -0.106908   \n",
       "...              ...       ...       ...       ...  ...       ...       ...   \n",
       "s_23077    -1.298761 -0.056718 -0.104810 -0.513336  ... -0.736803 -0.663873   \n",
       "s_23123    -0.551854  0.175810 -0.489038 -0.477625  ... -0.610517 -0.854820   \n",
       "s_22787    -1.077055 -0.012729  1.205847 -0.321399  ... -0.012596 -0.725384   \n",
       "s_23294    -0.276637  0.632209 -0.021027 -0.833430  ... -1.089903  0.229379   \n",
       "s_73385    -0.204341  0.651641 -0.819509  0.247728  ... -1.321522 -0.031761   \n",
       "\n",
       "               53267     54840     57714     57716     57718     57719  \\\n",
       "BAYL-09014 -1.411424  0.302590 -0.360792 -0.172929 -0.611234 -0.480311   \n",
       "BAYL-09016 -0.399493  0.050890 -0.130459  0.353794 -0.724256  0.272478   \n",
       "BAYL-09017 -0.905314  0.050890 -0.527920  0.345362  0.399237  0.137705   \n",
       "BAYL-09018 -0.138321  0.050890 -0.435343  1.017162  1.103591  0.000695   \n",
       "BAYL-09019 -0.903452  0.172755 -0.356219  1.024855 -0.043238 -0.142566   \n",
       "...              ...       ...       ...       ...       ...       ...   \n",
       "s_23077    -0.115364  0.032251 -0.928072 -0.391278  2.037867 -0.016027   \n",
       "s_23123    -0.115364  0.032251 -2.891681 -0.114168  1.405134 -0.016027   \n",
       "s_22787    -0.115364  0.032251  0.505416  1.012587 -1.602580 -0.016027   \n",
       "s_23294    -0.115364  0.032251 -0.049360 -0.354491 -0.570818 -0.016027   \n",
       "s_73385    -0.115364  0.032251 -1.582903 -1.138093  0.495655 -0.016027   \n",
       "\n",
       "               57720     57754  \n",
       "BAYL-09014 -0.812788 -0.482809  \n",
       "BAYL-09016  0.152489  0.023825  \n",
       "BAYL-09017  0.152489 -0.399870  \n",
       "BAYL-09018  0.152489 -0.308875  \n",
       "BAYL-09019  0.152489 -0.407672  \n",
       "...              ...       ...  \n",
       "s_23077     1.079962 -0.623414  \n",
       "s_23123     1.153829 -0.559394  \n",
       "s_22787    -1.581236 -0.520321  \n",
       "s_23294    -0.574198 -0.587279  \n",
       "s_73385     0.643745 -0.337945  \n",
       "\n",
       "[305 rows x 948 columns]"
      ]
     },
     "execution_count": 76,
     "metadata": {},
     "output_type": "execute_result"
    }
   ],
   "source": [
    "df"
   ]
  },
  {
   "cell_type": "markdown",
   "id": "685525c5",
   "metadata": {},
   "source": [
    "### Feature selection"
   ]
  },
  {
   "cell_type": "code",
   "execution_count": 77,
   "id": "2078bd95",
   "metadata": {},
   "outputs": [],
   "source": [
    "# iteritems is deprecated, downgrade pandas....\n",
    "# !pip install pandas==1.5.3 \n",
    "from pymrmre import mrmr\n",
    "\n",
    "# suppress warnings for mrmr module (using deprecated methods)\n",
    "import warnings\n",
    "warnings.filterwarnings('ignore', module='pymrmre')\n",
    "warnings.simplefilter(action='ignore', category=FutureWarning)"
   ]
  },
  {
   "cell_type": "code",
   "execution_count": 78,
   "id": "3104125a",
   "metadata": {},
   "outputs": [],
   "source": [
    "# implementing custom scikit-learn compatible estimator for mrmr (wrapper class)\n",
    "from sklearn.base import BaseEstimator"
   ]
  },
  {
   "cell_type": "code",
   "execution_count": 79,
   "id": "415a8446",
   "metadata": {},
   "outputs": [],
   "source": [
    "class MRMR(BaseEstimator):\n",
    "    def __init__(self, solution_length=1):\n",
    "        self.solution_length = solution_length\n",
    "        self.solution = []\n",
    "        \n",
    "    def fit(self, X_train, y_train):\n",
    "        self.solution = mrmr.mrmr_ensemble(features=X_train, targets=pd.DataFrame(y_train), solution_length=self.solution_length, solution_count=1).iloc[0][0]\n",
    "        return self\n",
    "        \n",
    "    def transform(self, X_train):\n",
    "        return X_train[self.solution]\n",
    "        "
   ]
  },
  {
   "cell_type": "code",
   "execution_count": 80,
   "id": "a742c052",
   "metadata": {
    "scrolled": false
   },
   "outputs": [],
   "source": [
    "# old solution:\n",
    "# solutions = mrmr.mrmr_ensemble(features=df, targets=pd.DataFrame(target), solution_length=30, solution_count=10)\n",
    "# df[solutions.iloc[0][0]]"
   ]
  },
  {
   "cell_type": "code",
   "execution_count": 81,
   "id": "39bd10d1",
   "metadata": {},
   "outputs": [],
   "source": [
    "mrmr_custom = MRMR(solution_length=30)"
   ]
  },
  {
   "cell_type": "code",
   "execution_count": 82,
   "id": "8692c327",
   "metadata": {},
   "outputs": [
    {
     "data": {
      "text/html": [
       "<style>#sk-container-id-1 {color: black;background-color: white;}#sk-container-id-1 pre{padding: 0;}#sk-container-id-1 div.sk-toggleable {background-color: white;}#sk-container-id-1 label.sk-toggleable__label {cursor: pointer;display: block;width: 100%;margin-bottom: 0;padding: 0.3em;box-sizing: border-box;text-align: center;}#sk-container-id-1 label.sk-toggleable__label-arrow:before {content: \"▸\";float: left;margin-right: 0.25em;color: #696969;}#sk-container-id-1 label.sk-toggleable__label-arrow:hover:before {color: black;}#sk-container-id-1 div.sk-estimator:hover label.sk-toggleable__label-arrow:before {color: black;}#sk-container-id-1 div.sk-toggleable__content {max-height: 0;max-width: 0;overflow: hidden;text-align: left;background-color: #f0f8ff;}#sk-container-id-1 div.sk-toggleable__content pre {margin: 0.2em;color: black;border-radius: 0.25em;background-color: #f0f8ff;}#sk-container-id-1 input.sk-toggleable__control:checked~div.sk-toggleable__content {max-height: 200px;max-width: 100%;overflow: auto;}#sk-container-id-1 input.sk-toggleable__control:checked~label.sk-toggleable__label-arrow:before {content: \"▾\";}#sk-container-id-1 div.sk-estimator input.sk-toggleable__control:checked~label.sk-toggleable__label {background-color: #d4ebff;}#sk-container-id-1 div.sk-label input.sk-toggleable__control:checked~label.sk-toggleable__label {background-color: #d4ebff;}#sk-container-id-1 input.sk-hidden--visually {border: 0;clip: rect(1px 1px 1px 1px);clip: rect(1px, 1px, 1px, 1px);height: 1px;margin: -1px;overflow: hidden;padding: 0;position: absolute;width: 1px;}#sk-container-id-1 div.sk-estimator {font-family: monospace;background-color: #f0f8ff;border: 1px dotted black;border-radius: 0.25em;box-sizing: border-box;margin-bottom: 0.5em;}#sk-container-id-1 div.sk-estimator:hover {background-color: #d4ebff;}#sk-container-id-1 div.sk-parallel-item::after {content: \"\";width: 100%;border-bottom: 1px solid gray;flex-grow: 1;}#sk-container-id-1 div.sk-label:hover label.sk-toggleable__label {background-color: #d4ebff;}#sk-container-id-1 div.sk-serial::before {content: \"\";position: absolute;border-left: 1px solid gray;box-sizing: border-box;top: 0;bottom: 0;left: 50%;z-index: 0;}#sk-container-id-1 div.sk-serial {display: flex;flex-direction: column;align-items: center;background-color: white;padding-right: 0.2em;padding-left: 0.2em;position: relative;}#sk-container-id-1 div.sk-item {position: relative;z-index: 1;}#sk-container-id-1 div.sk-parallel {display: flex;align-items: stretch;justify-content: center;background-color: white;position: relative;}#sk-container-id-1 div.sk-item::before, #sk-container-id-1 div.sk-parallel-item::before {content: \"\";position: absolute;border-left: 1px solid gray;box-sizing: border-box;top: 0;bottom: 0;left: 50%;z-index: -1;}#sk-container-id-1 div.sk-parallel-item {display: flex;flex-direction: column;z-index: 1;position: relative;background-color: white;}#sk-container-id-1 div.sk-parallel-item:first-child::after {align-self: flex-end;width: 50%;}#sk-container-id-1 div.sk-parallel-item:last-child::after {align-self: flex-start;width: 50%;}#sk-container-id-1 div.sk-parallel-item:only-child::after {width: 0;}#sk-container-id-1 div.sk-dashed-wrapped {border: 1px dashed gray;margin: 0 0.4em 0.5em 0.4em;box-sizing: border-box;padding-bottom: 0.4em;background-color: white;}#sk-container-id-1 div.sk-label label {font-family: monospace;font-weight: bold;display: inline-block;line-height: 1.2em;}#sk-container-id-1 div.sk-label-container {text-align: center;}#sk-container-id-1 div.sk-container {/* jupyter's `normalize.less` sets `[hidden] { display: none; }` but bootstrap.min.css set `[hidden] { display: none !important; }` so we also need the `!important` here to be able to override the default hidden behavior on the sphinx rendered scikit-learn.org. See: https://github.com/scikit-learn/scikit-learn/issues/21755 */display: inline-block !important;position: relative;}#sk-container-id-1 div.sk-text-repr-fallback {display: none;}</style><div id=\"sk-container-id-1\" class=\"sk-top-container\"><div class=\"sk-text-repr-fallback\"><pre>MRMR(solution_length=30)</pre><b>In a Jupyter environment, please rerun this cell to show the HTML representation or trust the notebook. <br />On GitHub, the HTML representation is unable to render, please try loading this page with nbviewer.org.</b></div><div class=\"sk-container\" hidden><div class=\"sk-item\"><div class=\"sk-estimator sk-toggleable\"><input class=\"sk-toggleable__control sk-hidden--visually\" id=\"sk-estimator-id-1\" type=\"checkbox\" checked><label for=\"sk-estimator-id-1\" class=\"sk-toggleable__label sk-toggleable__label-arrow\">MRMR</label><div class=\"sk-toggleable__content\"><pre>MRMR(solution_length=30)</pre></div></div></div></div></div>"
      ],
      "text/plain": [
       "MRMR(solution_length=30)"
      ]
     },
     "execution_count": 82,
     "metadata": {},
     "output_type": "execute_result"
    }
   ],
   "source": [
    "mrmr_custom.fit(df, target)"
   ]
  },
  {
   "cell_type": "code",
   "execution_count": 83,
   "id": "27ebb222",
   "metadata": {},
   "outputs": [],
   "source": [
    "df_mrmr_transformed = mrmr_custom.transform(df)"
   ]
  },
  {
   "cell_type": "code",
   "execution_count": 84,
   "id": "4f94934b",
   "metadata": {},
   "outputs": [
    {
     "data": {
      "text/html": [
       "<div>\n",
       "<style scoped>\n",
       "    .dataframe tbody tr th:only-of-type {\n",
       "        vertical-align: middle;\n",
       "    }\n",
       "\n",
       "    .dataframe tbody tr th {\n",
       "        vertical-align: top;\n",
       "    }\n",
       "\n",
       "    .dataframe thead th {\n",
       "        text-align: right;\n",
       "    }\n",
       "</style>\n",
       "<table border=\"1\" class=\"dataframe\">\n",
       "  <thead>\n",
       "    <tr style=\"text-align: right;\">\n",
       "      <th></th>\n",
       "      <th>40708</th>\n",
       "      <th>57591</th>\n",
       "      <th>53254</th>\n",
       "      <th>47993</th>\n",
       "      <th>39271</th>\n",
       "      <th>52608</th>\n",
       "      <th>62059</th>\n",
       "      <th>33959</th>\n",
       "      <th>1769</th>\n",
       "      <th>52473</th>\n",
       "      <th>...</th>\n",
       "      <th>19263</th>\n",
       "      <th>48457</th>\n",
       "      <th>2761</th>\n",
       "      <th>48009</th>\n",
       "      <th>39609</th>\n",
       "      <th>46687</th>\n",
       "      <th>46511</th>\n",
       "      <th>49592</th>\n",
       "      <th>40007</th>\n",
       "      <th>45095</th>\n",
       "    </tr>\n",
       "  </thead>\n",
       "  <tbody>\n",
       "    <tr>\n",
       "      <th>BAYL-09014</th>\n",
       "      <td>0.368198</td>\n",
       "      <td>-0.649723</td>\n",
       "      <td>0.133451</td>\n",
       "      <td>-0.490229</td>\n",
       "      <td>-0.425909</td>\n",
       "      <td>0.006980</td>\n",
       "      <td>-1.445462</td>\n",
       "      <td>-1.172990</td>\n",
       "      <td>-0.184244</td>\n",
       "      <td>-0.503781</td>\n",
       "      <td>...</td>\n",
       "      <td>0.052194</td>\n",
       "      <td>-0.360240</td>\n",
       "      <td>-0.223382</td>\n",
       "      <td>-0.873967</td>\n",
       "      <td>-0.602915</td>\n",
       "      <td>-0.604690</td>\n",
       "      <td>-0.286501</td>\n",
       "      <td>-0.033146</td>\n",
       "      <td>-2.424792</td>\n",
       "      <td>-1.069378</td>\n",
       "    </tr>\n",
       "    <tr>\n",
       "      <th>BAYL-09016</th>\n",
       "      <td>0.642681</td>\n",
       "      <td>-0.581132</td>\n",
       "      <td>0.133451</td>\n",
       "      <td>-0.434838</td>\n",
       "      <td>-0.417518</td>\n",
       "      <td>1.499696</td>\n",
       "      <td>-1.097334</td>\n",
       "      <td>0.732727</td>\n",
       "      <td>0.577692</td>\n",
       "      <td>0.503939</td>\n",
       "      <td>...</td>\n",
       "      <td>0.327047</td>\n",
       "      <td>0.290194</td>\n",
       "      <td>0.548448</td>\n",
       "      <td>-0.846086</td>\n",
       "      <td>-0.637993</td>\n",
       "      <td>-0.754218</td>\n",
       "      <td>-0.360348</td>\n",
       "      <td>-1.468750</td>\n",
       "      <td>-0.274558</td>\n",
       "      <td>-0.436413</td>\n",
       "    </tr>\n",
       "    <tr>\n",
       "      <th>BAYL-09017</th>\n",
       "      <td>0.259352</td>\n",
       "      <td>-0.393785</td>\n",
       "      <td>-0.085648</td>\n",
       "      <td>-0.456946</td>\n",
       "      <td>-0.100010</td>\n",
       "      <td>-0.430597</td>\n",
       "      <td>-0.934958</td>\n",
       "      <td>-0.717127</td>\n",
       "      <td>-0.502690</td>\n",
       "      <td>0.011626</td>\n",
       "      <td>...</td>\n",
       "      <td>0.245958</td>\n",
       "      <td>0.152486</td>\n",
       "      <td>-0.990145</td>\n",
       "      <td>-0.751530</td>\n",
       "      <td>-0.344058</td>\n",
       "      <td>0.185300</td>\n",
       "      <td>-0.199178</td>\n",
       "      <td>-0.873193</td>\n",
       "      <td>-0.051317</td>\n",
       "      <td>-0.524003</td>\n",
       "    </tr>\n",
       "    <tr>\n",
       "      <th>BAYL-09018</th>\n",
       "      <td>0.663814</td>\n",
       "      <td>-0.620911</td>\n",
       "      <td>0.146754</td>\n",
       "      <td>-0.487151</td>\n",
       "      <td>-0.035813</td>\n",
       "      <td>1.776304</td>\n",
       "      <td>-0.935897</td>\n",
       "      <td>-0.792685</td>\n",
       "      <td>-0.072844</td>\n",
       "      <td>-0.141565</td>\n",
       "      <td>...</td>\n",
       "      <td>0.359894</td>\n",
       "      <td>0.190815</td>\n",
       "      <td>-0.066881</td>\n",
       "      <td>-0.524852</td>\n",
       "      <td>-0.496174</td>\n",
       "      <td>0.339428</td>\n",
       "      <td>0.009612</td>\n",
       "      <td>-1.499563</td>\n",
       "      <td>-0.274558</td>\n",
       "      <td>0.296151</td>\n",
       "    </tr>\n",
       "    <tr>\n",
       "      <th>BAYL-09019</th>\n",
       "      <td>1.224882</td>\n",
       "      <td>-0.051171</td>\n",
       "      <td>-0.075051</td>\n",
       "      <td>-0.424689</td>\n",
       "      <td>-0.038375</td>\n",
       "      <td>0.182343</td>\n",
       "      <td>-1.142501</td>\n",
       "      <td>-0.180411</td>\n",
       "      <td>0.941848</td>\n",
       "      <td>-0.629578</td>\n",
       "      <td>...</td>\n",
       "      <td>0.477756</td>\n",
       "      <td>-0.076300</td>\n",
       "      <td>0.121604</td>\n",
       "      <td>-0.135553</td>\n",
       "      <td>-0.598959</td>\n",
       "      <td>-0.486772</td>\n",
       "      <td>-0.175536</td>\n",
       "      <td>-1.349107</td>\n",
       "      <td>-0.274558</td>\n",
       "      <td>0.396751</td>\n",
       "    </tr>\n",
       "  </tbody>\n",
       "</table>\n",
       "<p>5 rows × 30 columns</p>\n",
       "</div>"
      ],
      "text/plain": [
       "               40708     57591     53254     47993     39271     52608  \\\n",
       "BAYL-09014  0.368198 -0.649723  0.133451 -0.490229 -0.425909  0.006980   \n",
       "BAYL-09016  0.642681 -0.581132  0.133451 -0.434838 -0.417518  1.499696   \n",
       "BAYL-09017  0.259352 -0.393785 -0.085648 -0.456946 -0.100010 -0.430597   \n",
       "BAYL-09018  0.663814 -0.620911  0.146754 -0.487151 -0.035813  1.776304   \n",
       "BAYL-09019  1.224882 -0.051171 -0.075051 -0.424689 -0.038375  0.182343   \n",
       "\n",
       "               62059     33959     1769      52473  ...     19263     48457  \\\n",
       "BAYL-09014 -1.445462 -1.172990 -0.184244 -0.503781  ...  0.052194 -0.360240   \n",
       "BAYL-09016 -1.097334  0.732727  0.577692  0.503939  ...  0.327047  0.290194   \n",
       "BAYL-09017 -0.934958 -0.717127 -0.502690  0.011626  ...  0.245958  0.152486   \n",
       "BAYL-09018 -0.935897 -0.792685 -0.072844 -0.141565  ...  0.359894  0.190815   \n",
       "BAYL-09019 -1.142501 -0.180411  0.941848 -0.629578  ...  0.477756 -0.076300   \n",
       "\n",
       "               2761      48009     39609     46687     46511     49592  \\\n",
       "BAYL-09014 -0.223382 -0.873967 -0.602915 -0.604690 -0.286501 -0.033146   \n",
       "BAYL-09016  0.548448 -0.846086 -0.637993 -0.754218 -0.360348 -1.468750   \n",
       "BAYL-09017 -0.990145 -0.751530 -0.344058  0.185300 -0.199178 -0.873193   \n",
       "BAYL-09018 -0.066881 -0.524852 -0.496174  0.339428  0.009612 -1.499563   \n",
       "BAYL-09019  0.121604 -0.135553 -0.598959 -0.486772 -0.175536 -1.349107   \n",
       "\n",
       "               40007     45095  \n",
       "BAYL-09014 -2.424792 -1.069378  \n",
       "BAYL-09016 -0.274558 -0.436413  \n",
       "BAYL-09017 -0.051317 -0.524003  \n",
       "BAYL-09018 -0.274558  0.296151  \n",
       "BAYL-09019 -0.274558  0.396751  \n",
       "\n",
       "[5 rows x 30 columns]"
      ]
     },
     "execution_count": 84,
     "metadata": {},
     "output_type": "execute_result"
    }
   ],
   "source": [
    "df_mrmr_transformed.head()"
   ]
  },
  {
   "cell_type": "markdown",
   "id": "388618c9",
   "metadata": {},
   "source": [
    "### Classification"
   ]
  },
  {
   "cell_type": "code",
   "execution_count": null,
   "id": "b347d94c",
   "metadata": {},
   "outputs": [],
   "source": []
  },
  {
   "cell_type": "code",
   "execution_count": 85,
   "id": "97a8e296",
   "metadata": {},
   "outputs": [],
   "source": [
    "from sklearn.preprocessing import StandardScaler\n",
    "from sklearn.model_selection import train_test_split\n",
    "from sklearn.ensemble import RandomForestClassifier\n",
    "from sklearn.metrics import accuracy_score, classification_report, confusion_matrix\n",
    "from xgboost import XGBClassifier"
   ]
  },
  {
   "cell_type": "markdown",
   "id": "faf3c3ce",
   "metadata": {},
   "source": [
    "### train-test-split on shape (305, 948)"
   ]
  },
  {
   "cell_type": "code",
   "execution_count": 86,
   "id": "37e6a6dc",
   "metadata": {},
   "outputs": [],
   "source": [
    "X_train, X_test, y_train, y_test = train_test_split(df, target, stratify=target, test_size=0.2)"
   ]
  },
  {
   "cell_type": "code",
   "execution_count": 87,
   "id": "407faa33",
   "metadata": {},
   "outputs": [
    {
     "data": {
      "text/plain": [
       "(244, 948)"
      ]
     },
     "execution_count": 87,
     "metadata": {},
     "output_type": "execute_result"
    }
   ],
   "source": [
    "X_train.shape"
   ]
  },
  {
   "cell_type": "code",
   "execution_count": 88,
   "id": "b405e500",
   "metadata": {},
   "outputs": [
    {
     "data": {
      "text/plain": [
       "(61, 948)"
      ]
     },
     "execution_count": 88,
     "metadata": {},
     "output_type": "execute_result"
    }
   ],
   "source": [
    "X_test.shape"
   ]
  },
  {
   "cell_type": "code",
   "execution_count": 89,
   "id": "0ca5374d",
   "metadata": {},
   "outputs": [],
   "source": [
    "X_proba = pd.DataFrame(X_train, columns=df.columns)"
   ]
  },
  {
   "cell_type": "code",
   "execution_count": 90,
   "id": "d43a57f8",
   "metadata": {},
   "outputs": [
    {
     "data": {
      "text/html": [
       "<div>\n",
       "<style scoped>\n",
       "    .dataframe tbody tr th:only-of-type {\n",
       "        vertical-align: middle;\n",
       "    }\n",
       "\n",
       "    .dataframe tbody tr th {\n",
       "        vertical-align: top;\n",
       "    }\n",
       "\n",
       "    .dataframe thead th {\n",
       "        text-align: right;\n",
       "    }\n",
       "</style>\n",
       "<table border=\"1\" class=\"dataframe\">\n",
       "  <thead>\n",
       "    <tr style=\"text-align: right;\">\n",
       "      <th></th>\n",
       "      <th>42370</th>\n",
       "      <th>485</th>\n",
       "      <th>27665</th>\n",
       "      <th>38395</th>\n",
       "      <th>437</th>\n",
       "      <th>528</th>\n",
       "      <th>1417</th>\n",
       "      <th>1549</th>\n",
       "      <th>531</th>\n",
       "      <th>1414</th>\n",
       "      <th>...</th>\n",
       "      <th>53157</th>\n",
       "      <th>53266</th>\n",
       "      <th>53267</th>\n",
       "      <th>54840</th>\n",
       "      <th>57714</th>\n",
       "      <th>57716</th>\n",
       "      <th>57718</th>\n",
       "      <th>57719</th>\n",
       "      <th>57720</th>\n",
       "      <th>57754</th>\n",
       "    </tr>\n",
       "  </thead>\n",
       "  <tbody>\n",
       "    <tr>\n",
       "      <th>BAYL-09270</th>\n",
       "      <td>0.378441</td>\n",
       "      <td>2.167475</td>\n",
       "      <td>-0.199909</td>\n",
       "      <td>-1.009178</td>\n",
       "      <td>-0.254754</td>\n",
       "      <td>0.244201</td>\n",
       "      <td>-1.156406</td>\n",
       "      <td>0.151932</td>\n",
       "      <td>-0.781616</td>\n",
       "      <td>1.469057</td>\n",
       "      <td>...</td>\n",
       "      <td>-0.430141</td>\n",
       "      <td>-0.015330</td>\n",
       "      <td>0.344471</td>\n",
       "      <td>-0.079747</td>\n",
       "      <td>-0.789688</td>\n",
       "      <td>0.232183</td>\n",
       "      <td>-0.852112</td>\n",
       "      <td>0.783867</td>\n",
       "      <td>-0.425515</td>\n",
       "      <td>-0.146973</td>\n",
       "    </tr>\n",
       "    <tr>\n",
       "      <th>BAYL-09209</th>\n",
       "      <td>0.698042</td>\n",
       "      <td>-0.463898</td>\n",
       "      <td>1.368915</td>\n",
       "      <td>-0.279205</td>\n",
       "      <td>-0.145426</td>\n",
       "      <td>-0.364220</td>\n",
       "      <td>-0.385205</td>\n",
       "      <td>-0.361397</td>\n",
       "      <td>0.084756</td>\n",
       "      <td>-0.300743</td>\n",
       "      <td>...</td>\n",
       "      <td>0.770981</td>\n",
       "      <td>-0.015330</td>\n",
       "      <td>0.458293</td>\n",
       "      <td>0.853141</td>\n",
       "      <td>0.409053</td>\n",
       "      <td>-0.664098</td>\n",
       "      <td>-0.889548</td>\n",
       "      <td>0.917527</td>\n",
       "      <td>-0.940999</td>\n",
       "      <td>-0.475604</td>\n",
       "    </tr>\n",
       "    <tr>\n",
       "      <th>BAYL-09170</th>\n",
       "      <td>0.378441</td>\n",
       "      <td>-0.385250</td>\n",
       "      <td>-0.210587</td>\n",
       "      <td>-1.135547</td>\n",
       "      <td>-0.762372</td>\n",
       "      <td>0.150772</td>\n",
       "      <td>-0.294787</td>\n",
       "      <td>-0.178992</td>\n",
       "      <td>0.914021</td>\n",
       "      <td>-0.048752</td>\n",
       "      <td>...</td>\n",
       "      <td>-0.042384</td>\n",
       "      <td>-0.666992</td>\n",
       "      <td>-1.720765</td>\n",
       "      <td>-0.079747</td>\n",
       "      <td>0.932194</td>\n",
       "      <td>-0.168097</td>\n",
       "      <td>-0.661354</td>\n",
       "      <td>-0.832197</td>\n",
       "      <td>0.688553</td>\n",
       "      <td>-0.331291</td>\n",
       "    </tr>\n",
       "    <tr>\n",
       "      <th>BAYL-09027</th>\n",
       "      <td>0.908218</td>\n",
       "      <td>-0.508598</td>\n",
       "      <td>0.894295</td>\n",
       "      <td>-1.035706</td>\n",
       "      <td>-0.338579</td>\n",
       "      <td>-0.388542</td>\n",
       "      <td>0.256440</td>\n",
       "      <td>-0.387677</td>\n",
       "      <td>-0.333772</td>\n",
       "      <td>-0.724953</td>\n",
       "      <td>...</td>\n",
       "      <td>0.455259</td>\n",
       "      <td>-0.015330</td>\n",
       "      <td>-1.096008</td>\n",
       "      <td>-0.079747</td>\n",
       "      <td>-0.769043</td>\n",
       "      <td>0.009302</td>\n",
       "      <td>0.009604</td>\n",
       "      <td>-0.186101</td>\n",
       "      <td>0.899424</td>\n",
       "      <td>-0.258402</td>\n",
       "    </tr>\n",
       "    <tr>\n",
       "      <th>s_24226</th>\n",
       "      <td>-0.876376</td>\n",
       "      <td>1.750517</td>\n",
       "      <td>1.034021</td>\n",
       "      <td>-0.195551</td>\n",
       "      <td>-0.011331</td>\n",
       "      <td>2.253850</td>\n",
       "      <td>0.485007</td>\n",
       "      <td>0.490038</td>\n",
       "      <td>0.115943</td>\n",
       "      <td>-0.024186</td>\n",
       "      <td>...</td>\n",
       "      <td>2.520994</td>\n",
       "      <td>-1.105013</td>\n",
       "      <td>-0.115364</td>\n",
       "      <td>0.032251</td>\n",
       "      <td>-0.021118</td>\n",
       "      <td>-0.883044</td>\n",
       "      <td>-0.573106</td>\n",
       "      <td>-0.016027</td>\n",
       "      <td>0.668253</td>\n",
       "      <td>-0.392797</td>\n",
       "    </tr>\n",
       "    <tr>\n",
       "      <th>...</th>\n",
       "      <td>...</td>\n",
       "      <td>...</td>\n",
       "      <td>...</td>\n",
       "      <td>...</td>\n",
       "      <td>...</td>\n",
       "      <td>...</td>\n",
       "      <td>...</td>\n",
       "      <td>...</td>\n",
       "      <td>...</td>\n",
       "      <td>...</td>\n",
       "      <td>...</td>\n",
       "      <td>...</td>\n",
       "      <td>...</td>\n",
       "      <td>...</td>\n",
       "      <td>...</td>\n",
       "      <td>...</td>\n",
       "      <td>...</td>\n",
       "      <td>...</td>\n",
       "      <td>...</td>\n",
       "      <td>...</td>\n",
       "      <td>...</td>\n",
       "    </tr>\n",
       "    <tr>\n",
       "      <th>BAYL-09266</th>\n",
       "      <td>-0.784468</td>\n",
       "      <td>-0.286701</td>\n",
       "      <td>1.212203</td>\n",
       "      <td>0.028000</td>\n",
       "      <td>-0.169145</td>\n",
       "      <td>0.086355</td>\n",
       "      <td>-0.644210</td>\n",
       "      <td>0.165810</td>\n",
       "      <td>-0.838638</td>\n",
       "      <td>-0.518118</td>\n",
       "      <td>...</td>\n",
       "      <td>-0.267408</td>\n",
       "      <td>-0.206650</td>\n",
       "      <td>0.041574</td>\n",
       "      <td>0.288797</td>\n",
       "      <td>-0.051261</td>\n",
       "      <td>0.111875</td>\n",
       "      <td>0.330239</td>\n",
       "      <td>-0.457480</td>\n",
       "      <td>-0.348258</td>\n",
       "      <td>-0.487618</td>\n",
       "    </tr>\n",
       "    <tr>\n",
       "      <th>BAYL-09100</th>\n",
       "      <td>-0.759517</td>\n",
       "      <td>-0.506080</td>\n",
       "      <td>1.096814</td>\n",
       "      <td>0.022104</td>\n",
       "      <td>0.110456</td>\n",
       "      <td>0.593346</td>\n",
       "      <td>-0.307033</td>\n",
       "      <td>-0.365303</td>\n",
       "      <td>0.953258</td>\n",
       "      <td>0.606841</td>\n",
       "      <td>...</td>\n",
       "      <td>-0.389328</td>\n",
       "      <td>-0.015330</td>\n",
       "      <td>-0.356181</td>\n",
       "      <td>-0.188851</td>\n",
       "      <td>1.828640</td>\n",
       "      <td>-0.622879</td>\n",
       "      <td>-0.205732</td>\n",
       "      <td>0.162763</td>\n",
       "      <td>-0.263348</td>\n",
       "      <td>-0.541257</td>\n",
       "    </tr>\n",
       "    <tr>\n",
       "      <th>BAYL-09026</th>\n",
       "      <td>-0.937158</td>\n",
       "      <td>0.299319</td>\n",
       "      <td>1.264300</td>\n",
       "      <td>-0.007416</td>\n",
       "      <td>-0.410208</td>\n",
       "      <td>-0.223980</td>\n",
       "      <td>0.327778</td>\n",
       "      <td>0.349658</td>\n",
       "      <td>-0.390416</td>\n",
       "      <td>-0.025219</td>\n",
       "      <td>...</td>\n",
       "      <td>0.246318</td>\n",
       "      <td>-0.083972</td>\n",
       "      <td>-1.366937</td>\n",
       "      <td>-0.036792</td>\n",
       "      <td>-0.053329</td>\n",
       "      <td>-0.527794</td>\n",
       "      <td>-0.968224</td>\n",
       "      <td>-0.558766</td>\n",
       "      <td>-0.031788</td>\n",
       "      <td>-0.114122</td>\n",
       "    </tr>\n",
       "    <tr>\n",
       "      <th>s_22787</th>\n",
       "      <td>-0.052360</td>\n",
       "      <td>0.534076</td>\n",
       "      <td>-1.303274</td>\n",
       "      <td>-1.122262</td>\n",
       "      <td>-0.011331</td>\n",
       "      <td>0.466516</td>\n",
       "      <td>-1.077055</td>\n",
       "      <td>-0.012729</td>\n",
       "      <td>1.205847</td>\n",
       "      <td>-0.321399</td>\n",
       "      <td>...</td>\n",
       "      <td>-0.012596</td>\n",
       "      <td>-0.725384</td>\n",
       "      <td>-0.115364</td>\n",
       "      <td>0.032251</td>\n",
       "      <td>0.505416</td>\n",
       "      <td>1.012587</td>\n",
       "      <td>-1.602580</td>\n",
       "      <td>-0.016027</td>\n",
       "      <td>-1.581236</td>\n",
       "      <td>-0.520321</td>\n",
       "    </tr>\n",
       "    <tr>\n",
       "      <th>BAYL-09236</th>\n",
       "      <td>0.378441</td>\n",
       "      <td>-0.517069</td>\n",
       "      <td>-0.198384</td>\n",
       "      <td>-0.599014</td>\n",
       "      <td>-0.622413</td>\n",
       "      <td>-0.422995</td>\n",
       "      <td>-0.508033</td>\n",
       "      <td>-0.019878</td>\n",
       "      <td>-0.467532</td>\n",
       "      <td>-0.339161</td>\n",
       "      <td>...</td>\n",
       "      <td>-0.320133</td>\n",
       "      <td>-0.617974</td>\n",
       "      <td>-0.637072</td>\n",
       "      <td>0.939949</td>\n",
       "      <td>-0.319614</td>\n",
       "      <td>0.115799</td>\n",
       "      <td>2.434920</td>\n",
       "      <td>0.136526</td>\n",
       "      <td>3.015980</td>\n",
       "      <td>-0.544545</td>\n",
       "    </tr>\n",
       "  </tbody>\n",
       "</table>\n",
       "<p>244 rows × 948 columns</p>\n",
       "</div>"
      ],
      "text/plain": [
       "               42370     485       27665     38395     437       528    \\\n",
       "BAYL-09270  0.378441  2.167475 -0.199909 -1.009178 -0.254754  0.244201   \n",
       "BAYL-09209  0.698042 -0.463898  1.368915 -0.279205 -0.145426 -0.364220   \n",
       "BAYL-09170  0.378441 -0.385250 -0.210587 -1.135547 -0.762372  0.150772   \n",
       "BAYL-09027  0.908218 -0.508598  0.894295 -1.035706 -0.338579 -0.388542   \n",
       "s_24226    -0.876376  1.750517  1.034021 -0.195551 -0.011331  2.253850   \n",
       "...              ...       ...       ...       ...       ...       ...   \n",
       "BAYL-09266 -0.784468 -0.286701  1.212203  0.028000 -0.169145  0.086355   \n",
       "BAYL-09100 -0.759517 -0.506080  1.096814  0.022104  0.110456  0.593346   \n",
       "BAYL-09026 -0.937158  0.299319  1.264300 -0.007416 -0.410208 -0.223980   \n",
       "s_22787    -0.052360  0.534076 -1.303274 -1.122262 -0.011331  0.466516   \n",
       "BAYL-09236  0.378441 -0.517069 -0.198384 -0.599014 -0.622413 -0.422995   \n",
       "\n",
       "               1417      1549      531       1414   ...     53157     53266  \\\n",
       "BAYL-09270 -1.156406  0.151932 -0.781616  1.469057  ... -0.430141 -0.015330   \n",
       "BAYL-09209 -0.385205 -0.361397  0.084756 -0.300743  ...  0.770981 -0.015330   \n",
       "BAYL-09170 -0.294787 -0.178992  0.914021 -0.048752  ... -0.042384 -0.666992   \n",
       "BAYL-09027  0.256440 -0.387677 -0.333772 -0.724953  ...  0.455259 -0.015330   \n",
       "s_24226     0.485007  0.490038  0.115943 -0.024186  ...  2.520994 -1.105013   \n",
       "...              ...       ...       ...       ...  ...       ...       ...   \n",
       "BAYL-09266 -0.644210  0.165810 -0.838638 -0.518118  ... -0.267408 -0.206650   \n",
       "BAYL-09100 -0.307033 -0.365303  0.953258  0.606841  ... -0.389328 -0.015330   \n",
       "BAYL-09026  0.327778  0.349658 -0.390416 -0.025219  ...  0.246318 -0.083972   \n",
       "s_22787    -1.077055 -0.012729  1.205847 -0.321399  ... -0.012596 -0.725384   \n",
       "BAYL-09236 -0.508033 -0.019878 -0.467532 -0.339161  ... -0.320133 -0.617974   \n",
       "\n",
       "               53267     54840     57714     57716     57718     57719  \\\n",
       "BAYL-09270  0.344471 -0.079747 -0.789688  0.232183 -0.852112  0.783867   \n",
       "BAYL-09209  0.458293  0.853141  0.409053 -0.664098 -0.889548  0.917527   \n",
       "BAYL-09170 -1.720765 -0.079747  0.932194 -0.168097 -0.661354 -0.832197   \n",
       "BAYL-09027 -1.096008 -0.079747 -0.769043  0.009302  0.009604 -0.186101   \n",
       "s_24226    -0.115364  0.032251 -0.021118 -0.883044 -0.573106 -0.016027   \n",
       "...              ...       ...       ...       ...       ...       ...   \n",
       "BAYL-09266  0.041574  0.288797 -0.051261  0.111875  0.330239 -0.457480   \n",
       "BAYL-09100 -0.356181 -0.188851  1.828640 -0.622879 -0.205732  0.162763   \n",
       "BAYL-09026 -1.366937 -0.036792 -0.053329 -0.527794 -0.968224 -0.558766   \n",
       "s_22787    -0.115364  0.032251  0.505416  1.012587 -1.602580 -0.016027   \n",
       "BAYL-09236 -0.637072  0.939949 -0.319614  0.115799  2.434920  0.136526   \n",
       "\n",
       "               57720     57754  \n",
       "BAYL-09270 -0.425515 -0.146973  \n",
       "BAYL-09209 -0.940999 -0.475604  \n",
       "BAYL-09170  0.688553 -0.331291  \n",
       "BAYL-09027  0.899424 -0.258402  \n",
       "s_24226     0.668253 -0.392797  \n",
       "...              ...       ...  \n",
       "BAYL-09266 -0.348258 -0.487618  \n",
       "BAYL-09100 -0.263348 -0.541257  \n",
       "BAYL-09026 -0.031788 -0.114122  \n",
       "s_22787    -1.581236 -0.520321  \n",
       "BAYL-09236  3.015980 -0.544545  \n",
       "\n",
       "[244 rows x 948 columns]"
      ]
     },
     "execution_count": 90,
     "metadata": {},
     "output_type": "execute_result"
    }
   ],
   "source": [
    "X_proba"
   ]
  },
  {
   "cell_type": "code",
   "execution_count": 91,
   "id": "41a28a11",
   "metadata": {},
   "outputs": [],
   "source": [
    "scaler = StandardScaler()"
   ]
  },
  {
   "cell_type": "code",
   "execution_count": 92,
   "id": "bc45a7d6",
   "metadata": {},
   "outputs": [],
   "source": [
    "scaler.fit(X_train)\n",
    "X_train = scaler.transform(X_train)\n",
    "X_test = scaler.transform(X_test)"
   ]
  },
  {
   "cell_type": "code",
   "execution_count": 93,
   "id": "07a7004e",
   "metadata": {},
   "outputs": [],
   "source": [
    "model = RandomForestClassifier(n_estimators=10, max_depth=20)"
   ]
  },
  {
   "cell_type": "code",
   "execution_count": 94,
   "id": "47283bb8",
   "metadata": {
    "scrolled": true
   },
   "outputs": [
    {
     "data": {
      "text/html": [
       "<style>#sk-container-id-2 {color: black;background-color: white;}#sk-container-id-2 pre{padding: 0;}#sk-container-id-2 div.sk-toggleable {background-color: white;}#sk-container-id-2 label.sk-toggleable__label {cursor: pointer;display: block;width: 100%;margin-bottom: 0;padding: 0.3em;box-sizing: border-box;text-align: center;}#sk-container-id-2 label.sk-toggleable__label-arrow:before {content: \"▸\";float: left;margin-right: 0.25em;color: #696969;}#sk-container-id-2 label.sk-toggleable__label-arrow:hover:before {color: black;}#sk-container-id-2 div.sk-estimator:hover label.sk-toggleable__label-arrow:before {color: black;}#sk-container-id-2 div.sk-toggleable__content {max-height: 0;max-width: 0;overflow: hidden;text-align: left;background-color: #f0f8ff;}#sk-container-id-2 div.sk-toggleable__content pre {margin: 0.2em;color: black;border-radius: 0.25em;background-color: #f0f8ff;}#sk-container-id-2 input.sk-toggleable__control:checked~div.sk-toggleable__content {max-height: 200px;max-width: 100%;overflow: auto;}#sk-container-id-2 input.sk-toggleable__control:checked~label.sk-toggleable__label-arrow:before {content: \"▾\";}#sk-container-id-2 div.sk-estimator input.sk-toggleable__control:checked~label.sk-toggleable__label {background-color: #d4ebff;}#sk-container-id-2 div.sk-label input.sk-toggleable__control:checked~label.sk-toggleable__label {background-color: #d4ebff;}#sk-container-id-2 input.sk-hidden--visually {border: 0;clip: rect(1px 1px 1px 1px);clip: rect(1px, 1px, 1px, 1px);height: 1px;margin: -1px;overflow: hidden;padding: 0;position: absolute;width: 1px;}#sk-container-id-2 div.sk-estimator {font-family: monospace;background-color: #f0f8ff;border: 1px dotted black;border-radius: 0.25em;box-sizing: border-box;margin-bottom: 0.5em;}#sk-container-id-2 div.sk-estimator:hover {background-color: #d4ebff;}#sk-container-id-2 div.sk-parallel-item::after {content: \"\";width: 100%;border-bottom: 1px solid gray;flex-grow: 1;}#sk-container-id-2 div.sk-label:hover label.sk-toggleable__label {background-color: #d4ebff;}#sk-container-id-2 div.sk-serial::before {content: \"\";position: absolute;border-left: 1px solid gray;box-sizing: border-box;top: 0;bottom: 0;left: 50%;z-index: 0;}#sk-container-id-2 div.sk-serial {display: flex;flex-direction: column;align-items: center;background-color: white;padding-right: 0.2em;padding-left: 0.2em;position: relative;}#sk-container-id-2 div.sk-item {position: relative;z-index: 1;}#sk-container-id-2 div.sk-parallel {display: flex;align-items: stretch;justify-content: center;background-color: white;position: relative;}#sk-container-id-2 div.sk-item::before, #sk-container-id-2 div.sk-parallel-item::before {content: \"\";position: absolute;border-left: 1px solid gray;box-sizing: border-box;top: 0;bottom: 0;left: 50%;z-index: -1;}#sk-container-id-2 div.sk-parallel-item {display: flex;flex-direction: column;z-index: 1;position: relative;background-color: white;}#sk-container-id-2 div.sk-parallel-item:first-child::after {align-self: flex-end;width: 50%;}#sk-container-id-2 div.sk-parallel-item:last-child::after {align-self: flex-start;width: 50%;}#sk-container-id-2 div.sk-parallel-item:only-child::after {width: 0;}#sk-container-id-2 div.sk-dashed-wrapped {border: 1px dashed gray;margin: 0 0.4em 0.5em 0.4em;box-sizing: border-box;padding-bottom: 0.4em;background-color: white;}#sk-container-id-2 div.sk-label label {font-family: monospace;font-weight: bold;display: inline-block;line-height: 1.2em;}#sk-container-id-2 div.sk-label-container {text-align: center;}#sk-container-id-2 div.sk-container {/* jupyter's `normalize.less` sets `[hidden] { display: none; }` but bootstrap.min.css set `[hidden] { display: none !important; }` so we also need the `!important` here to be able to override the default hidden behavior on the sphinx rendered scikit-learn.org. See: https://github.com/scikit-learn/scikit-learn/issues/21755 */display: inline-block !important;position: relative;}#sk-container-id-2 div.sk-text-repr-fallback {display: none;}</style><div id=\"sk-container-id-2\" class=\"sk-top-container\"><div class=\"sk-text-repr-fallback\"><pre>RandomForestClassifier(max_depth=20, n_estimators=10)</pre><b>In a Jupyter environment, please rerun this cell to show the HTML representation or trust the notebook. <br />On GitHub, the HTML representation is unable to render, please try loading this page with nbviewer.org.</b></div><div class=\"sk-container\" hidden><div class=\"sk-item\"><div class=\"sk-estimator sk-toggleable\"><input class=\"sk-toggleable__control sk-hidden--visually\" id=\"sk-estimator-id-2\" type=\"checkbox\" checked><label for=\"sk-estimator-id-2\" class=\"sk-toggleable__label sk-toggleable__label-arrow\">RandomForestClassifier</label><div class=\"sk-toggleable__content\"><pre>RandomForestClassifier(max_depth=20, n_estimators=10)</pre></div></div></div></div></div>"
      ],
      "text/plain": [
       "RandomForestClassifier(max_depth=20, n_estimators=10)"
      ]
     },
     "execution_count": 94,
     "metadata": {},
     "output_type": "execute_result"
    }
   ],
   "source": [
    "model.fit(X_train, y_train)"
   ]
  },
  {
   "cell_type": "code",
   "execution_count": 95,
   "id": "333585d3",
   "metadata": {},
   "outputs": [],
   "source": [
    "y_pred = model.predict(X_test)"
   ]
  },
  {
   "cell_type": "code",
   "execution_count": 96,
   "id": "dbe97ecb",
   "metadata": {},
   "outputs": [
    {
     "data": {
      "text/plain": [
       "0.7213114754098361"
      ]
     },
     "execution_count": 96,
     "metadata": {},
     "output_type": "execute_result"
    }
   ],
   "source": [
    "accuracy_score(y_test, y_pred)"
   ]
  },
  {
   "cell_type": "code",
   "execution_count": 97,
   "id": "90dc1c18",
   "metadata": {},
   "outputs": [
    {
     "name": "stdout",
     "output_type": "stream",
     "text": [
      "              precision    recall  f1-score   support\n",
      "\n",
      "         0.0       0.74      0.93      0.82        42\n",
      "         1.0       0.62      0.26      0.37        19\n",
      "\n",
      "    accuracy                           0.72        61\n",
      "   macro avg       0.68      0.60      0.60        61\n",
      "weighted avg       0.70      0.72      0.68        61\n",
      "\n"
     ]
    }
   ],
   "source": [
    "print(classification_report(y_test, y_pred))"
   ]
  },
  {
   "cell_type": "code",
   "execution_count": 98,
   "id": "42da8ad8",
   "metadata": {},
   "outputs": [
    {
     "data": {
      "text/plain": [
       "array([[39,  3],\n",
       "       [14,  5]])"
      ]
     },
     "execution_count": 98,
     "metadata": {},
     "output_type": "execute_result"
    }
   ],
   "source": [
    "confusion_matrix(y_test, y_pred)"
   ]
  },
  {
   "cell_type": "code",
   "execution_count": 99,
   "id": "f882561a",
   "metadata": {},
   "outputs": [],
   "source": [
    "importances = model.feature_importances_"
   ]
  },
  {
   "cell_type": "code",
   "execution_count": 100,
   "id": "dea63db6",
   "metadata": {},
   "outputs": [
    {
     "data": {
      "text/plain": [
       "0.036830512792382725"
      ]
     },
     "execution_count": 100,
     "metadata": {},
     "output_type": "execute_result"
    }
   ],
   "source": [
    "importances.max()"
   ]
  },
  {
   "cell_type": "code",
   "execution_count": 101,
   "id": "4766374c",
   "metadata": {},
   "outputs": [
    {
     "data": {
      "text/plain": [
       "0.0"
      ]
     },
     "execution_count": 101,
     "metadata": {},
     "output_type": "execute_result"
    }
   ],
   "source": [
    "importances.min()"
   ]
  },
  {
   "cell_type": "code",
   "execution_count": 102,
   "id": "fb8b2b91",
   "metadata": {},
   "outputs": [
    {
     "data": {
      "text/plain": [
       "768"
      ]
     },
     "execution_count": 102,
     "metadata": {},
     "output_type": "execute_result"
    }
   ],
   "source": [
    "len([x for x in importances if x == 0])"
   ]
  },
  {
   "cell_type": "code",
   "execution_count": 103,
   "id": "85846d39",
   "metadata": {},
   "outputs": [],
   "source": [
    "bst = XGBClassifier(n_estimators=10, max_depth=20, learning_rate=1, objective='binary:logistic')"
   ]
  },
  {
   "cell_type": "code",
   "execution_count": 104,
   "id": "5aee0c76",
   "metadata": {},
   "outputs": [
    {
     "data": {
      "text/html": [
       "<style>#sk-container-id-3 {color: black;background-color: white;}#sk-container-id-3 pre{padding: 0;}#sk-container-id-3 div.sk-toggleable {background-color: white;}#sk-container-id-3 label.sk-toggleable__label {cursor: pointer;display: block;width: 100%;margin-bottom: 0;padding: 0.3em;box-sizing: border-box;text-align: center;}#sk-container-id-3 label.sk-toggleable__label-arrow:before {content: \"▸\";float: left;margin-right: 0.25em;color: #696969;}#sk-container-id-3 label.sk-toggleable__label-arrow:hover:before {color: black;}#sk-container-id-3 div.sk-estimator:hover label.sk-toggleable__label-arrow:before {color: black;}#sk-container-id-3 div.sk-toggleable__content {max-height: 0;max-width: 0;overflow: hidden;text-align: left;background-color: #f0f8ff;}#sk-container-id-3 div.sk-toggleable__content pre {margin: 0.2em;color: black;border-radius: 0.25em;background-color: #f0f8ff;}#sk-container-id-3 input.sk-toggleable__control:checked~div.sk-toggleable__content {max-height: 200px;max-width: 100%;overflow: auto;}#sk-container-id-3 input.sk-toggleable__control:checked~label.sk-toggleable__label-arrow:before {content: \"▾\";}#sk-container-id-3 div.sk-estimator input.sk-toggleable__control:checked~label.sk-toggleable__label {background-color: #d4ebff;}#sk-container-id-3 div.sk-label input.sk-toggleable__control:checked~label.sk-toggleable__label {background-color: #d4ebff;}#sk-container-id-3 input.sk-hidden--visually {border: 0;clip: rect(1px 1px 1px 1px);clip: rect(1px, 1px, 1px, 1px);height: 1px;margin: -1px;overflow: hidden;padding: 0;position: absolute;width: 1px;}#sk-container-id-3 div.sk-estimator {font-family: monospace;background-color: #f0f8ff;border: 1px dotted black;border-radius: 0.25em;box-sizing: border-box;margin-bottom: 0.5em;}#sk-container-id-3 div.sk-estimator:hover {background-color: #d4ebff;}#sk-container-id-3 div.sk-parallel-item::after {content: \"\";width: 100%;border-bottom: 1px solid gray;flex-grow: 1;}#sk-container-id-3 div.sk-label:hover label.sk-toggleable__label {background-color: #d4ebff;}#sk-container-id-3 div.sk-serial::before {content: \"\";position: absolute;border-left: 1px solid gray;box-sizing: border-box;top: 0;bottom: 0;left: 50%;z-index: 0;}#sk-container-id-3 div.sk-serial {display: flex;flex-direction: column;align-items: center;background-color: white;padding-right: 0.2em;padding-left: 0.2em;position: relative;}#sk-container-id-3 div.sk-item {position: relative;z-index: 1;}#sk-container-id-3 div.sk-parallel {display: flex;align-items: stretch;justify-content: center;background-color: white;position: relative;}#sk-container-id-3 div.sk-item::before, #sk-container-id-3 div.sk-parallel-item::before {content: \"\";position: absolute;border-left: 1px solid gray;box-sizing: border-box;top: 0;bottom: 0;left: 50%;z-index: -1;}#sk-container-id-3 div.sk-parallel-item {display: flex;flex-direction: column;z-index: 1;position: relative;background-color: white;}#sk-container-id-3 div.sk-parallel-item:first-child::after {align-self: flex-end;width: 50%;}#sk-container-id-3 div.sk-parallel-item:last-child::after {align-self: flex-start;width: 50%;}#sk-container-id-3 div.sk-parallel-item:only-child::after {width: 0;}#sk-container-id-3 div.sk-dashed-wrapped {border: 1px dashed gray;margin: 0 0.4em 0.5em 0.4em;box-sizing: border-box;padding-bottom: 0.4em;background-color: white;}#sk-container-id-3 div.sk-label label {font-family: monospace;font-weight: bold;display: inline-block;line-height: 1.2em;}#sk-container-id-3 div.sk-label-container {text-align: center;}#sk-container-id-3 div.sk-container {/* jupyter's `normalize.less` sets `[hidden] { display: none; }` but bootstrap.min.css set `[hidden] { display: none !important; }` so we also need the `!important` here to be able to override the default hidden behavior on the sphinx rendered scikit-learn.org. See: https://github.com/scikit-learn/scikit-learn/issues/21755 */display: inline-block !important;position: relative;}#sk-container-id-3 div.sk-text-repr-fallback {display: none;}</style><div id=\"sk-container-id-3\" class=\"sk-top-container\"><div class=\"sk-text-repr-fallback\"><pre>XGBClassifier(base_score=None, booster=None, callbacks=None,\n",
       "              colsample_bylevel=None, colsample_bynode=None,\n",
       "              colsample_bytree=None, early_stopping_rounds=None,\n",
       "              enable_categorical=False, eval_metric=None, feature_types=None,\n",
       "              gamma=None, gpu_id=None, grow_policy=None, importance_type=None,\n",
       "              interaction_constraints=None, learning_rate=1, max_bin=None,\n",
       "              max_cat_threshold=None, max_cat_to_onehot=None,\n",
       "              max_delta_step=None, max_depth=20, max_leaves=None,\n",
       "              min_child_weight=None, missing=nan, monotone_constraints=None,\n",
       "              n_estimators=10, n_jobs=None, num_parallel_tree=None,\n",
       "              predictor=None, random_state=None, ...)</pre><b>In a Jupyter environment, please rerun this cell to show the HTML representation or trust the notebook. <br />On GitHub, the HTML representation is unable to render, please try loading this page with nbviewer.org.</b></div><div class=\"sk-container\" hidden><div class=\"sk-item\"><div class=\"sk-estimator sk-toggleable\"><input class=\"sk-toggleable__control sk-hidden--visually\" id=\"sk-estimator-id-3\" type=\"checkbox\" checked><label for=\"sk-estimator-id-3\" class=\"sk-toggleable__label sk-toggleable__label-arrow\">XGBClassifier</label><div class=\"sk-toggleable__content\"><pre>XGBClassifier(base_score=None, booster=None, callbacks=None,\n",
       "              colsample_bylevel=None, colsample_bynode=None,\n",
       "              colsample_bytree=None, early_stopping_rounds=None,\n",
       "              enable_categorical=False, eval_metric=None, feature_types=None,\n",
       "              gamma=None, gpu_id=None, grow_policy=None, importance_type=None,\n",
       "              interaction_constraints=None, learning_rate=1, max_bin=None,\n",
       "              max_cat_threshold=None, max_cat_to_onehot=None,\n",
       "              max_delta_step=None, max_depth=20, max_leaves=None,\n",
       "              min_child_weight=None, missing=nan, monotone_constraints=None,\n",
       "              n_estimators=10, n_jobs=None, num_parallel_tree=None,\n",
       "              predictor=None, random_state=None, ...)</pre></div></div></div></div></div>"
      ],
      "text/plain": [
       "XGBClassifier(base_score=None, booster=None, callbacks=None,\n",
       "              colsample_bylevel=None, colsample_bynode=None,\n",
       "              colsample_bytree=None, early_stopping_rounds=None,\n",
       "              enable_categorical=False, eval_metric=None, feature_types=None,\n",
       "              gamma=None, gpu_id=None, grow_policy=None, importance_type=None,\n",
       "              interaction_constraints=None, learning_rate=1, max_bin=None,\n",
       "              max_cat_threshold=None, max_cat_to_onehot=None,\n",
       "              max_delta_step=None, max_depth=20, max_leaves=None,\n",
       "              min_child_weight=None, missing=nan, monotone_constraints=None,\n",
       "              n_estimators=10, n_jobs=None, num_parallel_tree=None,\n",
       "              predictor=None, random_state=None, ...)"
      ]
     },
     "execution_count": 104,
     "metadata": {},
     "output_type": "execute_result"
    }
   ],
   "source": [
    "bst.fit(X_train, y_train)"
   ]
  },
  {
   "cell_type": "code",
   "execution_count": 105,
   "id": "04c3ec40",
   "metadata": {},
   "outputs": [],
   "source": [
    "y_pred = bst.predict(X_test)"
   ]
  },
  {
   "cell_type": "code",
   "execution_count": 106,
   "id": "0e36f0df",
   "metadata": {
    "scrolled": true
   },
   "outputs": [
    {
     "name": "stdout",
     "output_type": "stream",
     "text": [
      "              precision    recall  f1-score   support\n",
      "\n",
      "         0.0       0.76      0.83      0.80        42\n",
      "         1.0       0.53      0.42      0.47        19\n",
      "\n",
      "    accuracy                           0.70        61\n",
      "   macro avg       0.65      0.63      0.63        61\n",
      "weighted avg       0.69      0.70      0.69        61\n",
      "\n"
     ]
    }
   ],
   "source": [
    "print(classification_report(y_test, y_pred))"
   ]
  },
  {
   "cell_type": "code",
   "execution_count": 107,
   "id": "9b825c36",
   "metadata": {},
   "outputs": [
    {
     "data": {
      "text/plain": [
       "array([[35,  7],\n",
       "       [11,  8]])"
      ]
     },
     "execution_count": 107,
     "metadata": {},
     "output_type": "execute_result"
    }
   ],
   "source": [
    "confusion_matrix(y_test, y_pred)"
   ]
  },
  {
   "cell_type": "markdown",
   "id": "98e81776",
   "metadata": {},
   "source": [
    "### Choosing hyperparameters"
   ]
  },
  {
   "cell_type": "code",
   "execution_count": 109,
   "id": "65e1fcd1",
   "metadata": {},
   "outputs": [],
   "source": [
    "from sklearn.model_selection import GridSearchCV\n",
    "from sklearn.pipeline import Pipeline"
   ]
  },
  {
   "cell_type": "code",
   "execution_count": 110,
   "id": "7bb52cb3",
   "metadata": {},
   "outputs": [],
   "source": [
    "X_train, X_test, y_train, y_test = train_test_split(df, target, stratify=target, test_size=0.2, random_state=47)"
   ]
  },
  {
   "cell_type": "code",
   "execution_count": 111,
   "id": "12532b11",
   "metadata": {},
   "outputs": [],
   "source": [
    "pipe = Pipeline([('mrmr', MRMR()), ('scaler', StandardScaler()), ('classifier', RandomForestClassifier())])"
   ]
  },
  {
   "cell_type": "code",
   "execution_count": 112,
   "id": "016cef7f",
   "metadata": {},
   "outputs": [],
   "source": [
    "params = {\n",
    "    'mrmr__solution_length' : [40, 60, 80, 100, 120, 140, 160, 180, 200, 220],\n",
    "    'classifier__n_estimators' : [100, 200, 500, 1000],\n",
    "    'classifier__max_depth' : [10, 20, 30]\n",
    "}"
   ]
  },
  {
   "cell_type": "code",
   "execution_count": 113,
   "id": "26ffbdd7",
   "metadata": {},
   "outputs": [
    {
     "data": {
      "text/plain": [
       "['accuracy',\n",
       " 'adjusted_mutual_info_score',\n",
       " 'adjusted_rand_score',\n",
       " 'average_precision',\n",
       " 'balanced_accuracy',\n",
       " 'completeness_score',\n",
       " 'explained_variance',\n",
       " 'f1',\n",
       " 'f1_macro',\n",
       " 'f1_micro',\n",
       " 'f1_samples',\n",
       " 'f1_weighted',\n",
       " 'fowlkes_mallows_score',\n",
       " 'homogeneity_score',\n",
       " 'jaccard',\n",
       " 'jaccard_macro',\n",
       " 'jaccard_micro',\n",
       " 'jaccard_samples',\n",
       " 'jaccard_weighted',\n",
       " 'matthews_corrcoef',\n",
       " 'max_error',\n",
       " 'mutual_info_score',\n",
       " 'neg_brier_score',\n",
       " 'neg_log_loss',\n",
       " 'neg_mean_absolute_error',\n",
       " 'neg_mean_absolute_percentage_error',\n",
       " 'neg_mean_gamma_deviance',\n",
       " 'neg_mean_poisson_deviance',\n",
       " 'neg_mean_squared_error',\n",
       " 'neg_mean_squared_log_error',\n",
       " 'neg_median_absolute_error',\n",
       " 'neg_negative_likelihood_ratio',\n",
       " 'neg_root_mean_squared_error',\n",
       " 'normalized_mutual_info_score',\n",
       " 'positive_likelihood_ratio',\n",
       " 'precision',\n",
       " 'precision_macro',\n",
       " 'precision_micro',\n",
       " 'precision_samples',\n",
       " 'precision_weighted',\n",
       " 'r2',\n",
       " 'rand_score',\n",
       " 'recall',\n",
       " 'recall_macro',\n",
       " 'recall_micro',\n",
       " 'recall_samples',\n",
       " 'recall_weighted',\n",
       " 'roc_auc',\n",
       " 'roc_auc_ovo',\n",
       " 'roc_auc_ovo_weighted',\n",
       " 'roc_auc_ovr',\n",
       " 'roc_auc_ovr_weighted',\n",
       " 'top_k_accuracy',\n",
       " 'v_measure_score']"
      ]
     },
     "execution_count": 113,
     "metadata": {},
     "output_type": "execute_result"
    }
   ],
   "source": [
    "from sklearn.metrics import get_scorer_names\n",
    "get_scorer_names()"
   ]
  },
  {
   "cell_type": "code",
   "execution_count": null,
   "id": "6b7af69c",
   "metadata": {},
   "outputs": [],
   "source": []
  },
  {
   "cell_type": "code",
   "execution_count": 114,
   "id": "c9ec2dd4",
   "metadata": {},
   "outputs": [
    {
     "data": {
      "text/html": [
       "<style>#sk-container-id-4 {color: black;background-color: white;}#sk-container-id-4 pre{padding: 0;}#sk-container-id-4 div.sk-toggleable {background-color: white;}#sk-container-id-4 label.sk-toggleable__label {cursor: pointer;display: block;width: 100%;margin-bottom: 0;padding: 0.3em;box-sizing: border-box;text-align: center;}#sk-container-id-4 label.sk-toggleable__label-arrow:before {content: \"▸\";float: left;margin-right: 0.25em;color: #696969;}#sk-container-id-4 label.sk-toggleable__label-arrow:hover:before {color: black;}#sk-container-id-4 div.sk-estimator:hover label.sk-toggleable__label-arrow:before {color: black;}#sk-container-id-4 div.sk-toggleable__content {max-height: 0;max-width: 0;overflow: hidden;text-align: left;background-color: #f0f8ff;}#sk-container-id-4 div.sk-toggleable__content pre {margin: 0.2em;color: black;border-radius: 0.25em;background-color: #f0f8ff;}#sk-container-id-4 input.sk-toggleable__control:checked~div.sk-toggleable__content {max-height: 200px;max-width: 100%;overflow: auto;}#sk-container-id-4 input.sk-toggleable__control:checked~label.sk-toggleable__label-arrow:before {content: \"▾\";}#sk-container-id-4 div.sk-estimator input.sk-toggleable__control:checked~label.sk-toggleable__label {background-color: #d4ebff;}#sk-container-id-4 div.sk-label input.sk-toggleable__control:checked~label.sk-toggleable__label {background-color: #d4ebff;}#sk-container-id-4 input.sk-hidden--visually {border: 0;clip: rect(1px 1px 1px 1px);clip: rect(1px, 1px, 1px, 1px);height: 1px;margin: -1px;overflow: hidden;padding: 0;position: absolute;width: 1px;}#sk-container-id-4 div.sk-estimator {font-family: monospace;background-color: #f0f8ff;border: 1px dotted black;border-radius: 0.25em;box-sizing: border-box;margin-bottom: 0.5em;}#sk-container-id-4 div.sk-estimator:hover {background-color: #d4ebff;}#sk-container-id-4 div.sk-parallel-item::after {content: \"\";width: 100%;border-bottom: 1px solid gray;flex-grow: 1;}#sk-container-id-4 div.sk-label:hover label.sk-toggleable__label {background-color: #d4ebff;}#sk-container-id-4 div.sk-serial::before {content: \"\";position: absolute;border-left: 1px solid gray;box-sizing: border-box;top: 0;bottom: 0;left: 50%;z-index: 0;}#sk-container-id-4 div.sk-serial {display: flex;flex-direction: column;align-items: center;background-color: white;padding-right: 0.2em;padding-left: 0.2em;position: relative;}#sk-container-id-4 div.sk-item {position: relative;z-index: 1;}#sk-container-id-4 div.sk-parallel {display: flex;align-items: stretch;justify-content: center;background-color: white;position: relative;}#sk-container-id-4 div.sk-item::before, #sk-container-id-4 div.sk-parallel-item::before {content: \"\";position: absolute;border-left: 1px solid gray;box-sizing: border-box;top: 0;bottom: 0;left: 50%;z-index: -1;}#sk-container-id-4 div.sk-parallel-item {display: flex;flex-direction: column;z-index: 1;position: relative;background-color: white;}#sk-container-id-4 div.sk-parallel-item:first-child::after {align-self: flex-end;width: 50%;}#sk-container-id-4 div.sk-parallel-item:last-child::after {align-self: flex-start;width: 50%;}#sk-container-id-4 div.sk-parallel-item:only-child::after {width: 0;}#sk-container-id-4 div.sk-dashed-wrapped {border: 1px dashed gray;margin: 0 0.4em 0.5em 0.4em;box-sizing: border-box;padding-bottom: 0.4em;background-color: white;}#sk-container-id-4 div.sk-label label {font-family: monospace;font-weight: bold;display: inline-block;line-height: 1.2em;}#sk-container-id-4 div.sk-label-container {text-align: center;}#sk-container-id-4 div.sk-container {/* jupyter's `normalize.less` sets `[hidden] { display: none; }` but bootstrap.min.css set `[hidden] { display: none !important; }` so we also need the `!important` here to be able to override the default hidden behavior on the sphinx rendered scikit-learn.org. See: https://github.com/scikit-learn/scikit-learn/issues/21755 */display: inline-block !important;position: relative;}#sk-container-id-4 div.sk-text-repr-fallback {display: none;}</style><div id=\"sk-container-id-4\" class=\"sk-top-container\"><div class=\"sk-text-repr-fallback\"><pre>GridSearchCV(cv=5,\n",
       "             estimator=Pipeline(steps=[(&#x27;mrmr&#x27;, MRMR()),\n",
       "                                       (&#x27;scaler&#x27;, StandardScaler()),\n",
       "                                       (&#x27;classifier&#x27;,\n",
       "                                        RandomForestClassifier())]),\n",
       "             param_grid={&#x27;classifier__max_depth&#x27;: [10, 20, 30],\n",
       "                         &#x27;classifier__n_estimators&#x27;: [100, 200, 500, 1000],\n",
       "                         &#x27;mrmr__solution_length&#x27;: [40, 60, 80, 100, 120, 140,\n",
       "                                                   160, 180, 200, 220]},\n",
       "             refit=&#x27;f1&#x27;, scoring=[&#x27;f1&#x27;, &#x27;roc_auc&#x27;])</pre><b>In a Jupyter environment, please rerun this cell to show the HTML representation or trust the notebook. <br />On GitHub, the HTML representation is unable to render, please try loading this page with nbviewer.org.</b></div><div class=\"sk-container\" hidden><div class=\"sk-item sk-dashed-wrapped\"><div class=\"sk-label-container\"><div class=\"sk-label sk-toggleable\"><input class=\"sk-toggleable__control sk-hidden--visually\" id=\"sk-estimator-id-4\" type=\"checkbox\" ><label for=\"sk-estimator-id-4\" class=\"sk-toggleable__label sk-toggleable__label-arrow\">GridSearchCV</label><div class=\"sk-toggleable__content\"><pre>GridSearchCV(cv=5,\n",
       "             estimator=Pipeline(steps=[(&#x27;mrmr&#x27;, MRMR()),\n",
       "                                       (&#x27;scaler&#x27;, StandardScaler()),\n",
       "                                       (&#x27;classifier&#x27;,\n",
       "                                        RandomForestClassifier())]),\n",
       "             param_grid={&#x27;classifier__max_depth&#x27;: [10, 20, 30],\n",
       "                         &#x27;classifier__n_estimators&#x27;: [100, 200, 500, 1000],\n",
       "                         &#x27;mrmr__solution_length&#x27;: [40, 60, 80, 100, 120, 140,\n",
       "                                                   160, 180, 200, 220]},\n",
       "             refit=&#x27;f1&#x27;, scoring=[&#x27;f1&#x27;, &#x27;roc_auc&#x27;])</pre></div></div></div><div class=\"sk-parallel\"><div class=\"sk-parallel-item\"><div class=\"sk-item\"><div class=\"sk-label-container\"><div class=\"sk-label sk-toggleable\"><input class=\"sk-toggleable__control sk-hidden--visually\" id=\"sk-estimator-id-5\" type=\"checkbox\" ><label for=\"sk-estimator-id-5\" class=\"sk-toggleable__label sk-toggleable__label-arrow\">estimator: Pipeline</label><div class=\"sk-toggleable__content\"><pre>Pipeline(steps=[(&#x27;mrmr&#x27;, MRMR()), (&#x27;scaler&#x27;, StandardScaler()),\n",
       "                (&#x27;classifier&#x27;, RandomForestClassifier())])</pre></div></div></div><div class=\"sk-serial\"><div class=\"sk-item\"><div class=\"sk-serial\"><div class=\"sk-item\"><div class=\"sk-estimator sk-toggleable\"><input class=\"sk-toggleable__control sk-hidden--visually\" id=\"sk-estimator-id-6\" type=\"checkbox\" ><label for=\"sk-estimator-id-6\" class=\"sk-toggleable__label sk-toggleable__label-arrow\">MRMR</label><div class=\"sk-toggleable__content\"><pre>MRMR()</pre></div></div></div><div class=\"sk-item\"><div class=\"sk-estimator sk-toggleable\"><input class=\"sk-toggleable__control sk-hidden--visually\" id=\"sk-estimator-id-7\" type=\"checkbox\" ><label for=\"sk-estimator-id-7\" class=\"sk-toggleable__label sk-toggleable__label-arrow\">StandardScaler</label><div class=\"sk-toggleable__content\"><pre>StandardScaler()</pre></div></div></div><div class=\"sk-item\"><div class=\"sk-estimator sk-toggleable\"><input class=\"sk-toggleable__control sk-hidden--visually\" id=\"sk-estimator-id-8\" type=\"checkbox\" ><label for=\"sk-estimator-id-8\" class=\"sk-toggleable__label sk-toggleable__label-arrow\">RandomForestClassifier</label><div class=\"sk-toggleable__content\"><pre>RandomForestClassifier()</pre></div></div></div></div></div></div></div></div></div></div></div></div>"
      ],
      "text/plain": [
       "GridSearchCV(cv=5,\n",
       "             estimator=Pipeline(steps=[('mrmr', MRMR()),\n",
       "                                       ('scaler', StandardScaler()),\n",
       "                                       ('classifier',\n",
       "                                        RandomForestClassifier())]),\n",
       "             param_grid={'classifier__max_depth': [10, 20, 30],\n",
       "                         'classifier__n_estimators': [100, 200, 500, 1000],\n",
       "                         'mrmr__solution_length': [40, 60, 80, 100, 120, 140,\n",
       "                                                   160, 180, 200, 220]},\n",
       "             refit='f1', scoring=['f1', 'roc_auc'])"
      ]
     },
     "execution_count": 114,
     "metadata": {},
     "output_type": "execute_result"
    }
   ],
   "source": [
    "grid = GridSearchCV(pipe, param_grid=params, cv=5, scoring=['f1', 'roc_auc'], refit='f1')\n",
    "grid.fit(X_train, y_train)"
   ]
  },
  {
   "cell_type": "code",
   "execution_count": 115,
   "id": "6e69d47f",
   "metadata": {},
   "outputs": [
    {
     "data": {
      "text/html": [
       "<style>#sk-container-id-5 {color: black;background-color: white;}#sk-container-id-5 pre{padding: 0;}#sk-container-id-5 div.sk-toggleable {background-color: white;}#sk-container-id-5 label.sk-toggleable__label {cursor: pointer;display: block;width: 100%;margin-bottom: 0;padding: 0.3em;box-sizing: border-box;text-align: center;}#sk-container-id-5 label.sk-toggleable__label-arrow:before {content: \"▸\";float: left;margin-right: 0.25em;color: #696969;}#sk-container-id-5 label.sk-toggleable__label-arrow:hover:before {color: black;}#sk-container-id-5 div.sk-estimator:hover label.sk-toggleable__label-arrow:before {color: black;}#sk-container-id-5 div.sk-toggleable__content {max-height: 0;max-width: 0;overflow: hidden;text-align: left;background-color: #f0f8ff;}#sk-container-id-5 div.sk-toggleable__content pre {margin: 0.2em;color: black;border-radius: 0.25em;background-color: #f0f8ff;}#sk-container-id-5 input.sk-toggleable__control:checked~div.sk-toggleable__content {max-height: 200px;max-width: 100%;overflow: auto;}#sk-container-id-5 input.sk-toggleable__control:checked~label.sk-toggleable__label-arrow:before {content: \"▾\";}#sk-container-id-5 div.sk-estimator input.sk-toggleable__control:checked~label.sk-toggleable__label {background-color: #d4ebff;}#sk-container-id-5 div.sk-label input.sk-toggleable__control:checked~label.sk-toggleable__label {background-color: #d4ebff;}#sk-container-id-5 input.sk-hidden--visually {border: 0;clip: rect(1px 1px 1px 1px);clip: rect(1px, 1px, 1px, 1px);height: 1px;margin: -1px;overflow: hidden;padding: 0;position: absolute;width: 1px;}#sk-container-id-5 div.sk-estimator {font-family: monospace;background-color: #f0f8ff;border: 1px dotted black;border-radius: 0.25em;box-sizing: border-box;margin-bottom: 0.5em;}#sk-container-id-5 div.sk-estimator:hover {background-color: #d4ebff;}#sk-container-id-5 div.sk-parallel-item::after {content: \"\";width: 100%;border-bottom: 1px solid gray;flex-grow: 1;}#sk-container-id-5 div.sk-label:hover label.sk-toggleable__label {background-color: #d4ebff;}#sk-container-id-5 div.sk-serial::before {content: \"\";position: absolute;border-left: 1px solid gray;box-sizing: border-box;top: 0;bottom: 0;left: 50%;z-index: 0;}#sk-container-id-5 div.sk-serial {display: flex;flex-direction: column;align-items: center;background-color: white;padding-right: 0.2em;padding-left: 0.2em;position: relative;}#sk-container-id-5 div.sk-item {position: relative;z-index: 1;}#sk-container-id-5 div.sk-parallel {display: flex;align-items: stretch;justify-content: center;background-color: white;position: relative;}#sk-container-id-5 div.sk-item::before, #sk-container-id-5 div.sk-parallel-item::before {content: \"\";position: absolute;border-left: 1px solid gray;box-sizing: border-box;top: 0;bottom: 0;left: 50%;z-index: -1;}#sk-container-id-5 div.sk-parallel-item {display: flex;flex-direction: column;z-index: 1;position: relative;background-color: white;}#sk-container-id-5 div.sk-parallel-item:first-child::after {align-self: flex-end;width: 50%;}#sk-container-id-5 div.sk-parallel-item:last-child::after {align-self: flex-start;width: 50%;}#sk-container-id-5 div.sk-parallel-item:only-child::after {width: 0;}#sk-container-id-5 div.sk-dashed-wrapped {border: 1px dashed gray;margin: 0 0.4em 0.5em 0.4em;box-sizing: border-box;padding-bottom: 0.4em;background-color: white;}#sk-container-id-5 div.sk-label label {font-family: monospace;font-weight: bold;display: inline-block;line-height: 1.2em;}#sk-container-id-5 div.sk-label-container {text-align: center;}#sk-container-id-5 div.sk-container {/* jupyter's `normalize.less` sets `[hidden] { display: none; }` but bootstrap.min.css set `[hidden] { display: none !important; }` so we also need the `!important` here to be able to override the default hidden behavior on the sphinx rendered scikit-learn.org. See: https://github.com/scikit-learn/scikit-learn/issues/21755 */display: inline-block !important;position: relative;}#sk-container-id-5 div.sk-text-repr-fallback {display: none;}</style><div id=\"sk-container-id-5\" class=\"sk-top-container\"><div class=\"sk-text-repr-fallback\"><pre>Pipeline(steps=[(&#x27;mrmr&#x27;, MRMR(solution_length=60)),\n",
       "                (&#x27;scaler&#x27;, StandardScaler()),\n",
       "                (&#x27;classifier&#x27;, RandomForestClassifier(max_depth=10))])</pre><b>In a Jupyter environment, please rerun this cell to show the HTML representation or trust the notebook. <br />On GitHub, the HTML representation is unable to render, please try loading this page with nbviewer.org.</b></div><div class=\"sk-container\" hidden><div class=\"sk-item sk-dashed-wrapped\"><div class=\"sk-label-container\"><div class=\"sk-label sk-toggleable\"><input class=\"sk-toggleable__control sk-hidden--visually\" id=\"sk-estimator-id-9\" type=\"checkbox\" ><label for=\"sk-estimator-id-9\" class=\"sk-toggleable__label sk-toggleable__label-arrow\">Pipeline</label><div class=\"sk-toggleable__content\"><pre>Pipeline(steps=[(&#x27;mrmr&#x27;, MRMR(solution_length=60)),\n",
       "                (&#x27;scaler&#x27;, StandardScaler()),\n",
       "                (&#x27;classifier&#x27;, RandomForestClassifier(max_depth=10))])</pre></div></div></div><div class=\"sk-serial\"><div class=\"sk-item\"><div class=\"sk-estimator sk-toggleable\"><input class=\"sk-toggleable__control sk-hidden--visually\" id=\"sk-estimator-id-10\" type=\"checkbox\" ><label for=\"sk-estimator-id-10\" class=\"sk-toggleable__label sk-toggleable__label-arrow\">MRMR</label><div class=\"sk-toggleable__content\"><pre>MRMR(solution_length=60)</pre></div></div></div><div class=\"sk-item\"><div class=\"sk-estimator sk-toggleable\"><input class=\"sk-toggleable__control sk-hidden--visually\" id=\"sk-estimator-id-11\" type=\"checkbox\" ><label for=\"sk-estimator-id-11\" class=\"sk-toggleable__label sk-toggleable__label-arrow\">StandardScaler</label><div class=\"sk-toggleable__content\"><pre>StandardScaler()</pre></div></div></div><div class=\"sk-item\"><div class=\"sk-estimator sk-toggleable\"><input class=\"sk-toggleable__control sk-hidden--visually\" id=\"sk-estimator-id-12\" type=\"checkbox\" ><label for=\"sk-estimator-id-12\" class=\"sk-toggleable__label sk-toggleable__label-arrow\">RandomForestClassifier</label><div class=\"sk-toggleable__content\"><pre>RandomForestClassifier(max_depth=10)</pre></div></div></div></div></div></div></div>"
      ],
      "text/plain": [
       "Pipeline(steps=[('mrmr', MRMR(solution_length=60)),\n",
       "                ('scaler', StandardScaler()),\n",
       "                ('classifier', RandomForestClassifier(max_depth=10))])"
      ]
     },
     "execution_count": 115,
     "metadata": {},
     "output_type": "execute_result"
    }
   ],
   "source": [
    "grid.best_estimator_"
   ]
  },
  {
   "cell_type": "code",
   "execution_count": 116,
   "id": "68c78add",
   "metadata": {},
   "outputs": [
    {
     "data": {
      "text/plain": [
       "0.5652161172161172"
      ]
     },
     "execution_count": 116,
     "metadata": {},
     "output_type": "execute_result"
    }
   ],
   "source": [
    "grid.best_score_"
   ]
  },
  {
   "cell_type": "code",
   "execution_count": 117,
   "id": "39d0f774",
   "metadata": {},
   "outputs": [
    {
     "data": {
      "text/plain": [
       "{'classifier__max_depth': 10,\n",
       " 'classifier__n_estimators': 100,\n",
       " 'mrmr__solution_length': 60}"
      ]
     },
     "execution_count": 117,
     "metadata": {},
     "output_type": "execute_result"
    }
   ],
   "source": [
    "grid.best_params_"
   ]
  },
  {
   "cell_type": "code",
   "execution_count": 118,
   "id": "b6a62a3e",
   "metadata": {},
   "outputs": [
    {
     "data": {
      "text/plain": [
       "0.7377049180327869"
      ]
     },
     "execution_count": 118,
     "metadata": {},
     "output_type": "execute_result"
    }
   ],
   "source": [
    "y_pred = grid.best_estimator_.predict(X_test)\n",
    "accuracy_score(y_test, y_pred)"
   ]
  },
  {
   "cell_type": "code",
   "execution_count": 119,
   "id": "b91d2c23",
   "metadata": {},
   "outputs": [
    {
     "data": {
      "text/plain": [
       "array([[40,  2],\n",
       "       [14,  5]])"
      ]
     },
     "execution_count": 119,
     "metadata": {},
     "output_type": "execute_result"
    }
   ],
   "source": [
    "confusion_matrix(y_test, y_pred)"
   ]
  },
  {
   "cell_type": "code",
   "execution_count": 120,
   "id": "3ab05595",
   "metadata": {
    "scrolled": false
   },
   "outputs": [
    {
     "name": "stdout",
     "output_type": "stream",
     "text": [
      "              precision    recall  f1-score   support\n",
      "\n",
      "         0.0       0.74      0.95      0.83        42\n",
      "         1.0       0.71      0.26      0.38        19\n",
      "\n",
      "    accuracy                           0.74        61\n",
      "   macro avg       0.73      0.61      0.61        61\n",
      "weighted avg       0.73      0.74      0.69        61\n",
      "\n"
     ]
    }
   ],
   "source": [
    "print(classification_report(y_test, y_pred))"
   ]
  },
  {
   "cell_type": "code",
   "execution_count": null,
   "id": "ba635c32",
   "metadata": {},
   "outputs": [],
   "source": []
  },
  {
   "cell_type": "code",
   "execution_count": 121,
   "id": "8a8227bb",
   "metadata": {},
   "outputs": [
    {
     "data": {
      "text/html": [
       "<style>#sk-container-id-6 {color: black;background-color: white;}#sk-container-id-6 pre{padding: 0;}#sk-container-id-6 div.sk-toggleable {background-color: white;}#sk-container-id-6 label.sk-toggleable__label {cursor: pointer;display: block;width: 100%;margin-bottom: 0;padding: 0.3em;box-sizing: border-box;text-align: center;}#sk-container-id-6 label.sk-toggleable__label-arrow:before {content: \"▸\";float: left;margin-right: 0.25em;color: #696969;}#sk-container-id-6 label.sk-toggleable__label-arrow:hover:before {color: black;}#sk-container-id-6 div.sk-estimator:hover label.sk-toggleable__label-arrow:before {color: black;}#sk-container-id-6 div.sk-toggleable__content {max-height: 0;max-width: 0;overflow: hidden;text-align: left;background-color: #f0f8ff;}#sk-container-id-6 div.sk-toggleable__content pre {margin: 0.2em;color: black;border-radius: 0.25em;background-color: #f0f8ff;}#sk-container-id-6 input.sk-toggleable__control:checked~div.sk-toggleable__content {max-height: 200px;max-width: 100%;overflow: auto;}#sk-container-id-6 input.sk-toggleable__control:checked~label.sk-toggleable__label-arrow:before {content: \"▾\";}#sk-container-id-6 div.sk-estimator input.sk-toggleable__control:checked~label.sk-toggleable__label {background-color: #d4ebff;}#sk-container-id-6 div.sk-label input.sk-toggleable__control:checked~label.sk-toggleable__label {background-color: #d4ebff;}#sk-container-id-6 input.sk-hidden--visually {border: 0;clip: rect(1px 1px 1px 1px);clip: rect(1px, 1px, 1px, 1px);height: 1px;margin: -1px;overflow: hidden;padding: 0;position: absolute;width: 1px;}#sk-container-id-6 div.sk-estimator {font-family: monospace;background-color: #f0f8ff;border: 1px dotted black;border-radius: 0.25em;box-sizing: border-box;margin-bottom: 0.5em;}#sk-container-id-6 div.sk-estimator:hover {background-color: #d4ebff;}#sk-container-id-6 div.sk-parallel-item::after {content: \"\";width: 100%;border-bottom: 1px solid gray;flex-grow: 1;}#sk-container-id-6 div.sk-label:hover label.sk-toggleable__label {background-color: #d4ebff;}#sk-container-id-6 div.sk-serial::before {content: \"\";position: absolute;border-left: 1px solid gray;box-sizing: border-box;top: 0;bottom: 0;left: 50%;z-index: 0;}#sk-container-id-6 div.sk-serial {display: flex;flex-direction: column;align-items: center;background-color: white;padding-right: 0.2em;padding-left: 0.2em;position: relative;}#sk-container-id-6 div.sk-item {position: relative;z-index: 1;}#sk-container-id-6 div.sk-parallel {display: flex;align-items: stretch;justify-content: center;background-color: white;position: relative;}#sk-container-id-6 div.sk-item::before, #sk-container-id-6 div.sk-parallel-item::before {content: \"\";position: absolute;border-left: 1px solid gray;box-sizing: border-box;top: 0;bottom: 0;left: 50%;z-index: -1;}#sk-container-id-6 div.sk-parallel-item {display: flex;flex-direction: column;z-index: 1;position: relative;background-color: white;}#sk-container-id-6 div.sk-parallel-item:first-child::after {align-self: flex-end;width: 50%;}#sk-container-id-6 div.sk-parallel-item:last-child::after {align-self: flex-start;width: 50%;}#sk-container-id-6 div.sk-parallel-item:only-child::after {width: 0;}#sk-container-id-6 div.sk-dashed-wrapped {border: 1px dashed gray;margin: 0 0.4em 0.5em 0.4em;box-sizing: border-box;padding-bottom: 0.4em;background-color: white;}#sk-container-id-6 div.sk-label label {font-family: monospace;font-weight: bold;display: inline-block;line-height: 1.2em;}#sk-container-id-6 div.sk-label-container {text-align: center;}#sk-container-id-6 div.sk-container {/* jupyter's `normalize.less` sets `[hidden] { display: none; }` but bootstrap.min.css set `[hidden] { display: none !important; }` so we also need the `!important` here to be able to override the default hidden behavior on the sphinx rendered scikit-learn.org. See: https://github.com/scikit-learn/scikit-learn/issues/21755 */display: inline-block !important;position: relative;}#sk-container-id-6 div.sk-text-repr-fallback {display: none;}</style><div id=\"sk-container-id-6\" class=\"sk-top-container\"><div class=\"sk-text-repr-fallback\"><pre>GridSearchCV(cv=5,\n",
       "             estimator=Pipeline(steps=[(&#x27;mrmr&#x27;, MRMR()),\n",
       "                                       (&#x27;scaler&#x27;, StandardScaler()),\n",
       "                                       (&#x27;classifier&#x27;,\n",
       "                                        XGBClassifier(base_score=None,\n",
       "                                                      booster=None,\n",
       "                                                      callbacks=None,\n",
       "                                                      colsample_bylevel=None,\n",
       "                                                      colsample_bynode=None,\n",
       "                                                      colsample_bytree=None,\n",
       "                                                      early_stopping_rounds=None,\n",
       "                                                      enable_categorical=False,\n",
       "                                                      eval_metric=None,\n",
       "                                                      feature_types=None,\n",
       "                                                      gamma=None, gpu_id=None,\n",
       "                                                      grow_policy=...\n",
       "                                                      max_leaves=None,\n",
       "                                                      min_child_weight=None,\n",
       "                                                      missing=nan,\n",
       "                                                      monotone_constraints=None,\n",
       "                                                      n_estimators=100,\n",
       "                                                      n_jobs=None,\n",
       "                                                      num_parallel_tree=None,\n",
       "                                                      predictor=None,\n",
       "                                                      random_state=None, ...))]),\n",
       "             param_grid={&#x27;classifier__max_depth&#x27;: [10, 20, 30],\n",
       "                         &#x27;classifier__n_estimators&#x27;: [100, 200, 500, 1000],\n",
       "                         &#x27;mrmr__solution_length&#x27;: [40, 60, 80, 100, 120, 140,\n",
       "                                                   160, 180, 200, 220]},\n",
       "             refit=&#x27;f1&#x27;, scoring=[&#x27;f1&#x27;, &#x27;roc_auc&#x27;])</pre><b>In a Jupyter environment, please rerun this cell to show the HTML representation or trust the notebook. <br />On GitHub, the HTML representation is unable to render, please try loading this page with nbviewer.org.</b></div><div class=\"sk-container\" hidden><div class=\"sk-item sk-dashed-wrapped\"><div class=\"sk-label-container\"><div class=\"sk-label sk-toggleable\"><input class=\"sk-toggleable__control sk-hidden--visually\" id=\"sk-estimator-id-13\" type=\"checkbox\" ><label for=\"sk-estimator-id-13\" class=\"sk-toggleable__label sk-toggleable__label-arrow\">GridSearchCV</label><div class=\"sk-toggleable__content\"><pre>GridSearchCV(cv=5,\n",
       "             estimator=Pipeline(steps=[(&#x27;mrmr&#x27;, MRMR()),\n",
       "                                       (&#x27;scaler&#x27;, StandardScaler()),\n",
       "                                       (&#x27;classifier&#x27;,\n",
       "                                        XGBClassifier(base_score=None,\n",
       "                                                      booster=None,\n",
       "                                                      callbacks=None,\n",
       "                                                      colsample_bylevel=None,\n",
       "                                                      colsample_bynode=None,\n",
       "                                                      colsample_bytree=None,\n",
       "                                                      early_stopping_rounds=None,\n",
       "                                                      enable_categorical=False,\n",
       "                                                      eval_metric=None,\n",
       "                                                      feature_types=None,\n",
       "                                                      gamma=None, gpu_id=None,\n",
       "                                                      grow_policy=...\n",
       "                                                      max_leaves=None,\n",
       "                                                      min_child_weight=None,\n",
       "                                                      missing=nan,\n",
       "                                                      monotone_constraints=None,\n",
       "                                                      n_estimators=100,\n",
       "                                                      n_jobs=None,\n",
       "                                                      num_parallel_tree=None,\n",
       "                                                      predictor=None,\n",
       "                                                      random_state=None, ...))]),\n",
       "             param_grid={&#x27;classifier__max_depth&#x27;: [10, 20, 30],\n",
       "                         &#x27;classifier__n_estimators&#x27;: [100, 200, 500, 1000],\n",
       "                         &#x27;mrmr__solution_length&#x27;: [40, 60, 80, 100, 120, 140,\n",
       "                                                   160, 180, 200, 220]},\n",
       "             refit=&#x27;f1&#x27;, scoring=[&#x27;f1&#x27;, &#x27;roc_auc&#x27;])</pre></div></div></div><div class=\"sk-parallel\"><div class=\"sk-parallel-item\"><div class=\"sk-item\"><div class=\"sk-label-container\"><div class=\"sk-label sk-toggleable\"><input class=\"sk-toggleable__control sk-hidden--visually\" id=\"sk-estimator-id-14\" type=\"checkbox\" ><label for=\"sk-estimator-id-14\" class=\"sk-toggleable__label sk-toggleable__label-arrow\">estimator: Pipeline</label><div class=\"sk-toggleable__content\"><pre>Pipeline(steps=[(&#x27;mrmr&#x27;, MRMR()), (&#x27;scaler&#x27;, StandardScaler()),\n",
       "                (&#x27;classifier&#x27;,\n",
       "                 XGBClassifier(base_score=None, booster=None, callbacks=None,\n",
       "                               colsample_bylevel=None, colsample_bynode=None,\n",
       "                               colsample_bytree=None,\n",
       "                               early_stopping_rounds=None,\n",
       "                               enable_categorical=False, eval_metric=None,\n",
       "                               feature_types=None, gamma=None, gpu_id=None,\n",
       "                               grow_policy=None, importance_type=None,\n",
       "                               interaction_constraints=None, learning_rate=1,\n",
       "                               max_bin=None, max_cat_threshold=None,\n",
       "                               max_cat_to_onehot=None, max_delta_step=None,\n",
       "                               max_depth=None, max_leaves=None,\n",
       "                               min_child_weight=None, missing=nan,\n",
       "                               monotone_constraints=None, n_estimators=100,\n",
       "                               n_jobs=None, num_parallel_tree=None,\n",
       "                               predictor=None, random_state=None, ...))])</pre></div></div></div><div class=\"sk-serial\"><div class=\"sk-item\"><div class=\"sk-serial\"><div class=\"sk-item\"><div class=\"sk-estimator sk-toggleable\"><input class=\"sk-toggleable__control sk-hidden--visually\" id=\"sk-estimator-id-15\" type=\"checkbox\" ><label for=\"sk-estimator-id-15\" class=\"sk-toggleable__label sk-toggleable__label-arrow\">MRMR</label><div class=\"sk-toggleable__content\"><pre>MRMR()</pre></div></div></div><div class=\"sk-item\"><div class=\"sk-estimator sk-toggleable\"><input class=\"sk-toggleable__control sk-hidden--visually\" id=\"sk-estimator-id-16\" type=\"checkbox\" ><label for=\"sk-estimator-id-16\" class=\"sk-toggleable__label sk-toggleable__label-arrow\">StandardScaler</label><div class=\"sk-toggleable__content\"><pre>StandardScaler()</pre></div></div></div><div class=\"sk-item\"><div class=\"sk-estimator sk-toggleable\"><input class=\"sk-toggleable__control sk-hidden--visually\" id=\"sk-estimator-id-17\" type=\"checkbox\" ><label for=\"sk-estimator-id-17\" class=\"sk-toggleable__label sk-toggleable__label-arrow\">XGBClassifier</label><div class=\"sk-toggleable__content\"><pre>XGBClassifier(base_score=None, booster=None, callbacks=None,\n",
       "              colsample_bylevel=None, colsample_bynode=None,\n",
       "              colsample_bytree=None, early_stopping_rounds=None,\n",
       "              enable_categorical=False, eval_metric=None, feature_types=None,\n",
       "              gamma=None, gpu_id=None, grow_policy=None, importance_type=None,\n",
       "              interaction_constraints=None, learning_rate=1, max_bin=None,\n",
       "              max_cat_threshold=None, max_cat_to_onehot=None,\n",
       "              max_delta_step=None, max_depth=None, max_leaves=None,\n",
       "              min_child_weight=None, missing=nan, monotone_constraints=None,\n",
       "              n_estimators=100, n_jobs=None, num_parallel_tree=None,\n",
       "              predictor=None, random_state=None, ...)</pre></div></div></div></div></div></div></div></div></div></div></div></div>"
      ],
      "text/plain": [
       "GridSearchCV(cv=5,\n",
       "             estimator=Pipeline(steps=[('mrmr', MRMR()),\n",
       "                                       ('scaler', StandardScaler()),\n",
       "                                       ('classifier',\n",
       "                                        XGBClassifier(base_score=None,\n",
       "                                                      booster=None,\n",
       "                                                      callbacks=None,\n",
       "                                                      colsample_bylevel=None,\n",
       "                                                      colsample_bynode=None,\n",
       "                                                      colsample_bytree=None,\n",
       "                                                      early_stopping_rounds=None,\n",
       "                                                      enable_categorical=False,\n",
       "                                                      eval_metric=None,\n",
       "                                                      feature_types=None,\n",
       "                                                      gamma=None, gpu_id=None,\n",
       "                                                      grow_policy=...\n",
       "                                                      max_leaves=None,\n",
       "                                                      min_child_weight=None,\n",
       "                                                      missing=nan,\n",
       "                                                      monotone_constraints=None,\n",
       "                                                      n_estimators=100,\n",
       "                                                      n_jobs=None,\n",
       "                                                      num_parallel_tree=None,\n",
       "                                                      predictor=None,\n",
       "                                                      random_state=None, ...))]),\n",
       "             param_grid={'classifier__max_depth': [10, 20, 30],\n",
       "                         'classifier__n_estimators': [100, 200, 500, 1000],\n",
       "                         'mrmr__solution_length': [40, 60, 80, 100, 120, 140,\n",
       "                                                   160, 180, 200, 220]},\n",
       "             refit='f1', scoring=['f1', 'roc_auc'])"
      ]
     },
     "execution_count": 121,
     "metadata": {},
     "output_type": "execute_result"
    }
   ],
   "source": [
    "pipe2 = Pipeline([('mrmr', MRMR()), ('scaler', StandardScaler()), ('classifier', XGBClassifier(learning_rate=1, objective='binary:logistic'))])\n",
    "grid2 = GridSearchCV(pipe2, param_grid=params, cv=5, scoring=['f1', 'roc_auc'], refit='f1')\n",
    "grid2.fit(X_train, y_train)"
   ]
  },
  {
   "cell_type": "code",
   "execution_count": 122,
   "id": "ac37f393",
   "metadata": {
    "scrolled": true
   },
   "outputs": [
    {
     "data": {
      "text/plain": [
       "{'classifier__max_depth': 10,\n",
       " 'classifier__n_estimators': 100,\n",
       " 'mrmr__solution_length': 120}"
      ]
     },
     "execution_count": 122,
     "metadata": {},
     "output_type": "execute_result"
    }
   ],
   "source": [
    "grid2.best_params_"
   ]
  },
  {
   "cell_type": "code",
   "execution_count": 123,
   "id": "7c3e80e7",
   "metadata": {},
   "outputs": [
    {
     "data": {
      "text/html": [
       "<style>#sk-container-id-7 {color: black;background-color: white;}#sk-container-id-7 pre{padding: 0;}#sk-container-id-7 div.sk-toggleable {background-color: white;}#sk-container-id-7 label.sk-toggleable__label {cursor: pointer;display: block;width: 100%;margin-bottom: 0;padding: 0.3em;box-sizing: border-box;text-align: center;}#sk-container-id-7 label.sk-toggleable__label-arrow:before {content: \"▸\";float: left;margin-right: 0.25em;color: #696969;}#sk-container-id-7 label.sk-toggleable__label-arrow:hover:before {color: black;}#sk-container-id-7 div.sk-estimator:hover label.sk-toggleable__label-arrow:before {color: black;}#sk-container-id-7 div.sk-toggleable__content {max-height: 0;max-width: 0;overflow: hidden;text-align: left;background-color: #f0f8ff;}#sk-container-id-7 div.sk-toggleable__content pre {margin: 0.2em;color: black;border-radius: 0.25em;background-color: #f0f8ff;}#sk-container-id-7 input.sk-toggleable__control:checked~div.sk-toggleable__content {max-height: 200px;max-width: 100%;overflow: auto;}#sk-container-id-7 input.sk-toggleable__control:checked~label.sk-toggleable__label-arrow:before {content: \"▾\";}#sk-container-id-7 div.sk-estimator input.sk-toggleable__control:checked~label.sk-toggleable__label {background-color: #d4ebff;}#sk-container-id-7 div.sk-label input.sk-toggleable__control:checked~label.sk-toggleable__label {background-color: #d4ebff;}#sk-container-id-7 input.sk-hidden--visually {border: 0;clip: rect(1px 1px 1px 1px);clip: rect(1px, 1px, 1px, 1px);height: 1px;margin: -1px;overflow: hidden;padding: 0;position: absolute;width: 1px;}#sk-container-id-7 div.sk-estimator {font-family: monospace;background-color: #f0f8ff;border: 1px dotted black;border-radius: 0.25em;box-sizing: border-box;margin-bottom: 0.5em;}#sk-container-id-7 div.sk-estimator:hover {background-color: #d4ebff;}#sk-container-id-7 div.sk-parallel-item::after {content: \"\";width: 100%;border-bottom: 1px solid gray;flex-grow: 1;}#sk-container-id-7 div.sk-label:hover label.sk-toggleable__label {background-color: #d4ebff;}#sk-container-id-7 div.sk-serial::before {content: \"\";position: absolute;border-left: 1px solid gray;box-sizing: border-box;top: 0;bottom: 0;left: 50%;z-index: 0;}#sk-container-id-7 div.sk-serial {display: flex;flex-direction: column;align-items: center;background-color: white;padding-right: 0.2em;padding-left: 0.2em;position: relative;}#sk-container-id-7 div.sk-item {position: relative;z-index: 1;}#sk-container-id-7 div.sk-parallel {display: flex;align-items: stretch;justify-content: center;background-color: white;position: relative;}#sk-container-id-7 div.sk-item::before, #sk-container-id-7 div.sk-parallel-item::before {content: \"\";position: absolute;border-left: 1px solid gray;box-sizing: border-box;top: 0;bottom: 0;left: 50%;z-index: -1;}#sk-container-id-7 div.sk-parallel-item {display: flex;flex-direction: column;z-index: 1;position: relative;background-color: white;}#sk-container-id-7 div.sk-parallel-item:first-child::after {align-self: flex-end;width: 50%;}#sk-container-id-7 div.sk-parallel-item:last-child::after {align-self: flex-start;width: 50%;}#sk-container-id-7 div.sk-parallel-item:only-child::after {width: 0;}#sk-container-id-7 div.sk-dashed-wrapped {border: 1px dashed gray;margin: 0 0.4em 0.5em 0.4em;box-sizing: border-box;padding-bottom: 0.4em;background-color: white;}#sk-container-id-7 div.sk-label label {font-family: monospace;font-weight: bold;display: inline-block;line-height: 1.2em;}#sk-container-id-7 div.sk-label-container {text-align: center;}#sk-container-id-7 div.sk-container {/* jupyter's `normalize.less` sets `[hidden] { display: none; }` but bootstrap.min.css set `[hidden] { display: none !important; }` so we also need the `!important` here to be able to override the default hidden behavior on the sphinx rendered scikit-learn.org. See: https://github.com/scikit-learn/scikit-learn/issues/21755 */display: inline-block !important;position: relative;}#sk-container-id-7 div.sk-text-repr-fallback {display: none;}</style><div id=\"sk-container-id-7\" class=\"sk-top-container\"><div class=\"sk-text-repr-fallback\"><pre>Pipeline(steps=[(&#x27;mrmr&#x27;, MRMR(solution_length=120)),\n",
       "                (&#x27;scaler&#x27;, StandardScaler()),\n",
       "                (&#x27;classifier&#x27;,\n",
       "                 XGBClassifier(base_score=None, booster=None, callbacks=None,\n",
       "                               colsample_bylevel=None, colsample_bynode=None,\n",
       "                               colsample_bytree=None,\n",
       "                               early_stopping_rounds=None,\n",
       "                               enable_categorical=False, eval_metric=None,\n",
       "                               feature_types=None, gamma=None, gpu_id=None,\n",
       "                               grow_policy=None, importance_type=None,\n",
       "                               interaction_constraints=None, learning_rate=1,\n",
       "                               max_bin=None, max_cat_threshold=None,\n",
       "                               max_cat_to_onehot=None, max_delta_step=None,\n",
       "                               max_depth=10, max_leaves=None,\n",
       "                               min_child_weight=None, missing=nan,\n",
       "                               monotone_constraints=None, n_estimators=100,\n",
       "                               n_jobs=None, num_parallel_tree=None,\n",
       "                               predictor=None, random_state=None, ...))])</pre><b>In a Jupyter environment, please rerun this cell to show the HTML representation or trust the notebook. <br />On GitHub, the HTML representation is unable to render, please try loading this page with nbviewer.org.</b></div><div class=\"sk-container\" hidden><div class=\"sk-item sk-dashed-wrapped\"><div class=\"sk-label-container\"><div class=\"sk-label sk-toggleable\"><input class=\"sk-toggleable__control sk-hidden--visually\" id=\"sk-estimator-id-18\" type=\"checkbox\" ><label for=\"sk-estimator-id-18\" class=\"sk-toggleable__label sk-toggleable__label-arrow\">Pipeline</label><div class=\"sk-toggleable__content\"><pre>Pipeline(steps=[(&#x27;mrmr&#x27;, MRMR(solution_length=120)),\n",
       "                (&#x27;scaler&#x27;, StandardScaler()),\n",
       "                (&#x27;classifier&#x27;,\n",
       "                 XGBClassifier(base_score=None, booster=None, callbacks=None,\n",
       "                               colsample_bylevel=None, colsample_bynode=None,\n",
       "                               colsample_bytree=None,\n",
       "                               early_stopping_rounds=None,\n",
       "                               enable_categorical=False, eval_metric=None,\n",
       "                               feature_types=None, gamma=None, gpu_id=None,\n",
       "                               grow_policy=None, importance_type=None,\n",
       "                               interaction_constraints=None, learning_rate=1,\n",
       "                               max_bin=None, max_cat_threshold=None,\n",
       "                               max_cat_to_onehot=None, max_delta_step=None,\n",
       "                               max_depth=10, max_leaves=None,\n",
       "                               min_child_weight=None, missing=nan,\n",
       "                               monotone_constraints=None, n_estimators=100,\n",
       "                               n_jobs=None, num_parallel_tree=None,\n",
       "                               predictor=None, random_state=None, ...))])</pre></div></div></div><div class=\"sk-serial\"><div class=\"sk-item\"><div class=\"sk-estimator sk-toggleable\"><input class=\"sk-toggleable__control sk-hidden--visually\" id=\"sk-estimator-id-19\" type=\"checkbox\" ><label for=\"sk-estimator-id-19\" class=\"sk-toggleable__label sk-toggleable__label-arrow\">MRMR</label><div class=\"sk-toggleable__content\"><pre>MRMR(solution_length=120)</pre></div></div></div><div class=\"sk-item\"><div class=\"sk-estimator sk-toggleable\"><input class=\"sk-toggleable__control sk-hidden--visually\" id=\"sk-estimator-id-20\" type=\"checkbox\" ><label for=\"sk-estimator-id-20\" class=\"sk-toggleable__label sk-toggleable__label-arrow\">StandardScaler</label><div class=\"sk-toggleable__content\"><pre>StandardScaler()</pre></div></div></div><div class=\"sk-item\"><div class=\"sk-estimator sk-toggleable\"><input class=\"sk-toggleable__control sk-hidden--visually\" id=\"sk-estimator-id-21\" type=\"checkbox\" ><label for=\"sk-estimator-id-21\" class=\"sk-toggleable__label sk-toggleable__label-arrow\">XGBClassifier</label><div class=\"sk-toggleable__content\"><pre>XGBClassifier(base_score=None, booster=None, callbacks=None,\n",
       "              colsample_bylevel=None, colsample_bynode=None,\n",
       "              colsample_bytree=None, early_stopping_rounds=None,\n",
       "              enable_categorical=False, eval_metric=None, feature_types=None,\n",
       "              gamma=None, gpu_id=None, grow_policy=None, importance_type=None,\n",
       "              interaction_constraints=None, learning_rate=1, max_bin=None,\n",
       "              max_cat_threshold=None, max_cat_to_onehot=None,\n",
       "              max_delta_step=None, max_depth=10, max_leaves=None,\n",
       "              min_child_weight=None, missing=nan, monotone_constraints=None,\n",
       "              n_estimators=100, n_jobs=None, num_parallel_tree=None,\n",
       "              predictor=None, random_state=None, ...)</pre></div></div></div></div></div></div></div>"
      ],
      "text/plain": [
       "Pipeline(steps=[('mrmr', MRMR(solution_length=120)),\n",
       "                ('scaler', StandardScaler()),\n",
       "                ('classifier',\n",
       "                 XGBClassifier(base_score=None, booster=None, callbacks=None,\n",
       "                               colsample_bylevel=None, colsample_bynode=None,\n",
       "                               colsample_bytree=None,\n",
       "                               early_stopping_rounds=None,\n",
       "                               enable_categorical=False, eval_metric=None,\n",
       "                               feature_types=None, gamma=None, gpu_id=None,\n",
       "                               grow_policy=None, importance_type=None,\n",
       "                               interaction_constraints=None, learning_rate=1,\n",
       "                               max_bin=None, max_cat_threshold=None,\n",
       "                               max_cat_to_onehot=None, max_delta_step=None,\n",
       "                               max_depth=10, max_leaves=None,\n",
       "                               min_child_weight=None, missing=nan,\n",
       "                               monotone_constraints=None, n_estimators=100,\n",
       "                               n_jobs=None, num_parallel_tree=None,\n",
       "                               predictor=None, random_state=None, ...))])"
      ]
     },
     "execution_count": 123,
     "metadata": {},
     "output_type": "execute_result"
    }
   ],
   "source": [
    "best_estimator = grid2.best_estimator_\n",
    "best_estimator.fit(X_train, y_train)"
   ]
  },
  {
   "cell_type": "code",
   "execution_count": 124,
   "id": "18319d88",
   "metadata": {},
   "outputs": [
    {
     "data": {
      "text/plain": [
       "0.7049180327868853"
      ]
     },
     "execution_count": 124,
     "metadata": {},
     "output_type": "execute_result"
    }
   ],
   "source": [
    "y_pred2 = best_estimator.predict(X_test)\n",
    "accuracy_score(y_test, y_pred2)"
   ]
  },
  {
   "cell_type": "code",
   "execution_count": 125,
   "id": "1fddcf5c",
   "metadata": {},
   "outputs": [
    {
     "data": {
      "text/plain": [
       "array([[36,  6],\n",
       "       [12,  7]])"
      ]
     },
     "execution_count": 125,
     "metadata": {},
     "output_type": "execute_result"
    }
   ],
   "source": [
    "confusion_matrix(y_test, y_pred2)"
   ]
  },
  {
   "cell_type": "code",
   "execution_count": 126,
   "id": "92dfdedd",
   "metadata": {},
   "outputs": [
    {
     "name": "stdout",
     "output_type": "stream",
     "text": [
      "              precision    recall  f1-score   support\n",
      "\n",
      "         0.0       0.75      0.86      0.80        42\n",
      "         1.0       0.54      0.37      0.44        19\n",
      "\n",
      "    accuracy                           0.70        61\n",
      "   macro avg       0.64      0.61      0.62        61\n",
      "weighted avg       0.68      0.70      0.69        61\n",
      "\n"
     ]
    }
   ],
   "source": [
    "print(classification_report(y_test, y_pred2))"
   ]
  },
  {
   "cell_type": "code",
   "execution_count": 127,
   "id": "86d08220",
   "metadata": {},
   "outputs": [],
   "source": [
    "from sklearn.metrics import f1_score, roc_auc_score"
   ]
  },
  {
   "cell_type": "code",
   "execution_count": 128,
   "id": "ec37172a",
   "metadata": {},
   "outputs": [
    {
     "data": {
      "text/plain": [
       "0.4375"
      ]
     },
     "execution_count": 128,
     "metadata": {},
     "output_type": "execute_result"
    }
   ],
   "source": [
    "f1_score(y_test, y_pred2)"
   ]
  },
  {
   "cell_type": "code",
   "execution_count": 129,
   "id": "b458709a",
   "metadata": {},
   "outputs": [
    {
     "data": {
      "text/plain": [
       "0.6127819548872181"
      ]
     },
     "execution_count": 129,
     "metadata": {},
     "output_type": "execute_result"
    }
   ],
   "source": [
    "roc_auc_score(y_test, y_pred2)"
   ]
  },
  {
   "cell_type": "code",
   "execution_count": 130,
   "id": "6d5d5833",
   "metadata": {},
   "outputs": [],
   "source": [
    "importances = sorted(zip(X_train.columns, best_estimator.steps[2][1].feature_importances_), key= lambda x: x[1], reverse=True)"
   ]
  },
  {
   "cell_type": "code",
   "execution_count": 131,
   "id": "99f5b339",
   "metadata": {},
   "outputs": [
    {
     "data": {
      "image/png": "[encoded data removed]",
      "text/plain": [
       "<Figure size 640x480 with 1 Axes>"
      ]
     },
     "metadata": {},
     "output_type": "display_data"
    }
   ],
   "source": [
    "plt.bar(range(10), [x[1] for x in importances[:10]])\n",
    "plt.xticks(range(10), labels=[x[0] for x in importances[:10]])\n",
    "plt.show()"
   ]
  },
  {
   "cell_type": "code",
   "execution_count": null,
   "id": "e70fa918",
   "metadata": {},
   "outputs": [],
   "source": []
  },
  {
   "cell_type": "markdown",
   "id": "6b09fe12",
   "metadata": {},
   "source": [
    "### nested cross validation for model scoring"
   ]
  },
  {
   "cell_type": "code",
   "execution_count": 132,
   "id": "3bac3959",
   "metadata": {},
   "outputs": [],
   "source": [
    "from sklearn.model_selection import cross_validate, StratifiedKFold"
   ]
  },
  {
   "cell_type": "code",
   "execution_count": 133,
   "id": "90d2d7b4",
   "metadata": {},
   "outputs": [],
   "source": [
    "scores = cross_validate(grid2, df, target, scoring=['accuracy', 'f1', 'roc_auc'],\n",
    "                        cv=StratifiedKFold(n_splits=5, shuffle=True, random_state=47))"
   ]
  },
  {
   "cell_type": "code",
   "execution_count": 134,
   "id": "87a2adc0",
   "metadata": {},
   "outputs": [
    {
     "data": {
      "text/plain": [
       "{'fit_time': array([617.74902701, 581.10778546, 581.69932342, 636.42631483,\n",
       "        642.80814433]),\n",
       " 'score_time': array([0.01857448, 0.12871885, 0.01963449, 0.01758289, 0.02114248]),\n",
       " 'test_accuracy': array([0.81967213, 0.73770492, 0.80327869, 0.75409836, 0.70491803]),\n",
       " 'test_f1': array([0.68571429, 0.52941176, 0.64705882, 0.61538462, 0.5       ]),\n",
       " 'test_roc_auc': array([0.81453634, 0.83709273, 0.88972431, 0.81463415, 0.71463415])}"
      ]
     },
     "execution_count": 134,
     "metadata": {},
     "output_type": "execute_result"
    }
   ],
   "source": [
    "scores"
   ]
  },
  {
   "cell_type": "code",
   "execution_count": 135,
   "id": "506945bd",
   "metadata": {},
   "outputs": [
    {
     "data": {
      "text/plain": [
       "0.7639344262295082"
      ]
     },
     "execution_count": 135,
     "metadata": {},
     "output_type": "execute_result"
    }
   ],
   "source": [
    "scores['test_accuracy'].sum() / 5"
   ]
  },
  {
   "cell_type": "code",
   "execution_count": 136,
   "id": "2ec60bec",
   "metadata": {},
   "outputs": [
    {
     "data": {
      "text/plain": [
       "0.5955138978668391"
      ]
     },
     "execution_count": 136,
     "metadata": {},
     "output_type": "execute_result"
    }
   ],
   "source": [
    "scores['test_f1'].sum() / 5"
   ]
  },
  {
   "cell_type": "code",
   "execution_count": 137,
   "id": "0f9a5783",
   "metadata": {},
   "outputs": [
    {
     "data": {
      "text/plain": [
       "0.8141243352283147"
      ]
     },
     "execution_count": 137,
     "metadata": {},
     "output_type": "execute_result"
    }
   ],
   "source": [
    "scores['test_roc_auc'].sum() / 5"
   ]
  },
  {
   "cell_type": "code",
   "execution_count": 138,
   "id": "49166bc9",
   "metadata": {},
   "outputs": [
    {
     "data": {
      "text/html": [
       "<style>#sk-container-id-8 {color: black;background-color: white;}#sk-container-id-8 pre{padding: 0;}#sk-container-id-8 div.sk-toggleable {background-color: white;}#sk-container-id-8 label.sk-toggleable__label {cursor: pointer;display: block;width: 100%;margin-bottom: 0;padding: 0.3em;box-sizing: border-box;text-align: center;}#sk-container-id-8 label.sk-toggleable__label-arrow:before {content: \"▸\";float: left;margin-right: 0.25em;color: #696969;}#sk-container-id-8 label.sk-toggleable__label-arrow:hover:before {color: black;}#sk-container-id-8 div.sk-estimator:hover label.sk-toggleable__label-arrow:before {color: black;}#sk-container-id-8 div.sk-toggleable__content {max-height: 0;max-width: 0;overflow: hidden;text-align: left;background-color: #f0f8ff;}#sk-container-id-8 div.sk-toggleable__content pre {margin: 0.2em;color: black;border-radius: 0.25em;background-color: #f0f8ff;}#sk-container-id-8 input.sk-toggleable__control:checked~div.sk-toggleable__content {max-height: 200px;max-width: 100%;overflow: auto;}#sk-container-id-8 input.sk-toggleable__control:checked~label.sk-toggleable__label-arrow:before {content: \"▾\";}#sk-container-id-8 div.sk-estimator input.sk-toggleable__control:checked~label.sk-toggleable__label {background-color: #d4ebff;}#sk-container-id-8 div.sk-label input.sk-toggleable__control:checked~label.sk-toggleable__label {background-color: #d4ebff;}#sk-container-id-8 input.sk-hidden--visually {border: 0;clip: rect(1px 1px 1px 1px);clip: rect(1px, 1px, 1px, 1px);height: 1px;margin: -1px;overflow: hidden;padding: 0;position: absolute;width: 1px;}#sk-container-id-8 div.sk-estimator {font-family: monospace;background-color: #f0f8ff;border: 1px dotted black;border-radius: 0.25em;box-sizing: border-box;margin-bottom: 0.5em;}#sk-container-id-8 div.sk-estimator:hover {background-color: #d4ebff;}#sk-container-id-8 div.sk-parallel-item::after {content: \"\";width: 100%;border-bottom: 1px solid gray;flex-grow: 1;}#sk-container-id-8 div.sk-label:hover label.sk-toggleable__label {background-color: #d4ebff;}#sk-container-id-8 div.sk-serial::before {content: \"\";position: absolute;border-left: 1px solid gray;box-sizing: border-box;top: 0;bottom: 0;left: 50%;z-index: 0;}#sk-container-id-8 div.sk-serial {display: flex;flex-direction: column;align-items: center;background-color: white;padding-right: 0.2em;padding-left: 0.2em;position: relative;}#sk-container-id-8 div.sk-item {position: relative;z-index: 1;}#sk-container-id-8 div.sk-parallel {display: flex;align-items: stretch;justify-content: center;background-color: white;position: relative;}#sk-container-id-8 div.sk-item::before, #sk-container-id-8 div.sk-parallel-item::before {content: \"\";position: absolute;border-left: 1px solid gray;box-sizing: border-box;top: 0;bottom: 0;left: 50%;z-index: -1;}#sk-container-id-8 div.sk-parallel-item {display: flex;flex-direction: column;z-index: 1;position: relative;background-color: white;}#sk-container-id-8 div.sk-parallel-item:first-child::after {align-self: flex-end;width: 50%;}#sk-container-id-8 div.sk-parallel-item:last-child::after {align-self: flex-start;width: 50%;}#sk-container-id-8 div.sk-parallel-item:only-child::after {width: 0;}#sk-container-id-8 div.sk-dashed-wrapped {border: 1px dashed gray;margin: 0 0.4em 0.5em 0.4em;box-sizing: border-box;padding-bottom: 0.4em;background-color: white;}#sk-container-id-8 div.sk-label label {font-family: monospace;font-weight: bold;display: inline-block;line-height: 1.2em;}#sk-container-id-8 div.sk-label-container {text-align: center;}#sk-container-id-8 div.sk-container {/* jupyter's `normalize.less` sets `[hidden] { display: none; }` but bootstrap.min.css set `[hidden] { display: none !important; }` so we also need the `!important` here to be able to override the default hidden behavior on the sphinx rendered scikit-learn.org. See: https://github.com/scikit-learn/scikit-learn/issues/21755 */display: inline-block !important;position: relative;}#sk-container-id-8 div.sk-text-repr-fallback {display: none;}</style><div id=\"sk-container-id-8\" class=\"sk-top-container\"><div class=\"sk-text-repr-fallback\"><pre>GridSearchCV(cv=5,\n",
       "             estimator=Pipeline(steps=[(&#x27;mrmr&#x27;, MRMR()),\n",
       "                                       (&#x27;scaler&#x27;, StandardScaler()),\n",
       "                                       (&#x27;classifier&#x27;,\n",
       "                                        XGBClassifier(base_score=None,\n",
       "                                                      booster=None,\n",
       "                                                      callbacks=None,\n",
       "                                                      colsample_bylevel=None,\n",
       "                                                      colsample_bynode=None,\n",
       "                                                      colsample_bytree=None,\n",
       "                                                      early_stopping_rounds=None,\n",
       "                                                      enable_categorical=False,\n",
       "                                                      eval_metric=None,\n",
       "                                                      feature_types=None,\n",
       "                                                      gamma=None, gpu_id=None,\n",
       "                                                      grow_policy=...\n",
       "                                                      max_leaves=None,\n",
       "                                                      min_child_weight=None,\n",
       "                                                      missing=nan,\n",
       "                                                      monotone_constraints=None,\n",
       "                                                      n_estimators=100,\n",
       "                                                      n_jobs=None,\n",
       "                                                      num_parallel_tree=None,\n",
       "                                                      predictor=None,\n",
       "                                                      random_state=None, ...))]),\n",
       "             param_grid={&#x27;classifier__max_depth&#x27;: [10, 20, 30],\n",
       "                         &#x27;classifier__n_estimators&#x27;: [100, 200, 500, 1000],\n",
       "                         &#x27;mrmr__solution_length&#x27;: [40, 60, 80, 100, 120, 140,\n",
       "                                                   160, 180, 200, 220]},\n",
       "             refit=&#x27;f1&#x27;, scoring=[&#x27;f1&#x27;, &#x27;roc_auc&#x27;])</pre><b>In a Jupyter environment, please rerun this cell to show the HTML representation or trust the notebook. <br />On GitHub, the HTML representation is unable to render, please try loading this page with nbviewer.org.</b></div><div class=\"sk-container\" hidden><div class=\"sk-item sk-dashed-wrapped\"><div class=\"sk-label-container\"><div class=\"sk-label sk-toggleable\"><input class=\"sk-toggleable__control sk-hidden--visually\" id=\"sk-estimator-id-22\" type=\"checkbox\" ><label for=\"sk-estimator-id-22\" class=\"sk-toggleable__label sk-toggleable__label-arrow\">GridSearchCV</label><div class=\"sk-toggleable__content\"><pre>GridSearchCV(cv=5,\n",
       "             estimator=Pipeline(steps=[(&#x27;mrmr&#x27;, MRMR()),\n",
       "                                       (&#x27;scaler&#x27;, StandardScaler()),\n",
       "                                       (&#x27;classifier&#x27;,\n",
       "                                        XGBClassifier(base_score=None,\n",
       "                                                      booster=None,\n",
       "                                                      callbacks=None,\n",
       "                                                      colsample_bylevel=None,\n",
       "                                                      colsample_bynode=None,\n",
       "                                                      colsample_bytree=None,\n",
       "                                                      early_stopping_rounds=None,\n",
       "                                                      enable_categorical=False,\n",
       "                                                      eval_metric=None,\n",
       "                                                      feature_types=None,\n",
       "                                                      gamma=None, gpu_id=None,\n",
       "                                                      grow_policy=...\n",
       "                                                      max_leaves=None,\n",
       "                                                      min_child_weight=None,\n",
       "                                                      missing=nan,\n",
       "                                                      monotone_constraints=None,\n",
       "                                                      n_estimators=100,\n",
       "                                                      n_jobs=None,\n",
       "                                                      num_parallel_tree=None,\n",
       "                                                      predictor=None,\n",
       "                                                      random_state=None, ...))]),\n",
       "             param_grid={&#x27;classifier__max_depth&#x27;: [10, 20, 30],\n",
       "                         &#x27;classifier__n_estimators&#x27;: [100, 200, 500, 1000],\n",
       "                         &#x27;mrmr__solution_length&#x27;: [40, 60, 80, 100, 120, 140,\n",
       "                                                   160, 180, 200, 220]},\n",
       "             refit=&#x27;f1&#x27;, scoring=[&#x27;f1&#x27;, &#x27;roc_auc&#x27;])</pre></div></div></div><div class=\"sk-parallel\"><div class=\"sk-parallel-item\"><div class=\"sk-item\"><div class=\"sk-label-container\"><div class=\"sk-label sk-toggleable\"><input class=\"sk-toggleable__control sk-hidden--visually\" id=\"sk-estimator-id-23\" type=\"checkbox\" ><label for=\"sk-estimator-id-23\" class=\"sk-toggleable__label sk-toggleable__label-arrow\">estimator: Pipeline</label><div class=\"sk-toggleable__content\"><pre>Pipeline(steps=[(&#x27;mrmr&#x27;, MRMR()), (&#x27;scaler&#x27;, StandardScaler()),\n",
       "                (&#x27;classifier&#x27;,\n",
       "                 XGBClassifier(base_score=None, booster=None, callbacks=None,\n",
       "                               colsample_bylevel=None, colsample_bynode=None,\n",
       "                               colsample_bytree=None,\n",
       "                               early_stopping_rounds=None,\n",
       "                               enable_categorical=False, eval_metric=None,\n",
       "                               feature_types=None, gamma=None, gpu_id=None,\n",
       "                               grow_policy=None, importance_type=None,\n",
       "                               interaction_constraints=None, learning_rate=1,\n",
       "                               max_bin=None, max_cat_threshold=None,\n",
       "                               max_cat_to_onehot=None, max_delta_step=None,\n",
       "                               max_depth=None, max_leaves=None,\n",
       "                               min_child_weight=None, missing=nan,\n",
       "                               monotone_constraints=None, n_estimators=100,\n",
       "                               n_jobs=None, num_parallel_tree=None,\n",
       "                               predictor=None, random_state=None, ...))])</pre></div></div></div><div class=\"sk-serial\"><div class=\"sk-item\"><div class=\"sk-serial\"><div class=\"sk-item\"><div class=\"sk-estimator sk-toggleable\"><input class=\"sk-toggleable__control sk-hidden--visually\" id=\"sk-estimator-id-24\" type=\"checkbox\" ><label for=\"sk-estimator-id-24\" class=\"sk-toggleable__label sk-toggleable__label-arrow\">MRMR</label><div class=\"sk-toggleable__content\"><pre>MRMR()</pre></div></div></div><div class=\"sk-item\"><div class=\"sk-estimator sk-toggleable\"><input class=\"sk-toggleable__control sk-hidden--visually\" id=\"sk-estimator-id-25\" type=\"checkbox\" ><label for=\"sk-estimator-id-25\" class=\"sk-toggleable__label sk-toggleable__label-arrow\">StandardScaler</label><div class=\"sk-toggleable__content\"><pre>StandardScaler()</pre></div></div></div><div class=\"sk-item\"><div class=\"sk-estimator sk-toggleable\"><input class=\"sk-toggleable__control sk-hidden--visually\" id=\"sk-estimator-id-26\" type=\"checkbox\" ><label for=\"sk-estimator-id-26\" class=\"sk-toggleable__label sk-toggleable__label-arrow\">XGBClassifier</label><div class=\"sk-toggleable__content\"><pre>XGBClassifier(base_score=None, booster=None, callbacks=None,\n",
       "              colsample_bylevel=None, colsample_bynode=None,\n",
       "              colsample_bytree=None, early_stopping_rounds=None,\n",
       "              enable_categorical=False, eval_metric=None, feature_types=None,\n",
       "              gamma=None, gpu_id=None, grow_policy=None, importance_type=None,\n",
       "              interaction_constraints=None, learning_rate=1, max_bin=None,\n",
       "              max_cat_threshold=None, max_cat_to_onehot=None,\n",
       "              max_delta_step=None, max_depth=None, max_leaves=None,\n",
       "              min_child_weight=None, missing=nan, monotone_constraints=None,\n",
       "              n_estimators=100, n_jobs=None, num_parallel_tree=None,\n",
       "              predictor=None, random_state=None, ...)</pre></div></div></div></div></div></div></div></div></div></div></div></div>"
      ],
      "text/plain": [
       "GridSearchCV(cv=5,\n",
       "             estimator=Pipeline(steps=[('mrmr', MRMR()),\n",
       "                                       ('scaler', StandardScaler()),\n",
       "                                       ('classifier',\n",
       "                                        XGBClassifier(base_score=None,\n",
       "                                                      booster=None,\n",
       "                                                      callbacks=None,\n",
       "                                                      colsample_bylevel=None,\n",
       "                                                      colsample_bynode=None,\n",
       "                                                      colsample_bytree=None,\n",
       "                                                      early_stopping_rounds=None,\n",
       "                                                      enable_categorical=False,\n",
       "                                                      eval_metric=None,\n",
       "                                                      feature_types=None,\n",
       "                                                      gamma=None, gpu_id=None,\n",
       "                                                      grow_policy=...\n",
       "                                                      max_leaves=None,\n",
       "                                                      min_child_weight=None,\n",
       "                                                      missing=nan,\n",
       "                                                      monotone_constraints=None,\n",
       "                                                      n_estimators=100,\n",
       "                                                      n_jobs=None,\n",
       "                                                      num_parallel_tree=None,\n",
       "                                                      predictor=None,\n",
       "                                                      random_state=None, ...))]),\n",
       "             param_grid={'classifier__max_depth': [10, 20, 30],\n",
       "                         'classifier__n_estimators': [100, 200, 500, 1000],\n",
       "                         'mrmr__solution_length': [40, 60, 80, 100, 120, 140,\n",
       "                                                   160, 180, 200, 220]},\n",
       "             refit='f1', scoring=['f1', 'roc_auc'])"
      ]
     },
     "execution_count": 138,
     "metadata": {},
     "output_type": "execute_result"
    }
   ],
   "source": [
    "grid2.fit(df, target)"
   ]
  },
  {
   "cell_type": "code",
   "execution_count": 139,
   "id": "bfa25d2d",
   "metadata": {},
   "outputs": [
    {
     "data": {
      "text/plain": [
       "{'classifier__max_depth': 10,\n",
       " 'classifier__n_estimators': 100,\n",
       " 'mrmr__solution_length': 120}"
      ]
     },
     "execution_count": 139,
     "metadata": {},
     "output_type": "execute_result"
    }
   ],
   "source": [
    "grid2.best_params_"
   ]
  },
  {
   "cell_type": "code",
   "execution_count": 140,
   "id": "4f27a687",
   "metadata": {},
   "outputs": [],
   "source": [
    "model = grid2.best_estimator_"
   ]
  },
  {
   "cell_type": "code",
   "execution_count": 141,
   "id": "7d7e0fcb",
   "metadata": {},
   "outputs": [
    {
     "data": {
      "text/html": [
       "<style>#sk-container-id-9 {color: black;background-color: white;}#sk-container-id-9 pre{padding: 0;}#sk-container-id-9 div.sk-toggleable {background-color: white;}#sk-container-id-9 label.sk-toggleable__label {cursor: pointer;display: block;width: 100%;margin-bottom: 0;padding: 0.3em;box-sizing: border-box;text-align: center;}#sk-container-id-9 label.sk-toggleable__label-arrow:before {content: \"▸\";float: left;margin-right: 0.25em;color: #696969;}#sk-container-id-9 label.sk-toggleable__label-arrow:hover:before {color: black;}#sk-container-id-9 div.sk-estimator:hover label.sk-toggleable__label-arrow:before {color: black;}#sk-container-id-9 div.sk-toggleable__content {max-height: 0;max-width: 0;overflow: hidden;text-align: left;background-color: #f0f8ff;}#sk-container-id-9 div.sk-toggleable__content pre {margin: 0.2em;color: black;border-radius: 0.25em;background-color: #f0f8ff;}#sk-container-id-9 input.sk-toggleable__control:checked~div.sk-toggleable__content {max-height: 200px;max-width: 100%;overflow: auto;}#sk-container-id-9 input.sk-toggleable__control:checked~label.sk-toggleable__label-arrow:before {content: \"▾\";}#sk-container-id-9 div.sk-estimator input.sk-toggleable__control:checked~label.sk-toggleable__label {background-color: #d4ebff;}#sk-container-id-9 div.sk-label input.sk-toggleable__control:checked~label.sk-toggleable__label {background-color: #d4ebff;}#sk-container-id-9 input.sk-hidden--visually {border: 0;clip: rect(1px 1px 1px 1px);clip: rect(1px, 1px, 1px, 1px);height: 1px;margin: -1px;overflow: hidden;padding: 0;position: absolute;width: 1px;}#sk-container-id-9 div.sk-estimator {font-family: monospace;background-color: #f0f8ff;border: 1px dotted black;border-radius: 0.25em;box-sizing: border-box;margin-bottom: 0.5em;}#sk-container-id-9 div.sk-estimator:hover {background-color: #d4ebff;}#sk-container-id-9 div.sk-parallel-item::after {content: \"\";width: 100%;border-bottom: 1px solid gray;flex-grow: 1;}#sk-container-id-9 div.sk-label:hover label.sk-toggleable__label {background-color: #d4ebff;}#sk-container-id-9 div.sk-serial::before {content: \"\";position: absolute;border-left: 1px solid gray;box-sizing: border-box;top: 0;bottom: 0;left: 50%;z-index: 0;}#sk-container-id-9 div.sk-serial {display: flex;flex-direction: column;align-items: center;background-color: white;padding-right: 0.2em;padding-left: 0.2em;position: relative;}#sk-container-id-9 div.sk-item {position: relative;z-index: 1;}#sk-container-id-9 div.sk-parallel {display: flex;align-items: stretch;justify-content: center;background-color: white;position: relative;}#sk-container-id-9 div.sk-item::before, #sk-container-id-9 div.sk-parallel-item::before {content: \"\";position: absolute;border-left: 1px solid gray;box-sizing: border-box;top: 0;bottom: 0;left: 50%;z-index: -1;}#sk-container-id-9 div.sk-parallel-item {display: flex;flex-direction: column;z-index: 1;position: relative;background-color: white;}#sk-container-id-9 div.sk-parallel-item:first-child::after {align-self: flex-end;width: 50%;}#sk-container-id-9 div.sk-parallel-item:last-child::after {align-self: flex-start;width: 50%;}#sk-container-id-9 div.sk-parallel-item:only-child::after {width: 0;}#sk-container-id-9 div.sk-dashed-wrapped {border: 1px dashed gray;margin: 0 0.4em 0.5em 0.4em;box-sizing: border-box;padding-bottom: 0.4em;background-color: white;}#sk-container-id-9 div.sk-label label {font-family: monospace;font-weight: bold;display: inline-block;line-height: 1.2em;}#sk-container-id-9 div.sk-label-container {text-align: center;}#sk-container-id-9 div.sk-container {/* jupyter's `normalize.less` sets `[hidden] { display: none; }` but bootstrap.min.css set `[hidden] { display: none !important; }` so we also need the `!important` here to be able to override the default hidden behavior on the sphinx rendered scikit-learn.org. See: https://github.com/scikit-learn/scikit-learn/issues/21755 */display: inline-block !important;position: relative;}#sk-container-id-9 div.sk-text-repr-fallback {display: none;}</style><div id=\"sk-container-id-9\" class=\"sk-top-container\"><div class=\"sk-text-repr-fallback\"><pre>Pipeline(steps=[(&#x27;mrmr&#x27;, MRMR(solution_length=120)),\n",
       "                (&#x27;scaler&#x27;, StandardScaler()),\n",
       "                (&#x27;classifier&#x27;,\n",
       "                 XGBClassifier(base_score=None, booster=None, callbacks=None,\n",
       "                               colsample_bylevel=None, colsample_bynode=None,\n",
       "                               colsample_bytree=None,\n",
       "                               early_stopping_rounds=None,\n",
       "                               enable_categorical=False, eval_metric=None,\n",
       "                               feature_types=None, gamma=None, gpu_id=None,\n",
       "                               grow_policy=None, importance_type=None,\n",
       "                               interaction_constraints=None, learning_rate=1,\n",
       "                               max_bin=None, max_cat_threshold=None,\n",
       "                               max_cat_to_onehot=None, max_delta_step=None,\n",
       "                               max_depth=10, max_leaves=None,\n",
       "                               min_child_weight=None, missing=nan,\n",
       "                               monotone_constraints=None, n_estimators=100,\n",
       "                               n_jobs=None, num_parallel_tree=None,\n",
       "                               predictor=None, random_state=None, ...))])</pre><b>In a Jupyter environment, please rerun this cell to show the HTML representation or trust the notebook. <br />On GitHub, the HTML representation is unable to render, please try loading this page with nbviewer.org.</b></div><div class=\"sk-container\" hidden><div class=\"sk-item sk-dashed-wrapped\"><div class=\"sk-label-container\"><div class=\"sk-label sk-toggleable\"><input class=\"sk-toggleable__control sk-hidden--visually\" id=\"sk-estimator-id-27\" type=\"checkbox\" ><label for=\"sk-estimator-id-27\" class=\"sk-toggleable__label sk-toggleable__label-arrow\">Pipeline</label><div class=\"sk-toggleable__content\"><pre>Pipeline(steps=[(&#x27;mrmr&#x27;, MRMR(solution_length=120)),\n",
       "                (&#x27;scaler&#x27;, StandardScaler()),\n",
       "                (&#x27;classifier&#x27;,\n",
       "                 XGBClassifier(base_score=None, booster=None, callbacks=None,\n",
       "                               colsample_bylevel=None, colsample_bynode=None,\n",
       "                               colsample_bytree=None,\n",
       "                               early_stopping_rounds=None,\n",
       "                               enable_categorical=False, eval_metric=None,\n",
       "                               feature_types=None, gamma=None, gpu_id=None,\n",
       "                               grow_policy=None, importance_type=None,\n",
       "                               interaction_constraints=None, learning_rate=1,\n",
       "                               max_bin=None, max_cat_threshold=None,\n",
       "                               max_cat_to_onehot=None, max_delta_step=None,\n",
       "                               max_depth=10, max_leaves=None,\n",
       "                               min_child_weight=None, missing=nan,\n",
       "                               monotone_constraints=None, n_estimators=100,\n",
       "                               n_jobs=None, num_parallel_tree=None,\n",
       "                               predictor=None, random_state=None, ...))])</pre></div></div></div><div class=\"sk-serial\"><div class=\"sk-item\"><div class=\"sk-estimator sk-toggleable\"><input class=\"sk-toggleable__control sk-hidden--visually\" id=\"sk-estimator-id-28\" type=\"checkbox\" ><label for=\"sk-estimator-id-28\" class=\"sk-toggleable__label sk-toggleable__label-arrow\">MRMR</label><div class=\"sk-toggleable__content\"><pre>MRMR(solution_length=120)</pre></div></div></div><div class=\"sk-item\"><div class=\"sk-estimator sk-toggleable\"><input class=\"sk-toggleable__control sk-hidden--visually\" id=\"sk-estimator-id-29\" type=\"checkbox\" ><label for=\"sk-estimator-id-29\" class=\"sk-toggleable__label sk-toggleable__label-arrow\">StandardScaler</label><div class=\"sk-toggleable__content\"><pre>StandardScaler()</pre></div></div></div><div class=\"sk-item\"><div class=\"sk-estimator sk-toggleable\"><input class=\"sk-toggleable__control sk-hidden--visually\" id=\"sk-estimator-id-30\" type=\"checkbox\" ><label for=\"sk-estimator-id-30\" class=\"sk-toggleable__label sk-toggleable__label-arrow\">XGBClassifier</label><div class=\"sk-toggleable__content\"><pre>XGBClassifier(base_score=None, booster=None, callbacks=None,\n",
       "              colsample_bylevel=None, colsample_bynode=None,\n",
       "              colsample_bytree=None, early_stopping_rounds=None,\n",
       "              enable_categorical=False, eval_metric=None, feature_types=None,\n",
       "              gamma=None, gpu_id=None, grow_policy=None, importance_type=None,\n",
       "              interaction_constraints=None, learning_rate=1, max_bin=None,\n",
       "              max_cat_threshold=None, max_cat_to_onehot=None,\n",
       "              max_delta_step=None, max_depth=10, max_leaves=None,\n",
       "              min_child_weight=None, missing=nan, monotone_constraints=None,\n",
       "              n_estimators=100, n_jobs=None, num_parallel_tree=None,\n",
       "              predictor=None, random_state=None, ...)</pre></div></div></div></div></div></div></div>"
      ],
      "text/plain": [
       "Pipeline(steps=[('mrmr', MRMR(solution_length=120)),\n",
       "                ('scaler', StandardScaler()),\n",
       "                ('classifier',\n",
       "                 XGBClassifier(base_score=None, booster=None, callbacks=None,\n",
       "                               colsample_bylevel=None, colsample_bynode=None,\n",
       "                               colsample_bytree=None,\n",
       "                               early_stopping_rounds=None,\n",
       "                               enable_categorical=False, eval_metric=None,\n",
       "                               feature_types=None, gamma=None, gpu_id=None,\n",
       "                               grow_policy=None, importance_type=None,\n",
       "                               interaction_constraints=None, learning_rate=1,\n",
       "                               max_bin=None, max_cat_threshold=None,\n",
       "                               max_cat_to_onehot=None, max_delta_step=None,\n",
       "                               max_depth=10, max_leaves=None,\n",
       "                               min_child_weight=None, missing=nan,\n",
       "                               monotone_constraints=None, n_estimators=100,\n",
       "                               n_jobs=None, num_parallel_tree=None,\n",
       "                               predictor=None, random_state=None, ...))])"
      ]
     },
     "execution_count": 141,
     "metadata": {},
     "output_type": "execute_result"
    }
   ],
   "source": [
    "model.fit(df, target)"
   ]
  },
  {
   "cell_type": "code",
   "execution_count": null,
   "id": "eee233a8",
   "metadata": {},
   "outputs": [],
   "source": []
  },
  {
   "cell_type": "code",
   "execution_count": null,
   "id": "09a7153b",
   "metadata": {},
   "outputs": [],
   "source": []
  },
  {
   "cell_type": "code",
   "execution_count": 142,
   "id": "7e9a06f7",
   "metadata": {},
   "outputs": [
    {
     "data": {
      "image/png": "[encoded data removed]",
      "text/plain": [
       "<Figure size 640x480 with 1 Axes>"
      ]
     },
     "metadata": {},
     "output_type": "display_data"
    }
   ],
   "source": [
    "importances = sorted(zip(X_train.columns, model.steps[2][1].feature_importances_), key= lambda x: x[1], reverse=True)\n",
    "values = [x[1] for x in importances[:10]]\n",
    "labels = [x[0] for x in importances[:10]]\n",
    "\n",
    "plt.bar(range(10), values)\n",
    "plt.xticks(range(10), labels=labels)\n",
    "plt.show()"
   ]
  },
  {
   "cell_type": "code",
   "execution_count": 143,
   "id": "b78990c8",
   "metadata": {
    "scrolled": false
   },
   "outputs": [
    {
     "data": {
      "text/html": [
       "<div>\n",
       "<style scoped>\n",
       "    .dataframe tbody tr th:only-of-type {\n",
       "        vertical-align: middle;\n",
       "    }\n",
       "\n",
       "    .dataframe tbody tr th {\n",
       "        vertical-align: top;\n",
       "    }\n",
       "\n",
       "    .dataframe thead th {\n",
       "        text-align: right;\n",
       "    }\n",
       "</style>\n",
       "<table border=\"1\" class=\"dataframe\">\n",
       "  <thead>\n",
       "    <tr style=\"text-align: right;\">\n",
       "      <th></th>\n",
       "      <th>BIOCHEMICAL</th>\n",
       "      <th>PATHWAY_SORTORDER</th>\n",
       "      <th>SUPER_PATHWAY</th>\n",
       "      <th>SUB_PATHWAY</th>\n",
       "      <th>COMP_ID</th>\n",
       "      <th>PLATFORM</th>\n",
       "      <th>CHEMICAL_ID</th>\n",
       "      <th>PUBCHEM</th>\n",
       "      <th>CAS</th>\n",
       "      <th>KEGG</th>\n",
       "      <th>HMDB_ID</th>\n",
       "    </tr>\n",
       "  </thead>\n",
       "  <tbody>\n",
       "    <tr>\n",
       "      <th>2</th>\n",
       "      <td>1-methylnicotinamide</td>\n",
       "      <td>4336.0</td>\n",
       "      <td>Cofactors and Vitamins</td>\n",
       "      <td>Nicotinate and Nicotinamide Metabolism</td>\n",
       "      <td>27665</td>\n",
       "      <td>Pos Early</td>\n",
       "      <td>55</td>\n",
       "      <td>457</td>\n",
       "      <td>1005-24-9</td>\n",
       "      <td>C02918</td>\n",
       "      <td>HMDB0000699</td>\n",
       "    </tr>\n",
       "    <tr>\n",
       "      <th>12</th>\n",
       "      <td>hypoxanthine</td>\n",
       "      <td>4140.0</td>\n",
       "      <td>Nucleotide</td>\n",
       "      <td>Purine Metabolism, (Hypo)Xanthine/Inosine cont...</td>\n",
       "      <td>3127</td>\n",
       "      <td>Neg</td>\n",
       "      <td>171</td>\n",
       "      <td>790,135398638</td>\n",
       "      <td>68-94-0</td>\n",
       "      <td>C00262</td>\n",
       "      <td>HMDB0000157</td>\n",
       "    </tr>\n",
       "    <tr>\n",
       "      <th>13</th>\n",
       "      <td>9,10-DiHOME</td>\n",
       "      <td>2049.0</td>\n",
       "      <td>Lipid</td>\n",
       "      <td>Fatty Acid, Dihydroxy</td>\n",
       "      <td>38399</td>\n",
       "      <td>Neg</td>\n",
       "      <td>179</td>\n",
       "      <td>9966640</td>\n",
       "      <td>263399-34-4</td>\n",
       "      <td>C14828</td>\n",
       "      <td>HMDB0004704</td>\n",
       "    </tr>\n",
       "    <tr>\n",
       "      <th>38</th>\n",
       "      <td>creatinine</td>\n",
       "      <td>537.0</td>\n",
       "      <td>Amino Acid</td>\n",
       "      <td>Creatine Metabolism</td>\n",
       "      <td>513</td>\n",
       "      <td>Pos Early</td>\n",
       "      <td>275</td>\n",
       "      <td>588</td>\n",
       "      <td>60-27-5</td>\n",
       "      <td>C00791</td>\n",
       "      <td>HMDB0000562</td>\n",
       "    </tr>\n",
       "    <tr>\n",
       "      <th>57</th>\n",
       "      <td>isoleucine</td>\n",
       "      <td>390.0</td>\n",
       "      <td>Amino Acid</td>\n",
       "      <td>Leucine, Isoleucine and Valine Metabolism</td>\n",
       "      <td>1125</td>\n",
       "      <td>Pos Early</td>\n",
       "      <td>376</td>\n",
       "      <td>6306</td>\n",
       "      <td>73-32-5</td>\n",
       "      <td>C06418,C00407,C16424</td>\n",
       "      <td>HMDB0000172</td>\n",
       "    </tr>\n",
       "    <tr>\n",
       "      <th>58</th>\n",
       "      <td>2-aminoadipate</td>\n",
       "      <td>125.0</td>\n",
       "      <td>Amino Acid</td>\n",
       "      <td>Lysine Metabolism</td>\n",
       "      <td>6146</td>\n",
       "      <td>Polar</td>\n",
       "      <td>381</td>\n",
       "      <td>92136</td>\n",
       "      <td>1118-90-7,542-32-5</td>\n",
       "      <td>C00956</td>\n",
       "      <td>HMDB0000510</td>\n",
       "    </tr>\n",
       "    <tr>\n",
       "      <th>94</th>\n",
       "      <td>alpha-ketobutyrate</td>\n",
       "      <td>460.0</td>\n",
       "      <td>Amino Acid</td>\n",
       "      <td>Methionine, Cysteine, SAM and Taurine Metabolism</td>\n",
       "      <td>4968</td>\n",
       "      <td>Polar</td>\n",
       "      <td>796</td>\n",
       "      <td>58</td>\n",
       "      <td>600-18-0</td>\n",
       "      <td>C00109</td>\n",
       "      <td>HMDB0000005</td>\n",
       "    </tr>\n",
       "    <tr>\n",
       "      <th>98</th>\n",
       "      <td>mannose</td>\n",
       "      <td>1370.0</td>\n",
       "      <td>Carbohydrate</td>\n",
       "      <td>Fructose, Mannose and Galactose Metabolism</td>\n",
       "      <td>48153</td>\n",
       "      <td>Polar</td>\n",
       "      <td>803</td>\n",
       "      <td>82308,439680,185698,18950</td>\n",
       "      <td>3458-28-4</td>\n",
       "      <td>C00159,C02209,C00936</td>\n",
       "      <td>HMDB0000169</td>\n",
       "    </tr>\n",
       "    <tr>\n",
       "      <th>101</th>\n",
       "      <td>tyrosine</td>\n",
       "      <td>167.0</td>\n",
       "      <td>Amino Acid</td>\n",
       "      <td>Tyrosine Metabolism</td>\n",
       "      <td>1299</td>\n",
       "      <td>Pos Early</td>\n",
       "      <td>815</td>\n",
       "      <td>6057</td>\n",
       "      <td>60-18-4</td>\n",
       "      <td>C00082</td>\n",
       "      <td>HMDB0000158</td>\n",
       "    </tr>\n",
       "    <tr>\n",
       "      <th>109</th>\n",
       "      <td>caffeine</td>\n",
       "      <td>4612.0</td>\n",
       "      <td>Xenobiotics</td>\n",
       "      <td>Xanthine Metabolism</td>\n",
       "      <td>569</td>\n",
       "      <td>Pos Early</td>\n",
       "      <td>849</td>\n",
       "      <td>2519</td>\n",
       "      <td>58-08-2</td>\n",
       "      <td>C07481</td>\n",
       "      <td>HMDB0001847</td>\n",
       "    </tr>\n",
       "  </tbody>\n",
       "</table>\n",
       "</div>"
      ],
      "text/plain": [
       "              BIOCHEMICAL  PATHWAY_SORTORDER           SUPER_PATHWAY  \\\n",
       "2    1-methylnicotinamide             4336.0  Cofactors and Vitamins   \n",
       "12           hypoxanthine             4140.0              Nucleotide   \n",
       "13            9,10-DiHOME             2049.0                   Lipid   \n",
       "38             creatinine              537.0              Amino Acid   \n",
       "57             isoleucine              390.0              Amino Acid   \n",
       "58         2-aminoadipate              125.0              Amino Acid   \n",
       "94     alpha-ketobutyrate              460.0              Amino Acid   \n",
       "98                mannose             1370.0            Carbohydrate   \n",
       "101              tyrosine              167.0              Amino Acid   \n",
       "109              caffeine             4612.0             Xenobiotics   \n",
       "\n",
       "                                           SUB_PATHWAY  COMP_ID   PLATFORM  \\\n",
       "2               Nicotinate and Nicotinamide Metabolism    27665  Pos Early   \n",
       "12   Purine Metabolism, (Hypo)Xanthine/Inosine cont...     3127        Neg   \n",
       "13                               Fatty Acid, Dihydroxy    38399        Neg   \n",
       "38                                 Creatine Metabolism      513  Pos Early   \n",
       "57           Leucine, Isoleucine and Valine Metabolism     1125  Pos Early   \n",
       "58                                   Lysine Metabolism     6146      Polar   \n",
       "94    Methionine, Cysteine, SAM and Taurine Metabolism     4968      Polar   \n",
       "98          Fructose, Mannose and Galactose Metabolism    48153      Polar   \n",
       "101                                Tyrosine Metabolism     1299  Pos Early   \n",
       "109                                Xanthine Metabolism      569  Pos Early   \n",
       "\n",
       "     CHEMICAL_ID                    PUBCHEM                 CAS  \\\n",
       "2             55                        457           1005-24-9   \n",
       "12           171              790,135398638             68-94-0   \n",
       "13           179                    9966640         263399-34-4   \n",
       "38           275                        588             60-27-5   \n",
       "57           376                       6306             73-32-5   \n",
       "58           381                      92136  1118-90-7,542-32-5   \n",
       "94           796                         58            600-18-0   \n",
       "98           803  82308,439680,185698,18950           3458-28-4   \n",
       "101          815                       6057             60-18-4   \n",
       "109          849                       2519             58-08-2   \n",
       "\n",
       "                     KEGG      HMDB_ID  \n",
       "2                  C02918  HMDB0000699  \n",
       "12                 C00262  HMDB0000157  \n",
       "13                 C14828  HMDB0004704  \n",
       "38                 C00791  HMDB0000562  \n",
       "57   C06418,C00407,C16424  HMDB0000172  \n",
       "58                 C00956  HMDB0000510  \n",
       "94                 C00109  HMDB0000005  \n",
       "98   C00159,C02209,C00936  HMDB0000169  \n",
       "101                C00082  HMDB0000158  \n",
       "109                C07481  HMDB0001847  "
      ]
     },
     "execution_count": 143,
     "metadata": {},
     "output_type": "execute_result"
    }
   ],
   "source": [
    "comp_df[comp_df.COMP_ID.isin(labels)]"
   ]
  },
  {
   "cell_type": "code",
   "execution_count": null,
   "id": "6d4d5f9c",
   "metadata": {},
   "outputs": [],
   "source": []
  },
  {
   "cell_type": "code",
   "execution_count": null,
   "id": "2921d3f5",
   "metadata": {},
   "outputs": [],
   "source": []
  }
 ],
 "metadata": {
  "kernelspec": {
   "display_name": "Python 3 (ipykernel)",
   "language": "python",
   "name": "python3"
  },
  "language_info": {
   "codemirror_mode": {
    "name": "ipython",
    "version": 3
   },
   "file_extension": ".py",
   "mimetype": "text/x-python",
   "name": "python",
   "nbconvert_exporter": "python",
   "pygments_lexer": "ipython3",
   "version": "3.10.12"
  }
 },
 "nbformat": 4,
 "nbformat_minor": 5
}
