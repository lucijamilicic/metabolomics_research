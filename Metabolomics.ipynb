{
 "cells": [
  {
   "cell_type": "code",
   "execution_count": 1,
   "id": "e5e41350",
   "metadata": {},
   "outputs": [],
   "source": [
    "import pandas as pd\n",
    "import numpy as np\n",
    "# !pip install umap-learn\n",
    "import umap.umap_ as umap\n",
    "\n",
    "from matplotlib import pyplot as plt"
   ]
  },
  {
   "cell_type": "code",
   "execution_count": null,
   "id": "84caf73f",
   "metadata": {},
   "outputs": [],
   "source": []
  },
  {
   "cell_type": "markdown",
   "id": "fa251a6f",
   "metadata": {},
   "source": [
    "### Dataset analysis"
   ]
  },
  {
   "cell_type": "code",
   "execution_count": 2,
   "id": "e69888a3",
   "metadata": {},
   "outputs": [],
   "source": [
    "met_df = (pd.read_csv(\"./metabolomics/data_zscore_comp_id.csv\"))"
   ]
  },
  {
   "cell_type": "code",
   "execution_count": 3,
   "id": "987b4c3b",
   "metadata": {
    "scrolled": true
   },
   "outputs": [
    {
     "data": {
      "text/html": [
       "<div>\n",
       "<style scoped>\n",
       "    .dataframe tbody tr th:only-of-type {\n",
       "        vertical-align: middle;\n",
       "    }\n",
       "\n",
       "    .dataframe tbody tr th {\n",
       "        vertical-align: top;\n",
       "    }\n",
       "\n",
       "    .dataframe thead th {\n",
       "        text-align: right;\n",
       "    }\n",
       "</style>\n",
       "<table border=\"1\" class=\"dataframe\">\n",
       "  <thead>\n",
       "    <tr style=\"text-align: right;\">\n",
       "      <th></th>\n",
       "      <th>Unnamed: 0</th>\n",
       "      <th>BAYL-08997</th>\n",
       "      <th>BAYL-08998</th>\n",
       "      <th>BAYL-08999</th>\n",
       "      <th>BAYL-09000</th>\n",
       "      <th>BAYL-09001</th>\n",
       "      <th>BAYL-09002</th>\n",
       "      <th>BAYL-09003</th>\n",
       "      <th>BAYL-09004</th>\n",
       "      <th>BAYL-09005</th>\n",
       "      <th>...</th>\n",
       "      <th>s_21944</th>\n",
       "      <th>s_22832</th>\n",
       "      <th>s_22842</th>\n",
       "      <th>s_22997</th>\n",
       "      <th>s_23003</th>\n",
       "      <th>s_23077</th>\n",
       "      <th>s_23123</th>\n",
       "      <th>s_22787</th>\n",
       "      <th>s_23294</th>\n",
       "      <th>s_73385</th>\n",
       "    </tr>\n",
       "  </thead>\n",
       "  <tbody>\n",
       "    <tr>\n",
       "      <th>0</th>\n",
       "      <td>42370</td>\n",
       "      <td>-1.259948</td>\n",
       "      <td>0.170557</td>\n",
       "      <td>0.814204</td>\n",
       "      <td>0.038958</td>\n",
       "      <td>-0.504466</td>\n",
       "      <td>-0.757901</td>\n",
       "      <td>-0.986865</td>\n",
       "      <td>0.993000</td>\n",
       "      <td>0.986541</td>\n",
       "      <td>...</td>\n",
       "      <td>NaN</td>\n",
       "      <td>NaN</td>\n",
       "      <td>NaN</td>\n",
       "      <td>NaN</td>\n",
       "      <td>NaN</td>\n",
       "      <td>NaN</td>\n",
       "      <td>NaN</td>\n",
       "      <td>NaN</td>\n",
       "      <td>NaN</td>\n",
       "      <td>NaN</td>\n",
       "    </tr>\n",
       "    <tr>\n",
       "      <th>1</th>\n",
       "      <td>485</td>\n",
       "      <td>-0.610334</td>\n",
       "      <td>-0.811169</td>\n",
       "      <td>-0.554787</td>\n",
       "      <td>-0.603603</td>\n",
       "      <td>-0.549375</td>\n",
       "      <td>-0.631363</td>\n",
       "      <td>0.606882</td>\n",
       "      <td>1.238204</td>\n",
       "      <td>1.661840</td>\n",
       "      <td>...</td>\n",
       "      <td>-0.434904</td>\n",
       "      <td>-0.730548</td>\n",
       "      <td>-0.009508</td>\n",
       "      <td>-0.607362</td>\n",
       "      <td>0.219333</td>\n",
       "      <td>-0.767359</td>\n",
       "      <td>-0.421440</td>\n",
       "      <td>0.085019</td>\n",
       "      <td>-0.732586</td>\n",
       "      <td>-1.167603</td>\n",
       "    </tr>\n",
       "    <tr>\n",
       "      <th>2</th>\n",
       "      <td>27665</td>\n",
       "      <td>-1.201809</td>\n",
       "      <td>0.387317</td>\n",
       "      <td>-1.062940</td>\n",
       "      <td>0.525122</td>\n",
       "      <td>-0.973446</td>\n",
       "      <td>-0.253533</td>\n",
       "      <td>0.195547</td>\n",
       "      <td>0.769406</td>\n",
       "      <td>0.796718</td>\n",
       "      <td>...</td>\n",
       "      <td>0.825309</td>\n",
       "      <td>2.224161</td>\n",
       "      <td>0.182297</td>\n",
       "      <td>-0.697035</td>\n",
       "      <td>0.161942</td>\n",
       "      <td>-0.266286</td>\n",
       "      <td>0.775185</td>\n",
       "      <td>-0.640354</td>\n",
       "      <td>1.440073</td>\n",
       "      <td>0.458074</td>\n",
       "    </tr>\n",
       "    <tr>\n",
       "      <th>3</th>\n",
       "      <td>38395</td>\n",
       "      <td>-0.954275</td>\n",
       "      <td>-0.906589</td>\n",
       "      <td>4.929942</td>\n",
       "      <td>0.974496</td>\n",
       "      <td>-0.740805</td>\n",
       "      <td>0.642705</td>\n",
       "      <td>-0.293678</td>\n",
       "      <td>0.650630</td>\n",
       "      <td>1.008092</td>\n",
       "      <td>...</td>\n",
       "      <td>-1.505053</td>\n",
       "      <td>-1.112171</td>\n",
       "      <td>0.062801</td>\n",
       "      <td>-0.778621</td>\n",
       "      <td>0.574785</td>\n",
       "      <td>-0.251823</td>\n",
       "      <td>-0.822022</td>\n",
       "      <td>-1.332230</td>\n",
       "      <td>0.767016</td>\n",
       "      <td>-1.741468</td>\n",
       "    </tr>\n",
       "    <tr>\n",
       "      <th>4</th>\n",
       "      <td>437</td>\n",
       "      <td>0.240999</td>\n",
       "      <td>-0.454249</td>\n",
       "      <td>-0.000406</td>\n",
       "      <td>-0.542391</td>\n",
       "      <td>NaN</td>\n",
       "      <td>0.403722</td>\n",
       "      <td>-0.492163</td>\n",
       "      <td>0.252810</td>\n",
       "      <td>-0.517825</td>\n",
       "      <td>...</td>\n",
       "      <td>NaN</td>\n",
       "      <td>NaN</td>\n",
       "      <td>NaN</td>\n",
       "      <td>NaN</td>\n",
       "      <td>NaN</td>\n",
       "      <td>NaN</td>\n",
       "      <td>NaN</td>\n",
       "      <td>NaN</td>\n",
       "      <td>NaN</td>\n",
       "      <td>NaN</td>\n",
       "    </tr>\n",
       "  </tbody>\n",
       "</table>\n",
       "<p>5 rows × 464 columns</p>\n",
       "</div>"
      ],
      "text/plain": [
       "   Unnamed: 0  BAYL-08997  BAYL-08998  BAYL-08999  BAYL-09000  BAYL-09001   \n",
       "0       42370   -1.259948    0.170557    0.814204    0.038958   -0.504466  \\\n",
       "1         485   -0.610334   -0.811169   -0.554787   -0.603603   -0.549375   \n",
       "2       27665   -1.201809    0.387317   -1.062940    0.525122   -0.973446   \n",
       "3       38395   -0.954275   -0.906589    4.929942    0.974496   -0.740805   \n",
       "4         437    0.240999   -0.454249   -0.000406   -0.542391         NaN   \n",
       "\n",
       "   BAYL-09002  BAYL-09003  BAYL-09004  BAYL-09005  ...   s_21944   s_22832   \n",
       "0   -0.757901   -0.986865    0.993000    0.986541  ...       NaN       NaN  \\\n",
       "1   -0.631363    0.606882    1.238204    1.661840  ... -0.434904 -0.730548   \n",
       "2   -0.253533    0.195547    0.769406    0.796718  ...  0.825309  2.224161   \n",
       "3    0.642705   -0.293678    0.650630    1.008092  ... -1.505053 -1.112171   \n",
       "4    0.403722   -0.492163    0.252810   -0.517825  ...       NaN       NaN   \n",
       "\n",
       "    s_22842   s_22997   s_23003   s_23077   s_23123   s_22787   s_23294   \n",
       "0       NaN       NaN       NaN       NaN       NaN       NaN       NaN  \\\n",
       "1 -0.009508 -0.607362  0.219333 -0.767359 -0.421440  0.085019 -0.732586   \n",
       "2  0.182297 -0.697035  0.161942 -0.266286  0.775185 -0.640354  1.440073   \n",
       "3  0.062801 -0.778621  0.574785 -0.251823 -0.822022 -1.332230  0.767016   \n",
       "4       NaN       NaN       NaN       NaN       NaN       NaN       NaN   \n",
       "\n",
       "    s_73385  \n",
       "0       NaN  \n",
       "1 -1.167603  \n",
       "2  0.458074  \n",
       "3 -1.741468  \n",
       "4       NaN  \n",
       "\n",
       "[5 rows x 464 columns]"
      ]
     },
     "execution_count": 3,
     "metadata": {},
     "output_type": "execute_result"
    }
   ],
   "source": [
    "met_df.head()"
   ]
  },
  {
   "cell_type": "code",
   "execution_count": 4,
   "id": "b9c0bea6",
   "metadata": {},
   "outputs": [
    {
     "data": {
      "text/plain": [
       "(968, 464)"
      ]
     },
     "execution_count": 4,
     "metadata": {},
     "output_type": "execute_result"
    }
   ],
   "source": [
    "met_df.shape"
   ]
  },
  {
   "cell_type": "code",
   "execution_count": 5,
   "id": "1de510b9",
   "metadata": {},
   "outputs": [
    {
     "data": {
      "text/plain": [
       "(968,)"
      ]
     },
     "execution_count": 5,
     "metadata": {},
     "output_type": "execute_result"
    }
   ],
   "source": [
    "met_df['Unnamed: 0'].unique().shape # unnamed -> unique values, id?"
   ]
  },
  {
   "cell_type": "code",
   "execution_count": null,
   "id": "c5c00f82",
   "metadata": {},
   "outputs": [],
   "source": []
  },
  {
   "cell_type": "code",
   "execution_count": 6,
   "id": "57bcf4c6",
   "metadata": {},
   "outputs": [],
   "source": [
    "comp_df = pd.read_csv(\"./metabolomics/compAnno.csv\")"
   ]
  },
  {
   "cell_type": "code",
   "execution_count": 7,
   "id": "735bdf9e",
   "metadata": {},
   "outputs": [
    {
     "data": {
      "text/html": [
       "<div>\n",
       "<style scoped>\n",
       "    .dataframe tbody tr th:only-of-type {\n",
       "        vertical-align: middle;\n",
       "    }\n",
       "\n",
       "    .dataframe tbody tr th {\n",
       "        vertical-align: top;\n",
       "    }\n",
       "\n",
       "    .dataframe thead th {\n",
       "        text-align: right;\n",
       "    }\n",
       "</style>\n",
       "<table border=\"1\" class=\"dataframe\">\n",
       "  <thead>\n",
       "    <tr style=\"text-align: right;\">\n",
       "      <th></th>\n",
       "      <th>BIOCHEMICAL</th>\n",
       "      <th>PATHWAY_SORTORDER</th>\n",
       "      <th>SUPER_PATHWAY</th>\n",
       "      <th>SUB_PATHWAY</th>\n",
       "      <th>COMP_ID</th>\n",
       "      <th>PLATFORM</th>\n",
       "      <th>CHEMICAL_ID</th>\n",
       "      <th>PUBCHEM</th>\n",
       "      <th>CAS</th>\n",
       "      <th>KEGG</th>\n",
       "      <th>HMDB_ID</th>\n",
       "    </tr>\n",
       "  </thead>\n",
       "  <tbody>\n",
       "    <tr>\n",
       "      <th>0</th>\n",
       "      <td>S-1-pyrroline-5-carboxylate</td>\n",
       "      <td>64.0</td>\n",
       "      <td>Amino Acid</td>\n",
       "      <td>Glutamate Metabolism</td>\n",
       "      <td>42370</td>\n",
       "      <td>Pos Early</td>\n",
       "      <td>35</td>\n",
       "      <td>11966181</td>\n",
       "      <td>2906-39-0</td>\n",
       "      <td>C04322</td>\n",
       "      <td>HMDB0001301</td>\n",
       "    </tr>\n",
       "    <tr>\n",
       "      <th>1</th>\n",
       "      <td>spermidine</td>\n",
       "      <td>553.0</td>\n",
       "      <td>Amino Acid</td>\n",
       "      <td>Polyamine Metabolism</td>\n",
       "      <td>485</td>\n",
       "      <td>Pos Early</td>\n",
       "      <td>50</td>\n",
       "      <td>1102</td>\n",
       "      <td>124-20-9</td>\n",
       "      <td>C00315</td>\n",
       "      <td>HMDB0001257</td>\n",
       "    </tr>\n",
       "    <tr>\n",
       "      <th>2</th>\n",
       "      <td>1-methylnicotinamide</td>\n",
       "      <td>4336.0</td>\n",
       "      <td>Cofactors and Vitamins</td>\n",
       "      <td>Nicotinate and Nicotinamide Metabolism</td>\n",
       "      <td>27665</td>\n",
       "      <td>Pos Early</td>\n",
       "      <td>55</td>\n",
       "      <td>457</td>\n",
       "      <td>1005-24-9</td>\n",
       "      <td>C02918</td>\n",
       "      <td>HMDB0000699</td>\n",
       "    </tr>\n",
       "    <tr>\n",
       "      <th>3</th>\n",
       "      <td>12,13-DiHOME</td>\n",
       "      <td>2048.0</td>\n",
       "      <td>Lipid</td>\n",
       "      <td>Fatty Acid, Dihydroxy</td>\n",
       "      <td>38395</td>\n",
       "      <td>Neg</td>\n",
       "      <td>62</td>\n",
       "      <td>10236635</td>\n",
       "      <td>263399-35-5</td>\n",
       "      <td>C14829</td>\n",
       "      <td>HMDB0004705</td>\n",
       "    </tr>\n",
       "    <tr>\n",
       "      <th>4</th>\n",
       "      <td>5-hydroxyindoleacetate</td>\n",
       "      <td>295.0</td>\n",
       "      <td>Amino Acid</td>\n",
       "      <td>Tryptophan Metabolism</td>\n",
       "      <td>437</td>\n",
       "      <td>Neg</td>\n",
       "      <td>71</td>\n",
       "      <td>1826</td>\n",
       "      <td>54-16-0</td>\n",
       "      <td>C05635</td>\n",
       "      <td>HMDB0000763</td>\n",
       "    </tr>\n",
       "  </tbody>\n",
       "</table>\n",
       "</div>"
      ],
      "text/plain": [
       "                   BIOCHEMICAL  PATHWAY_SORTORDER           SUPER_PATHWAY   \n",
       "0  S-1-pyrroline-5-carboxylate               64.0              Amino Acid  \\\n",
       "1                   spermidine              553.0              Amino Acid   \n",
       "2         1-methylnicotinamide             4336.0  Cofactors and Vitamins   \n",
       "3                 12,13-DiHOME             2048.0                   Lipid   \n",
       "4       5-hydroxyindoleacetate              295.0              Amino Acid   \n",
       "\n",
       "                              SUB_PATHWAY  COMP_ID   PLATFORM  CHEMICAL_ID   \n",
       "0                    Glutamate Metabolism    42370  Pos Early           35  \\\n",
       "1                    Polyamine Metabolism      485  Pos Early           50   \n",
       "2  Nicotinate and Nicotinamide Metabolism    27665  Pos Early           55   \n",
       "3                   Fatty Acid, Dihydroxy    38395        Neg           62   \n",
       "4                   Tryptophan Metabolism      437        Neg           71   \n",
       "\n",
       "    PUBCHEM          CAS    KEGG      HMDB_ID  \n",
       "0  11966181    2906-39-0  C04322  HMDB0001301  \n",
       "1      1102     124-20-9  C00315  HMDB0001257  \n",
       "2       457    1005-24-9  C02918  HMDB0000699  \n",
       "3  10236635  263399-35-5  C14829  HMDB0004705  \n",
       "4      1826      54-16-0  C05635  HMDB0000763  "
      ]
     },
     "execution_count": 7,
     "metadata": {},
     "output_type": "execute_result"
    }
   ],
   "source": [
    "comp_df.head()"
   ]
  },
  {
   "cell_type": "markdown",
   "id": "538d234b",
   "metadata": {},
   "source": [
    "comp_df.shape"
   ]
  },
  {
   "cell_type": "code",
   "execution_count": 8,
   "id": "9fa2c9e1",
   "metadata": {},
   "outputs": [
    {
     "data": {
      "text/plain": [
       "(963,)"
      ]
     },
     "execution_count": 8,
     "metadata": {},
     "output_type": "execute_result"
    }
   ],
   "source": [
    "comp_df['COMP_ID'].unique().shape"
   ]
  },
  {
   "cell_type": "code",
   "execution_count": 9,
   "id": "00da1d6b",
   "metadata": {},
   "outputs": [
    {
     "data": {
      "text/plain": [
       "(968,)"
      ]
     },
     "execution_count": 9,
     "metadata": {},
     "output_type": "execute_result"
    }
   ],
   "source": [
    "met_df['Unnamed: 0'].unique().shape"
   ]
  },
  {
   "cell_type": "code",
   "execution_count": 10,
   "id": "7e3f60de",
   "metadata": {},
   "outputs": [
    {
     "data": {
      "text/plain": [
       "[33967, 38595, 53189, 52896, 52897]"
      ]
     },
     "execution_count": 10,
     "metadata": {},
     "output_type": "execute_result"
    }
   ],
   "source": [
    "# missing ids?\n",
    "missing_ids = [x for x in list(met_df['Unnamed: 0']) if x not in list(comp_df['COMP_ID'])]\n",
    "missing_ids"
   ]
  },
  {
   "cell_type": "code",
   "execution_count": 11,
   "id": "474a2307",
   "metadata": {},
   "outputs": [
    {
     "name": "stdout",
     "output_type": "stream",
     "text": [
      "33967 963    463\n",
      "dtype: int64\n",
      "38595 964    463\n",
      "dtype: int64\n",
      "53189 965    463\n",
      "dtype: int64\n",
      "52896 966    463\n",
      "dtype: int64\n",
      "52897 967    463\n",
      "dtype: int64\n"
     ]
    }
   ],
   "source": [
    "for x in missing_ids:\n",
    "    print(x, met_df[met_df['Unnamed: 0'] == x].isna().sum(axis=1))"
   ]
  },
  {
   "cell_type": "code",
   "execution_count": 12,
   "id": "82f03ae4",
   "metadata": {},
   "outputs": [
    {
     "data": {
      "text/plain": [
       "8"
      ]
     },
     "execution_count": 12,
     "metadata": {},
     "output_type": "execute_result"
    }
   ],
   "source": [
    "# rows with all NaN\n",
    "len([x for x in met_df.isna().sum(axis=1) if x == 463])"
   ]
  },
  {
   "cell_type": "code",
   "execution_count": 13,
   "id": "9eaf9565",
   "metadata": {},
   "outputs": [
    {
     "data": {
      "text/html": [
       "<div>\n",
       "<style scoped>\n",
       "    .dataframe tbody tr th:only-of-type {\n",
       "        vertical-align: middle;\n",
       "    }\n",
       "\n",
       "    .dataframe tbody tr th {\n",
       "        vertical-align: top;\n",
       "    }\n",
       "\n",
       "    .dataframe thead th {\n",
       "        text-align: right;\n",
       "    }\n",
       "</style>\n",
       "<table border=\"1\" class=\"dataframe\">\n",
       "  <thead>\n",
       "    <tr style=\"text-align: right;\">\n",
       "      <th></th>\n",
       "      <th>BAYL-08997</th>\n",
       "      <th>BAYL-08998</th>\n",
       "      <th>BAYL-08999</th>\n",
       "      <th>BAYL-09000</th>\n",
       "      <th>BAYL-09001</th>\n",
       "      <th>BAYL-09002</th>\n",
       "      <th>BAYL-09003</th>\n",
       "      <th>BAYL-09004</th>\n",
       "      <th>BAYL-09005</th>\n",
       "      <th>BAYL-09006</th>\n",
       "      <th>...</th>\n",
       "      <th>s_21944</th>\n",
       "      <th>s_22832</th>\n",
       "      <th>s_22842</th>\n",
       "      <th>s_22997</th>\n",
       "      <th>s_23003</th>\n",
       "      <th>s_23077</th>\n",
       "      <th>s_23123</th>\n",
       "      <th>s_22787</th>\n",
       "      <th>s_23294</th>\n",
       "      <th>s_73385</th>\n",
       "    </tr>\n",
       "  </thead>\n",
       "  <tbody>\n",
       "    <tr>\n",
       "      <th>42370</th>\n",
       "      <td>-1.259948</td>\n",
       "      <td>0.170557</td>\n",
       "      <td>0.814204</td>\n",
       "      <td>0.038958</td>\n",
       "      <td>-0.504466</td>\n",
       "      <td>-0.757901</td>\n",
       "      <td>-0.986865</td>\n",
       "      <td>0.993000</td>\n",
       "      <td>0.986541</td>\n",
       "      <td>0.000250</td>\n",
       "      <td>...</td>\n",
       "      <td>NaN</td>\n",
       "      <td>NaN</td>\n",
       "      <td>NaN</td>\n",
       "      <td>NaN</td>\n",
       "      <td>NaN</td>\n",
       "      <td>NaN</td>\n",
       "      <td>NaN</td>\n",
       "      <td>NaN</td>\n",
       "      <td>NaN</td>\n",
       "      <td>NaN</td>\n",
       "    </tr>\n",
       "    <tr>\n",
       "      <th>485</th>\n",
       "      <td>-0.610334</td>\n",
       "      <td>-0.811169</td>\n",
       "      <td>-0.554787</td>\n",
       "      <td>-0.603603</td>\n",
       "      <td>-0.549375</td>\n",
       "      <td>-0.631363</td>\n",
       "      <td>0.606882</td>\n",
       "      <td>1.238204</td>\n",
       "      <td>1.661840</td>\n",
       "      <td>-0.931552</td>\n",
       "      <td>...</td>\n",
       "      <td>-0.434904</td>\n",
       "      <td>-0.730548</td>\n",
       "      <td>-0.009508</td>\n",
       "      <td>-0.607362</td>\n",
       "      <td>0.219333</td>\n",
       "      <td>-0.767359</td>\n",
       "      <td>-0.421440</td>\n",
       "      <td>0.085019</td>\n",
       "      <td>-0.732586</td>\n",
       "      <td>-1.167603</td>\n",
       "    </tr>\n",
       "    <tr>\n",
       "      <th>27665</th>\n",
       "      <td>-1.201809</td>\n",
       "      <td>0.387317</td>\n",
       "      <td>-1.062940</td>\n",
       "      <td>0.525122</td>\n",
       "      <td>-0.973446</td>\n",
       "      <td>-0.253533</td>\n",
       "      <td>0.195547</td>\n",
       "      <td>0.769406</td>\n",
       "      <td>0.796718</td>\n",
       "      <td>-0.058625</td>\n",
       "      <td>...</td>\n",
       "      <td>0.825309</td>\n",
       "      <td>2.224161</td>\n",
       "      <td>0.182297</td>\n",
       "      <td>-0.697035</td>\n",
       "      <td>0.161942</td>\n",
       "      <td>-0.266286</td>\n",
       "      <td>0.775185</td>\n",
       "      <td>-0.640354</td>\n",
       "      <td>1.440073</td>\n",
       "      <td>0.458074</td>\n",
       "    </tr>\n",
       "    <tr>\n",
       "      <th>38395</th>\n",
       "      <td>-0.954275</td>\n",
       "      <td>-0.906589</td>\n",
       "      <td>4.929942</td>\n",
       "      <td>0.974496</td>\n",
       "      <td>-0.740805</td>\n",
       "      <td>0.642705</td>\n",
       "      <td>-0.293678</td>\n",
       "      <td>0.650630</td>\n",
       "      <td>1.008092</td>\n",
       "      <td>-0.778676</td>\n",
       "      <td>...</td>\n",
       "      <td>-1.505053</td>\n",
       "      <td>-1.112171</td>\n",
       "      <td>0.062801</td>\n",
       "      <td>-0.778621</td>\n",
       "      <td>0.574785</td>\n",
       "      <td>-0.251823</td>\n",
       "      <td>-0.822022</td>\n",
       "      <td>-1.332230</td>\n",
       "      <td>0.767016</td>\n",
       "      <td>-1.741468</td>\n",
       "    </tr>\n",
       "    <tr>\n",
       "      <th>437</th>\n",
       "      <td>0.240999</td>\n",
       "      <td>-0.454249</td>\n",
       "      <td>-0.000406</td>\n",
       "      <td>-0.542391</td>\n",
       "      <td>NaN</td>\n",
       "      <td>0.403722</td>\n",
       "      <td>-0.492163</td>\n",
       "      <td>0.252810</td>\n",
       "      <td>-0.517825</td>\n",
       "      <td>NaN</td>\n",
       "      <td>...</td>\n",
       "      <td>NaN</td>\n",
       "      <td>NaN</td>\n",
       "      <td>NaN</td>\n",
       "      <td>NaN</td>\n",
       "      <td>NaN</td>\n",
       "      <td>NaN</td>\n",
       "      <td>NaN</td>\n",
       "      <td>NaN</td>\n",
       "      <td>NaN</td>\n",
       "      <td>NaN</td>\n",
       "    </tr>\n",
       "  </tbody>\n",
       "</table>\n",
       "<p>5 rows × 463 columns</p>\n",
       "</div>"
      ],
      "text/plain": [
       "       BAYL-08997  BAYL-08998  BAYL-08999  BAYL-09000  BAYL-09001  BAYL-09002   \n",
       "42370   -1.259948    0.170557    0.814204    0.038958   -0.504466   -0.757901  \\\n",
       "485     -0.610334   -0.811169   -0.554787   -0.603603   -0.549375   -0.631363   \n",
       "27665   -1.201809    0.387317   -1.062940    0.525122   -0.973446   -0.253533   \n",
       "38395   -0.954275   -0.906589    4.929942    0.974496   -0.740805    0.642705   \n",
       "437      0.240999   -0.454249   -0.000406   -0.542391         NaN    0.403722   \n",
       "\n",
       "       BAYL-09003  BAYL-09004  BAYL-09005  BAYL-09006  ...   s_21944   \n",
       "42370   -0.986865    0.993000    0.986541    0.000250  ...       NaN  \\\n",
       "485      0.606882    1.238204    1.661840   -0.931552  ... -0.434904   \n",
       "27665    0.195547    0.769406    0.796718   -0.058625  ...  0.825309   \n",
       "38395   -0.293678    0.650630    1.008092   -0.778676  ... -1.505053   \n",
       "437     -0.492163    0.252810   -0.517825         NaN  ...       NaN   \n",
       "\n",
       "        s_22832   s_22842   s_22997   s_23003   s_23077   s_23123   s_22787   \n",
       "42370       NaN       NaN       NaN       NaN       NaN       NaN       NaN  \\\n",
       "485   -0.730548 -0.009508 -0.607362  0.219333 -0.767359 -0.421440  0.085019   \n",
       "27665  2.224161  0.182297 -0.697035  0.161942 -0.266286  0.775185 -0.640354   \n",
       "38395 -1.112171  0.062801 -0.778621  0.574785 -0.251823 -0.822022 -1.332230   \n",
       "437         NaN       NaN       NaN       NaN       NaN       NaN       NaN   \n",
       "\n",
       "        s_23294   s_73385  \n",
       "42370       NaN       NaN  \n",
       "485   -0.732586 -1.167603  \n",
       "27665  1.440073  0.458074  \n",
       "38395  0.767016 -1.741468  \n",
       "437         NaN       NaN  \n",
       "\n",
       "[5 rows x 463 columns]"
      ]
     },
     "execution_count": 13,
     "metadata": {},
     "output_type": "execute_result"
    }
   ],
   "source": [
    "met_df.set_index('Unnamed: 0', inplace=True)\n",
    "met_df.index.name = None\n",
    "met_df.head()"
   ]
  },
  {
   "cell_type": "code",
   "execution_count": 14,
   "id": "effa46fe",
   "metadata": {},
   "outputs": [],
   "source": [
    "# drop rows with all NaN values\n",
    "met_df.dropna(axis=0, how='all', inplace=True)"
   ]
  },
  {
   "cell_type": "code",
   "execution_count": 15,
   "id": "0ae39482",
   "metadata": {},
   "outputs": [
    {
     "data": {
      "text/plain": [
       "(960, 463)"
      ]
     },
     "execution_count": 15,
     "metadata": {},
     "output_type": "execute_result"
    }
   ],
   "source": [
    "met_df.shape"
   ]
  },
  {
   "cell_type": "code",
   "execution_count": 16,
   "id": "79c7dd2c",
   "metadata": {},
   "outputs": [],
   "source": [
    "# list(met_df.isna().sum())\n",
    "# FIX: drop rows with >80% missing values"
   ]
  },
  {
   "cell_type": "code",
   "execution_count": 17,
   "id": "e9149811",
   "metadata": {},
   "outputs": [],
   "source": [
    "# fill missing z-scores\n",
    "met_df.fillna(0, inplace=True)"
   ]
  },
  {
   "cell_type": "code",
   "execution_count": 18,
   "id": "b4d9d042",
   "metadata": {},
   "outputs": [],
   "source": [
    "# features: metabolomics z-scores\n",
    "# samples: patients\n",
    "met_df = met_df.T"
   ]
  },
  {
   "cell_type": "code",
   "execution_count": 19,
   "id": "276b667b",
   "metadata": {},
   "outputs": [
    {
     "data": {
      "text/plain": [
       "(463, 960)"
      ]
     },
     "execution_count": 19,
     "metadata": {},
     "output_type": "execute_result"
    }
   ],
   "source": [
    "met_df.shape"
   ]
  },
  {
   "cell_type": "code",
   "execution_count": 20,
   "id": "d92fe82f",
   "metadata": {},
   "outputs": [
    {
     "data": {
      "text/html": [
       "<div>\n",
       "<style scoped>\n",
       "    .dataframe tbody tr th:only-of-type {\n",
       "        vertical-align: middle;\n",
       "    }\n",
       "\n",
       "    .dataframe tbody tr th {\n",
       "        vertical-align: top;\n",
       "    }\n",
       "\n",
       "    .dataframe thead th {\n",
       "        text-align: right;\n",
       "    }\n",
       "</style>\n",
       "<table border=\"1\" class=\"dataframe\">\n",
       "  <thead>\n",
       "    <tr style=\"text-align: right;\">\n",
       "      <th></th>\n",
       "      <th>42370</th>\n",
       "      <th>485</th>\n",
       "      <th>27665</th>\n",
       "      <th>38395</th>\n",
       "      <th>437</th>\n",
       "      <th>528</th>\n",
       "      <th>1417</th>\n",
       "      <th>1549</th>\n",
       "      <th>531</th>\n",
       "      <th>1414</th>\n",
       "      <th>...</th>\n",
       "      <th>53157</th>\n",
       "      <th>53266</th>\n",
       "      <th>53267</th>\n",
       "      <th>54840</th>\n",
       "      <th>57714</th>\n",
       "      <th>57716</th>\n",
       "      <th>57718</th>\n",
       "      <th>57719</th>\n",
       "      <th>57720</th>\n",
       "      <th>57754</th>\n",
       "    </tr>\n",
       "  </thead>\n",
       "  <tbody>\n",
       "    <tr>\n",
       "      <th>BAYL-08997</th>\n",
       "      <td>-1.259948</td>\n",
       "      <td>-0.610334</td>\n",
       "      <td>-1.201809</td>\n",
       "      <td>-0.954275</td>\n",
       "      <td>0.240999</td>\n",
       "      <td>-0.485987</td>\n",
       "      <td>0.598959</td>\n",
       "      <td>-0.286401</td>\n",
       "      <td>-1.043185</td>\n",
       "      <td>-0.660514</td>\n",
       "      <td>...</td>\n",
       "      <td>-1.094129</td>\n",
       "      <td>-0.419479</td>\n",
       "      <td>0.158619</td>\n",
       "      <td>-0.817640</td>\n",
       "      <td>1.120043</td>\n",
       "      <td>0.045789</td>\n",
       "      <td>0.201601</td>\n",
       "      <td>-0.039255</td>\n",
       "      <td>2.783415</td>\n",
       "      <td>-0.127840</td>\n",
       "    </tr>\n",
       "    <tr>\n",
       "      <th>BAYL-08998</th>\n",
       "      <td>0.170557</td>\n",
       "      <td>-0.811169</td>\n",
       "      <td>0.387317</td>\n",
       "      <td>-0.906589</td>\n",
       "      <td>-0.454249</td>\n",
       "      <td>-0.409053</td>\n",
       "      <td>0.612680</td>\n",
       "      <td>-0.315412</td>\n",
       "      <td>-1.095163</td>\n",
       "      <td>0.001887</td>\n",
       "      <td>...</td>\n",
       "      <td>-1.116107</td>\n",
       "      <td>0.000000</td>\n",
       "      <td>-0.424652</td>\n",
       "      <td>0.987125</td>\n",
       "      <td>-0.045571</td>\n",
       "      <td>0.295498</td>\n",
       "      <td>0.409790</td>\n",
       "      <td>-0.195962</td>\n",
       "      <td>1.987574</td>\n",
       "      <td>-0.160196</td>\n",
       "    </tr>\n",
       "    <tr>\n",
       "      <th>BAYL-08999</th>\n",
       "      <td>0.814204</td>\n",
       "      <td>-0.554787</td>\n",
       "      <td>-1.062940</td>\n",
       "      <td>4.929942</td>\n",
       "      <td>-0.000406</td>\n",
       "      <td>0.022588</td>\n",
       "      <td>3.050217</td>\n",
       "      <td>2.366699</td>\n",
       "      <td>1.132455</td>\n",
       "      <td>-0.142467</td>\n",
       "      <td>...</td>\n",
       "      <td>0.391963</td>\n",
       "      <td>0.284916</td>\n",
       "      <td>0.020418</td>\n",
       "      <td>-0.129573</td>\n",
       "      <td>-0.090421</td>\n",
       "      <td>0.118741</td>\n",
       "      <td>1.112410</td>\n",
       "      <td>-0.048789</td>\n",
       "      <td>1.794673</td>\n",
       "      <td>-0.226005</td>\n",
       "    </tr>\n",
       "    <tr>\n",
       "      <th>BAYL-09000</th>\n",
       "      <td>0.038958</td>\n",
       "      <td>-0.603603</td>\n",
       "      <td>0.525122</td>\n",
       "      <td>0.974496</td>\n",
       "      <td>-0.542391</td>\n",
       "      <td>-0.494779</td>\n",
       "      <td>-0.347355</td>\n",
       "      <td>-0.392808</td>\n",
       "      <td>-0.713237</td>\n",
       "      <td>-0.359097</td>\n",
       "      <td>...</td>\n",
       "      <td>-0.119144</td>\n",
       "      <td>-0.807474</td>\n",
       "      <td>1.317694</td>\n",
       "      <td>0.175748</td>\n",
       "      <td>1.241565</td>\n",
       "      <td>0.113926</td>\n",
       "      <td>-0.978284</td>\n",
       "      <td>-0.653111</td>\n",
       "      <td>0.000000</td>\n",
       "      <td>-0.063945</td>\n",
       "    </tr>\n",
       "    <tr>\n",
       "      <th>BAYL-09001</th>\n",
       "      <td>-0.504466</td>\n",
       "      <td>-0.549375</td>\n",
       "      <td>-0.973446</td>\n",
       "      <td>-0.740805</td>\n",
       "      <td>0.000000</td>\n",
       "      <td>-0.049422</td>\n",
       "      <td>-0.787278</td>\n",
       "      <td>-0.598359</td>\n",
       "      <td>-0.781751</td>\n",
       "      <td>-0.515097</td>\n",
       "      <td>...</td>\n",
       "      <td>-0.351091</td>\n",
       "      <td>0.000000</td>\n",
       "      <td>-0.405493</td>\n",
       "      <td>0.000000</td>\n",
       "      <td>0.297091</td>\n",
       "      <td>-0.581249</td>\n",
       "      <td>0.637026</td>\n",
       "      <td>-0.778015</td>\n",
       "      <td>0.829880</td>\n",
       "      <td>-0.017687</td>\n",
       "    </tr>\n",
       "  </tbody>\n",
       "</table>\n",
       "<p>5 rows × 960 columns</p>\n",
       "</div>"
      ],
      "text/plain": [
       "               42370     485       27665     38395     437       528     \n",
       "BAYL-08997 -1.259948 -0.610334 -1.201809 -0.954275  0.240999 -0.485987  \\\n",
       "BAYL-08998  0.170557 -0.811169  0.387317 -0.906589 -0.454249 -0.409053   \n",
       "BAYL-08999  0.814204 -0.554787 -1.062940  4.929942 -0.000406  0.022588   \n",
       "BAYL-09000  0.038958 -0.603603  0.525122  0.974496 -0.542391 -0.494779   \n",
       "BAYL-09001 -0.504466 -0.549375 -0.973446 -0.740805  0.000000 -0.049422   \n",
       "\n",
       "               1417      1549      531       1414   ...     53157     53266   \n",
       "BAYL-08997  0.598959 -0.286401 -1.043185 -0.660514  ... -1.094129 -0.419479  \\\n",
       "BAYL-08998  0.612680 -0.315412 -1.095163  0.001887  ... -1.116107  0.000000   \n",
       "BAYL-08999  3.050217  2.366699  1.132455 -0.142467  ...  0.391963  0.284916   \n",
       "BAYL-09000 -0.347355 -0.392808 -0.713237 -0.359097  ... -0.119144 -0.807474   \n",
       "BAYL-09001 -0.787278 -0.598359 -0.781751 -0.515097  ... -0.351091  0.000000   \n",
       "\n",
       "               53267     54840     57714     57716     57718     57719   \n",
       "BAYL-08997  0.158619 -0.817640  1.120043  0.045789  0.201601 -0.039255  \\\n",
       "BAYL-08998 -0.424652  0.987125 -0.045571  0.295498  0.409790 -0.195962   \n",
       "BAYL-08999  0.020418 -0.129573 -0.090421  0.118741  1.112410 -0.048789   \n",
       "BAYL-09000  1.317694  0.175748  1.241565  0.113926 -0.978284 -0.653111   \n",
       "BAYL-09001 -0.405493  0.000000  0.297091 -0.581249  0.637026 -0.778015   \n",
       "\n",
       "               57720     57754  \n",
       "BAYL-08997  2.783415 -0.127840  \n",
       "BAYL-08998  1.987574 -0.160196  \n",
       "BAYL-08999  1.794673 -0.226005  \n",
       "BAYL-09000  0.000000 -0.063945  \n",
       "BAYL-09001  0.829880 -0.017687  \n",
       "\n",
       "[5 rows x 960 columns]"
      ]
     },
     "execution_count": 20,
     "metadata": {},
     "output_type": "execute_result"
    }
   ],
   "source": [
    "met_df.head()"
   ]
  },
  {
   "cell_type": "code",
   "execution_count": null,
   "id": "30e19d9f",
   "metadata": {},
   "outputs": [],
   "source": []
  },
  {
   "cell_type": "code",
   "execution_count": null,
   "id": "532e10ea",
   "metadata": {},
   "outputs": [],
   "source": []
  },
  {
   "cell_type": "code",
   "execution_count": 21,
   "id": "5a25a8f3",
   "metadata": {},
   "outputs": [],
   "source": [
    "clin_df = pd.read_csv(\"./metabolomics/sampleAttr.csv\")"
   ]
  },
  {
   "cell_type": "code",
   "execution_count": 22,
   "id": "835278af",
   "metadata": {
    "scrolled": true
   },
   "outputs": [
    {
     "data": {
      "text/html": [
       "<div>\n",
       "<style scoped>\n",
       "    .dataframe tbody tr th:only-of-type {\n",
       "        vertical-align: middle;\n",
       "    }\n",
       "\n",
       "    .dataframe tbody tr th {\n",
       "        vertical-align: top;\n",
       "    }\n",
       "\n",
       "    .dataframe thead th {\n",
       "        text-align: right;\n",
       "    }\n",
       "</style>\n",
       "<table border=\"1\" class=\"dataframe\">\n",
       "  <thead>\n",
       "    <tr style=\"text-align: right;\">\n",
       "      <th></th>\n",
       "      <th>sIDs</th>\n",
       "      <th>sle</th>\n",
       "      <th>BErm</th>\n",
       "      <th>weight</th>\n",
       "      <th>conception</th>\n",
       "      <th>smoking</th>\n",
       "      <th>race</th>\n",
       "      <th>crl</th>\n",
       "      <th>pe</th>\n",
       "      <th>ASA</th>\n",
       "      <th>ptIDs</th>\n",
       "      <th>age</th>\n",
       "      <th>prev.pe</th>\n",
       "      <th>ga.w</th>\n",
       "      <th>consss_batch</th>\n",
       "      <th>ASA_tri_chr</th>\n",
       "      <th>STUDY</th>\n",
       "      <th>Compliance</th>\n",
       "      <th>trimester</th>\n",
       "      <th>height</th>\n",
       "    </tr>\n",
       "  </thead>\n",
       "  <tbody>\n",
       "    <tr>\n",
       "      <th>0</th>\n",
       "      <td>BAYL-08997</td>\n",
       "      <td>0</td>\n",
       "      <td>batch_2023</td>\n",
       "      <td>45.1</td>\n",
       "      <td>7</td>\n",
       "      <td>0</td>\n",
       "      <td>Chinese</td>\n",
       "      <td>55.3</td>\n",
       "      <td>1.0</td>\n",
       "      <td>True</td>\n",
       "      <td>S1_1_Ca</td>\n",
       "      <td>36.64887063655031</td>\n",
       "      <td>7</td>\n",
       "      <td>NaN</td>\n",
       "      <td>batch-2023</td>\n",
       "      <td>ASA - 1st Trimester</td>\n",
       "      <td>CHUK</td>\n",
       "      <td>94.444444</td>\n",
       "      <td>1</td>\n",
       "      <td>150</td>\n",
       "    </tr>\n",
       "    <tr>\n",
       "      <th>1</th>\n",
       "      <td>BAYL-08998</td>\n",
       "      <td>0</td>\n",
       "      <td>batch_2023</td>\n",
       "      <td>82.2</td>\n",
       "      <td>7</td>\n",
       "      <td>0</td>\n",
       "      <td>Chinese</td>\n",
       "      <td>63.1</td>\n",
       "      <td>1.0</td>\n",
       "      <td>True</td>\n",
       "      <td>S1_2_Ca</td>\n",
       "      <td>32.309377138945926</td>\n",
       "      <td>2</td>\n",
       "      <td>NaN</td>\n",
       "      <td>batch-2023</td>\n",
       "      <td>ASA - 1st Trimester</td>\n",
       "      <td>CHUK</td>\n",
       "      <td>94.267516</td>\n",
       "      <td>1</td>\n",
       "      <td>171</td>\n",
       "    </tr>\n",
       "    <tr>\n",
       "      <th>2</th>\n",
       "      <td>BAYL-08999</td>\n",
       "      <td>0</td>\n",
       "      <td>batch_2023</td>\n",
       "      <td>69.6</td>\n",
       "      <td>7</td>\n",
       "      <td>0</td>\n",
       "      <td>Chinese</td>\n",
       "      <td>58.8</td>\n",
       "      <td>0.0</td>\n",
       "      <td>True</td>\n",
       "      <td>S1_1_Co</td>\n",
       "      <td>43.90143737166324</td>\n",
       "      <td>7</td>\n",
       "      <td>NaN</td>\n",
       "      <td>batch-2023</td>\n",
       "      <td>ASA - 1st Trimester</td>\n",
       "      <td>CHUK</td>\n",
       "      <td>99.367089</td>\n",
       "      <td>1</td>\n",
       "      <td>161</td>\n",
       "    </tr>\n",
       "    <tr>\n",
       "      <th>3</th>\n",
       "      <td>BAYL-09000</td>\n",
       "      <td>0</td>\n",
       "      <td>batch_2023</td>\n",
       "      <td>51.4</td>\n",
       "      <td>7</td>\n",
       "      <td>0</td>\n",
       "      <td>Chinese</td>\n",
       "      <td>62.9</td>\n",
       "      <td>0.0</td>\n",
       "      <td>True</td>\n",
       "      <td>S1_2_Co</td>\n",
       "      <td>33.11430527036276</td>\n",
       "      <td>7</td>\n",
       "      <td>NaN</td>\n",
       "      <td>batch-2023</td>\n",
       "      <td>ASA - 1st Trimester</td>\n",
       "      <td>CHUK</td>\n",
       "      <td>98.684211</td>\n",
       "      <td>1</td>\n",
       "      <td>154</td>\n",
       "    </tr>\n",
       "    <tr>\n",
       "      <th>4</th>\n",
       "      <td>BAYL-09001</td>\n",
       "      <td>0</td>\n",
       "      <td>batch_2023</td>\n",
       "      <td>39.2</td>\n",
       "      <td>7</td>\n",
       "      <td>0</td>\n",
       "      <td>Chinese</td>\n",
       "      <td>45.3</td>\n",
       "      <td>0.0</td>\n",
       "      <td>True</td>\n",
       "      <td>S1_4_Co</td>\n",
       "      <td>24.32032854209445</td>\n",
       "      <td>7</td>\n",
       "      <td>NaN</td>\n",
       "      <td>batch-2023</td>\n",
       "      <td>ASA - 1st Trimester</td>\n",
       "      <td>CHUK</td>\n",
       "      <td>95.597484</td>\n",
       "      <td>1</td>\n",
       "      <td>161</td>\n",
       "    </tr>\n",
       "  </tbody>\n",
       "</table>\n",
       "</div>"
      ],
      "text/plain": [
       "         sIDs sle        BErm weight conception smoking     race   crl   pe   \n",
       "0  BAYL-08997   0  batch_2023   45.1          7       0  Chinese  55.3  1.0  \\\n",
       "1  BAYL-08998   0  batch_2023   82.2          7       0  Chinese  63.1  1.0   \n",
       "2  BAYL-08999   0  batch_2023   69.6          7       0  Chinese  58.8  0.0   \n",
       "3  BAYL-09000   0  batch_2023   51.4          7       0  Chinese  62.9  0.0   \n",
       "4  BAYL-09001   0  batch_2023   39.2          7       0  Chinese  45.3  0.0   \n",
       "\n",
       "    ASA    ptIDs                 age prev.pe  ga.w consss_batch   \n",
       "0  True  S1_1_Ca   36.64887063655031       7   NaN   batch-2023  \\\n",
       "1  True  S1_2_Ca  32.309377138945926       2   NaN   batch-2023   \n",
       "2  True  S1_1_Co   43.90143737166324       7   NaN   batch-2023   \n",
       "3  True  S1_2_Co   33.11430527036276       7   NaN   batch-2023   \n",
       "4  True  S1_4_Co   24.32032854209445       7   NaN   batch-2023   \n",
       "\n",
       "           ASA_tri_chr STUDY  Compliance  trimester height  \n",
       "0  ASA - 1st Trimester  CHUK   94.444444          1    150  \n",
       "1  ASA - 1st Trimester  CHUK   94.267516          1    171  \n",
       "2  ASA - 1st Trimester  CHUK   99.367089          1    161  \n",
       "3  ASA - 1st Trimester  CHUK   98.684211          1    154  \n",
       "4  ASA - 1st Trimester  CHUK   95.597484          1    161  "
      ]
     },
     "execution_count": 22,
     "metadata": {},
     "output_type": "execute_result"
    }
   ],
   "source": [
    "clin_df.head()"
   ]
  },
  {
   "cell_type": "code",
   "execution_count": 23,
   "id": "52cbce48",
   "metadata": {},
   "outputs": [
    {
     "data": {
      "text/plain": [
       "(463, 20)"
      ]
     },
     "execution_count": 23,
     "metadata": {},
     "output_type": "execute_result"
    }
   ],
   "source": [
    "clin_df.shape"
   ]
  },
  {
   "cell_type": "code",
   "execution_count": 24,
   "id": "4f208b9c",
   "metadata": {},
   "outputs": [
    {
     "data": {
      "text/plain": [
       "sIDs              0\n",
       "sle               0\n",
       "BErm              0\n",
       "weight            0\n",
       "conception        0\n",
       "smoking           0\n",
       "race              0\n",
       "crl               0\n",
       "pe                0\n",
       "ASA               0\n",
       "ptIDs             0\n",
       "age               0\n",
       "prev.pe           0\n",
       "ga.w            463\n",
       "consss_batch      0\n",
       "ASA_tri_chr       0\n",
       "STUDY             0\n",
       "Compliance        0\n",
       "trimester         0\n",
       "height            0\n",
       "dtype: int64"
      ]
     },
     "execution_count": 24,
     "metadata": {},
     "output_type": "execute_result"
    }
   ],
   "source": [
    "clin_df.isna().sum()"
   ]
  },
  {
   "cell_type": "code",
   "execution_count": 25,
   "id": "bf8ff764",
   "metadata": {},
   "outputs": [],
   "source": [
    "# ga.w -> all NaN\n",
    "clin_df.drop(['ga.w'], axis=1, inplace=True)"
   ]
  },
  {
   "cell_type": "code",
   "execution_count": 26,
   "id": "1404c0c6",
   "metadata": {},
   "outputs": [
    {
     "data": {
      "text/plain": [
       "(463, 19)"
      ]
     },
     "execution_count": 26,
     "metadata": {},
     "output_type": "execute_result"
    }
   ],
   "source": [
    "clin_df.shape"
   ]
  },
  {
   "cell_type": "code",
   "execution_count": null,
   "id": "3d9b3d1b",
   "metadata": {},
   "outputs": [],
   "source": []
  },
  {
   "cell_type": "markdown",
   "id": "6eb10ba2",
   "metadata": {},
   "source": [
    "### batch effect correction"
   ]
  },
  {
   "cell_type": "code",
   "execution_count": 27,
   "id": "d8762f8c",
   "metadata": {},
   "outputs": [
    {
     "data": {
      "text/plain": [
       "{'CHUK': 0, 'ASPRE_LR': 1, 'ASPRE_HR': 2, 'from-2015': 3}"
      ]
     },
     "execution_count": 27,
     "metadata": {},
     "output_type": "execute_result"
    }
   ],
   "source": [
    "batches = list(clin_df[\"STUDY\"].unique())\n",
    "batches_dict = {k:v for v, k in enumerate(batches)}\n",
    "batches_dict"
   ]
  },
  {
   "cell_type": "code",
   "execution_count": 28,
   "id": "c39335c6",
   "metadata": {},
   "outputs": [],
   "source": [
    "umap_model = umap.UMAP()\n",
    "umap_result = umap_model.fit_transform(met_df)"
   ]
  },
  {
   "cell_type": "code",
   "execution_count": 29,
   "id": "fe406a0f",
   "metadata": {},
   "outputs": [],
   "source": [
    "# !pip install seaborn\n",
    "import seaborn as sns"
   ]
  },
  {
   "cell_type": "code",
   "execution_count": 30,
   "id": "5888dcc1",
   "metadata": {},
   "outputs": [
    {
     "data": {
      "image/png": "[encoded data removed]",
      "text/plain": [
       "<Figure size 640x480 with 1 Axes>"
      ]
     },
     "metadata": {},
     "output_type": "display_data"
    }
   ],
   "source": [
    "sns.scatterplot(x=umap_result[:, 0], y=umap_result[:, 1], hue=clin_df['STUDY'].apply(lambda x: batches_dict[x]).values)\n",
    "plt.show()"
   ]
  },
  {
   "cell_type": "code",
   "execution_count": 31,
   "id": "4ee8847c",
   "metadata": {},
   "outputs": [],
   "source": [
    "# !pip install combat\n",
    "from combat.pycombat import pycombat"
   ]
  },
  {
   "cell_type": "code",
   "execution_count": 32,
   "id": "b1fda630",
   "metadata": {},
   "outputs": [
    {
     "name": "stdout",
     "output_type": "stream",
     "text": [
      "Found 4 batches.\n",
      "Adjusting for 0 covariate(s) or covariate level(s).\n",
      "Standardizing Data across genes.\n",
      "Fitting L/S model and finding priors.\n",
      "Finding parametric adjustments.\n",
      "Adjusting the Data\n"
     ]
    },
    {
     "name": "stderr",
     "output_type": "stream",
     "text": [
      "/home/lucija/.local/lib/python3.10/site-packages/combat/pycombat.py:159: RuntimeWarning: divide by zero encountered in divide\n",
      "  np.absolute(d_new-d_old)/d_old))  # maximum difference between new and old estimate\n"
     ]
    }
   ],
   "source": [
    "met_df_corrected = pycombat(met_df.T, clin_df['STUDY'].values).T"
   ]
  },
  {
   "cell_type": "code",
   "execution_count": 33,
   "id": "2fb77a78",
   "metadata": {},
   "outputs": [],
   "source": [
    "umap_result_corrected = umap_model.fit_transform(met_df_corrected)"
   ]
  },
  {
   "cell_type": "code",
   "execution_count": 34,
   "id": "10461003",
   "metadata": {},
   "outputs": [
    {
     "data": {
      "image/png": "[encoded data removed]",
      "text/plain": [
       "<Figure size 640x480 with 1 Axes>"
      ]
     },
     "metadata": {},
     "output_type": "display_data"
    }
   ],
   "source": [
    "sns.scatterplot(x=umap_result_corrected[:, 0], y=umap_result_corrected[:, 1], hue=clin_df['STUDY'].apply(lambda x: batches_dict[x]).values)\n",
    "plt.show()"
   ]
  },
  {
   "cell_type": "code",
   "execution_count": 38,
   "id": "216152a5",
   "metadata": {},
   "outputs": [],
   "source": [
    "# TODO: analyse outliers"
   ]
  },
  {
   "cell_type": "code",
   "execution_count": null,
   "id": "4cfafef0",
   "metadata": {},
   "outputs": [],
   "source": []
  },
  {
   "cell_type": "markdown",
   "id": "0d85603e",
   "metadata": {},
   "source": [
    "#### selecting patients who do not take aspirin"
   ]
  },
  {
   "cell_type": "code",
   "execution_count": 82,
   "id": "154934b8",
   "metadata": {},
   "outputs": [
    {
     "data": {
      "text/html": [
       "<div>\n",
       "<style scoped>\n",
       "    .dataframe tbody tr th:only-of-type {\n",
       "        vertical-align: middle;\n",
       "    }\n",
       "\n",
       "    .dataframe tbody tr th {\n",
       "        vertical-align: top;\n",
       "    }\n",
       "\n",
       "    .dataframe thead th {\n",
       "        text-align: right;\n",
       "    }\n",
       "</style>\n",
       "<table border=\"1\" class=\"dataframe\">\n",
       "  <thead>\n",
       "    <tr style=\"text-align: right;\">\n",
       "      <th></th>\n",
       "      <th>42370</th>\n",
       "      <th>485</th>\n",
       "      <th>27665</th>\n",
       "      <th>38395</th>\n",
       "      <th>437</th>\n",
       "      <th>528</th>\n",
       "      <th>1417</th>\n",
       "      <th>1549</th>\n",
       "      <th>531</th>\n",
       "      <th>1414</th>\n",
       "      <th>...</th>\n",
       "      <th>53157</th>\n",
       "      <th>53266</th>\n",
       "      <th>53267</th>\n",
       "      <th>54840</th>\n",
       "      <th>57714</th>\n",
       "      <th>57716</th>\n",
       "      <th>57718</th>\n",
       "      <th>57719</th>\n",
       "      <th>57720</th>\n",
       "      <th>57754</th>\n",
       "    </tr>\n",
       "  </thead>\n",
       "  <tbody>\n",
       "    <tr>\n",
       "      <th>BAYL-08997</th>\n",
       "      <td>-1.146540</td>\n",
       "      <td>-0.966077</td>\n",
       "      <td>-0.919295</td>\n",
       "      <td>-0.762227</td>\n",
       "      <td>0.465931</td>\n",
       "      <td>-0.321215</td>\n",
       "      <td>0.234032</td>\n",
       "      <td>-0.532247</td>\n",
       "      <td>-1.168648</td>\n",
       "      <td>-0.884996</td>\n",
       "      <td>...</td>\n",
       "      <td>-0.965052</td>\n",
       "      <td>-0.431841</td>\n",
       "      <td>-0.017966</td>\n",
       "      <td>-0.782913</td>\n",
       "      <td>0.726504</td>\n",
       "      <td>-0.162807</td>\n",
       "      <td>0.073866</td>\n",
       "      <td>0.280832</td>\n",
       "      <td>2.018347</td>\n",
       "      <td>-0.304122</td>\n",
       "    </tr>\n",
       "    <tr>\n",
       "      <th>BAYL-08998</th>\n",
       "      <td>0.477618</td>\n",
       "      <td>-1.337413</td>\n",
       "      <td>0.560910</td>\n",
       "      <td>-0.730947</td>\n",
       "      <td>-0.380736</td>\n",
       "      <td>-0.160774</td>\n",
       "      <td>0.244356</td>\n",
       "      <td>-0.554670</td>\n",
       "      <td>-1.230694</td>\n",
       "      <td>0.303970</td>\n",
       "      <td>...</td>\n",
       "      <td>-0.989859</td>\n",
       "      <td>-0.052013</td>\n",
       "      <td>-0.493338</td>\n",
       "      <td>1.048384</td>\n",
       "      <td>-0.247300</td>\n",
       "      <td>0.127975</td>\n",
       "      <td>0.258025</td>\n",
       "      <td>0.127785</td>\n",
       "      <td>1.356715</td>\n",
       "      <td>-0.353967</td>\n",
       "    </tr>\n",
       "    <tr>\n",
       "      <th>BAYL-08999</th>\n",
       "      <td>1.208398</td>\n",
       "      <td>-0.863373</td>\n",
       "      <td>-0.789945</td>\n",
       "      <td>3.097627</td>\n",
       "      <td>0.171950</td>\n",
       "      <td>0.739391</td>\n",
       "      <td>2.078265</td>\n",
       "      <td>1.518396</td>\n",
       "      <td>1.428407</td>\n",
       "      <td>0.044864</td>\n",
       "      <td>...</td>\n",
       "      <td>0.712341</td>\n",
       "      <td>0.205972</td>\n",
       "      <td>-0.130602</td>\n",
       "      <td>-0.084731</td>\n",
       "      <td>-0.284769</td>\n",
       "      <td>-0.077856</td>\n",
       "      <td>0.879550</td>\n",
       "      <td>0.271521</td>\n",
       "      <td>1.196345</td>\n",
       "      <td>-0.455349</td>\n",
       "    </tr>\n",
       "    <tr>\n",
       "      <th>BAYL-09000</th>\n",
       "      <td>0.328204</td>\n",
       "      <td>-0.953631</td>\n",
       "      <td>0.689269</td>\n",
       "      <td>0.502983</td>\n",
       "      <td>-0.488073</td>\n",
       "      <td>-0.339551</td>\n",
       "      <td>-0.477938</td>\n",
       "      <td>-0.614491</td>\n",
       "      <td>-0.774790</td>\n",
       "      <td>-0.343972</td>\n",
       "      <td>...</td>\n",
       "      <td>0.135439</td>\n",
       "      <td>-0.783161</td>\n",
       "      <td>0.926692</td>\n",
       "      <td>0.225079</td>\n",
       "      <td>0.828029</td>\n",
       "      <td>-0.083462</td>\n",
       "      <td>-0.969838</td>\n",
       "      <td>-0.318686</td>\n",
       "      <td>-0.295678</td>\n",
       "      <td>-0.205689</td>\n",
       "    </tr>\n",
       "    <tr>\n",
       "      <th>BAYL-09001</th>\n",
       "      <td>-0.288785</td>\n",
       "      <td>-0.853366</td>\n",
       "      <td>-0.706585</td>\n",
       "      <td>-0.622198</td>\n",
       "      <td>0.172444</td>\n",
       "      <td>0.589218</td>\n",
       "      <td>-0.808919</td>\n",
       "      <td>-0.773367</td>\n",
       "      <td>-0.856574</td>\n",
       "      <td>-0.623981</td>\n",
       "      <td>...</td>\n",
       "      <td>-0.126365</td>\n",
       "      <td>-0.052013</td>\n",
       "      <td>-0.477724</td>\n",
       "      <td>0.046747</td>\n",
       "      <td>0.038975</td>\n",
       "      <td>-0.892982</td>\n",
       "      <td>0.459034</td>\n",
       "      <td>-0.440672</td>\n",
       "      <td>0.394252</td>\n",
       "      <td>-0.134428</td>\n",
       "    </tr>\n",
       "  </tbody>\n",
       "</table>\n",
       "<p>5 rows × 960 columns</p>\n",
       "</div>"
      ],
      "text/plain": [
       "               42370     485       27665     38395     437       528     \n",
       "BAYL-08997 -1.146540 -0.966077 -0.919295 -0.762227  0.465931 -0.321215  \\\n",
       "BAYL-08998  0.477618 -1.337413  0.560910 -0.730947 -0.380736 -0.160774   \n",
       "BAYL-08999  1.208398 -0.863373 -0.789945  3.097627  0.171950  0.739391   \n",
       "BAYL-09000  0.328204 -0.953631  0.689269  0.502983 -0.488073 -0.339551   \n",
       "BAYL-09001 -0.288785 -0.853366 -0.706585 -0.622198  0.172444  0.589218   \n",
       "\n",
       "               1417      1549      531       1414   ...     53157     53266   \n",
       "BAYL-08997  0.234032 -0.532247 -1.168648 -0.884996  ... -0.965052 -0.431841  \\\n",
       "BAYL-08998  0.244356 -0.554670 -1.230694  0.303970  ... -0.989859 -0.052013   \n",
       "BAYL-08999  2.078265  1.518396  1.428407  0.044864  ...  0.712341  0.205972   \n",
       "BAYL-09000 -0.477938 -0.614491 -0.774790 -0.343972  ...  0.135439 -0.783161   \n",
       "BAYL-09001 -0.808919 -0.773367 -0.856574 -0.623981  ... -0.126365 -0.052013   \n",
       "\n",
       "               53267     54840     57714     57716     57718     57719   \n",
       "BAYL-08997 -0.017966 -0.782913  0.726504 -0.162807  0.073866  0.280832  \\\n",
       "BAYL-08998 -0.493338  1.048384 -0.247300  0.127975  0.258025  0.127785   \n",
       "BAYL-08999 -0.130602 -0.084731 -0.284769 -0.077856  0.879550  0.271521   \n",
       "BAYL-09000  0.926692  0.225079  0.828029 -0.083462 -0.969838 -0.318686   \n",
       "BAYL-09001 -0.477724  0.046747  0.038975 -0.892982  0.459034 -0.440672   \n",
       "\n",
       "               57720     57754  \n",
       "BAYL-08997  2.018347 -0.304122  \n",
       "BAYL-08998  1.356715 -0.353967  \n",
       "BAYL-08999  1.196345 -0.455349  \n",
       "BAYL-09000 -0.295678 -0.205689  \n",
       "BAYL-09001  0.394252 -0.134428  \n",
       "\n",
       "[5 rows x 960 columns]"
      ]
     },
     "execution_count": 82,
     "metadata": {},
     "output_type": "execute_result"
    }
   ],
   "source": [
    "met_df_corrected.head()"
   ]
  },
  {
   "cell_type": "code",
   "execution_count": 83,
   "id": "5c74652e",
   "metadata": {},
   "outputs": [
    {
     "data": {
      "text/plain": [
       "Index(['BAYL-08997', 'BAYL-08998', 'BAYL-08999', 'BAYL-09000', 'BAYL-09001',\n",
       "       'BAYL-09002', 'BAYL-09003', 'BAYL-09004', 'BAYL-09005', 'BAYL-09006',\n",
       "       ...\n",
       "       's_21944', 's_22832', 's_22842', 's_22997', 's_23003', 's_23077',\n",
       "       's_23123', 's_22787', 's_23294', 's_73385'],\n",
       "      dtype='object', length=463)"
      ]
     },
     "execution_count": 83,
     "metadata": {},
     "output_type": "execute_result"
    }
   ],
   "source": [
    "met_df_corrected.index"
   ]
  },
  {
   "cell_type": "code",
   "execution_count": 84,
   "id": "3621680b",
   "metadata": {},
   "outputs": [
    {
     "data": {
      "text/html": [
       "<div>\n",
       "<style scoped>\n",
       "    .dataframe tbody tr th:only-of-type {\n",
       "        vertical-align: middle;\n",
       "    }\n",
       "\n",
       "    .dataframe tbody tr th {\n",
       "        vertical-align: top;\n",
       "    }\n",
       "\n",
       "    .dataframe thead th {\n",
       "        text-align: right;\n",
       "    }\n",
       "</style>\n",
       "<table border=\"1\" class=\"dataframe\">\n",
       "  <thead>\n",
       "    <tr style=\"text-align: right;\">\n",
       "      <th></th>\n",
       "      <th>pe</th>\n",
       "      <th>ASA</th>\n",
       "    </tr>\n",
       "  </thead>\n",
       "  <tbody>\n",
       "    <tr>\n",
       "      <th>BAYL-08997</th>\n",
       "      <td>1.0</td>\n",
       "      <td>True</td>\n",
       "    </tr>\n",
       "    <tr>\n",
       "      <th>BAYL-08998</th>\n",
       "      <td>1.0</td>\n",
       "      <td>True</td>\n",
       "    </tr>\n",
       "    <tr>\n",
       "      <th>BAYL-08999</th>\n",
       "      <td>0.0</td>\n",
       "      <td>True</td>\n",
       "    </tr>\n",
       "    <tr>\n",
       "      <th>BAYL-09000</th>\n",
       "      <td>0.0</td>\n",
       "      <td>True</td>\n",
       "    </tr>\n",
       "    <tr>\n",
       "      <th>BAYL-09001</th>\n",
       "      <td>0.0</td>\n",
       "      <td>True</td>\n",
       "    </tr>\n",
       "    <tr>\n",
       "      <th>...</th>\n",
       "      <td>...</td>\n",
       "      <td>...</td>\n",
       "    </tr>\n",
       "    <tr>\n",
       "      <th>s_23077</th>\n",
       "      <td>0.0</td>\n",
       "      <td>False</td>\n",
       "    </tr>\n",
       "    <tr>\n",
       "      <th>s_23123</th>\n",
       "      <td>0.0</td>\n",
       "      <td>False</td>\n",
       "    </tr>\n",
       "    <tr>\n",
       "      <th>s_22787</th>\n",
       "      <td>0.0</td>\n",
       "      <td>False</td>\n",
       "    </tr>\n",
       "    <tr>\n",
       "      <th>s_23294</th>\n",
       "      <td>0.0</td>\n",
       "      <td>False</td>\n",
       "    </tr>\n",
       "    <tr>\n",
       "      <th>s_73385</th>\n",
       "      <td>1.0</td>\n",
       "      <td>False</td>\n",
       "    </tr>\n",
       "  </tbody>\n",
       "</table>\n",
       "<p>463 rows × 2 columns</p>\n",
       "</div>"
      ],
      "text/plain": [
       "             pe    ASA\n",
       "BAYL-08997  1.0   True\n",
       "BAYL-08998  1.0   True\n",
       "BAYL-08999  0.0   True\n",
       "BAYL-09000  0.0   True\n",
       "BAYL-09001  0.0   True\n",
       "...         ...    ...\n",
       "s_23077     0.0  False\n",
       "s_23123     0.0  False\n",
       "s_22787     0.0  False\n",
       "s_23294     0.0  False\n",
       "s_73385     1.0  False\n",
       "\n",
       "[463 rows x 2 columns]"
      ]
     },
     "execution_count": 84,
     "metadata": {},
     "output_type": "execute_result"
    }
   ],
   "source": [
    "# pe: preeclampsia (1/0)\n",
    "# ASA: aspirin (True/False)\n",
    "target = clin_df[['pe', 'ASA']]\n",
    "target.index = met_df.index\n",
    "target"
   ]
  },
  {
   "cell_type": "code",
   "execution_count": 85,
   "id": "32641066",
   "metadata": {},
   "outputs": [],
   "source": [
    "df = met_df_corrected.join(target)"
   ]
  },
  {
   "cell_type": "code",
   "execution_count": 86,
   "id": "e50fa0ab",
   "metadata": {},
   "outputs": [
    {
     "data": {
      "text/html": [
       "<div>\n",
       "<style scoped>\n",
       "    .dataframe tbody tr th:only-of-type {\n",
       "        vertical-align: middle;\n",
       "    }\n",
       "\n",
       "    .dataframe tbody tr th {\n",
       "        vertical-align: top;\n",
       "    }\n",
       "\n",
       "    .dataframe thead th {\n",
       "        text-align: right;\n",
       "    }\n",
       "</style>\n",
       "<table border=\"1\" class=\"dataframe\">\n",
       "  <thead>\n",
       "    <tr style=\"text-align: right;\">\n",
       "      <th></th>\n",
       "      <th>42370</th>\n",
       "      <th>485</th>\n",
       "      <th>27665</th>\n",
       "      <th>38395</th>\n",
       "      <th>437</th>\n",
       "      <th>528</th>\n",
       "      <th>1417</th>\n",
       "      <th>1549</th>\n",
       "      <th>531</th>\n",
       "      <th>1414</th>\n",
       "      <th>...</th>\n",
       "      <th>53267</th>\n",
       "      <th>54840</th>\n",
       "      <th>57714</th>\n",
       "      <th>57716</th>\n",
       "      <th>57718</th>\n",
       "      <th>57719</th>\n",
       "      <th>57720</th>\n",
       "      <th>57754</th>\n",
       "      <th>pe</th>\n",
       "      <th>ASA</th>\n",
       "    </tr>\n",
       "  </thead>\n",
       "  <tbody>\n",
       "    <tr>\n",
       "      <th>BAYL-08997</th>\n",
       "      <td>-1.146540</td>\n",
       "      <td>-0.966077</td>\n",
       "      <td>-0.919295</td>\n",
       "      <td>-0.762227</td>\n",
       "      <td>0.465931</td>\n",
       "      <td>-0.321215</td>\n",
       "      <td>0.234032</td>\n",
       "      <td>-0.532247</td>\n",
       "      <td>-1.168648</td>\n",
       "      <td>-0.884996</td>\n",
       "      <td>...</td>\n",
       "      <td>-0.017966</td>\n",
       "      <td>-0.782913</td>\n",
       "      <td>0.726504</td>\n",
       "      <td>-0.162807</td>\n",
       "      <td>0.073866</td>\n",
       "      <td>0.280832</td>\n",
       "      <td>2.018347</td>\n",
       "      <td>-0.304122</td>\n",
       "      <td>1.0</td>\n",
       "      <td>True</td>\n",
       "    </tr>\n",
       "    <tr>\n",
       "      <th>BAYL-08998</th>\n",
       "      <td>0.477618</td>\n",
       "      <td>-1.337413</td>\n",
       "      <td>0.560910</td>\n",
       "      <td>-0.730947</td>\n",
       "      <td>-0.380736</td>\n",
       "      <td>-0.160774</td>\n",
       "      <td>0.244356</td>\n",
       "      <td>-0.554670</td>\n",
       "      <td>-1.230694</td>\n",
       "      <td>0.303970</td>\n",
       "      <td>...</td>\n",
       "      <td>-0.493338</td>\n",
       "      <td>1.048384</td>\n",
       "      <td>-0.247300</td>\n",
       "      <td>0.127975</td>\n",
       "      <td>0.258025</td>\n",
       "      <td>0.127785</td>\n",
       "      <td>1.356715</td>\n",
       "      <td>-0.353967</td>\n",
       "      <td>1.0</td>\n",
       "      <td>True</td>\n",
       "    </tr>\n",
       "    <tr>\n",
       "      <th>BAYL-08999</th>\n",
       "      <td>1.208398</td>\n",
       "      <td>-0.863373</td>\n",
       "      <td>-0.789945</td>\n",
       "      <td>3.097627</td>\n",
       "      <td>0.171950</td>\n",
       "      <td>0.739391</td>\n",
       "      <td>2.078265</td>\n",
       "      <td>1.518396</td>\n",
       "      <td>1.428407</td>\n",
       "      <td>0.044864</td>\n",
       "      <td>...</td>\n",
       "      <td>-0.130602</td>\n",
       "      <td>-0.084731</td>\n",
       "      <td>-0.284769</td>\n",
       "      <td>-0.077856</td>\n",
       "      <td>0.879550</td>\n",
       "      <td>0.271521</td>\n",
       "      <td>1.196345</td>\n",
       "      <td>-0.455349</td>\n",
       "      <td>0.0</td>\n",
       "      <td>True</td>\n",
       "    </tr>\n",
       "    <tr>\n",
       "      <th>BAYL-09000</th>\n",
       "      <td>0.328204</td>\n",
       "      <td>-0.953631</td>\n",
       "      <td>0.689269</td>\n",
       "      <td>0.502983</td>\n",
       "      <td>-0.488073</td>\n",
       "      <td>-0.339551</td>\n",
       "      <td>-0.477938</td>\n",
       "      <td>-0.614491</td>\n",
       "      <td>-0.774790</td>\n",
       "      <td>-0.343972</td>\n",
       "      <td>...</td>\n",
       "      <td>0.926692</td>\n",
       "      <td>0.225079</td>\n",
       "      <td>0.828029</td>\n",
       "      <td>-0.083462</td>\n",
       "      <td>-0.969838</td>\n",
       "      <td>-0.318686</td>\n",
       "      <td>-0.295678</td>\n",
       "      <td>-0.205689</td>\n",
       "      <td>0.0</td>\n",
       "      <td>True</td>\n",
       "    </tr>\n",
       "    <tr>\n",
       "      <th>BAYL-09001</th>\n",
       "      <td>-0.288785</td>\n",
       "      <td>-0.853366</td>\n",
       "      <td>-0.706585</td>\n",
       "      <td>-0.622198</td>\n",
       "      <td>0.172444</td>\n",
       "      <td>0.589218</td>\n",
       "      <td>-0.808919</td>\n",
       "      <td>-0.773367</td>\n",
       "      <td>-0.856574</td>\n",
       "      <td>-0.623981</td>\n",
       "      <td>...</td>\n",
       "      <td>-0.477724</td>\n",
       "      <td>0.046747</td>\n",
       "      <td>0.038975</td>\n",
       "      <td>-0.892982</td>\n",
       "      <td>0.459034</td>\n",
       "      <td>-0.440672</td>\n",
       "      <td>0.394252</td>\n",
       "      <td>-0.134428</td>\n",
       "      <td>0.0</td>\n",
       "      <td>True</td>\n",
       "    </tr>\n",
       "  </tbody>\n",
       "</table>\n",
       "<p>5 rows × 962 columns</p>\n",
       "</div>"
      ],
      "text/plain": [
       "               42370       485     27665     38395       437       528   \n",
       "BAYL-08997 -1.146540 -0.966077 -0.919295 -0.762227  0.465931 -0.321215  \\\n",
       "BAYL-08998  0.477618 -1.337413  0.560910 -0.730947 -0.380736 -0.160774   \n",
       "BAYL-08999  1.208398 -0.863373 -0.789945  3.097627  0.171950  0.739391   \n",
       "BAYL-09000  0.328204 -0.953631  0.689269  0.502983 -0.488073 -0.339551   \n",
       "BAYL-09001 -0.288785 -0.853366 -0.706585 -0.622198  0.172444  0.589218   \n",
       "\n",
       "                1417      1549       531      1414  ...     53267     54840   \n",
       "BAYL-08997  0.234032 -0.532247 -1.168648 -0.884996  ... -0.017966 -0.782913  \\\n",
       "BAYL-08998  0.244356 -0.554670 -1.230694  0.303970  ... -0.493338  1.048384   \n",
       "BAYL-08999  2.078265  1.518396  1.428407  0.044864  ... -0.130602 -0.084731   \n",
       "BAYL-09000 -0.477938 -0.614491 -0.774790 -0.343972  ...  0.926692  0.225079   \n",
       "BAYL-09001 -0.808919 -0.773367 -0.856574 -0.623981  ... -0.477724  0.046747   \n",
       "\n",
       "               57714     57716     57718     57719     57720     57754   pe   \n",
       "BAYL-08997  0.726504 -0.162807  0.073866  0.280832  2.018347 -0.304122  1.0  \\\n",
       "BAYL-08998 -0.247300  0.127975  0.258025  0.127785  1.356715 -0.353967  1.0   \n",
       "BAYL-08999 -0.284769 -0.077856  0.879550  0.271521  1.196345 -0.455349  0.0   \n",
       "BAYL-09000  0.828029 -0.083462 -0.969838 -0.318686 -0.295678 -0.205689  0.0   \n",
       "BAYL-09001  0.038975 -0.892982  0.459034 -0.440672  0.394252 -0.134428  0.0   \n",
       "\n",
       "             ASA  \n",
       "BAYL-08997  True  \n",
       "BAYL-08998  True  \n",
       "BAYL-08999  True  \n",
       "BAYL-09000  True  \n",
       "BAYL-09001  True  \n",
       "\n",
       "[5 rows x 962 columns]"
      ]
     },
     "execution_count": 86,
     "metadata": {},
     "output_type": "execute_result"
    }
   ],
   "source": [
    "df.head()"
   ]
  },
  {
   "cell_type": "code",
   "execution_count": 87,
   "id": "8435c117",
   "metadata": {},
   "outputs": [],
   "source": [
    "df = df[df['ASA'] == False].copy(deep=True)"
   ]
  },
  {
   "cell_type": "code",
   "execution_count": 88,
   "id": "3990de77",
   "metadata": {},
   "outputs": [
    {
     "data": {
      "text/plain": [
       "(312, 962)"
      ]
     },
     "execution_count": 88,
     "metadata": {},
     "output_type": "execute_result"
    }
   ],
   "source": [
    "df.shape"
   ]
  },
  {
   "cell_type": "code",
   "execution_count": 89,
   "id": "d3888555",
   "metadata": {},
   "outputs": [],
   "source": [
    "df.drop(['ASA'], axis = 1, inplace=True)"
   ]
  },
  {
   "cell_type": "code",
   "execution_count": 90,
   "id": "4326e138",
   "metadata": {
    "scrolled": true
   },
   "outputs": [
    {
     "data": {
      "text/html": [
       "<div>\n",
       "<style scoped>\n",
       "    .dataframe tbody tr th:only-of-type {\n",
       "        vertical-align: middle;\n",
       "    }\n",
       "\n",
       "    .dataframe tbody tr th {\n",
       "        vertical-align: top;\n",
       "    }\n",
       "\n",
       "    .dataframe thead th {\n",
       "        text-align: right;\n",
       "    }\n",
       "</style>\n",
       "<table border=\"1\" class=\"dataframe\">\n",
       "  <thead>\n",
       "    <tr style=\"text-align: right;\">\n",
       "      <th></th>\n",
       "      <th>42370</th>\n",
       "      <th>485</th>\n",
       "      <th>27665</th>\n",
       "      <th>38395</th>\n",
       "      <th>437</th>\n",
       "      <th>528</th>\n",
       "      <th>1417</th>\n",
       "      <th>1549</th>\n",
       "      <th>531</th>\n",
       "      <th>1414</th>\n",
       "      <th>...</th>\n",
       "      <th>53266</th>\n",
       "      <th>53267</th>\n",
       "      <th>54840</th>\n",
       "      <th>57714</th>\n",
       "      <th>57716</th>\n",
       "      <th>57718</th>\n",
       "      <th>57719</th>\n",
       "      <th>57720</th>\n",
       "      <th>57754</th>\n",
       "      <th>pe</th>\n",
       "    </tr>\n",
       "  </thead>\n",
       "  <tbody>\n",
       "    <tr>\n",
       "      <th>BAYL-09014</th>\n",
       "      <td>0.187718</td>\n",
       "      <td>-0.412404</td>\n",
       "      <td>-0.202174</td>\n",
       "      <td>-0.086940</td>\n",
       "      <td>-0.308921</td>\n",
       "      <td>-0.203724</td>\n",
       "      <td>-0.713629</td>\n",
       "      <td>-0.779126</td>\n",
       "      <td>-1.113414</td>\n",
       "      <td>-0.867635</td>\n",
       "      <td>...</td>\n",
       "      <td>-0.106785</td>\n",
       "      <td>-1.412188</td>\n",
       "      <td>0.302669</td>\n",
       "      <td>-0.361471</td>\n",
       "      <td>-0.173048</td>\n",
       "      <td>-0.611578</td>\n",
       "      <td>-0.480219</td>\n",
       "      <td>-0.813365</td>\n",
       "      <td>-0.482102</td>\n",
       "      <td>0.0</td>\n",
       "    </tr>\n",
       "    <tr>\n",
       "      <th>BAYL-09015</th>\n",
       "      <td>0.117036</td>\n",
       "      <td>0.383135</td>\n",
       "      <td>-0.360853</td>\n",
       "      <td>-0.463805</td>\n",
       "      <td>6.005618</td>\n",
       "      <td>4.369395</td>\n",
       "      <td>-1.694578</td>\n",
       "      <td>-0.690654</td>\n",
       "      <td>-0.512814</td>\n",
       "      <td>-0.902014</td>\n",
       "      <td>...</td>\n",
       "      <td>-0.106785</td>\n",
       "      <td>-0.639806</td>\n",
       "      <td>0.050854</td>\n",
       "      <td>-0.294738</td>\n",
       "      <td>0.396971</td>\n",
       "      <td>-0.657563</td>\n",
       "      <td>-0.432487</td>\n",
       "      <td>0.152373</td>\n",
       "      <td>-0.482810</td>\n",
       "      <td>0.0</td>\n",
       "    </tr>\n",
       "    <tr>\n",
       "      <th>BAYL-09016</th>\n",
       "      <td>0.328983</td>\n",
       "      <td>-0.352526</td>\n",
       "      <td>0.032265</td>\n",
       "      <td>0.278657</td>\n",
       "      <td>-0.465853</td>\n",
       "      <td>0.347904</td>\n",
       "      <td>-0.919261</td>\n",
       "      <td>-0.611782</td>\n",
       "      <td>-0.401626</td>\n",
       "      <td>-0.738763</td>\n",
       "      <td>...</td>\n",
       "      <td>-0.106785</td>\n",
       "      <td>-0.399783</td>\n",
       "      <td>0.050854</td>\n",
       "      <td>-0.131048</td>\n",
       "      <td>0.353900</td>\n",
       "      <td>-0.724636</td>\n",
       "      <td>0.272656</td>\n",
       "      <td>0.152373</td>\n",
       "      <td>0.024405</td>\n",
       "      <td>0.0</td>\n",
       "    </tr>\n",
       "    <tr>\n",
       "      <th>BAYL-09017</th>\n",
       "      <td>0.373233</td>\n",
       "      <td>0.223691</td>\n",
       "      <td>-0.084735</td>\n",
       "      <td>0.469420</td>\n",
       "      <td>-0.298908</td>\n",
       "      <td>0.116556</td>\n",
       "      <td>0.917591</td>\n",
       "      <td>-0.642276</td>\n",
       "      <td>-0.458118</td>\n",
       "      <td>-0.465037</td>\n",
       "      <td>...</td>\n",
       "      <td>-0.106785</td>\n",
       "      <td>-0.905840</td>\n",
       "      <td>0.050854</td>\n",
       "      <td>-0.528665</td>\n",
       "      <td>0.345464</td>\n",
       "      <td>0.399211</td>\n",
       "      <td>0.137868</td>\n",
       "      <td>0.152373</td>\n",
       "      <td>-0.399184</td>\n",
       "      <td>0.0</td>\n",
       "    </tr>\n",
       "    <tr>\n",
       "      <th>BAYL-09018</th>\n",
       "      <td>0.103667</td>\n",
       "      <td>0.523858</td>\n",
       "      <td>-0.238637</td>\n",
       "      <td>-1.072156</td>\n",
       "      <td>-0.335935</td>\n",
       "      <td>0.167922</td>\n",
       "      <td>0.033078</td>\n",
       "      <td>0.053965</td>\n",
       "      <td>0.430851</td>\n",
       "      <td>-0.580457</td>\n",
       "      <td>...</td>\n",
       "      <td>-0.403535</td>\n",
       "      <td>-0.138488</td>\n",
       "      <td>0.050854</td>\n",
       "      <td>-0.436052</td>\n",
       "      <td>1.017550</td>\n",
       "      <td>1.103787</td>\n",
       "      <td>0.000842</td>\n",
       "      <td>0.152373</td>\n",
       "      <td>-0.308211</td>\n",
       "      <td>0.0</td>\n",
       "    </tr>\n",
       "  </tbody>\n",
       "</table>\n",
       "<p>5 rows × 961 columns</p>\n",
       "</div>"
      ],
      "text/plain": [
       "               42370       485     27665     38395       437       528   \n",
       "BAYL-09014  0.187718 -0.412404 -0.202174 -0.086940 -0.308921 -0.203724  \\\n",
       "BAYL-09015  0.117036  0.383135 -0.360853 -0.463805  6.005618  4.369395   \n",
       "BAYL-09016  0.328983 -0.352526  0.032265  0.278657 -0.465853  0.347904   \n",
       "BAYL-09017  0.373233  0.223691 -0.084735  0.469420 -0.298908  0.116556   \n",
       "BAYL-09018  0.103667  0.523858 -0.238637 -1.072156 -0.335935  0.167922   \n",
       "\n",
       "                1417      1549       531      1414  ...     53266     53267   \n",
       "BAYL-09014 -0.713629 -0.779126 -1.113414 -0.867635  ... -0.106785 -1.412188  \\\n",
       "BAYL-09015 -1.694578 -0.690654 -0.512814 -0.902014  ... -0.106785 -0.639806   \n",
       "BAYL-09016 -0.919261 -0.611782 -0.401626 -0.738763  ... -0.106785 -0.399783   \n",
       "BAYL-09017  0.917591 -0.642276 -0.458118 -0.465037  ... -0.106785 -0.905840   \n",
       "BAYL-09018  0.033078  0.053965  0.430851 -0.580457  ... -0.403535 -0.138488   \n",
       "\n",
       "               54840     57714     57716     57718     57719     57720   \n",
       "BAYL-09014  0.302669 -0.361471 -0.173048 -0.611578 -0.480219 -0.813365  \\\n",
       "BAYL-09015  0.050854 -0.294738  0.396971 -0.657563 -0.432487  0.152373   \n",
       "BAYL-09016  0.050854 -0.131048  0.353900 -0.724636  0.272656  0.152373   \n",
       "BAYL-09017  0.050854 -0.528665  0.345464  0.399211  0.137868  0.152373   \n",
       "BAYL-09018  0.050854 -0.436052  1.017550  1.103787  0.000842  0.152373   \n",
       "\n",
       "               57754   pe  \n",
       "BAYL-09014 -0.482102  0.0  \n",
       "BAYL-09015 -0.482810  0.0  \n",
       "BAYL-09016  0.024405  0.0  \n",
       "BAYL-09017 -0.399184  0.0  \n",
       "BAYL-09018 -0.308211  0.0  \n",
       "\n",
       "[5 rows x 961 columns]"
      ]
     },
     "execution_count": 90,
     "metadata": {},
     "output_type": "execute_result"
    }
   ],
   "source": [
    "df.head()"
   ]
  },
  {
   "cell_type": "code",
   "execution_count": 91,
   "id": "a7064cd3",
   "metadata": {},
   "outputs": [
    {
     "data": {
      "text/plain": [
       "BAYL-09014    0.0\n",
       "BAYL-09015    0.0\n",
       "BAYL-09016    0.0\n",
       "BAYL-09017    0.0\n",
       "BAYL-09018    0.0\n",
       "             ... \n",
       "s_23077       0.0\n",
       "s_23123       0.0\n",
       "s_22787       0.0\n",
       "s_23294       0.0\n",
       "s_73385       1.0\n",
       "Name: pe, Length: 312, dtype: float64"
      ]
     },
     "execution_count": 91,
     "metadata": {},
     "output_type": "execute_result"
    }
   ],
   "source": [
    "target = df['pe']\n",
    "df.drop(['pe'], axis=1, inplace=True)\n",
    "target"
   ]
  },
  {
   "cell_type": "code",
   "execution_count": 92,
   "id": "68e3bd8d",
   "metadata": {
    "scrolled": true
   },
   "outputs": [
    {
     "data": {
      "text/plain": [
       "array([215,  97])"
      ]
     },
     "execution_count": 92,
     "metadata": {},
     "output_type": "execute_result"
    }
   ],
   "source": [
    "np.bincount(target)"
   ]
  },
  {
   "cell_type": "code",
   "execution_count": 94,
   "id": "e8c922ea",
   "metadata": {
    "scrolled": true
   },
   "outputs": [
    {
     "data": {
      "text/html": [
       "<div>\n",
       "<style scoped>\n",
       "    .dataframe tbody tr th:only-of-type {\n",
       "        vertical-align: middle;\n",
       "    }\n",
       "\n",
       "    .dataframe tbody tr th {\n",
       "        vertical-align: top;\n",
       "    }\n",
       "\n",
       "    .dataframe thead th {\n",
       "        text-align: right;\n",
       "    }\n",
       "</style>\n",
       "<table border=\"1\" class=\"dataframe\">\n",
       "  <thead>\n",
       "    <tr style=\"text-align: right;\">\n",
       "      <th></th>\n",
       "      <th>42370</th>\n",
       "      <th>485</th>\n",
       "      <th>27665</th>\n",
       "      <th>38395</th>\n",
       "      <th>437</th>\n",
       "      <th>528</th>\n",
       "      <th>1417</th>\n",
       "      <th>1549</th>\n",
       "      <th>531</th>\n",
       "      <th>1414</th>\n",
       "      <th>...</th>\n",
       "      <th>53157</th>\n",
       "      <th>53266</th>\n",
       "      <th>53267</th>\n",
       "      <th>54840</th>\n",
       "      <th>57714</th>\n",
       "      <th>57716</th>\n",
       "      <th>57718</th>\n",
       "      <th>57719</th>\n",
       "      <th>57720</th>\n",
       "      <th>57754</th>\n",
       "    </tr>\n",
       "  </thead>\n",
       "  <tbody>\n",
       "    <tr>\n",
       "      <th>BAYL-09014</th>\n",
       "      <td>0.187718</td>\n",
       "      <td>-0.412404</td>\n",
       "      <td>-0.202174</td>\n",
       "      <td>-0.086940</td>\n",
       "      <td>-0.308921</td>\n",
       "      <td>-0.203724</td>\n",
       "      <td>-0.713629</td>\n",
       "      <td>-0.779126</td>\n",
       "      <td>-1.113414</td>\n",
       "      <td>-0.867635</td>\n",
       "      <td>...</td>\n",
       "      <td>-0.143631</td>\n",
       "      <td>-0.106785</td>\n",
       "      <td>-1.412188</td>\n",
       "      <td>0.302669</td>\n",
       "      <td>-0.361471</td>\n",
       "      <td>-0.173048</td>\n",
       "      <td>-0.611578</td>\n",
       "      <td>-0.480219</td>\n",
       "      <td>-0.813365</td>\n",
       "      <td>-0.482102</td>\n",
       "    </tr>\n",
       "    <tr>\n",
       "      <th>BAYL-09015</th>\n",
       "      <td>0.117036</td>\n",
       "      <td>0.383135</td>\n",
       "      <td>-0.360853</td>\n",
       "      <td>-0.463805</td>\n",
       "      <td>6.005618</td>\n",
       "      <td>4.369395</td>\n",
       "      <td>-1.694578</td>\n",
       "      <td>-0.690654</td>\n",
       "      <td>-0.512814</td>\n",
       "      <td>-0.902014</td>\n",
       "      <td>...</td>\n",
       "      <td>-0.166960</td>\n",
       "      <td>-0.106785</td>\n",
       "      <td>-0.639806</td>\n",
       "      <td>0.050854</td>\n",
       "      <td>-0.294738</td>\n",
       "      <td>0.396971</td>\n",
       "      <td>-0.657563</td>\n",
       "      <td>-0.432487</td>\n",
       "      <td>0.152373</td>\n",
       "      <td>-0.482810</td>\n",
       "    </tr>\n",
       "    <tr>\n",
       "      <th>BAYL-09016</th>\n",
       "      <td>0.328983</td>\n",
       "      <td>-0.352526</td>\n",
       "      <td>0.032265</td>\n",
       "      <td>0.278657</td>\n",
       "      <td>-0.465853</td>\n",
       "      <td>0.347904</td>\n",
       "      <td>-0.919261</td>\n",
       "      <td>-0.611782</td>\n",
       "      <td>-0.401626</td>\n",
       "      <td>-0.738763</td>\n",
       "      <td>...</td>\n",
       "      <td>0.077195</td>\n",
       "      <td>-0.106785</td>\n",
       "      <td>-0.399783</td>\n",
       "      <td>0.050854</td>\n",
       "      <td>-0.131048</td>\n",
       "      <td>0.353900</td>\n",
       "      <td>-0.724636</td>\n",
       "      <td>0.272656</td>\n",
       "      <td>0.152373</td>\n",
       "      <td>0.024405</td>\n",
       "    </tr>\n",
       "    <tr>\n",
       "      <th>BAYL-09017</th>\n",
       "      <td>0.373233</td>\n",
       "      <td>0.223691</td>\n",
       "      <td>-0.084735</td>\n",
       "      <td>0.469420</td>\n",
       "      <td>-0.298908</td>\n",
       "      <td>0.116556</td>\n",
       "      <td>0.917591</td>\n",
       "      <td>-0.642276</td>\n",
       "      <td>-0.458118</td>\n",
       "      <td>-0.465037</td>\n",
       "      <td>...</td>\n",
       "      <td>1.807690</td>\n",
       "      <td>-0.106785</td>\n",
       "      <td>-0.905840</td>\n",
       "      <td>0.050854</td>\n",
       "      <td>-0.528665</td>\n",
       "      <td>0.345464</td>\n",
       "      <td>0.399211</td>\n",
       "      <td>0.137868</td>\n",
       "      <td>0.152373</td>\n",
       "      <td>-0.399184</td>\n",
       "    </tr>\n",
       "    <tr>\n",
       "      <th>BAYL-09018</th>\n",
       "      <td>0.103667</td>\n",
       "      <td>0.523858</td>\n",
       "      <td>-0.238637</td>\n",
       "      <td>-1.072156</td>\n",
       "      <td>-0.335935</td>\n",
       "      <td>0.167922</td>\n",
       "      <td>0.033078</td>\n",
       "      <td>0.053965</td>\n",
       "      <td>0.430851</td>\n",
       "      <td>-0.580457</td>\n",
       "      <td>...</td>\n",
       "      <td>-0.359251</td>\n",
       "      <td>-0.403535</td>\n",
       "      <td>-0.138488</td>\n",
       "      <td>0.050854</td>\n",
       "      <td>-0.436052</td>\n",
       "      <td>1.017550</td>\n",
       "      <td>1.103787</td>\n",
       "      <td>0.000842</td>\n",
       "      <td>0.152373</td>\n",
       "      <td>-0.308211</td>\n",
       "    </tr>\n",
       "  </tbody>\n",
       "</table>\n",
       "<p>5 rows × 960 columns</p>\n",
       "</div>"
      ],
      "text/plain": [
       "               42370     485       27665     38395     437       528     \n",
       "BAYL-09014  0.187718 -0.412404 -0.202174 -0.086940 -0.308921 -0.203724  \\\n",
       "BAYL-09015  0.117036  0.383135 -0.360853 -0.463805  6.005618  4.369395   \n",
       "BAYL-09016  0.328983 -0.352526  0.032265  0.278657 -0.465853  0.347904   \n",
       "BAYL-09017  0.373233  0.223691 -0.084735  0.469420 -0.298908  0.116556   \n",
       "BAYL-09018  0.103667  0.523858 -0.238637 -1.072156 -0.335935  0.167922   \n",
       "\n",
       "               1417      1549      531       1414   ...     53157     53266   \n",
       "BAYL-09014 -0.713629 -0.779126 -1.113414 -0.867635  ... -0.143631 -0.106785  \\\n",
       "BAYL-09015 -1.694578 -0.690654 -0.512814 -0.902014  ... -0.166960 -0.106785   \n",
       "BAYL-09016 -0.919261 -0.611782 -0.401626 -0.738763  ...  0.077195 -0.106785   \n",
       "BAYL-09017  0.917591 -0.642276 -0.458118 -0.465037  ...  1.807690 -0.106785   \n",
       "BAYL-09018  0.033078  0.053965  0.430851 -0.580457  ... -0.359251 -0.403535   \n",
       "\n",
       "               53267     54840     57714     57716     57718     57719   \n",
       "BAYL-09014 -1.412188  0.302669 -0.361471 -0.173048 -0.611578 -0.480219  \\\n",
       "BAYL-09015 -0.639806  0.050854 -0.294738  0.396971 -0.657563 -0.432487   \n",
       "BAYL-09016 -0.399783  0.050854 -0.131048  0.353900 -0.724636  0.272656   \n",
       "BAYL-09017 -0.905840  0.050854 -0.528665  0.345464  0.399211  0.137868   \n",
       "BAYL-09018 -0.138488  0.050854 -0.436052  1.017550  1.103787  0.000842   \n",
       "\n",
       "               57720     57754  \n",
       "BAYL-09014 -0.813365 -0.482102  \n",
       "BAYL-09015  0.152373 -0.482810  \n",
       "BAYL-09016  0.152373  0.024405  \n",
       "BAYL-09017  0.152373 -0.399184  \n",
       "BAYL-09018  0.152373 -0.308211  \n",
       "\n",
       "[5 rows x 960 columns]"
      ]
     },
     "execution_count": 94,
     "metadata": {},
     "output_type": "execute_result"
    }
   ],
   "source": [
    "df.head()"
   ]
  },
  {
   "cell_type": "code",
   "execution_count": null,
   "id": "19f80eb5",
   "metadata": {},
   "outputs": [],
   "source": []
  },
  {
   "cell_type": "markdown",
   "id": "388618c9",
   "metadata": {},
   "source": [
    "### Classification"
   ]
  },
  {
   "cell_type": "code",
   "execution_count": 95,
   "id": "97a8e296",
   "metadata": {},
   "outputs": [],
   "source": [
    "from sklearn.preprocessing import StandardScaler\n",
    "from sklearn.model_selection import train_test_split"
   ]
  },
  {
   "cell_type": "code",
   "execution_count": null,
   "id": "2ac10d7e",
   "metadata": {},
   "outputs": [],
   "source": []
  },
  {
   "cell_type": "code",
   "execution_count": 96,
   "id": "37e6a6dc",
   "metadata": {},
   "outputs": [],
   "source": [
    "X_train, X_test, y_train, y_test = train_test_split(df, target, stratify=target, test_size=0.2)"
   ]
  },
  {
   "cell_type": "code",
   "execution_count": 97,
   "id": "407faa33",
   "metadata": {},
   "outputs": [
    {
     "data": {
      "text/plain": [
       "(249, 960)"
      ]
     },
     "execution_count": 97,
     "metadata": {},
     "output_type": "execute_result"
    }
   ],
   "source": [
    "X_train.shape"
   ]
  },
  {
   "cell_type": "code",
   "execution_count": 98,
   "id": "b405e500",
   "metadata": {},
   "outputs": [
    {
     "data": {
      "text/plain": [
       "(63, 960)"
      ]
     },
     "execution_count": 98,
     "metadata": {},
     "output_type": "execute_result"
    }
   ],
   "source": [
    "X_test.shape"
   ]
  },
  {
   "cell_type": "code",
   "execution_count": 99,
   "id": "41a28a11",
   "metadata": {},
   "outputs": [],
   "source": [
    "scaler = StandardScaler()"
   ]
  },
  {
   "cell_type": "code",
   "execution_count": 100,
   "id": "bc45a7d6",
   "metadata": {},
   "outputs": [],
   "source": [
    "scaler.fit(X_train)\n",
    "X_train = scaler.transform(X_train)\n",
    "X_test = scaler.transform(X_test)"
   ]
  },
  {
   "cell_type": "code",
   "execution_count": null,
   "id": "2eac3bd0",
   "metadata": {},
   "outputs": [],
   "source": []
  },
  {
   "cell_type": "code",
   "execution_count": 101,
   "id": "e2afdc75",
   "metadata": {},
   "outputs": [],
   "source": [
    "from sklearn.ensemble import RandomForestClassifier"
   ]
  },
  {
   "cell_type": "code",
   "execution_count": 102,
   "id": "07a7004e",
   "metadata": {},
   "outputs": [],
   "source": [
    "model = RandomForestClassifier()"
   ]
  },
  {
   "cell_type": "code",
   "execution_count": 103,
   "id": "47283bb8",
   "metadata": {
    "scrolled": true
   },
   "outputs": [
    {
     "data": {
      "text/html": [
       "<style>#sk-container-id-2 {color: black;background-color: white;}#sk-container-id-2 pre{padding: 0;}#sk-container-id-2 div.sk-toggleable {background-color: white;}#sk-container-id-2 label.sk-toggleable__label {cursor: pointer;display: block;width: 100%;margin-bottom: 0;padding: 0.3em;box-sizing: border-box;text-align: center;}#sk-container-id-2 label.sk-toggleable__label-arrow:before {content: \"▸\";float: left;margin-right: 0.25em;color: #696969;}#sk-container-id-2 label.sk-toggleable__label-arrow:hover:before {color: black;}#sk-container-id-2 div.sk-estimator:hover label.sk-toggleable__label-arrow:before {color: black;}#sk-container-id-2 div.sk-toggleable__content {max-height: 0;max-width: 0;overflow: hidden;text-align: left;background-color: #f0f8ff;}#sk-container-id-2 div.sk-toggleable__content pre {margin: 0.2em;color: black;border-radius: 0.25em;background-color: #f0f8ff;}#sk-container-id-2 input.sk-toggleable__control:checked~div.sk-toggleable__content {max-height: 200px;max-width: 100%;overflow: auto;}#sk-container-id-2 input.sk-toggleable__control:checked~label.sk-toggleable__label-arrow:before {content: \"▾\";}#sk-container-id-2 div.sk-estimator input.sk-toggleable__control:checked~label.sk-toggleable__label {background-color: #d4ebff;}#sk-container-id-2 div.sk-label input.sk-toggleable__control:checked~label.sk-toggleable__label {background-color: #d4ebff;}#sk-container-id-2 input.sk-hidden--visually {border: 0;clip: rect(1px 1px 1px 1px);clip: rect(1px, 1px, 1px, 1px);height: 1px;margin: -1px;overflow: hidden;padding: 0;position: absolute;width: 1px;}#sk-container-id-2 div.sk-estimator {font-family: monospace;background-color: #f0f8ff;border: 1px dotted black;border-radius: 0.25em;box-sizing: border-box;margin-bottom: 0.5em;}#sk-container-id-2 div.sk-estimator:hover {background-color: #d4ebff;}#sk-container-id-2 div.sk-parallel-item::after {content: \"\";width: 100%;border-bottom: 1px solid gray;flex-grow: 1;}#sk-container-id-2 div.sk-label:hover label.sk-toggleable__label {background-color: #d4ebff;}#sk-container-id-2 div.sk-serial::before {content: \"\";position: absolute;border-left: 1px solid gray;box-sizing: border-box;top: 0;bottom: 0;left: 50%;z-index: 0;}#sk-container-id-2 div.sk-serial {display: flex;flex-direction: column;align-items: center;background-color: white;padding-right: 0.2em;padding-left: 0.2em;position: relative;}#sk-container-id-2 div.sk-item {position: relative;z-index: 1;}#sk-container-id-2 div.sk-parallel {display: flex;align-items: stretch;justify-content: center;background-color: white;position: relative;}#sk-container-id-2 div.sk-item::before, #sk-container-id-2 div.sk-parallel-item::before {content: \"\";position: absolute;border-left: 1px solid gray;box-sizing: border-box;top: 0;bottom: 0;left: 50%;z-index: -1;}#sk-container-id-2 div.sk-parallel-item {display: flex;flex-direction: column;z-index: 1;position: relative;background-color: white;}#sk-container-id-2 div.sk-parallel-item:first-child::after {align-self: flex-end;width: 50%;}#sk-container-id-2 div.sk-parallel-item:last-child::after {align-self: flex-start;width: 50%;}#sk-container-id-2 div.sk-parallel-item:only-child::after {width: 0;}#sk-container-id-2 div.sk-dashed-wrapped {border: 1px dashed gray;margin: 0 0.4em 0.5em 0.4em;box-sizing: border-box;padding-bottom: 0.4em;background-color: white;}#sk-container-id-2 div.sk-label label {font-family: monospace;font-weight: bold;display: inline-block;line-height: 1.2em;}#sk-container-id-2 div.sk-label-container {text-align: center;}#sk-container-id-2 div.sk-container {/* jupyter's `normalize.less` sets `[hidden] { display: none; }` but bootstrap.min.css set `[hidden] { display: none !important; }` so we also need the `!important` here to be able to override the default hidden behavior on the sphinx rendered scikit-learn.org. See: https://github.com/scikit-learn/scikit-learn/issues/21755 */display: inline-block !important;position: relative;}#sk-container-id-2 div.sk-text-repr-fallback {display: none;}</style><div id=\"sk-container-id-2\" class=\"sk-top-container\"><div class=\"sk-text-repr-fallback\"><pre>RandomForestClassifier()</pre><b>In a Jupyter environment, please rerun this cell to show the HTML representation or trust the notebook. <br />On GitHub, the HTML representation is unable to render, please try loading this page with nbviewer.org.</b></div><div class=\"sk-container\" hidden><div class=\"sk-item\"><div class=\"sk-estimator sk-toggleable\"><input class=\"sk-toggleable__control sk-hidden--visually\" id=\"sk-estimator-id-2\" type=\"checkbox\" checked><label for=\"sk-estimator-id-2\" class=\"sk-toggleable__label sk-toggleable__label-arrow\">RandomForestClassifier</label><div class=\"sk-toggleable__content\"><pre>RandomForestClassifier()</pre></div></div></div></div></div>"
      ],
      "text/plain": [
       "RandomForestClassifier()"
      ]
     },
     "execution_count": 103,
     "metadata": {},
     "output_type": "execute_result"
    }
   ],
   "source": [
    "model.fit(X_train, y_train)"
   ]
  },
  {
   "cell_type": "code",
   "execution_count": 104,
   "id": "333585d3",
   "metadata": {},
   "outputs": [],
   "source": [
    "y_pred = model.predict(X_test)"
   ]
  },
  {
   "cell_type": "code",
   "execution_count": 105,
   "id": "04c9aecc",
   "metadata": {},
   "outputs": [],
   "source": [
    "from sklearn.metrics import accuracy_score, classification_report, confusion_matrix"
   ]
  },
  {
   "cell_type": "code",
   "execution_count": 106,
   "id": "dbe97ecb",
   "metadata": {},
   "outputs": [
    {
     "data": {
      "text/plain": [
       "0.746031746031746"
      ]
     },
     "execution_count": 106,
     "metadata": {},
     "output_type": "execute_result"
    }
   ],
   "source": [
    "accuracy_score(y_test, y_pred)"
   ]
  },
  {
   "cell_type": "code",
   "execution_count": 107,
   "id": "90dc1c18",
   "metadata": {},
   "outputs": [
    {
     "name": "stdout",
     "output_type": "stream",
     "text": [
      "              precision    recall  f1-score   support\n",
      "\n",
      "         0.0       0.75      0.93      0.83        43\n",
      "         1.0       0.70      0.35      0.47        20\n",
      "\n",
      "    accuracy                           0.75        63\n",
      "   macro avg       0.73      0.64      0.65        63\n",
      "weighted avg       0.74      0.75      0.72        63\n",
      "\n"
     ]
    }
   ],
   "source": [
    "print(classification_report(y_test, y_pred))"
   ]
  },
  {
   "cell_type": "code",
   "execution_count": 108,
   "id": "42da8ad8",
   "metadata": {},
   "outputs": [
    {
     "data": {
      "text/plain": [
       "array([[40,  3],\n",
       "       [13,  7]])"
      ]
     },
     "execution_count": 108,
     "metadata": {},
     "output_type": "execute_result"
    }
   ],
   "source": [
    "confusion_matrix(y_test, y_pred)"
   ]
  },
  {
   "cell_type": "code",
   "execution_count": null,
   "id": "d7dba783",
   "metadata": {},
   "outputs": [],
   "source": []
  },
  {
   "cell_type": "code",
   "execution_count": 109,
   "id": "f882561a",
   "metadata": {},
   "outputs": [],
   "source": [
    "importances = model.feature_importances_"
   ]
  },
  {
   "cell_type": "code",
   "execution_count": 110,
   "id": "dea63db6",
   "metadata": {},
   "outputs": [
    {
     "data": {
      "text/plain": [
       "0.012496870721090274"
      ]
     },
     "execution_count": 110,
     "metadata": {},
     "output_type": "execute_result"
    }
   ],
   "source": [
    "importances.max()"
   ]
  },
  {
   "cell_type": "code",
   "execution_count": 111,
   "id": "4766374c",
   "metadata": {},
   "outputs": [
    {
     "data": {
      "text/plain": [
       "0.0"
      ]
     },
     "execution_count": 111,
     "metadata": {},
     "output_type": "execute_result"
    }
   ],
   "source": [
    "importances.min()"
   ]
  },
  {
   "cell_type": "code",
   "execution_count": 112,
   "id": "fb8b2b91",
   "metadata": {},
   "outputs": [
    {
     "data": {
      "text/plain": [
       "121"
      ]
     },
     "execution_count": 112,
     "metadata": {},
     "output_type": "execute_result"
    }
   ],
   "source": [
    "len([x for x in importances if x == 0])"
   ]
  },
  {
   "cell_type": "code",
   "execution_count": null,
   "id": "7e47a840",
   "metadata": {},
   "outputs": [],
   "source": []
  },
  {
   "cell_type": "code",
   "execution_count": null,
   "id": "fa76771d",
   "metadata": {},
   "outputs": [],
   "source": []
  },
  {
   "cell_type": "code",
   "execution_count": null,
   "id": "85846d39",
   "metadata": {},
   "outputs": [],
   "source": []
  },
  {
   "cell_type": "code",
   "execution_count": null,
   "id": "5aee0c76",
   "metadata": {},
   "outputs": [],
   "source": []
  }
 ],
 "metadata": {
  "kernelspec": {
   "display_name": "Python 3 (ipykernel)",
   "language": "python",
   "name": "python3"
  },
  "language_info": {
   "codemirror_mode": {
    "name": "ipython",
    "version": 3
   },
   "file_extension": ".py",
   "mimetype": "text/x-python",
   "name": "python",
   "nbconvert_exporter": "python",
   "pygments_lexer": "ipython3",
   "version": "3.10.12"
  }
 },
 "nbformat": 4,
 "nbformat_minor": 5
}
