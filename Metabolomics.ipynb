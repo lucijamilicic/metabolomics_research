{
 "cells": [
  {
   "cell_type": "code",
   "execution_count": 1,
   "id": "e5e41350",
   "metadata": {},
   "outputs": [],
   "source": [
    "import pandas as pd\n",
    "import numpy as np\n",
    "# !pip install umap-learn\n",
    "import umap.umap_ as umap\n",
    "\n",
    "from matplotlib import pyplot as plt"
   ]
  },
  {
   "cell_type": "code",
   "execution_count": null,
   "id": "84caf73f",
   "metadata": {},
   "outputs": [],
   "source": []
  },
  {
   "cell_type": "markdown",
   "id": "fa251a6f",
   "metadata": {},
   "source": [
    "### Dataset analysis"
   ]
  },
  {
   "cell_type": "code",
   "execution_count": 2,
   "id": "e69888a3",
   "metadata": {},
   "outputs": [],
   "source": [
    "met_df = (pd.read_csv(\"./metabolomics/data_zscore_comp_id.csv\"))"
   ]
  },
  {
   "cell_type": "code",
   "execution_count": 3,
   "id": "987b4c3b",
   "metadata": {
    "scrolled": true
   },
   "outputs": [
    {
     "data": {
      "text/html": [
       "<div>\n",
       "<style scoped>\n",
       "    .dataframe tbody tr th:only-of-type {\n",
       "        vertical-align: middle;\n",
       "    }\n",
       "\n",
       "    .dataframe tbody tr th {\n",
       "        vertical-align: top;\n",
       "    }\n",
       "\n",
       "    .dataframe thead th {\n",
       "        text-align: right;\n",
       "    }\n",
       "</style>\n",
       "<table border=\"1\" class=\"dataframe\">\n",
       "  <thead>\n",
       "    <tr style=\"text-align: right;\">\n",
       "      <th></th>\n",
       "      <th>Unnamed: 0</th>\n",
       "      <th>BAYL-08997</th>\n",
       "      <th>BAYL-08998</th>\n",
       "      <th>BAYL-08999</th>\n",
       "      <th>BAYL-09000</th>\n",
       "      <th>BAYL-09001</th>\n",
       "      <th>BAYL-09002</th>\n",
       "      <th>BAYL-09003</th>\n",
       "      <th>BAYL-09004</th>\n",
       "      <th>BAYL-09005</th>\n",
       "      <th>...</th>\n",
       "      <th>s_21944</th>\n",
       "      <th>s_22832</th>\n",
       "      <th>s_22842</th>\n",
       "      <th>s_22997</th>\n",
       "      <th>s_23003</th>\n",
       "      <th>s_23077</th>\n",
       "      <th>s_23123</th>\n",
       "      <th>s_22787</th>\n",
       "      <th>s_23294</th>\n",
       "      <th>s_73385</th>\n",
       "    </tr>\n",
       "  </thead>\n",
       "  <tbody>\n",
       "    <tr>\n",
       "      <th>0</th>\n",
       "      <td>42370</td>\n",
       "      <td>-1.259948</td>\n",
       "      <td>0.170557</td>\n",
       "      <td>0.814204</td>\n",
       "      <td>0.038958</td>\n",
       "      <td>-0.504466</td>\n",
       "      <td>-0.757901</td>\n",
       "      <td>-0.986865</td>\n",
       "      <td>0.993000</td>\n",
       "      <td>0.986541</td>\n",
       "      <td>...</td>\n",
       "      <td>NaN</td>\n",
       "      <td>NaN</td>\n",
       "      <td>NaN</td>\n",
       "      <td>NaN</td>\n",
       "      <td>NaN</td>\n",
       "      <td>NaN</td>\n",
       "      <td>NaN</td>\n",
       "      <td>NaN</td>\n",
       "      <td>NaN</td>\n",
       "      <td>NaN</td>\n",
       "    </tr>\n",
       "    <tr>\n",
       "      <th>1</th>\n",
       "      <td>485</td>\n",
       "      <td>-0.610334</td>\n",
       "      <td>-0.811169</td>\n",
       "      <td>-0.554787</td>\n",
       "      <td>-0.603603</td>\n",
       "      <td>-0.549375</td>\n",
       "      <td>-0.631363</td>\n",
       "      <td>0.606882</td>\n",
       "      <td>1.238204</td>\n",
       "      <td>1.661840</td>\n",
       "      <td>...</td>\n",
       "      <td>-0.434904</td>\n",
       "      <td>-0.730548</td>\n",
       "      <td>-0.009508</td>\n",
       "      <td>-0.607362</td>\n",
       "      <td>0.219333</td>\n",
       "      <td>-0.767359</td>\n",
       "      <td>-0.421440</td>\n",
       "      <td>0.085019</td>\n",
       "      <td>-0.732586</td>\n",
       "      <td>-1.167603</td>\n",
       "    </tr>\n",
       "    <tr>\n",
       "      <th>2</th>\n",
       "      <td>27665</td>\n",
       "      <td>-1.201809</td>\n",
       "      <td>0.387317</td>\n",
       "      <td>-1.062940</td>\n",
       "      <td>0.525122</td>\n",
       "      <td>-0.973446</td>\n",
       "      <td>-0.253533</td>\n",
       "      <td>0.195547</td>\n",
       "      <td>0.769406</td>\n",
       "      <td>0.796718</td>\n",
       "      <td>...</td>\n",
       "      <td>0.825309</td>\n",
       "      <td>2.224161</td>\n",
       "      <td>0.182297</td>\n",
       "      <td>-0.697035</td>\n",
       "      <td>0.161942</td>\n",
       "      <td>-0.266286</td>\n",
       "      <td>0.775185</td>\n",
       "      <td>-0.640354</td>\n",
       "      <td>1.440073</td>\n",
       "      <td>0.458074</td>\n",
       "    </tr>\n",
       "    <tr>\n",
       "      <th>3</th>\n",
       "      <td>38395</td>\n",
       "      <td>-0.954275</td>\n",
       "      <td>-0.906589</td>\n",
       "      <td>4.929942</td>\n",
       "      <td>0.974496</td>\n",
       "      <td>-0.740805</td>\n",
       "      <td>0.642705</td>\n",
       "      <td>-0.293678</td>\n",
       "      <td>0.650630</td>\n",
       "      <td>1.008092</td>\n",
       "      <td>...</td>\n",
       "      <td>-1.505053</td>\n",
       "      <td>-1.112171</td>\n",
       "      <td>0.062801</td>\n",
       "      <td>-0.778621</td>\n",
       "      <td>0.574785</td>\n",
       "      <td>-0.251823</td>\n",
       "      <td>-0.822022</td>\n",
       "      <td>-1.332230</td>\n",
       "      <td>0.767016</td>\n",
       "      <td>-1.741468</td>\n",
       "    </tr>\n",
       "    <tr>\n",
       "      <th>4</th>\n",
       "      <td>437</td>\n",
       "      <td>0.240999</td>\n",
       "      <td>-0.454249</td>\n",
       "      <td>-0.000406</td>\n",
       "      <td>-0.542391</td>\n",
       "      <td>NaN</td>\n",
       "      <td>0.403722</td>\n",
       "      <td>-0.492163</td>\n",
       "      <td>0.252810</td>\n",
       "      <td>-0.517825</td>\n",
       "      <td>...</td>\n",
       "      <td>NaN</td>\n",
       "      <td>NaN</td>\n",
       "      <td>NaN</td>\n",
       "      <td>NaN</td>\n",
       "      <td>NaN</td>\n",
       "      <td>NaN</td>\n",
       "      <td>NaN</td>\n",
       "      <td>NaN</td>\n",
       "      <td>NaN</td>\n",
       "      <td>NaN</td>\n",
       "    </tr>\n",
       "  </tbody>\n",
       "</table>\n",
       "<p>5 rows × 464 columns</p>\n",
       "</div>"
      ],
      "text/plain": [
       "   Unnamed: 0  BAYL-08997  BAYL-08998  BAYL-08999  BAYL-09000  BAYL-09001  \\\n",
       "0       42370   -1.259948    0.170557    0.814204    0.038958   -0.504466   \n",
       "1         485   -0.610334   -0.811169   -0.554787   -0.603603   -0.549375   \n",
       "2       27665   -1.201809    0.387317   -1.062940    0.525122   -0.973446   \n",
       "3       38395   -0.954275   -0.906589    4.929942    0.974496   -0.740805   \n",
       "4         437    0.240999   -0.454249   -0.000406   -0.542391         NaN   \n",
       "\n",
       "   BAYL-09002  BAYL-09003  BAYL-09004  BAYL-09005  ...   s_21944   s_22832  \\\n",
       "0   -0.757901   -0.986865    0.993000    0.986541  ...       NaN       NaN   \n",
       "1   -0.631363    0.606882    1.238204    1.661840  ... -0.434904 -0.730548   \n",
       "2   -0.253533    0.195547    0.769406    0.796718  ...  0.825309  2.224161   \n",
       "3    0.642705   -0.293678    0.650630    1.008092  ... -1.505053 -1.112171   \n",
       "4    0.403722   -0.492163    0.252810   -0.517825  ...       NaN       NaN   \n",
       "\n",
       "    s_22842   s_22997   s_23003   s_23077   s_23123   s_22787   s_23294  \\\n",
       "0       NaN       NaN       NaN       NaN       NaN       NaN       NaN   \n",
       "1 -0.009508 -0.607362  0.219333 -0.767359 -0.421440  0.085019 -0.732586   \n",
       "2  0.182297 -0.697035  0.161942 -0.266286  0.775185 -0.640354  1.440073   \n",
       "3  0.062801 -0.778621  0.574785 -0.251823 -0.822022 -1.332230  0.767016   \n",
       "4       NaN       NaN       NaN       NaN       NaN       NaN       NaN   \n",
       "\n",
       "    s_73385  \n",
       "0       NaN  \n",
       "1 -1.167603  \n",
       "2  0.458074  \n",
       "3 -1.741468  \n",
       "4       NaN  \n",
       "\n",
       "[5 rows x 464 columns]"
      ]
     },
     "execution_count": 3,
     "metadata": {},
     "output_type": "execute_result"
    }
   ],
   "source": [
    "met_df.head()"
   ]
  },
  {
   "cell_type": "code",
   "execution_count": 4,
   "id": "b9c0bea6",
   "metadata": {},
   "outputs": [
    {
     "data": {
      "text/plain": [
       "(968, 464)"
      ]
     },
     "execution_count": 4,
     "metadata": {},
     "output_type": "execute_result"
    }
   ],
   "source": [
    "met_df.shape"
   ]
  },
  {
   "cell_type": "code",
   "execution_count": 5,
   "id": "1de510b9",
   "metadata": {},
   "outputs": [
    {
     "data": {
      "text/plain": [
       "(968,)"
      ]
     },
     "execution_count": 5,
     "metadata": {},
     "output_type": "execute_result"
    }
   ],
   "source": [
    "met_df['Unnamed: 0'].unique().shape # unnamed -> unique values, id?"
   ]
  },
  {
   "cell_type": "code",
   "execution_count": null,
   "id": "c5c00f82",
   "metadata": {},
   "outputs": [],
   "source": []
  },
  {
   "cell_type": "code",
   "execution_count": 6,
   "id": "57bcf4c6",
   "metadata": {},
   "outputs": [],
   "source": [
    "comp_df = pd.read_csv(\"./metabolomics/compAnno.csv\")"
   ]
  },
  {
   "cell_type": "code",
   "execution_count": 7,
   "id": "735bdf9e",
   "metadata": {},
   "outputs": [
    {
     "data": {
      "text/html": [
       "<div>\n",
       "<style scoped>\n",
       "    .dataframe tbody tr th:only-of-type {\n",
       "        vertical-align: middle;\n",
       "    }\n",
       "\n",
       "    .dataframe tbody tr th {\n",
       "        vertical-align: top;\n",
       "    }\n",
       "\n",
       "    .dataframe thead th {\n",
       "        text-align: right;\n",
       "    }\n",
       "</style>\n",
       "<table border=\"1\" class=\"dataframe\">\n",
       "  <thead>\n",
       "    <tr style=\"text-align: right;\">\n",
       "      <th></th>\n",
       "      <th>BIOCHEMICAL</th>\n",
       "      <th>PATHWAY_SORTORDER</th>\n",
       "      <th>SUPER_PATHWAY</th>\n",
       "      <th>SUB_PATHWAY</th>\n",
       "      <th>COMP_ID</th>\n",
       "      <th>PLATFORM</th>\n",
       "      <th>CHEMICAL_ID</th>\n",
       "      <th>PUBCHEM</th>\n",
       "      <th>CAS</th>\n",
       "      <th>KEGG</th>\n",
       "      <th>HMDB_ID</th>\n",
       "    </tr>\n",
       "  </thead>\n",
       "  <tbody>\n",
       "    <tr>\n",
       "      <th>0</th>\n",
       "      <td>S-1-pyrroline-5-carboxylate</td>\n",
       "      <td>64.0</td>\n",
       "      <td>Amino Acid</td>\n",
       "      <td>Glutamate Metabolism</td>\n",
       "      <td>42370</td>\n",
       "      <td>Pos Early</td>\n",
       "      <td>35</td>\n",
       "      <td>11966181</td>\n",
       "      <td>2906-39-0</td>\n",
       "      <td>C04322</td>\n",
       "      <td>HMDB0001301</td>\n",
       "    </tr>\n",
       "    <tr>\n",
       "      <th>1</th>\n",
       "      <td>spermidine</td>\n",
       "      <td>553.0</td>\n",
       "      <td>Amino Acid</td>\n",
       "      <td>Polyamine Metabolism</td>\n",
       "      <td>485</td>\n",
       "      <td>Pos Early</td>\n",
       "      <td>50</td>\n",
       "      <td>1102</td>\n",
       "      <td>124-20-9</td>\n",
       "      <td>C00315</td>\n",
       "      <td>HMDB0001257</td>\n",
       "    </tr>\n",
       "    <tr>\n",
       "      <th>2</th>\n",
       "      <td>1-methylnicotinamide</td>\n",
       "      <td>4336.0</td>\n",
       "      <td>Cofactors and Vitamins</td>\n",
       "      <td>Nicotinate and Nicotinamide Metabolism</td>\n",
       "      <td>27665</td>\n",
       "      <td>Pos Early</td>\n",
       "      <td>55</td>\n",
       "      <td>457</td>\n",
       "      <td>1005-24-9</td>\n",
       "      <td>C02918</td>\n",
       "      <td>HMDB0000699</td>\n",
       "    </tr>\n",
       "    <tr>\n",
       "      <th>3</th>\n",
       "      <td>12,13-DiHOME</td>\n",
       "      <td>2048.0</td>\n",
       "      <td>Lipid</td>\n",
       "      <td>Fatty Acid, Dihydroxy</td>\n",
       "      <td>38395</td>\n",
       "      <td>Neg</td>\n",
       "      <td>62</td>\n",
       "      <td>10236635</td>\n",
       "      <td>263399-35-5</td>\n",
       "      <td>C14829</td>\n",
       "      <td>HMDB0004705</td>\n",
       "    </tr>\n",
       "    <tr>\n",
       "      <th>4</th>\n",
       "      <td>5-hydroxyindoleacetate</td>\n",
       "      <td>295.0</td>\n",
       "      <td>Amino Acid</td>\n",
       "      <td>Tryptophan Metabolism</td>\n",
       "      <td>437</td>\n",
       "      <td>Neg</td>\n",
       "      <td>71</td>\n",
       "      <td>1826</td>\n",
       "      <td>54-16-0</td>\n",
       "      <td>C05635</td>\n",
       "      <td>HMDB0000763</td>\n",
       "    </tr>\n",
       "  </tbody>\n",
       "</table>\n",
       "</div>"
      ],
      "text/plain": [
       "                   BIOCHEMICAL  PATHWAY_SORTORDER           SUPER_PATHWAY  \\\n",
       "0  S-1-pyrroline-5-carboxylate               64.0              Amino Acid   \n",
       "1                   spermidine              553.0              Amino Acid   \n",
       "2         1-methylnicotinamide             4336.0  Cofactors and Vitamins   \n",
       "3                 12,13-DiHOME             2048.0                   Lipid   \n",
       "4       5-hydroxyindoleacetate              295.0              Amino Acid   \n",
       "\n",
       "                              SUB_PATHWAY  COMP_ID   PLATFORM  CHEMICAL_ID  \\\n",
       "0                    Glutamate Metabolism    42370  Pos Early           35   \n",
       "1                    Polyamine Metabolism      485  Pos Early           50   \n",
       "2  Nicotinate and Nicotinamide Metabolism    27665  Pos Early           55   \n",
       "3                   Fatty Acid, Dihydroxy    38395        Neg           62   \n",
       "4                   Tryptophan Metabolism      437        Neg           71   \n",
       "\n",
       "    PUBCHEM          CAS    KEGG      HMDB_ID  \n",
       "0  11966181    2906-39-0  C04322  HMDB0001301  \n",
       "1      1102     124-20-9  C00315  HMDB0001257  \n",
       "2       457    1005-24-9  C02918  HMDB0000699  \n",
       "3  10236635  263399-35-5  C14829  HMDB0004705  \n",
       "4      1826      54-16-0  C05635  HMDB0000763  "
      ]
     },
     "execution_count": 7,
     "metadata": {},
     "output_type": "execute_result"
    }
   ],
   "source": [
    "comp_df.head()"
   ]
  },
  {
   "cell_type": "markdown",
   "id": "538d234b",
   "metadata": {},
   "source": [
    "comp_df.shape"
   ]
  },
  {
   "cell_type": "code",
   "execution_count": 8,
   "id": "9fa2c9e1",
   "metadata": {},
   "outputs": [
    {
     "data": {
      "text/plain": [
       "(963,)"
      ]
     },
     "execution_count": 8,
     "metadata": {},
     "output_type": "execute_result"
    }
   ],
   "source": [
    "comp_df['COMP_ID'].unique().shape"
   ]
  },
  {
   "cell_type": "code",
   "execution_count": 9,
   "id": "00da1d6b",
   "metadata": {},
   "outputs": [
    {
     "data": {
      "text/plain": [
       "(968,)"
      ]
     },
     "execution_count": 9,
     "metadata": {},
     "output_type": "execute_result"
    }
   ],
   "source": [
    "met_df['Unnamed: 0'].unique().shape"
   ]
  },
  {
   "cell_type": "code",
   "execution_count": 10,
   "id": "7e3f60de",
   "metadata": {},
   "outputs": [
    {
     "data": {
      "text/plain": [
       "[33967, 38595, 53189, 52896, 52897]"
      ]
     },
     "execution_count": 10,
     "metadata": {},
     "output_type": "execute_result"
    }
   ],
   "source": [
    "# missing ids?\n",
    "missing_ids = [x for x in list(met_df['Unnamed: 0']) if x not in list(comp_df['COMP_ID'])]\n",
    "missing_ids"
   ]
  },
  {
   "cell_type": "code",
   "execution_count": 11,
   "id": "474a2307",
   "metadata": {},
   "outputs": [
    {
     "name": "stdout",
     "output_type": "stream",
     "text": [
      "33967 963    463\n",
      "dtype: int64\n",
      "38595 964    463\n",
      "dtype: int64\n",
      "53189 965    463\n",
      "dtype: int64\n",
      "52896 966    463\n",
      "dtype: int64\n",
      "52897 967    463\n",
      "dtype: int64\n"
     ]
    }
   ],
   "source": [
    "for x in missing_ids:\n",
    "    print(x, met_df[met_df['Unnamed: 0'] == x].isna().sum(axis=1))"
   ]
  },
  {
   "cell_type": "code",
   "execution_count": 12,
   "id": "82f03ae4",
   "metadata": {},
   "outputs": [
    {
     "data": {
      "text/plain": [
       "8"
      ]
     },
     "execution_count": 12,
     "metadata": {},
     "output_type": "execute_result"
    }
   ],
   "source": [
    "# rows with all NaN\n",
    "len([x for x in met_df.isna().sum(axis=1) if x == 463])"
   ]
  },
  {
   "cell_type": "code",
   "execution_count": 13,
   "id": "9eaf9565",
   "metadata": {},
   "outputs": [
    {
     "data": {
      "text/html": [
       "<div>\n",
       "<style scoped>\n",
       "    .dataframe tbody tr th:only-of-type {\n",
       "        vertical-align: middle;\n",
       "    }\n",
       "\n",
       "    .dataframe tbody tr th {\n",
       "        vertical-align: top;\n",
       "    }\n",
       "\n",
       "    .dataframe thead th {\n",
       "        text-align: right;\n",
       "    }\n",
       "</style>\n",
       "<table border=\"1\" class=\"dataframe\">\n",
       "  <thead>\n",
       "    <tr style=\"text-align: right;\">\n",
       "      <th></th>\n",
       "      <th>BAYL-08997</th>\n",
       "      <th>BAYL-08998</th>\n",
       "      <th>BAYL-08999</th>\n",
       "      <th>BAYL-09000</th>\n",
       "      <th>BAYL-09001</th>\n",
       "      <th>BAYL-09002</th>\n",
       "      <th>BAYL-09003</th>\n",
       "      <th>BAYL-09004</th>\n",
       "      <th>BAYL-09005</th>\n",
       "      <th>BAYL-09006</th>\n",
       "      <th>...</th>\n",
       "      <th>s_21944</th>\n",
       "      <th>s_22832</th>\n",
       "      <th>s_22842</th>\n",
       "      <th>s_22997</th>\n",
       "      <th>s_23003</th>\n",
       "      <th>s_23077</th>\n",
       "      <th>s_23123</th>\n",
       "      <th>s_22787</th>\n",
       "      <th>s_23294</th>\n",
       "      <th>s_73385</th>\n",
       "    </tr>\n",
       "  </thead>\n",
       "  <tbody>\n",
       "    <tr>\n",
       "      <th>42370</th>\n",
       "      <td>-1.259948</td>\n",
       "      <td>0.170557</td>\n",
       "      <td>0.814204</td>\n",
       "      <td>0.038958</td>\n",
       "      <td>-0.504466</td>\n",
       "      <td>-0.757901</td>\n",
       "      <td>-0.986865</td>\n",
       "      <td>0.993000</td>\n",
       "      <td>0.986541</td>\n",
       "      <td>0.000250</td>\n",
       "      <td>...</td>\n",
       "      <td>NaN</td>\n",
       "      <td>NaN</td>\n",
       "      <td>NaN</td>\n",
       "      <td>NaN</td>\n",
       "      <td>NaN</td>\n",
       "      <td>NaN</td>\n",
       "      <td>NaN</td>\n",
       "      <td>NaN</td>\n",
       "      <td>NaN</td>\n",
       "      <td>NaN</td>\n",
       "    </tr>\n",
       "    <tr>\n",
       "      <th>485</th>\n",
       "      <td>-0.610334</td>\n",
       "      <td>-0.811169</td>\n",
       "      <td>-0.554787</td>\n",
       "      <td>-0.603603</td>\n",
       "      <td>-0.549375</td>\n",
       "      <td>-0.631363</td>\n",
       "      <td>0.606882</td>\n",
       "      <td>1.238204</td>\n",
       "      <td>1.661840</td>\n",
       "      <td>-0.931552</td>\n",
       "      <td>...</td>\n",
       "      <td>-0.434904</td>\n",
       "      <td>-0.730548</td>\n",
       "      <td>-0.009508</td>\n",
       "      <td>-0.607362</td>\n",
       "      <td>0.219333</td>\n",
       "      <td>-0.767359</td>\n",
       "      <td>-0.421440</td>\n",
       "      <td>0.085019</td>\n",
       "      <td>-0.732586</td>\n",
       "      <td>-1.167603</td>\n",
       "    </tr>\n",
       "    <tr>\n",
       "      <th>27665</th>\n",
       "      <td>-1.201809</td>\n",
       "      <td>0.387317</td>\n",
       "      <td>-1.062940</td>\n",
       "      <td>0.525122</td>\n",
       "      <td>-0.973446</td>\n",
       "      <td>-0.253533</td>\n",
       "      <td>0.195547</td>\n",
       "      <td>0.769406</td>\n",
       "      <td>0.796718</td>\n",
       "      <td>-0.058625</td>\n",
       "      <td>...</td>\n",
       "      <td>0.825309</td>\n",
       "      <td>2.224161</td>\n",
       "      <td>0.182297</td>\n",
       "      <td>-0.697035</td>\n",
       "      <td>0.161942</td>\n",
       "      <td>-0.266286</td>\n",
       "      <td>0.775185</td>\n",
       "      <td>-0.640354</td>\n",
       "      <td>1.440073</td>\n",
       "      <td>0.458074</td>\n",
       "    </tr>\n",
       "    <tr>\n",
       "      <th>38395</th>\n",
       "      <td>-0.954275</td>\n",
       "      <td>-0.906589</td>\n",
       "      <td>4.929942</td>\n",
       "      <td>0.974496</td>\n",
       "      <td>-0.740805</td>\n",
       "      <td>0.642705</td>\n",
       "      <td>-0.293678</td>\n",
       "      <td>0.650630</td>\n",
       "      <td>1.008092</td>\n",
       "      <td>-0.778676</td>\n",
       "      <td>...</td>\n",
       "      <td>-1.505053</td>\n",
       "      <td>-1.112171</td>\n",
       "      <td>0.062801</td>\n",
       "      <td>-0.778621</td>\n",
       "      <td>0.574785</td>\n",
       "      <td>-0.251823</td>\n",
       "      <td>-0.822022</td>\n",
       "      <td>-1.332230</td>\n",
       "      <td>0.767016</td>\n",
       "      <td>-1.741468</td>\n",
       "    </tr>\n",
       "    <tr>\n",
       "      <th>437</th>\n",
       "      <td>0.240999</td>\n",
       "      <td>-0.454249</td>\n",
       "      <td>-0.000406</td>\n",
       "      <td>-0.542391</td>\n",
       "      <td>NaN</td>\n",
       "      <td>0.403722</td>\n",
       "      <td>-0.492163</td>\n",
       "      <td>0.252810</td>\n",
       "      <td>-0.517825</td>\n",
       "      <td>NaN</td>\n",
       "      <td>...</td>\n",
       "      <td>NaN</td>\n",
       "      <td>NaN</td>\n",
       "      <td>NaN</td>\n",
       "      <td>NaN</td>\n",
       "      <td>NaN</td>\n",
       "      <td>NaN</td>\n",
       "      <td>NaN</td>\n",
       "      <td>NaN</td>\n",
       "      <td>NaN</td>\n",
       "      <td>NaN</td>\n",
       "    </tr>\n",
       "  </tbody>\n",
       "</table>\n",
       "<p>5 rows × 463 columns</p>\n",
       "</div>"
      ],
      "text/plain": [
       "       BAYL-08997  BAYL-08998  BAYL-08999  BAYL-09000  BAYL-09001  BAYL-09002  \\\n",
       "42370   -1.259948    0.170557    0.814204    0.038958   -0.504466   -0.757901   \n",
       "485     -0.610334   -0.811169   -0.554787   -0.603603   -0.549375   -0.631363   \n",
       "27665   -1.201809    0.387317   -1.062940    0.525122   -0.973446   -0.253533   \n",
       "38395   -0.954275   -0.906589    4.929942    0.974496   -0.740805    0.642705   \n",
       "437      0.240999   -0.454249   -0.000406   -0.542391         NaN    0.403722   \n",
       "\n",
       "       BAYL-09003  BAYL-09004  BAYL-09005  BAYL-09006  ...   s_21944  \\\n",
       "42370   -0.986865    0.993000    0.986541    0.000250  ...       NaN   \n",
       "485      0.606882    1.238204    1.661840   -0.931552  ... -0.434904   \n",
       "27665    0.195547    0.769406    0.796718   -0.058625  ...  0.825309   \n",
       "38395   -0.293678    0.650630    1.008092   -0.778676  ... -1.505053   \n",
       "437     -0.492163    0.252810   -0.517825         NaN  ...       NaN   \n",
       "\n",
       "        s_22832   s_22842   s_22997   s_23003   s_23077   s_23123   s_22787  \\\n",
       "42370       NaN       NaN       NaN       NaN       NaN       NaN       NaN   \n",
       "485   -0.730548 -0.009508 -0.607362  0.219333 -0.767359 -0.421440  0.085019   \n",
       "27665  2.224161  0.182297 -0.697035  0.161942 -0.266286  0.775185 -0.640354   \n",
       "38395 -1.112171  0.062801 -0.778621  0.574785 -0.251823 -0.822022 -1.332230   \n",
       "437         NaN       NaN       NaN       NaN       NaN       NaN       NaN   \n",
       "\n",
       "        s_23294   s_73385  \n",
       "42370       NaN       NaN  \n",
       "485   -0.732586 -1.167603  \n",
       "27665  1.440073  0.458074  \n",
       "38395  0.767016 -1.741468  \n",
       "437         NaN       NaN  \n",
       "\n",
       "[5 rows x 463 columns]"
      ]
     },
     "execution_count": 13,
     "metadata": {},
     "output_type": "execute_result"
    }
   ],
   "source": [
    "met_df.set_index('Unnamed: 0', inplace=True)\n",
    "met_df.index.name = None\n",
    "met_df.head()"
   ]
  },
  {
   "cell_type": "code",
   "execution_count": 14,
   "id": "effa46fe",
   "metadata": {},
   "outputs": [],
   "source": [
    "# drop rows with all NaN values\n",
    "met_df.dropna(axis=0, how='all', inplace=True)"
   ]
  },
  {
   "cell_type": "code",
   "execution_count": 15,
   "id": "0ae39482",
   "metadata": {},
   "outputs": [
    {
     "data": {
      "text/plain": [
       "(960, 463)"
      ]
     },
     "execution_count": 15,
     "metadata": {},
     "output_type": "execute_result"
    }
   ],
   "source": [
    "met_df.shape"
   ]
  },
  {
   "cell_type": "code",
   "execution_count": 16,
   "id": "972964cd",
   "metadata": {},
   "outputs": [],
   "source": [
    "# drop rows containing more than 80% NaN values\n",
    "perc = 0.8\n",
    "min_count =  int((1 - perc)*met_df.shape[1] + 1)\n",
    "met_df.dropna(axis=0, thresh=min_count, inplace=True)"
   ]
  },
  {
   "cell_type": "code",
   "execution_count": 17,
   "id": "bc58c146",
   "metadata": {},
   "outputs": [
    {
     "data": {
      "text/plain": [
       "(948, 463)"
      ]
     },
     "execution_count": 17,
     "metadata": {},
     "output_type": "execute_result"
    }
   ],
   "source": [
    "met_df.shape"
   ]
  },
  {
   "cell_type": "code",
   "execution_count": 18,
   "id": "e9149811",
   "metadata": {},
   "outputs": [],
   "source": [
    "# fill missing z-scores\n",
    "met_df.fillna(0, inplace=True)"
   ]
  },
  {
   "cell_type": "code",
   "execution_count": 19,
   "id": "b4d9d042",
   "metadata": {},
   "outputs": [],
   "source": [
    "# features: metabolomics z-scores\n",
    "# samples: patients\n",
    "met_df = met_df.T"
   ]
  },
  {
   "cell_type": "code",
   "execution_count": 20,
   "id": "276b667b",
   "metadata": {},
   "outputs": [
    {
     "data": {
      "text/plain": [
       "(463, 948)"
      ]
     },
     "execution_count": 20,
     "metadata": {},
     "output_type": "execute_result"
    }
   ],
   "source": [
    "met_df.shape"
   ]
  },
  {
   "cell_type": "code",
   "execution_count": 21,
   "id": "d92fe82f",
   "metadata": {},
   "outputs": [
    {
     "data": {
      "text/html": [
       "<div>\n",
       "<style scoped>\n",
       "    .dataframe tbody tr th:only-of-type {\n",
       "        vertical-align: middle;\n",
       "    }\n",
       "\n",
       "    .dataframe tbody tr th {\n",
       "        vertical-align: top;\n",
       "    }\n",
       "\n",
       "    .dataframe thead th {\n",
       "        text-align: right;\n",
       "    }\n",
       "</style>\n",
       "<table border=\"1\" class=\"dataframe\">\n",
       "  <thead>\n",
       "    <tr style=\"text-align: right;\">\n",
       "      <th></th>\n",
       "      <th>42370</th>\n",
       "      <th>485</th>\n",
       "      <th>27665</th>\n",
       "      <th>38395</th>\n",
       "      <th>437</th>\n",
       "      <th>528</th>\n",
       "      <th>1417</th>\n",
       "      <th>1549</th>\n",
       "      <th>531</th>\n",
       "      <th>1414</th>\n",
       "      <th>...</th>\n",
       "      <th>53157</th>\n",
       "      <th>53266</th>\n",
       "      <th>53267</th>\n",
       "      <th>54840</th>\n",
       "      <th>57714</th>\n",
       "      <th>57716</th>\n",
       "      <th>57718</th>\n",
       "      <th>57719</th>\n",
       "      <th>57720</th>\n",
       "      <th>57754</th>\n",
       "    </tr>\n",
       "  </thead>\n",
       "  <tbody>\n",
       "    <tr>\n",
       "      <th>BAYL-08997</th>\n",
       "      <td>-1.259948</td>\n",
       "      <td>-0.610334</td>\n",
       "      <td>-1.201809</td>\n",
       "      <td>-0.954275</td>\n",
       "      <td>0.240999</td>\n",
       "      <td>-0.485987</td>\n",
       "      <td>0.598959</td>\n",
       "      <td>-0.286401</td>\n",
       "      <td>-1.043185</td>\n",
       "      <td>-0.660514</td>\n",
       "      <td>...</td>\n",
       "      <td>-1.094129</td>\n",
       "      <td>-0.419479</td>\n",
       "      <td>0.158619</td>\n",
       "      <td>-0.817640</td>\n",
       "      <td>1.120043</td>\n",
       "      <td>0.045789</td>\n",
       "      <td>0.201601</td>\n",
       "      <td>-0.039255</td>\n",
       "      <td>2.783415</td>\n",
       "      <td>-0.127840</td>\n",
       "    </tr>\n",
       "    <tr>\n",
       "      <th>BAYL-08998</th>\n",
       "      <td>0.170557</td>\n",
       "      <td>-0.811169</td>\n",
       "      <td>0.387317</td>\n",
       "      <td>-0.906589</td>\n",
       "      <td>-0.454249</td>\n",
       "      <td>-0.409053</td>\n",
       "      <td>0.612680</td>\n",
       "      <td>-0.315412</td>\n",
       "      <td>-1.095163</td>\n",
       "      <td>0.001887</td>\n",
       "      <td>...</td>\n",
       "      <td>-1.116107</td>\n",
       "      <td>0.000000</td>\n",
       "      <td>-0.424652</td>\n",
       "      <td>0.987125</td>\n",
       "      <td>-0.045571</td>\n",
       "      <td>0.295498</td>\n",
       "      <td>0.409790</td>\n",
       "      <td>-0.195962</td>\n",
       "      <td>1.987574</td>\n",
       "      <td>-0.160196</td>\n",
       "    </tr>\n",
       "    <tr>\n",
       "      <th>BAYL-08999</th>\n",
       "      <td>0.814204</td>\n",
       "      <td>-0.554787</td>\n",
       "      <td>-1.062940</td>\n",
       "      <td>4.929942</td>\n",
       "      <td>-0.000406</td>\n",
       "      <td>0.022588</td>\n",
       "      <td>3.050217</td>\n",
       "      <td>2.366699</td>\n",
       "      <td>1.132455</td>\n",
       "      <td>-0.142467</td>\n",
       "      <td>...</td>\n",
       "      <td>0.391963</td>\n",
       "      <td>0.284916</td>\n",
       "      <td>0.020418</td>\n",
       "      <td>-0.129573</td>\n",
       "      <td>-0.090421</td>\n",
       "      <td>0.118741</td>\n",
       "      <td>1.112410</td>\n",
       "      <td>-0.048789</td>\n",
       "      <td>1.794673</td>\n",
       "      <td>-0.226005</td>\n",
       "    </tr>\n",
       "    <tr>\n",
       "      <th>BAYL-09000</th>\n",
       "      <td>0.038958</td>\n",
       "      <td>-0.603603</td>\n",
       "      <td>0.525122</td>\n",
       "      <td>0.974496</td>\n",
       "      <td>-0.542391</td>\n",
       "      <td>-0.494779</td>\n",
       "      <td>-0.347355</td>\n",
       "      <td>-0.392808</td>\n",
       "      <td>-0.713237</td>\n",
       "      <td>-0.359097</td>\n",
       "      <td>...</td>\n",
       "      <td>-0.119144</td>\n",
       "      <td>-0.807474</td>\n",
       "      <td>1.317694</td>\n",
       "      <td>0.175748</td>\n",
       "      <td>1.241565</td>\n",
       "      <td>0.113926</td>\n",
       "      <td>-0.978284</td>\n",
       "      <td>-0.653111</td>\n",
       "      <td>0.000000</td>\n",
       "      <td>-0.063945</td>\n",
       "    </tr>\n",
       "    <tr>\n",
       "      <th>BAYL-09001</th>\n",
       "      <td>-0.504466</td>\n",
       "      <td>-0.549375</td>\n",
       "      <td>-0.973446</td>\n",
       "      <td>-0.740805</td>\n",
       "      <td>0.000000</td>\n",
       "      <td>-0.049422</td>\n",
       "      <td>-0.787278</td>\n",
       "      <td>-0.598359</td>\n",
       "      <td>-0.781751</td>\n",
       "      <td>-0.515097</td>\n",
       "      <td>...</td>\n",
       "      <td>-0.351091</td>\n",
       "      <td>0.000000</td>\n",
       "      <td>-0.405493</td>\n",
       "      <td>0.000000</td>\n",
       "      <td>0.297091</td>\n",
       "      <td>-0.581249</td>\n",
       "      <td>0.637026</td>\n",
       "      <td>-0.778015</td>\n",
       "      <td>0.829880</td>\n",
       "      <td>-0.017687</td>\n",
       "    </tr>\n",
       "  </tbody>\n",
       "</table>\n",
       "<p>5 rows × 948 columns</p>\n",
       "</div>"
      ],
      "text/plain": [
       "               42370     485       27665     38395     437       528    \\\n",
       "BAYL-08997 -1.259948 -0.610334 -1.201809 -0.954275  0.240999 -0.485987   \n",
       "BAYL-08998  0.170557 -0.811169  0.387317 -0.906589 -0.454249 -0.409053   \n",
       "BAYL-08999  0.814204 -0.554787 -1.062940  4.929942 -0.000406  0.022588   \n",
       "BAYL-09000  0.038958 -0.603603  0.525122  0.974496 -0.542391 -0.494779   \n",
       "BAYL-09001 -0.504466 -0.549375 -0.973446 -0.740805  0.000000 -0.049422   \n",
       "\n",
       "               1417      1549      531       1414   ...     53157     53266  \\\n",
       "BAYL-08997  0.598959 -0.286401 -1.043185 -0.660514  ... -1.094129 -0.419479   \n",
       "BAYL-08998  0.612680 -0.315412 -1.095163  0.001887  ... -1.116107  0.000000   \n",
       "BAYL-08999  3.050217  2.366699  1.132455 -0.142467  ...  0.391963  0.284916   \n",
       "BAYL-09000 -0.347355 -0.392808 -0.713237 -0.359097  ... -0.119144 -0.807474   \n",
       "BAYL-09001 -0.787278 -0.598359 -0.781751 -0.515097  ... -0.351091  0.000000   \n",
       "\n",
       "               53267     54840     57714     57716     57718     57719  \\\n",
       "BAYL-08997  0.158619 -0.817640  1.120043  0.045789  0.201601 -0.039255   \n",
       "BAYL-08998 -0.424652  0.987125 -0.045571  0.295498  0.409790 -0.195962   \n",
       "BAYL-08999  0.020418 -0.129573 -0.090421  0.118741  1.112410 -0.048789   \n",
       "BAYL-09000  1.317694  0.175748  1.241565  0.113926 -0.978284 -0.653111   \n",
       "BAYL-09001 -0.405493  0.000000  0.297091 -0.581249  0.637026 -0.778015   \n",
       "\n",
       "               57720     57754  \n",
       "BAYL-08997  2.783415 -0.127840  \n",
       "BAYL-08998  1.987574 -0.160196  \n",
       "BAYL-08999  1.794673 -0.226005  \n",
       "BAYL-09000  0.000000 -0.063945  \n",
       "BAYL-09001  0.829880 -0.017687  \n",
       "\n",
       "[5 rows x 948 columns]"
      ]
     },
     "execution_count": 21,
     "metadata": {},
     "output_type": "execute_result"
    }
   ],
   "source": [
    "met_df.head()"
   ]
  },
  {
   "cell_type": "code",
   "execution_count": null,
   "id": "30e19d9f",
   "metadata": {},
   "outputs": [],
   "source": []
  },
  {
   "cell_type": "code",
   "execution_count": null,
   "id": "532e10ea",
   "metadata": {},
   "outputs": [],
   "source": []
  },
  {
   "cell_type": "code",
   "execution_count": 22,
   "id": "5a25a8f3",
   "metadata": {},
   "outputs": [],
   "source": [
    "clin_df = pd.read_csv(\"./metabolomics/sampleAttr.csv\")"
   ]
  },
  {
   "cell_type": "code",
   "execution_count": 23,
   "id": "835278af",
   "metadata": {
    "scrolled": true
   },
   "outputs": [
    {
     "data": {
      "text/html": [
       "<div>\n",
       "<style scoped>\n",
       "    .dataframe tbody tr th:only-of-type {\n",
       "        vertical-align: middle;\n",
       "    }\n",
       "\n",
       "    .dataframe tbody tr th {\n",
       "        vertical-align: top;\n",
       "    }\n",
       "\n",
       "    .dataframe thead th {\n",
       "        text-align: right;\n",
       "    }\n",
       "</style>\n",
       "<table border=\"1\" class=\"dataframe\">\n",
       "  <thead>\n",
       "    <tr style=\"text-align: right;\">\n",
       "      <th></th>\n",
       "      <th>sIDs</th>\n",
       "      <th>sle</th>\n",
       "      <th>BErm</th>\n",
       "      <th>weight</th>\n",
       "      <th>conception</th>\n",
       "      <th>smoking</th>\n",
       "      <th>race</th>\n",
       "      <th>crl</th>\n",
       "      <th>pe</th>\n",
       "      <th>ASA</th>\n",
       "      <th>ptIDs</th>\n",
       "      <th>age</th>\n",
       "      <th>prev.pe</th>\n",
       "      <th>ga.w</th>\n",
       "      <th>consss_batch</th>\n",
       "      <th>ASA_tri_chr</th>\n",
       "      <th>STUDY</th>\n",
       "      <th>Compliance</th>\n",
       "      <th>trimester</th>\n",
       "      <th>height</th>\n",
       "    </tr>\n",
       "  </thead>\n",
       "  <tbody>\n",
       "    <tr>\n",
       "      <th>0</th>\n",
       "      <td>BAYL-08997</td>\n",
       "      <td>0</td>\n",
       "      <td>batch_2023</td>\n",
       "      <td>45.1</td>\n",
       "      <td>7</td>\n",
       "      <td>0</td>\n",
       "      <td>Chinese</td>\n",
       "      <td>55.3</td>\n",
       "      <td>1.0</td>\n",
       "      <td>True</td>\n",
       "      <td>S1_1_Ca</td>\n",
       "      <td>36.64887063655031</td>\n",
       "      <td>7</td>\n",
       "      <td>NaN</td>\n",
       "      <td>batch-2023</td>\n",
       "      <td>ASA - 1st Trimester</td>\n",
       "      <td>CHUK</td>\n",
       "      <td>94.444444</td>\n",
       "      <td>1</td>\n",
       "      <td>150</td>\n",
       "    </tr>\n",
       "    <tr>\n",
       "      <th>1</th>\n",
       "      <td>BAYL-08998</td>\n",
       "      <td>0</td>\n",
       "      <td>batch_2023</td>\n",
       "      <td>82.2</td>\n",
       "      <td>7</td>\n",
       "      <td>0</td>\n",
       "      <td>Chinese</td>\n",
       "      <td>63.1</td>\n",
       "      <td>1.0</td>\n",
       "      <td>True</td>\n",
       "      <td>S1_2_Ca</td>\n",
       "      <td>32.309377138945926</td>\n",
       "      <td>2</td>\n",
       "      <td>NaN</td>\n",
       "      <td>batch-2023</td>\n",
       "      <td>ASA - 1st Trimester</td>\n",
       "      <td>CHUK</td>\n",
       "      <td>94.267516</td>\n",
       "      <td>1</td>\n",
       "      <td>171</td>\n",
       "    </tr>\n",
       "    <tr>\n",
       "      <th>2</th>\n",
       "      <td>BAYL-08999</td>\n",
       "      <td>0</td>\n",
       "      <td>batch_2023</td>\n",
       "      <td>69.6</td>\n",
       "      <td>7</td>\n",
       "      <td>0</td>\n",
       "      <td>Chinese</td>\n",
       "      <td>58.8</td>\n",
       "      <td>0.0</td>\n",
       "      <td>True</td>\n",
       "      <td>S1_1_Co</td>\n",
       "      <td>43.90143737166324</td>\n",
       "      <td>7</td>\n",
       "      <td>NaN</td>\n",
       "      <td>batch-2023</td>\n",
       "      <td>ASA - 1st Trimester</td>\n",
       "      <td>CHUK</td>\n",
       "      <td>99.367089</td>\n",
       "      <td>1</td>\n",
       "      <td>161</td>\n",
       "    </tr>\n",
       "    <tr>\n",
       "      <th>3</th>\n",
       "      <td>BAYL-09000</td>\n",
       "      <td>0</td>\n",
       "      <td>batch_2023</td>\n",
       "      <td>51.4</td>\n",
       "      <td>7</td>\n",
       "      <td>0</td>\n",
       "      <td>Chinese</td>\n",
       "      <td>62.9</td>\n",
       "      <td>0.0</td>\n",
       "      <td>True</td>\n",
       "      <td>S1_2_Co</td>\n",
       "      <td>33.11430527036276</td>\n",
       "      <td>7</td>\n",
       "      <td>NaN</td>\n",
       "      <td>batch-2023</td>\n",
       "      <td>ASA - 1st Trimester</td>\n",
       "      <td>CHUK</td>\n",
       "      <td>98.684211</td>\n",
       "      <td>1</td>\n",
       "      <td>154</td>\n",
       "    </tr>\n",
       "    <tr>\n",
       "      <th>4</th>\n",
       "      <td>BAYL-09001</td>\n",
       "      <td>0</td>\n",
       "      <td>batch_2023</td>\n",
       "      <td>39.2</td>\n",
       "      <td>7</td>\n",
       "      <td>0</td>\n",
       "      <td>Chinese</td>\n",
       "      <td>45.3</td>\n",
       "      <td>0.0</td>\n",
       "      <td>True</td>\n",
       "      <td>S1_4_Co</td>\n",
       "      <td>24.32032854209445</td>\n",
       "      <td>7</td>\n",
       "      <td>NaN</td>\n",
       "      <td>batch-2023</td>\n",
       "      <td>ASA - 1st Trimester</td>\n",
       "      <td>CHUK</td>\n",
       "      <td>95.597484</td>\n",
       "      <td>1</td>\n",
       "      <td>161</td>\n",
       "    </tr>\n",
       "  </tbody>\n",
       "</table>\n",
       "</div>"
      ],
      "text/plain": [
       "         sIDs sle        BErm weight conception smoking     race   crl   pe  \\\n",
       "0  BAYL-08997   0  batch_2023   45.1          7       0  Chinese  55.3  1.0   \n",
       "1  BAYL-08998   0  batch_2023   82.2          7       0  Chinese  63.1  1.0   \n",
       "2  BAYL-08999   0  batch_2023   69.6          7       0  Chinese  58.8  0.0   \n",
       "3  BAYL-09000   0  batch_2023   51.4          7       0  Chinese  62.9  0.0   \n",
       "4  BAYL-09001   0  batch_2023   39.2          7       0  Chinese  45.3  0.0   \n",
       "\n",
       "    ASA    ptIDs                 age prev.pe  ga.w consss_batch  \\\n",
       "0  True  S1_1_Ca   36.64887063655031       7   NaN   batch-2023   \n",
       "1  True  S1_2_Ca  32.309377138945926       2   NaN   batch-2023   \n",
       "2  True  S1_1_Co   43.90143737166324       7   NaN   batch-2023   \n",
       "3  True  S1_2_Co   33.11430527036276       7   NaN   batch-2023   \n",
       "4  True  S1_4_Co   24.32032854209445       7   NaN   batch-2023   \n",
       "\n",
       "           ASA_tri_chr STUDY  Compliance  trimester height  \n",
       "0  ASA - 1st Trimester  CHUK   94.444444          1    150  \n",
       "1  ASA - 1st Trimester  CHUK   94.267516          1    171  \n",
       "2  ASA - 1st Trimester  CHUK   99.367089          1    161  \n",
       "3  ASA - 1st Trimester  CHUK   98.684211          1    154  \n",
       "4  ASA - 1st Trimester  CHUK   95.597484          1    161  "
      ]
     },
     "execution_count": 23,
     "metadata": {},
     "output_type": "execute_result"
    }
   ],
   "source": [
    "clin_df.head()"
   ]
  },
  {
   "cell_type": "code",
   "execution_count": 24,
   "id": "52cbce48",
   "metadata": {},
   "outputs": [
    {
     "data": {
      "text/plain": [
       "(463, 20)"
      ]
     },
     "execution_count": 24,
     "metadata": {},
     "output_type": "execute_result"
    }
   ],
   "source": [
    "clin_df.shape"
   ]
  },
  {
   "cell_type": "code",
   "execution_count": 25,
   "id": "4f208b9c",
   "metadata": {},
   "outputs": [
    {
     "data": {
      "text/plain": [
       "sIDs              0\n",
       "sle               0\n",
       "BErm              0\n",
       "weight            0\n",
       "conception        0\n",
       "smoking           0\n",
       "race              0\n",
       "crl               0\n",
       "pe                0\n",
       "ASA               0\n",
       "ptIDs             0\n",
       "age               0\n",
       "prev.pe           0\n",
       "ga.w            463\n",
       "consss_batch      0\n",
       "ASA_tri_chr       0\n",
       "STUDY             0\n",
       "Compliance        0\n",
       "trimester         0\n",
       "height            0\n",
       "dtype: int64"
      ]
     },
     "execution_count": 25,
     "metadata": {},
     "output_type": "execute_result"
    }
   ],
   "source": [
    "clin_df.isna().sum()"
   ]
  },
  {
   "cell_type": "code",
   "execution_count": 26,
   "id": "bf8ff764",
   "metadata": {},
   "outputs": [],
   "source": [
    "# ga.w -> all NaN\n",
    "clin_df.drop(['ga.w'], axis=1, inplace=True)"
   ]
  },
  {
   "cell_type": "code",
   "execution_count": 27,
   "id": "1404c0c6",
   "metadata": {},
   "outputs": [
    {
     "data": {
      "text/plain": [
       "(463, 19)"
      ]
     },
     "execution_count": 27,
     "metadata": {},
     "output_type": "execute_result"
    }
   ],
   "source": [
    "clin_df.shape"
   ]
  },
  {
   "cell_type": "code",
   "execution_count": null,
   "id": "3d9b3d1b",
   "metadata": {},
   "outputs": [],
   "source": []
  },
  {
   "cell_type": "markdown",
   "id": "6eb10ba2",
   "metadata": {},
   "source": [
    "### batch effect correction"
   ]
  },
  {
   "cell_type": "code",
   "execution_count": 28,
   "id": "d8762f8c",
   "metadata": {},
   "outputs": [
    {
     "data": {
      "text/plain": [
       "{'CHUK': 0, 'ASPRE_LR': 1, 'ASPRE_HR': 2, 'from-2015': 3}"
      ]
     },
     "execution_count": 28,
     "metadata": {},
     "output_type": "execute_result"
    }
   ],
   "source": [
    "batches = list(clin_df[\"STUDY\"].unique())\n",
    "batches_dict = {k:v for v, k in enumerate(batches)}\n",
    "batches_dict"
   ]
  },
  {
   "cell_type": "code",
   "execution_count": 29,
   "id": "c39335c6",
   "metadata": {},
   "outputs": [],
   "source": [
    "umap_model = umap.UMAP()\n",
    "umap_result = umap_model.fit_transform(met_df)"
   ]
  },
  {
   "cell_type": "code",
   "execution_count": 30,
   "id": "fe406a0f",
   "metadata": {},
   "outputs": [],
   "source": [
    "# !pip install seaborn\n",
    "import seaborn as sns"
   ]
  },
  {
   "cell_type": "code",
   "execution_count": 31,
   "id": "5888dcc1",
   "metadata": {},
   "outputs": [
    {
     "data": {
      "image/png": "[encoded data removed]",
      "text/plain": [
       "<Figure size 640x480 with 1 Axes>"
      ]
     },
     "metadata": {},
     "output_type": "display_data"
    }
   ],
   "source": [
    "sns.scatterplot(x=umap_result[:, 0], y=umap_result[:, 1], hue=clin_df['STUDY'].apply(lambda x: batches_dict[x]).values)\n",
    "plt.show()"
   ]
  },
  {
   "cell_type": "code",
   "execution_count": 32,
   "id": "4ee8847c",
   "metadata": {},
   "outputs": [],
   "source": [
    "# !pip install combat\n",
    "from combat.pycombat import pycombat"
   ]
  },
  {
   "cell_type": "code",
   "execution_count": 33,
   "id": "b1fda630",
   "metadata": {},
   "outputs": [
    {
     "name": "stdout",
     "output_type": "stream",
     "text": [
      "Found 4 batches.\n",
      "Adjusting for 0 covariate(s) or covariate level(s).\n",
      "Standardizing Data across genes.\n",
      "Fitting L/S model and finding priors.\n",
      "Finding parametric adjustments.\n",
      "Adjusting the Data\n"
     ]
    },
    {
     "name": "stderr",
     "output_type": "stream",
     "text": [
      "/home/lucija/.local/lib/python3.10/site-packages/combat/pycombat.py:159: RuntimeWarning: divide by zero encountered in divide\n",
      "  np.absolute(d_new-d_old)/d_old))  # maximum difference between new and old estimate\n"
     ]
    }
   ],
   "source": [
    "met_df_corrected = pycombat(met_df.T, clin_df['STUDY'].values).T"
   ]
  },
  {
   "cell_type": "code",
   "execution_count": 34,
   "id": "2fb77a78",
   "metadata": {},
   "outputs": [],
   "source": [
    "umap_result_corrected = umap_model.fit_transform(met_df_corrected)"
   ]
  },
  {
   "cell_type": "code",
   "execution_count": 35,
   "id": "10461003",
   "metadata": {},
   "outputs": [
    {
     "data": {
      "image/png": "[encoded data removed]",
      "text/plain": [
       "<Figure size 640x480 with 1 Axes>"
      ]
     },
     "metadata": {},
     "output_type": "display_data"
    }
   ],
   "source": [
    "sns.scatterplot(x=umap_result_corrected[:, 0], y=umap_result_corrected[:, 1], hue=clin_df['STUDY'].apply(lambda x: batches_dict[x]).values)\n",
    "plt.show()"
   ]
  },
  {
   "cell_type": "code",
   "execution_count": 36,
   "id": "216152a5",
   "metadata": {},
   "outputs": [],
   "source": [
    "# TODO: analyse outliers"
   ]
  },
  {
   "cell_type": "code",
   "execution_count": 37,
   "id": "74574345",
   "metadata": {},
   "outputs": [],
   "source": [
    "def find_outliers_IQR(df):\n",
    "    q1=df.quantile(0.25)\n",
    "    q3=df.quantile(0.75)\n",
    "    IQR=q3-q1\n",
    "    outliers = df[((df<(q1-1.5*IQR)) | (df>(q3+1.5*IQR)))]\n",
    "\n",
    "    return outliers"
   ]
  },
  {
   "cell_type": "code",
   "execution_count": 38,
   "id": "0b421244",
   "metadata": {
    "scrolled": true
   },
   "outputs": [
    {
     "data": {
      "text/html": [
       "<div>\n",
       "<style scoped>\n",
       "    .dataframe tbody tr th:only-of-type {\n",
       "        vertical-align: middle;\n",
       "    }\n",
       "\n",
       "    .dataframe tbody tr th {\n",
       "        vertical-align: top;\n",
       "    }\n",
       "\n",
       "    .dataframe thead th {\n",
       "        text-align: right;\n",
       "    }\n",
       "</style>\n",
       "<table border=\"1\" class=\"dataframe\">\n",
       "  <thead>\n",
       "    <tr style=\"text-align: right;\">\n",
       "      <th></th>\n",
       "      <th>0</th>\n",
       "      <th>1</th>\n",
       "    </tr>\n",
       "  </thead>\n",
       "  <tbody>\n",
       "  </tbody>\n",
       "</table>\n",
       "</div>"
      ],
      "text/plain": [
       "Empty DataFrame\n",
       "Columns: [0, 1]\n",
       "Index: []"
      ]
     },
     "execution_count": 38,
     "metadata": {},
     "output_type": "execute_result"
    }
   ],
   "source": [
    "outliers = find_outliers_IQR(pd.DataFrame(umap_result_corrected)).dropna(how='all')\n",
    "outliers"
   ]
  },
  {
   "cell_type": "code",
   "execution_count": 39,
   "id": "0895e994",
   "metadata": {},
   "outputs": [],
   "source": [
    "outliers = outliers.index"
   ]
  },
  {
   "cell_type": "code",
   "execution_count": 40,
   "id": "c7aecb95",
   "metadata": {},
   "outputs": [
    {
     "data": {
      "text/plain": [
       "[]"
      ]
     },
     "execution_count": 40,
     "metadata": {},
     "output_type": "execute_result"
    }
   ],
   "source": [
    "[x[0] for i, x in enumerate(umap_result_corrected) if i in outliers]"
   ]
  },
  {
   "cell_type": "code",
   "execution_count": 41,
   "id": "23dd5daf",
   "metadata": {},
   "outputs": [
    {
     "data": {
      "text/plain": [
       "[]"
      ]
     },
     "execution_count": 41,
     "metadata": {},
     "output_type": "execute_result"
    }
   ],
   "source": [
    "[x[1] for i, x in enumerate(umap_result_corrected) if i in outliers]"
   ]
  },
  {
   "cell_type": "code",
   "execution_count": null,
   "id": "249d9c95",
   "metadata": {},
   "outputs": [],
   "source": []
  },
  {
   "cell_type": "code",
   "execution_count": 42,
   "id": "e34fe7a0",
   "metadata": {
    "scrolled": false
   },
   "outputs": [
    {
     "data": {
      "text/html": [
       "<div>\n",
       "<style scoped>\n",
       "    .dataframe tbody tr th:only-of-type {\n",
       "        vertical-align: middle;\n",
       "    }\n",
       "\n",
       "    .dataframe tbody tr th {\n",
       "        vertical-align: top;\n",
       "    }\n",
       "\n",
       "    .dataframe thead th {\n",
       "        text-align: right;\n",
       "    }\n",
       "</style>\n",
       "<table border=\"1\" class=\"dataframe\">\n",
       "  <thead>\n",
       "    <tr style=\"text-align: right;\">\n",
       "      <th></th>\n",
       "      <th>42370</th>\n",
       "      <th>485</th>\n",
       "      <th>27665</th>\n",
       "      <th>38395</th>\n",
       "      <th>437</th>\n",
       "      <th>528</th>\n",
       "      <th>1417</th>\n",
       "      <th>1549</th>\n",
       "      <th>531</th>\n",
       "      <th>1414</th>\n",
       "      <th>...</th>\n",
       "      <th>53157</th>\n",
       "      <th>53266</th>\n",
       "      <th>53267</th>\n",
       "      <th>54840</th>\n",
       "      <th>57714</th>\n",
       "      <th>57716</th>\n",
       "      <th>57718</th>\n",
       "      <th>57719</th>\n",
       "      <th>57720</th>\n",
       "      <th>57754</th>\n",
       "    </tr>\n",
       "  </thead>\n",
       "  <tbody>\n",
       "  </tbody>\n",
       "</table>\n",
       "<p>0 rows × 948 columns</p>\n",
       "</div>"
      ],
      "text/plain": [
       "Empty DataFrame\n",
       "Columns: [42370, 485, 27665, 38395, 437, 528, 1417, 1549, 531, 1414, 22842, 1418, 3127, 38399, 1105, 1645, 1899, 1498, 37496, 2829, 42382, 32342, 1419, 37114, 558, 1110, 1638, 443, 1432, 32197, 566, 55, 2137, 1437, 542, 63, 34396, 1769, 513, 35637, 56, 17747, 1114, 15705, 17769, 1643, 36738, 587, 396, 58, 18476, 43802, 59, 1712, 590, 1123, 1124, 1125, 6146, 2132, 60, 1301, 1303, 1302, 1496, 1336, 594, 1358, 1493, 1505, 33447, 64, 42109, 598, 38271, 1898, 527, 1651, 1806, 1827, 1515, 1648, 2342, 2125, 1365, 1670, 606, 607, 57, 53, 1284, 54, 1649, 48152, 4968, 555, 3141, 1868, 48153, 5086, ...]\n",
       "Index: []\n",
       "\n",
       "[0 rows x 948 columns]"
      ]
     },
     "execution_count": 42,
     "metadata": {},
     "output_type": "execute_result"
    }
   ],
   "source": [
    "met_df_corrected.iloc[outliers]"
   ]
  },
  {
   "cell_type": "code",
   "execution_count": 43,
   "id": "12936e61",
   "metadata": {},
   "outputs": [
    {
     "data": {
      "text/html": [
       "<div>\n",
       "<style scoped>\n",
       "    .dataframe tbody tr th:only-of-type {\n",
       "        vertical-align: middle;\n",
       "    }\n",
       "\n",
       "    .dataframe tbody tr th {\n",
       "        vertical-align: top;\n",
       "    }\n",
       "\n",
       "    .dataframe thead th {\n",
       "        text-align: right;\n",
       "    }\n",
       "</style>\n",
       "<table border=\"1\" class=\"dataframe\">\n",
       "  <thead>\n",
       "    <tr style=\"text-align: right;\">\n",
       "      <th></th>\n",
       "      <th>sIDs</th>\n",
       "      <th>sle</th>\n",
       "      <th>BErm</th>\n",
       "      <th>weight</th>\n",
       "      <th>conception</th>\n",
       "      <th>smoking</th>\n",
       "      <th>race</th>\n",
       "      <th>crl</th>\n",
       "      <th>pe</th>\n",
       "      <th>ASA</th>\n",
       "      <th>ptIDs</th>\n",
       "      <th>age</th>\n",
       "      <th>prev.pe</th>\n",
       "      <th>consss_batch</th>\n",
       "      <th>ASA_tri_chr</th>\n",
       "      <th>STUDY</th>\n",
       "      <th>Compliance</th>\n",
       "      <th>trimester</th>\n",
       "      <th>height</th>\n",
       "    </tr>\n",
       "  </thead>\n",
       "  <tbody>\n",
       "  </tbody>\n",
       "</table>\n",
       "</div>"
      ],
      "text/plain": [
       "Empty DataFrame\n",
       "Columns: [sIDs, sle, BErm, weight, conception, smoking, race, crl, pe, ASA, ptIDs, age, prev.pe, consss_batch, ASA_tri_chr, STUDY, Compliance, trimester, height]\n",
       "Index: []"
      ]
     },
     "execution_count": 43,
     "metadata": {},
     "output_type": "execute_result"
    }
   ],
   "source": [
    "clin_df.iloc[outliers]"
   ]
  },
  {
   "cell_type": "code",
   "execution_count": 44,
   "id": "c821c025",
   "metadata": {},
   "outputs": [],
   "source": [
    "# FIX: uporediti vrednosti sa ostalim vrednostima..."
   ]
  },
  {
   "cell_type": "code",
   "execution_count": 45,
   "id": "2f4e20a0",
   "metadata": {},
   "outputs": [],
   "source": [
    "# [int(x) for x in clin_df['age']]\n",
    "# invalid literal for int() with base 10: '36.64887063655031'\n",
    "\n",
    "# [float(x) for x in clin_df['age']]\n",
    "# could not convert string to float: '30,3'\n",
    "\n",
    "clin_df['age'] = [float(x.replace(',', '.')) for x in clin_df['age']]"
   ]
  },
  {
   "cell_type": "code",
   "execution_count": 46,
   "id": "ace9e5b2",
   "metadata": {},
   "outputs": [
    {
     "data": {
      "text/plain": [
       "32.02567562972786"
      ]
     },
     "execution_count": 46,
     "metadata": {},
     "output_type": "execute_result"
    }
   ],
   "source": [
    "clin_df['age'].mean()"
   ]
  },
  {
   "cell_type": "code",
   "execution_count": 47,
   "id": "cca0e104",
   "metadata": {},
   "outputs": [
    {
     "data": {
      "text/html": [
       "<div>\n",
       "<style scoped>\n",
       "    .dataframe tbody tr th:only-of-type {\n",
       "        vertical-align: middle;\n",
       "    }\n",
       "\n",
       "    .dataframe tbody tr th {\n",
       "        vertical-align: top;\n",
       "    }\n",
       "\n",
       "    .dataframe thead th {\n",
       "        text-align: right;\n",
       "    }\n",
       "</style>\n",
       "<table border=\"1\" class=\"dataframe\">\n",
       "  <thead>\n",
       "    <tr style=\"text-align: right;\">\n",
       "      <th></th>\n",
       "      <th>42370</th>\n",
       "      <th>485</th>\n",
       "      <th>27665</th>\n",
       "      <th>38395</th>\n",
       "      <th>437</th>\n",
       "      <th>528</th>\n",
       "      <th>1417</th>\n",
       "      <th>1549</th>\n",
       "      <th>531</th>\n",
       "      <th>1414</th>\n",
       "      <th>...</th>\n",
       "      <th>53157</th>\n",
       "      <th>53266</th>\n",
       "      <th>53267</th>\n",
       "      <th>54840</th>\n",
       "      <th>57714</th>\n",
       "      <th>57716</th>\n",
       "      <th>57718</th>\n",
       "      <th>57719</th>\n",
       "      <th>57720</th>\n",
       "      <th>57754</th>\n",
       "    </tr>\n",
       "  </thead>\n",
       "  <tbody>\n",
       "    <tr>\n",
       "      <th>count</th>\n",
       "      <td>463.000000</td>\n",
       "      <td>463.000000</td>\n",
       "      <td>463.000000</td>\n",
       "      <td>463.000000</td>\n",
       "      <td>463.000000</td>\n",
       "      <td>463.000000</td>\n",
       "      <td>463.000000</td>\n",
       "      <td>463.000000</td>\n",
       "      <td>463.000000</td>\n",
       "      <td>463.000000</td>\n",
       "      <td>...</td>\n",
       "      <td>463.000000</td>\n",
       "      <td>463.000000</td>\n",
       "      <td>463.000000</td>\n",
       "      <td>463.000000</td>\n",
       "      <td>463.000000</td>\n",
       "      <td>463.000000</td>\n",
       "      <td>463.000000</td>\n",
       "      <td>463.000000</td>\n",
       "      <td>463.000000</td>\n",
       "      <td>463.000000</td>\n",
       "    </tr>\n",
       "    <tr>\n",
       "      <th>mean</th>\n",
       "      <td>-0.169408</td>\n",
       "      <td>0.121773</td>\n",
       "      <td>0.255868</td>\n",
       "      <td>-0.029823</td>\n",
       "      <td>-0.008549</td>\n",
       "      <td>0.085161</td>\n",
       "      <td>-0.065468</td>\n",
       "      <td>0.051058</td>\n",
       "      <td>-0.120977</td>\n",
       "      <td>0.007537</td>\n",
       "      <td>...</td>\n",
       "      <td>0.161086</td>\n",
       "      <td>-0.110067</td>\n",
       "      <td>-0.005973</td>\n",
       "      <td>0.032994</td>\n",
       "      <td>0.184562</td>\n",
       "      <td>-0.083637</td>\n",
       "      <td>0.127352</td>\n",
       "      <td>-0.012756</td>\n",
       "      <td>0.075989</td>\n",
       "      <td>-0.392151</td>\n",
       "    </tr>\n",
       "    <tr>\n",
       "      <th>std</th>\n",
       "      <td>0.722855</td>\n",
       "      <td>1.180095</td>\n",
       "      <td>0.914649</td>\n",
       "      <td>1.230802</td>\n",
       "      <td>0.685252</td>\n",
       "      <td>0.781680</td>\n",
       "      <td>0.850947</td>\n",
       "      <td>0.749957</td>\n",
       "      <td>0.736314</td>\n",
       "      <td>0.934548</td>\n",
       "      <td>...</td>\n",
       "      <td>0.866302</td>\n",
       "      <td>0.585713</td>\n",
       "      <td>0.904984</td>\n",
       "      <td>0.496395</td>\n",
       "      <td>0.819232</td>\n",
       "      <td>0.936270</td>\n",
       "      <td>0.901466</td>\n",
       "      <td>0.696530</td>\n",
       "      <td>0.844281</td>\n",
       "      <td>0.399632</td>\n",
       "    </tr>\n",
       "    <tr>\n",
       "      <th>min</th>\n",
       "      <td>-3.284586</td>\n",
       "      <td>-3.291761</td>\n",
       "      <td>-2.028656</td>\n",
       "      <td>-2.741620</td>\n",
       "      <td>-0.991647</td>\n",
       "      <td>-1.651266</td>\n",
       "      <td>-1.719936</td>\n",
       "      <td>-1.746115</td>\n",
       "      <td>-1.805253</td>\n",
       "      <td>-1.697495</td>\n",
       "      <td>...</td>\n",
       "      <td>-2.118387</td>\n",
       "      <td>-1.833170</td>\n",
       "      <td>-4.135007</td>\n",
       "      <td>-1.951304</td>\n",
       "      <td>-2.891681</td>\n",
       "      <td>-1.821759</td>\n",
       "      <td>-2.464369</td>\n",
       "      <td>-1.244519</td>\n",
       "      <td>-1.690018</td>\n",
       "      <td>-0.757510</td>\n",
       "    </tr>\n",
       "    <tr>\n",
       "      <th>25%</th>\n",
       "      <td>-0.675170</td>\n",
       "      <td>-0.501887</td>\n",
       "      <td>-0.370430</td>\n",
       "      <td>-0.689911</td>\n",
       "      <td>-0.350550</td>\n",
       "      <td>-0.338323</td>\n",
       "      <td>-0.644090</td>\n",
       "      <td>-0.452048</td>\n",
       "      <td>-0.576718</td>\n",
       "      <td>-0.527504</td>\n",
       "      <td>...</td>\n",
       "      <td>-0.409054</td>\n",
       "      <td>-0.414157</td>\n",
       "      <td>-0.555595</td>\n",
       "      <td>-0.079747</td>\n",
       "      <td>-0.374769</td>\n",
       "      <td>-0.624117</td>\n",
       "      <td>-0.485755</td>\n",
       "      <td>-0.412198</td>\n",
       "      <td>-0.510689</td>\n",
       "      <td>-0.516883</td>\n",
       "    </tr>\n",
       "    <tr>\n",
       "      <th>50%</th>\n",
       "      <td>-0.052360</td>\n",
       "      <td>-0.062688</td>\n",
       "      <td>0.056947</td>\n",
       "      <td>-0.292955</td>\n",
       "      <td>-0.073553</td>\n",
       "      <td>-0.067943</td>\n",
       "      <td>-0.239238</td>\n",
       "      <td>-0.108741</td>\n",
       "      <td>-0.231162</td>\n",
       "      <td>-0.149471</td>\n",
       "      <td>...</td>\n",
       "      <td>0.076183</td>\n",
       "      <td>-0.052062</td>\n",
       "      <td>-0.115364</td>\n",
       "      <td>0.032251</td>\n",
       "      <td>0.016471</td>\n",
       "      <td>-0.303543</td>\n",
       "      <td>-0.004064</td>\n",
       "      <td>-0.016027</td>\n",
       "      <td>-0.035259</td>\n",
       "      <td>-0.445395</td>\n",
       "    </tr>\n",
       "    <tr>\n",
       "      <th>75%</th>\n",
       "      <td>0.283100</td>\n",
       "      <td>0.383105</td>\n",
       "      <td>0.704828</td>\n",
       "      <td>0.390062</td>\n",
       "      <td>0.062577</td>\n",
       "      <td>0.362855</td>\n",
       "      <td>0.358531</td>\n",
       "      <td>0.427150</td>\n",
       "      <td>0.185287</td>\n",
       "      <td>0.299983</td>\n",
       "      <td>...</td>\n",
       "      <td>0.575315</td>\n",
       "      <td>-0.015330</td>\n",
       "      <td>0.346097</td>\n",
       "      <td>0.050890</td>\n",
       "      <td>0.674779</td>\n",
       "      <td>0.249727</td>\n",
       "      <td>0.619860</td>\n",
       "      <td>0.136293</td>\n",
       "      <td>0.592260</td>\n",
       "      <td>-0.354473</td>\n",
       "    </tr>\n",
       "    <tr>\n",
       "      <th>max</th>\n",
       "      <td>3.872999</td>\n",
       "      <td>8.944485</td>\n",
       "      <td>4.716328</td>\n",
       "      <td>15.520435</td>\n",
       "      <td>6.005495</td>\n",
       "      <td>4.707365</td>\n",
       "      <td>4.209447</td>\n",
       "      <td>3.809662</td>\n",
       "      <td>4.733485</td>\n",
       "      <td>6.229459</td>\n",
       "      <td>...</td>\n",
       "      <td>4.547988</td>\n",
       "      <td>5.426753</td>\n",
       "      <td>5.151726</td>\n",
       "      <td>3.073103</td>\n",
       "      <td>3.558295</td>\n",
       "      <td>8.825348</td>\n",
       "      <td>3.580585</td>\n",
       "      <td>6.308262</td>\n",
       "      <td>3.322493</td>\n",
       "      <td>6.745456</td>\n",
       "    </tr>\n",
       "  </tbody>\n",
       "</table>\n",
       "<p>8 rows × 948 columns</p>\n",
       "</div>"
      ],
      "text/plain": [
       "            42370       485         27665       38395       437         528    \\\n",
       "count  463.000000  463.000000  463.000000  463.000000  463.000000  463.000000   \n",
       "mean    -0.169408    0.121773    0.255868   -0.029823   -0.008549    0.085161   \n",
       "std      0.722855    1.180095    0.914649    1.230802    0.685252    0.781680   \n",
       "min     -3.284586   -3.291761   -2.028656   -2.741620   -0.991647   -1.651266   \n",
       "25%     -0.675170   -0.501887   -0.370430   -0.689911   -0.350550   -0.338323   \n",
       "50%     -0.052360   -0.062688    0.056947   -0.292955   -0.073553   -0.067943   \n",
       "75%      0.283100    0.383105    0.704828    0.390062    0.062577    0.362855   \n",
       "max      3.872999    8.944485    4.716328   15.520435    6.005495    4.707365   \n",
       "\n",
       "            1417        1549        531         1414   ...       53157  \\\n",
       "count  463.000000  463.000000  463.000000  463.000000  ...  463.000000   \n",
       "mean    -0.065468    0.051058   -0.120977    0.007537  ...    0.161086   \n",
       "std      0.850947    0.749957    0.736314    0.934548  ...    0.866302   \n",
       "min     -1.719936   -1.746115   -1.805253   -1.697495  ...   -2.118387   \n",
       "25%     -0.644090   -0.452048   -0.576718   -0.527504  ...   -0.409054   \n",
       "50%     -0.239238   -0.108741   -0.231162   -0.149471  ...    0.076183   \n",
       "75%      0.358531    0.427150    0.185287    0.299983  ...    0.575315   \n",
       "max      4.209447    3.809662    4.733485    6.229459  ...    4.547988   \n",
       "\n",
       "            53266       53267       54840       57714       57716       57718  \\\n",
       "count  463.000000  463.000000  463.000000  463.000000  463.000000  463.000000   \n",
       "mean    -0.110067   -0.005973    0.032994    0.184562   -0.083637    0.127352   \n",
       "std      0.585713    0.904984    0.496395    0.819232    0.936270    0.901466   \n",
       "min     -1.833170   -4.135007   -1.951304   -2.891681   -1.821759   -2.464369   \n",
       "25%     -0.414157   -0.555595   -0.079747   -0.374769   -0.624117   -0.485755   \n",
       "50%     -0.052062   -0.115364    0.032251    0.016471   -0.303543   -0.004064   \n",
       "75%     -0.015330    0.346097    0.050890    0.674779    0.249727    0.619860   \n",
       "max      5.426753    5.151726    3.073103    3.558295    8.825348    3.580585   \n",
       "\n",
       "            57719       57720       57754  \n",
       "count  463.000000  463.000000  463.000000  \n",
       "mean    -0.012756    0.075989   -0.392151  \n",
       "std      0.696530    0.844281    0.399632  \n",
       "min     -1.244519   -1.690018   -0.757510  \n",
       "25%     -0.412198   -0.510689   -0.516883  \n",
       "50%     -0.016027   -0.035259   -0.445395  \n",
       "75%      0.136293    0.592260   -0.354473  \n",
       "max      6.308262    3.322493    6.745456  \n",
       "\n",
       "[8 rows x 948 columns]"
      ]
     },
     "execution_count": 47,
     "metadata": {},
     "output_type": "execute_result"
    }
   ],
   "source": [
    "met_df_corrected.describe()"
   ]
  },
  {
   "cell_type": "code",
   "execution_count": null,
   "id": "7eea6fbc",
   "metadata": {},
   "outputs": [],
   "source": []
  },
  {
   "cell_type": "code",
   "execution_count": null,
   "id": "474d6eac",
   "metadata": {},
   "outputs": [],
   "source": []
  },
  {
   "cell_type": "code",
   "execution_count": null,
   "id": "9f8bcc0a",
   "metadata": {},
   "outputs": [],
   "source": []
  },
  {
   "cell_type": "markdown",
   "id": "0d85603e",
   "metadata": {},
   "source": [
    "#### selecting patients who do not take aspirin"
   ]
  },
  {
   "cell_type": "code",
   "execution_count": 48,
   "id": "154934b8",
   "metadata": {},
   "outputs": [
    {
     "data": {
      "text/html": [
       "<div>\n",
       "<style scoped>\n",
       "    .dataframe tbody tr th:only-of-type {\n",
       "        vertical-align: middle;\n",
       "    }\n",
       "\n",
       "    .dataframe tbody tr th {\n",
       "        vertical-align: top;\n",
       "    }\n",
       "\n",
       "    .dataframe thead th {\n",
       "        text-align: right;\n",
       "    }\n",
       "</style>\n",
       "<table border=\"1\" class=\"dataframe\">\n",
       "  <thead>\n",
       "    <tr style=\"text-align: right;\">\n",
       "      <th></th>\n",
       "      <th>42370</th>\n",
       "      <th>485</th>\n",
       "      <th>27665</th>\n",
       "      <th>38395</th>\n",
       "      <th>437</th>\n",
       "      <th>528</th>\n",
       "      <th>1417</th>\n",
       "      <th>1549</th>\n",
       "      <th>531</th>\n",
       "      <th>1414</th>\n",
       "      <th>...</th>\n",
       "      <th>53157</th>\n",
       "      <th>53266</th>\n",
       "      <th>53267</th>\n",
       "      <th>54840</th>\n",
       "      <th>57714</th>\n",
       "      <th>57716</th>\n",
       "      <th>57718</th>\n",
       "      <th>57719</th>\n",
       "      <th>57720</th>\n",
       "      <th>57754</th>\n",
       "    </tr>\n",
       "  </thead>\n",
       "  <tbody>\n",
       "    <tr>\n",
       "      <th>BAYL-08997</th>\n",
       "      <td>-1.146044</td>\n",
       "      <td>-0.963613</td>\n",
       "      <td>-0.919117</td>\n",
       "      <td>-0.762660</td>\n",
       "      <td>0.465701</td>\n",
       "      <td>-0.320001</td>\n",
       "      <td>0.233840</td>\n",
       "      <td>-0.532667</td>\n",
       "      <td>-1.168056</td>\n",
       "      <td>-0.883133</td>\n",
       "      <td>...</td>\n",
       "      <td>-0.964491</td>\n",
       "      <td>-0.431870</td>\n",
       "      <td>-0.018127</td>\n",
       "      <td>-0.782722</td>\n",
       "      <td>0.726292</td>\n",
       "      <td>-0.162880</td>\n",
       "      <td>0.073752</td>\n",
       "      <td>0.280983</td>\n",
       "      <td>2.018124</td>\n",
       "      <td>-0.304346</td>\n",
       "    </tr>\n",
       "    <tr>\n",
       "      <th>BAYL-08998</th>\n",
       "      <td>0.477460</td>\n",
       "      <td>-1.334107</td>\n",
       "      <td>0.560994</td>\n",
       "      <td>-0.731371</td>\n",
       "      <td>-0.380466</td>\n",
       "      <td>-0.160025</td>\n",
       "      <td>0.244165</td>\n",
       "      <td>-0.555093</td>\n",
       "      <td>-1.230067</td>\n",
       "      <td>0.303362</td>\n",
       "      <td>...</td>\n",
       "      <td>-0.989288</td>\n",
       "      <td>-0.052062</td>\n",
       "      <td>-0.493536</td>\n",
       "      <td>1.048180</td>\n",
       "      <td>-0.247548</td>\n",
       "      <td>0.127745</td>\n",
       "      <td>0.257907</td>\n",
       "      <td>0.127953</td>\n",
       "      <td>1.356468</td>\n",
       "      <td>-0.354117</td>\n",
       "    </tr>\n",
       "    <tr>\n",
       "      <th>BAYL-08999</th>\n",
       "      <td>1.207946</td>\n",
       "      <td>-0.861143</td>\n",
       "      <td>-0.789775</td>\n",
       "      <td>3.098316</td>\n",
       "      <td>0.171894</td>\n",
       "      <td>0.737533</td>\n",
       "      <td>2.078369</td>\n",
       "      <td>1.518216</td>\n",
       "      <td>1.427540</td>\n",
       "      <td>0.044795</td>\n",
       "      <td>...</td>\n",
       "      <td>0.712233</td>\n",
       "      <td>0.205910</td>\n",
       "      <td>-0.130771</td>\n",
       "      <td>-0.084690</td>\n",
       "      <td>-0.285019</td>\n",
       "      <td>-0.077975</td>\n",
       "      <td>0.879417</td>\n",
       "      <td>0.271672</td>\n",
       "      <td>1.196092</td>\n",
       "      <td>-0.455349</td>\n",
       "    </tr>\n",
       "    <tr>\n",
       "      <th>BAYL-09000</th>\n",
       "      <td>0.328107</td>\n",
       "      <td>-0.951196</td>\n",
       "      <td>0.689346</td>\n",
       "      <td>0.502918</td>\n",
       "      <td>-0.487740</td>\n",
       "      <td>-0.338284</td>\n",
       "      <td>-0.478244</td>\n",
       "      <td>-0.614922</td>\n",
       "      <td>-0.774419</td>\n",
       "      <td>-0.343233</td>\n",
       "      <td>...</td>\n",
       "      <td>0.135561</td>\n",
       "      <td>-0.783174</td>\n",
       "      <td>0.926604</td>\n",
       "      <td>0.225052</td>\n",
       "      <td>0.827820</td>\n",
       "      <td>-0.083578</td>\n",
       "      <td>-0.969927</td>\n",
       "      <td>-0.318468</td>\n",
       "      <td>-0.295987</td>\n",
       "      <td>-0.206059</td>\n",
       "    </tr>\n",
       "    <tr>\n",
       "      <th>BAYL-09001</th>\n",
       "      <td>-0.288635</td>\n",
       "      <td>-0.851158</td>\n",
       "      <td>-0.706419</td>\n",
       "      <td>-0.622590</td>\n",
       "      <td>0.172388</td>\n",
       "      <td>0.587794</td>\n",
       "      <td>-0.809278</td>\n",
       "      <td>-0.773815</td>\n",
       "      <td>-0.856158</td>\n",
       "      <td>-0.622660</td>\n",
       "      <td>...</td>\n",
       "      <td>-0.126139</td>\n",
       "      <td>-0.052062</td>\n",
       "      <td>-0.477920</td>\n",
       "      <td>0.046759</td>\n",
       "      <td>0.038737</td>\n",
       "      <td>-0.892661</td>\n",
       "      <td>0.458911</td>\n",
       "      <td>-0.440441</td>\n",
       "      <td>0.393969</td>\n",
       "      <td>-0.134903</td>\n",
       "    </tr>\n",
       "  </tbody>\n",
       "</table>\n",
       "<p>5 rows × 948 columns</p>\n",
       "</div>"
      ],
      "text/plain": [
       "               42370     485       27665     38395     437       528    \\\n",
       "BAYL-08997 -1.146044 -0.963613 -0.919117 -0.762660  0.465701 -0.320001   \n",
       "BAYL-08998  0.477460 -1.334107  0.560994 -0.731371 -0.380466 -0.160025   \n",
       "BAYL-08999  1.207946 -0.861143 -0.789775  3.098316  0.171894  0.737533   \n",
       "BAYL-09000  0.328107 -0.951196  0.689346  0.502918 -0.487740 -0.338284   \n",
       "BAYL-09001 -0.288635 -0.851158 -0.706419 -0.622590  0.172388  0.587794   \n",
       "\n",
       "               1417      1549      531       1414   ...     53157     53266  \\\n",
       "BAYL-08997  0.233840 -0.532667 -1.168056 -0.883133  ... -0.964491 -0.431870   \n",
       "BAYL-08998  0.244165 -0.555093 -1.230067  0.303362  ... -0.989288 -0.052062   \n",
       "BAYL-08999  2.078369  1.518216  1.427540  0.044795  ...  0.712233  0.205910   \n",
       "BAYL-09000 -0.478244 -0.614922 -0.774419 -0.343233  ...  0.135561 -0.783174   \n",
       "BAYL-09001 -0.809278 -0.773815 -0.856158 -0.622660  ... -0.126139 -0.052062   \n",
       "\n",
       "               53267     54840     57714     57716     57718     57719  \\\n",
       "BAYL-08997 -0.018127 -0.782722  0.726292 -0.162880  0.073752  0.280983   \n",
       "BAYL-08998 -0.493536  1.048180 -0.247548  0.127745  0.257907  0.127953   \n",
       "BAYL-08999 -0.130771 -0.084690 -0.285019 -0.077975  0.879417  0.271672   \n",
       "BAYL-09000  0.926604  0.225052  0.827820 -0.083578 -0.969927 -0.318468   \n",
       "BAYL-09001 -0.477920  0.046759  0.038737 -0.892661  0.458911 -0.440441   \n",
       "\n",
       "               57720     57754  \n",
       "BAYL-08997  2.018124 -0.304346  \n",
       "BAYL-08998  1.356468 -0.354117  \n",
       "BAYL-08999  1.196092 -0.455349  \n",
       "BAYL-09000 -0.295987 -0.206059  \n",
       "BAYL-09001  0.393969 -0.134903  \n",
       "\n",
       "[5 rows x 948 columns]"
      ]
     },
     "execution_count": 48,
     "metadata": {},
     "output_type": "execute_result"
    }
   ],
   "source": [
    "met_df_corrected.head()"
   ]
  },
  {
   "cell_type": "code",
   "execution_count": 49,
   "id": "5c74652e",
   "metadata": {},
   "outputs": [
    {
     "data": {
      "text/plain": [
       "Index(['BAYL-08997', 'BAYL-08998', 'BAYL-08999', 'BAYL-09000', 'BAYL-09001',\n",
       "       'BAYL-09002', 'BAYL-09003', 'BAYL-09004', 'BAYL-09005', 'BAYL-09006',\n",
       "       ...\n",
       "       's_21944', 's_22832', 's_22842', 's_22997', 's_23003', 's_23077',\n",
       "       's_23123', 's_22787', 's_23294', 's_73385'],\n",
       "      dtype='object', length=463)"
      ]
     },
     "execution_count": 49,
     "metadata": {},
     "output_type": "execute_result"
    }
   ],
   "source": [
    "met_df_corrected.index"
   ]
  },
  {
   "cell_type": "code",
   "execution_count": 50,
   "id": "3621680b",
   "metadata": {},
   "outputs": [
    {
     "data": {
      "text/html": [
       "<div>\n",
       "<style scoped>\n",
       "    .dataframe tbody tr th:only-of-type {\n",
       "        vertical-align: middle;\n",
       "    }\n",
       "\n",
       "    .dataframe tbody tr th {\n",
       "        vertical-align: top;\n",
       "    }\n",
       "\n",
       "    .dataframe thead th {\n",
       "        text-align: right;\n",
       "    }\n",
       "</style>\n",
       "<table border=\"1\" class=\"dataframe\">\n",
       "  <thead>\n",
       "    <tr style=\"text-align: right;\">\n",
       "      <th></th>\n",
       "      <th>pe</th>\n",
       "      <th>ASA</th>\n",
       "    </tr>\n",
       "  </thead>\n",
       "  <tbody>\n",
       "    <tr>\n",
       "      <th>BAYL-08997</th>\n",
       "      <td>1.0</td>\n",
       "      <td>True</td>\n",
       "    </tr>\n",
       "    <tr>\n",
       "      <th>BAYL-08998</th>\n",
       "      <td>1.0</td>\n",
       "      <td>True</td>\n",
       "    </tr>\n",
       "    <tr>\n",
       "      <th>BAYL-08999</th>\n",
       "      <td>0.0</td>\n",
       "      <td>True</td>\n",
       "    </tr>\n",
       "    <tr>\n",
       "      <th>BAYL-09000</th>\n",
       "      <td>0.0</td>\n",
       "      <td>True</td>\n",
       "    </tr>\n",
       "    <tr>\n",
       "      <th>BAYL-09001</th>\n",
       "      <td>0.0</td>\n",
       "      <td>True</td>\n",
       "    </tr>\n",
       "    <tr>\n",
       "      <th>...</th>\n",
       "      <td>...</td>\n",
       "      <td>...</td>\n",
       "    </tr>\n",
       "    <tr>\n",
       "      <th>s_23077</th>\n",
       "      <td>0.0</td>\n",
       "      <td>False</td>\n",
       "    </tr>\n",
       "    <tr>\n",
       "      <th>s_23123</th>\n",
       "      <td>0.0</td>\n",
       "      <td>False</td>\n",
       "    </tr>\n",
       "    <tr>\n",
       "      <th>s_22787</th>\n",
       "      <td>0.0</td>\n",
       "      <td>False</td>\n",
       "    </tr>\n",
       "    <tr>\n",
       "      <th>s_23294</th>\n",
       "      <td>0.0</td>\n",
       "      <td>False</td>\n",
       "    </tr>\n",
       "    <tr>\n",
       "      <th>s_73385</th>\n",
       "      <td>1.0</td>\n",
       "      <td>False</td>\n",
       "    </tr>\n",
       "  </tbody>\n",
       "</table>\n",
       "<p>463 rows × 2 columns</p>\n",
       "</div>"
      ],
      "text/plain": [
       "             pe    ASA\n",
       "BAYL-08997  1.0   True\n",
       "BAYL-08998  1.0   True\n",
       "BAYL-08999  0.0   True\n",
       "BAYL-09000  0.0   True\n",
       "BAYL-09001  0.0   True\n",
       "...         ...    ...\n",
       "s_23077     0.0  False\n",
       "s_23123     0.0  False\n",
       "s_22787     0.0  False\n",
       "s_23294     0.0  False\n",
       "s_73385     1.0  False\n",
       "\n",
       "[463 rows x 2 columns]"
      ]
     },
     "execution_count": 50,
     "metadata": {},
     "output_type": "execute_result"
    }
   ],
   "source": [
    "# pe: preeclampsia (1/0)\n",
    "# ASA: aspirin (True/False)\n",
    "target = clin_df[['pe', 'ASA']]\n",
    "target.index = met_df.index\n",
    "target"
   ]
  },
  {
   "cell_type": "code",
   "execution_count": 51,
   "id": "32641066",
   "metadata": {},
   "outputs": [],
   "source": [
    "df = met_df_corrected.join(target)"
   ]
  },
  {
   "cell_type": "code",
   "execution_count": 52,
   "id": "e50fa0ab",
   "metadata": {},
   "outputs": [
    {
     "data": {
      "text/html": [
       "<div>\n",
       "<style scoped>\n",
       "    .dataframe tbody tr th:only-of-type {\n",
       "        vertical-align: middle;\n",
       "    }\n",
       "\n",
       "    .dataframe tbody tr th {\n",
       "        vertical-align: top;\n",
       "    }\n",
       "\n",
       "    .dataframe thead th {\n",
       "        text-align: right;\n",
       "    }\n",
       "</style>\n",
       "<table border=\"1\" class=\"dataframe\">\n",
       "  <thead>\n",
       "    <tr style=\"text-align: right;\">\n",
       "      <th></th>\n",
       "      <th>42370</th>\n",
       "      <th>485</th>\n",
       "      <th>27665</th>\n",
       "      <th>38395</th>\n",
       "      <th>437</th>\n",
       "      <th>528</th>\n",
       "      <th>1417</th>\n",
       "      <th>1549</th>\n",
       "      <th>531</th>\n",
       "      <th>1414</th>\n",
       "      <th>...</th>\n",
       "      <th>53267</th>\n",
       "      <th>54840</th>\n",
       "      <th>57714</th>\n",
       "      <th>57716</th>\n",
       "      <th>57718</th>\n",
       "      <th>57719</th>\n",
       "      <th>57720</th>\n",
       "      <th>57754</th>\n",
       "      <th>pe</th>\n",
       "      <th>ASA</th>\n",
       "    </tr>\n",
       "  </thead>\n",
       "  <tbody>\n",
       "    <tr>\n",
       "      <th>BAYL-08997</th>\n",
       "      <td>-1.146044</td>\n",
       "      <td>-0.963613</td>\n",
       "      <td>-0.919117</td>\n",
       "      <td>-0.762660</td>\n",
       "      <td>0.465701</td>\n",
       "      <td>-0.320001</td>\n",
       "      <td>0.233840</td>\n",
       "      <td>-0.532667</td>\n",
       "      <td>-1.168056</td>\n",
       "      <td>-0.883133</td>\n",
       "      <td>...</td>\n",
       "      <td>-0.018127</td>\n",
       "      <td>-0.782722</td>\n",
       "      <td>0.726292</td>\n",
       "      <td>-0.162880</td>\n",
       "      <td>0.073752</td>\n",
       "      <td>0.280983</td>\n",
       "      <td>2.018124</td>\n",
       "      <td>-0.304346</td>\n",
       "      <td>1.0</td>\n",
       "      <td>True</td>\n",
       "    </tr>\n",
       "    <tr>\n",
       "      <th>BAYL-08998</th>\n",
       "      <td>0.477460</td>\n",
       "      <td>-1.334107</td>\n",
       "      <td>0.560994</td>\n",
       "      <td>-0.731371</td>\n",
       "      <td>-0.380466</td>\n",
       "      <td>-0.160025</td>\n",
       "      <td>0.244165</td>\n",
       "      <td>-0.555093</td>\n",
       "      <td>-1.230067</td>\n",
       "      <td>0.303362</td>\n",
       "      <td>...</td>\n",
       "      <td>-0.493536</td>\n",
       "      <td>1.048180</td>\n",
       "      <td>-0.247548</td>\n",
       "      <td>0.127745</td>\n",
       "      <td>0.257907</td>\n",
       "      <td>0.127953</td>\n",
       "      <td>1.356468</td>\n",
       "      <td>-0.354117</td>\n",
       "      <td>1.0</td>\n",
       "      <td>True</td>\n",
       "    </tr>\n",
       "    <tr>\n",
       "      <th>BAYL-08999</th>\n",
       "      <td>1.207946</td>\n",
       "      <td>-0.861143</td>\n",
       "      <td>-0.789775</td>\n",
       "      <td>3.098316</td>\n",
       "      <td>0.171894</td>\n",
       "      <td>0.737533</td>\n",
       "      <td>2.078369</td>\n",
       "      <td>1.518216</td>\n",
       "      <td>1.427540</td>\n",
       "      <td>0.044795</td>\n",
       "      <td>...</td>\n",
       "      <td>-0.130771</td>\n",
       "      <td>-0.084690</td>\n",
       "      <td>-0.285019</td>\n",
       "      <td>-0.077975</td>\n",
       "      <td>0.879417</td>\n",
       "      <td>0.271672</td>\n",
       "      <td>1.196092</td>\n",
       "      <td>-0.455349</td>\n",
       "      <td>0.0</td>\n",
       "      <td>True</td>\n",
       "    </tr>\n",
       "    <tr>\n",
       "      <th>BAYL-09000</th>\n",
       "      <td>0.328107</td>\n",
       "      <td>-0.951196</td>\n",
       "      <td>0.689346</td>\n",
       "      <td>0.502918</td>\n",
       "      <td>-0.487740</td>\n",
       "      <td>-0.338284</td>\n",
       "      <td>-0.478244</td>\n",
       "      <td>-0.614922</td>\n",
       "      <td>-0.774419</td>\n",
       "      <td>-0.343233</td>\n",
       "      <td>...</td>\n",
       "      <td>0.926604</td>\n",
       "      <td>0.225052</td>\n",
       "      <td>0.827820</td>\n",
       "      <td>-0.083578</td>\n",
       "      <td>-0.969927</td>\n",
       "      <td>-0.318468</td>\n",
       "      <td>-0.295987</td>\n",
       "      <td>-0.206059</td>\n",
       "      <td>0.0</td>\n",
       "      <td>True</td>\n",
       "    </tr>\n",
       "    <tr>\n",
       "      <th>BAYL-09001</th>\n",
       "      <td>-0.288635</td>\n",
       "      <td>-0.851158</td>\n",
       "      <td>-0.706419</td>\n",
       "      <td>-0.622590</td>\n",
       "      <td>0.172388</td>\n",
       "      <td>0.587794</td>\n",
       "      <td>-0.809278</td>\n",
       "      <td>-0.773815</td>\n",
       "      <td>-0.856158</td>\n",
       "      <td>-0.622660</td>\n",
       "      <td>...</td>\n",
       "      <td>-0.477920</td>\n",
       "      <td>0.046759</td>\n",
       "      <td>0.038737</td>\n",
       "      <td>-0.892661</td>\n",
       "      <td>0.458911</td>\n",
       "      <td>-0.440441</td>\n",
       "      <td>0.393969</td>\n",
       "      <td>-0.134903</td>\n",
       "      <td>0.0</td>\n",
       "      <td>True</td>\n",
       "    </tr>\n",
       "  </tbody>\n",
       "</table>\n",
       "<p>5 rows × 950 columns</p>\n",
       "</div>"
      ],
      "text/plain": [
       "               42370       485     27665     38395       437       528  \\\n",
       "BAYL-08997 -1.146044 -0.963613 -0.919117 -0.762660  0.465701 -0.320001   \n",
       "BAYL-08998  0.477460 -1.334107  0.560994 -0.731371 -0.380466 -0.160025   \n",
       "BAYL-08999  1.207946 -0.861143 -0.789775  3.098316  0.171894  0.737533   \n",
       "BAYL-09000  0.328107 -0.951196  0.689346  0.502918 -0.487740 -0.338284   \n",
       "BAYL-09001 -0.288635 -0.851158 -0.706419 -0.622590  0.172388  0.587794   \n",
       "\n",
       "                1417      1549       531      1414  ...     53267     54840  \\\n",
       "BAYL-08997  0.233840 -0.532667 -1.168056 -0.883133  ... -0.018127 -0.782722   \n",
       "BAYL-08998  0.244165 -0.555093 -1.230067  0.303362  ... -0.493536  1.048180   \n",
       "BAYL-08999  2.078369  1.518216  1.427540  0.044795  ... -0.130771 -0.084690   \n",
       "BAYL-09000 -0.478244 -0.614922 -0.774419 -0.343233  ...  0.926604  0.225052   \n",
       "BAYL-09001 -0.809278 -0.773815 -0.856158 -0.622660  ... -0.477920  0.046759   \n",
       "\n",
       "               57714     57716     57718     57719     57720     57754   pe  \\\n",
       "BAYL-08997  0.726292 -0.162880  0.073752  0.280983  2.018124 -0.304346  1.0   \n",
       "BAYL-08998 -0.247548  0.127745  0.257907  0.127953  1.356468 -0.354117  1.0   \n",
       "BAYL-08999 -0.285019 -0.077975  0.879417  0.271672  1.196092 -0.455349  0.0   \n",
       "BAYL-09000  0.827820 -0.083578 -0.969927 -0.318468 -0.295987 -0.206059  0.0   \n",
       "BAYL-09001  0.038737 -0.892661  0.458911 -0.440441  0.393969 -0.134903  0.0   \n",
       "\n",
       "             ASA  \n",
       "BAYL-08997  True  \n",
       "BAYL-08998  True  \n",
       "BAYL-08999  True  \n",
       "BAYL-09000  True  \n",
       "BAYL-09001  True  \n",
       "\n",
       "[5 rows x 950 columns]"
      ]
     },
     "execution_count": 52,
     "metadata": {},
     "output_type": "execute_result"
    }
   ],
   "source": [
    "df.head()"
   ]
  },
  {
   "cell_type": "code",
   "execution_count": 53,
   "id": "8435c117",
   "metadata": {},
   "outputs": [],
   "source": [
    "df = df[df['ASA'] == False].copy(deep=True)"
   ]
  },
  {
   "cell_type": "code",
   "execution_count": 54,
   "id": "3990de77",
   "metadata": {},
   "outputs": [
    {
     "data": {
      "text/plain": [
       "(312, 950)"
      ]
     },
     "execution_count": 54,
     "metadata": {},
     "output_type": "execute_result"
    }
   ],
   "source": [
    "df.shape"
   ]
  },
  {
   "cell_type": "code",
   "execution_count": 55,
   "id": "d3888555",
   "metadata": {},
   "outputs": [],
   "source": [
    "df.drop(['ASA'], axis = 1, inplace=True)"
   ]
  },
  {
   "cell_type": "code",
   "execution_count": 56,
   "id": "4326e138",
   "metadata": {
    "scrolled": true
   },
   "outputs": [
    {
     "data": {
      "text/html": [
       "<div>\n",
       "<style scoped>\n",
       "    .dataframe tbody tr th:only-of-type {\n",
       "        vertical-align: middle;\n",
       "    }\n",
       "\n",
       "    .dataframe tbody tr th {\n",
       "        vertical-align: top;\n",
       "    }\n",
       "\n",
       "    .dataframe thead th {\n",
       "        text-align: right;\n",
       "    }\n",
       "</style>\n",
       "<table border=\"1\" class=\"dataframe\">\n",
       "  <thead>\n",
       "    <tr style=\"text-align: right;\">\n",
       "      <th></th>\n",
       "      <th>42370</th>\n",
       "      <th>485</th>\n",
       "      <th>27665</th>\n",
       "      <th>38395</th>\n",
       "      <th>437</th>\n",
       "      <th>528</th>\n",
       "      <th>1417</th>\n",
       "      <th>1549</th>\n",
       "      <th>531</th>\n",
       "      <th>1414</th>\n",
       "      <th>...</th>\n",
       "      <th>53266</th>\n",
       "      <th>53267</th>\n",
       "      <th>54840</th>\n",
       "      <th>57714</th>\n",
       "      <th>57716</th>\n",
       "      <th>57718</th>\n",
       "      <th>57719</th>\n",
       "      <th>57720</th>\n",
       "      <th>57754</th>\n",
       "      <th>pe</th>\n",
       "    </tr>\n",
       "  </thead>\n",
       "  <tbody>\n",
       "    <tr>\n",
       "      <th>BAYL-09014</th>\n",
       "      <td>0.187195</td>\n",
       "      <td>-0.411608</td>\n",
       "      <td>-0.201654</td>\n",
       "      <td>-0.086973</td>\n",
       "      <td>-0.309109</td>\n",
       "      <td>-0.203433</td>\n",
       "      <td>-0.713625</td>\n",
       "      <td>-0.778418</td>\n",
       "      <td>-1.113101</td>\n",
       "      <td>-0.866871</td>\n",
       "      <td>...</td>\n",
       "      <td>-0.106908</td>\n",
       "      <td>-1.411424</td>\n",
       "      <td>0.30259</td>\n",
       "      <td>-0.360792</td>\n",
       "      <td>-0.172929</td>\n",
       "      <td>-0.611234</td>\n",
       "      <td>-0.480311</td>\n",
       "      <td>-0.812788</td>\n",
       "      <td>-0.482809</td>\n",
       "      <td>0.0</td>\n",
       "    </tr>\n",
       "    <tr>\n",
       "      <th>BAYL-09015</th>\n",
       "      <td>0.116498</td>\n",
       "      <td>0.383105</td>\n",
       "      <td>-0.360268</td>\n",
       "      <td>-0.463560</td>\n",
       "      <td>6.005495</td>\n",
       "      <td>4.367434</td>\n",
       "      <td>-1.694316</td>\n",
       "      <td>-0.689994</td>\n",
       "      <td>-0.512699</td>\n",
       "      <td>-0.901225</td>\n",
       "      <td>...</td>\n",
       "      <td>-0.106908</td>\n",
       "      <td>-0.639404</td>\n",
       "      <td>0.05089</td>\n",
       "      <td>-0.294085</td>\n",
       "      <td>0.396847</td>\n",
       "      <td>-0.657205</td>\n",
       "      <td>-0.432585</td>\n",
       "      <td>0.152489</td>\n",
       "      <td>-0.483516</td>\n",
       "      <td>0.0</td>\n",
       "    </tr>\n",
       "    <tr>\n",
       "      <th>BAYL-09016</th>\n",
       "      <td>0.328494</td>\n",
       "      <td>-0.351793</td>\n",
       "      <td>0.032687</td>\n",
       "      <td>0.278353</td>\n",
       "      <td>-0.466042</td>\n",
       "      <td>0.347924</td>\n",
       "      <td>-0.919203</td>\n",
       "      <td>-0.611164</td>\n",
       "      <td>-0.401548</td>\n",
       "      <td>-0.738094</td>\n",
       "      <td>...</td>\n",
       "      <td>-0.106908</td>\n",
       "      <td>-0.399493</td>\n",
       "      <td>0.05089</td>\n",
       "      <td>-0.130459</td>\n",
       "      <td>0.353794</td>\n",
       "      <td>-0.724256</td>\n",
       "      <td>0.272478</td>\n",
       "      <td>0.152489</td>\n",
       "      <td>0.023825</td>\n",
       "      <td>0.0</td>\n",
       "    </tr>\n",
       "    <tr>\n",
       "      <th>BAYL-09017</th>\n",
       "      <td>0.372754</td>\n",
       "      <td>0.223826</td>\n",
       "      <td>-0.084264</td>\n",
       "      <td>0.468975</td>\n",
       "      <td>-0.299095</td>\n",
       "      <td>0.116690</td>\n",
       "      <td>0.917165</td>\n",
       "      <td>-0.641642</td>\n",
       "      <td>-0.458021</td>\n",
       "      <td>-0.464570</td>\n",
       "      <td>...</td>\n",
       "      <td>-0.106908</td>\n",
       "      <td>-0.905314</td>\n",
       "      <td>0.05089</td>\n",
       "      <td>-0.527920</td>\n",
       "      <td>0.345362</td>\n",
       "      <td>0.399237</td>\n",
       "      <td>0.137705</td>\n",
       "      <td>0.152489</td>\n",
       "      <td>-0.399870</td>\n",
       "      <td>0.0</td>\n",
       "    </tr>\n",
       "    <tr>\n",
       "      <th>BAYL-09018</th>\n",
       "      <td>0.103126</td>\n",
       "      <td>0.523683</td>\n",
       "      <td>-0.238103</td>\n",
       "      <td>-1.071461</td>\n",
       "      <td>-0.336122</td>\n",
       "      <td>0.168030</td>\n",
       "      <td>0.032885</td>\n",
       "      <td>0.054229</td>\n",
       "      <td>0.430654</td>\n",
       "      <td>-0.579905</td>\n",
       "      <td>...</td>\n",
       "      <td>-0.403598</td>\n",
       "      <td>-0.138321</td>\n",
       "      <td>0.05089</td>\n",
       "      <td>-0.435343</td>\n",
       "      <td>1.017162</td>\n",
       "      <td>1.103591</td>\n",
       "      <td>0.000695</td>\n",
       "      <td>0.152489</td>\n",
       "      <td>-0.308875</td>\n",
       "      <td>0.0</td>\n",
       "    </tr>\n",
       "  </tbody>\n",
       "</table>\n",
       "<p>5 rows × 949 columns</p>\n",
       "</div>"
      ],
      "text/plain": [
       "               42370       485     27665     38395       437       528  \\\n",
       "BAYL-09014  0.187195 -0.411608 -0.201654 -0.086973 -0.309109 -0.203433   \n",
       "BAYL-09015  0.116498  0.383105 -0.360268 -0.463560  6.005495  4.367434   \n",
       "BAYL-09016  0.328494 -0.351793  0.032687  0.278353 -0.466042  0.347924   \n",
       "BAYL-09017  0.372754  0.223826 -0.084264  0.468975 -0.299095  0.116690   \n",
       "BAYL-09018  0.103126  0.523683 -0.238103 -1.071461 -0.336122  0.168030   \n",
       "\n",
       "                1417      1549       531      1414  ...     53266     53267  \\\n",
       "BAYL-09014 -0.713625 -0.778418 -1.113101 -0.866871  ... -0.106908 -1.411424   \n",
       "BAYL-09015 -1.694316 -0.689994 -0.512699 -0.901225  ... -0.106908 -0.639404   \n",
       "BAYL-09016 -0.919203 -0.611164 -0.401548 -0.738094  ... -0.106908 -0.399493   \n",
       "BAYL-09017  0.917165 -0.641642 -0.458021 -0.464570  ... -0.106908 -0.905314   \n",
       "BAYL-09018  0.032885  0.054229  0.430654 -0.579905  ... -0.403598 -0.138321   \n",
       "\n",
       "              54840     57714     57716     57718     57719     57720  \\\n",
       "BAYL-09014  0.30259 -0.360792 -0.172929 -0.611234 -0.480311 -0.812788   \n",
       "BAYL-09015  0.05089 -0.294085  0.396847 -0.657205 -0.432585  0.152489   \n",
       "BAYL-09016  0.05089 -0.130459  0.353794 -0.724256  0.272478  0.152489   \n",
       "BAYL-09017  0.05089 -0.527920  0.345362  0.399237  0.137705  0.152489   \n",
       "BAYL-09018  0.05089 -0.435343  1.017162  1.103591  0.000695  0.152489   \n",
       "\n",
       "               57754   pe  \n",
       "BAYL-09014 -0.482809  0.0  \n",
       "BAYL-09015 -0.483516  0.0  \n",
       "BAYL-09016  0.023825  0.0  \n",
       "BAYL-09017 -0.399870  0.0  \n",
       "BAYL-09018 -0.308875  0.0  \n",
       "\n",
       "[5 rows x 949 columns]"
      ]
     },
     "execution_count": 56,
     "metadata": {},
     "output_type": "execute_result"
    }
   ],
   "source": [
    "df.head()"
   ]
  },
  {
   "cell_type": "code",
   "execution_count": 57,
   "id": "a7064cd3",
   "metadata": {},
   "outputs": [
    {
     "data": {
      "text/plain": [
       "BAYL-09014    0.0\n",
       "BAYL-09015    0.0\n",
       "BAYL-09016    0.0\n",
       "BAYL-09017    0.0\n",
       "BAYL-09018    0.0\n",
       "             ... \n",
       "s_23077       0.0\n",
       "s_23123       0.0\n",
       "s_22787       0.0\n",
       "s_23294       0.0\n",
       "s_73385       1.0\n",
       "Name: pe, Length: 312, dtype: float64"
      ]
     },
     "execution_count": 57,
     "metadata": {},
     "output_type": "execute_result"
    }
   ],
   "source": [
    "target = df['pe']\n",
    "df.drop(['pe'], axis=1, inplace=True)\n",
    "target"
   ]
  },
  {
   "cell_type": "code",
   "execution_count": 58,
   "id": "68e3bd8d",
   "metadata": {
    "scrolled": true
   },
   "outputs": [
    {
     "data": {
      "text/plain": [
       "array([215,  97])"
      ]
     },
     "execution_count": 58,
     "metadata": {},
     "output_type": "execute_result"
    }
   ],
   "source": [
    "np.bincount(target)"
   ]
  },
  {
   "cell_type": "code",
   "execution_count": 59,
   "id": "e8c922ea",
   "metadata": {
    "scrolled": true
   },
   "outputs": [
    {
     "data": {
      "text/html": [
       "<div>\n",
       "<style scoped>\n",
       "    .dataframe tbody tr th:only-of-type {\n",
       "        vertical-align: middle;\n",
       "    }\n",
       "\n",
       "    .dataframe tbody tr th {\n",
       "        vertical-align: top;\n",
       "    }\n",
       "\n",
       "    .dataframe thead th {\n",
       "        text-align: right;\n",
       "    }\n",
       "</style>\n",
       "<table border=\"1\" class=\"dataframe\">\n",
       "  <thead>\n",
       "    <tr style=\"text-align: right;\">\n",
       "      <th></th>\n",
       "      <th>42370</th>\n",
       "      <th>485</th>\n",
       "      <th>27665</th>\n",
       "      <th>38395</th>\n",
       "      <th>437</th>\n",
       "      <th>528</th>\n",
       "      <th>1417</th>\n",
       "      <th>1549</th>\n",
       "      <th>531</th>\n",
       "      <th>1414</th>\n",
       "      <th>...</th>\n",
       "      <th>53157</th>\n",
       "      <th>53266</th>\n",
       "      <th>53267</th>\n",
       "      <th>54840</th>\n",
       "      <th>57714</th>\n",
       "      <th>57716</th>\n",
       "      <th>57718</th>\n",
       "      <th>57719</th>\n",
       "      <th>57720</th>\n",
       "      <th>57754</th>\n",
       "    </tr>\n",
       "  </thead>\n",
       "  <tbody>\n",
       "    <tr>\n",
       "      <th>BAYL-09014</th>\n",
       "      <td>0.187195</td>\n",
       "      <td>-0.411608</td>\n",
       "      <td>-0.201654</td>\n",
       "      <td>-0.086973</td>\n",
       "      <td>-0.309109</td>\n",
       "      <td>-0.203433</td>\n",
       "      <td>-0.713625</td>\n",
       "      <td>-0.778418</td>\n",
       "      <td>-1.113101</td>\n",
       "      <td>-0.866871</td>\n",
       "      <td>...</td>\n",
       "      <td>-0.143234</td>\n",
       "      <td>-0.106908</td>\n",
       "      <td>-1.411424</td>\n",
       "      <td>0.30259</td>\n",
       "      <td>-0.360792</td>\n",
       "      <td>-0.172929</td>\n",
       "      <td>-0.611234</td>\n",
       "      <td>-0.480311</td>\n",
       "      <td>-0.812788</td>\n",
       "      <td>-0.482809</td>\n",
       "    </tr>\n",
       "    <tr>\n",
       "      <th>BAYL-09015</th>\n",
       "      <td>0.116498</td>\n",
       "      <td>0.383105</td>\n",
       "      <td>-0.360268</td>\n",
       "      <td>-0.463560</td>\n",
       "      <td>6.005495</td>\n",
       "      <td>4.367434</td>\n",
       "      <td>-1.694316</td>\n",
       "      <td>-0.689994</td>\n",
       "      <td>-0.512699</td>\n",
       "      <td>-0.901225</td>\n",
       "      <td>...</td>\n",
       "      <td>-0.166551</td>\n",
       "      <td>-0.106908</td>\n",
       "      <td>-0.639404</td>\n",
       "      <td>0.05089</td>\n",
       "      <td>-0.294085</td>\n",
       "      <td>0.396847</td>\n",
       "      <td>-0.657205</td>\n",
       "      <td>-0.432585</td>\n",
       "      <td>0.152489</td>\n",
       "      <td>-0.483516</td>\n",
       "    </tr>\n",
       "    <tr>\n",
       "      <th>BAYL-09016</th>\n",
       "      <td>0.328494</td>\n",
       "      <td>-0.351793</td>\n",
       "      <td>0.032687</td>\n",
       "      <td>0.278353</td>\n",
       "      <td>-0.466042</td>\n",
       "      <td>0.347924</td>\n",
       "      <td>-0.919203</td>\n",
       "      <td>-0.611164</td>\n",
       "      <td>-0.401548</td>\n",
       "      <td>-0.738094</td>\n",
       "      <td>...</td>\n",
       "      <td>0.077473</td>\n",
       "      <td>-0.106908</td>\n",
       "      <td>-0.399493</td>\n",
       "      <td>0.05089</td>\n",
       "      <td>-0.130459</td>\n",
       "      <td>0.353794</td>\n",
       "      <td>-0.724256</td>\n",
       "      <td>0.272478</td>\n",
       "      <td>0.152489</td>\n",
       "      <td>0.023825</td>\n",
       "    </tr>\n",
       "    <tr>\n",
       "      <th>BAYL-09017</th>\n",
       "      <td>0.372754</td>\n",
       "      <td>0.223826</td>\n",
       "      <td>-0.084264</td>\n",
       "      <td>0.468975</td>\n",
       "      <td>-0.299095</td>\n",
       "      <td>0.116690</td>\n",
       "      <td>0.917165</td>\n",
       "      <td>-0.641642</td>\n",
       "      <td>-0.458021</td>\n",
       "      <td>-0.464570</td>\n",
       "      <td>...</td>\n",
       "      <td>1.807032</td>\n",
       "      <td>-0.106908</td>\n",
       "      <td>-0.905314</td>\n",
       "      <td>0.05089</td>\n",
       "      <td>-0.527920</td>\n",
       "      <td>0.345362</td>\n",
       "      <td>0.399237</td>\n",
       "      <td>0.137705</td>\n",
       "      <td>0.152489</td>\n",
       "      <td>-0.399870</td>\n",
       "    </tr>\n",
       "    <tr>\n",
       "      <th>BAYL-09018</th>\n",
       "      <td>0.103126</td>\n",
       "      <td>0.523683</td>\n",
       "      <td>-0.238103</td>\n",
       "      <td>-1.071461</td>\n",
       "      <td>-0.336122</td>\n",
       "      <td>0.168030</td>\n",
       "      <td>0.032885</td>\n",
       "      <td>0.054229</td>\n",
       "      <td>0.430654</td>\n",
       "      <td>-0.579905</td>\n",
       "      <td>...</td>\n",
       "      <td>-0.358738</td>\n",
       "      <td>-0.403598</td>\n",
       "      <td>-0.138321</td>\n",
       "      <td>0.05089</td>\n",
       "      <td>-0.435343</td>\n",
       "      <td>1.017162</td>\n",
       "      <td>1.103591</td>\n",
       "      <td>0.000695</td>\n",
       "      <td>0.152489</td>\n",
       "      <td>-0.308875</td>\n",
       "    </tr>\n",
       "  </tbody>\n",
       "</table>\n",
       "<p>5 rows × 948 columns</p>\n",
       "</div>"
      ],
      "text/plain": [
       "               42370     485       27665     38395     437       528    \\\n",
       "BAYL-09014  0.187195 -0.411608 -0.201654 -0.086973 -0.309109 -0.203433   \n",
       "BAYL-09015  0.116498  0.383105 -0.360268 -0.463560  6.005495  4.367434   \n",
       "BAYL-09016  0.328494 -0.351793  0.032687  0.278353 -0.466042  0.347924   \n",
       "BAYL-09017  0.372754  0.223826 -0.084264  0.468975 -0.299095  0.116690   \n",
       "BAYL-09018  0.103126  0.523683 -0.238103 -1.071461 -0.336122  0.168030   \n",
       "\n",
       "               1417      1549      531       1414   ...     53157     53266  \\\n",
       "BAYL-09014 -0.713625 -0.778418 -1.113101 -0.866871  ... -0.143234 -0.106908   \n",
       "BAYL-09015 -1.694316 -0.689994 -0.512699 -0.901225  ... -0.166551 -0.106908   \n",
       "BAYL-09016 -0.919203 -0.611164 -0.401548 -0.738094  ...  0.077473 -0.106908   \n",
       "BAYL-09017  0.917165 -0.641642 -0.458021 -0.464570  ...  1.807032 -0.106908   \n",
       "BAYL-09018  0.032885  0.054229  0.430654 -0.579905  ... -0.358738 -0.403598   \n",
       "\n",
       "               53267    54840     57714     57716     57718     57719  \\\n",
       "BAYL-09014 -1.411424  0.30259 -0.360792 -0.172929 -0.611234 -0.480311   \n",
       "BAYL-09015 -0.639404  0.05089 -0.294085  0.396847 -0.657205 -0.432585   \n",
       "BAYL-09016 -0.399493  0.05089 -0.130459  0.353794 -0.724256  0.272478   \n",
       "BAYL-09017 -0.905314  0.05089 -0.527920  0.345362  0.399237  0.137705   \n",
       "BAYL-09018 -0.138321  0.05089 -0.435343  1.017162  1.103591  0.000695   \n",
       "\n",
       "               57720     57754  \n",
       "BAYL-09014 -0.812788 -0.482809  \n",
       "BAYL-09015  0.152489 -0.483516  \n",
       "BAYL-09016  0.152489  0.023825  \n",
       "BAYL-09017  0.152489 -0.399870  \n",
       "BAYL-09018  0.152489 -0.308875  \n",
       "\n",
       "[5 rows x 948 columns]"
      ]
     },
     "execution_count": 59,
     "metadata": {},
     "output_type": "execute_result"
    }
   ],
   "source": [
    "df.head()"
   ]
  },
  {
   "cell_type": "code",
   "execution_count": null,
   "id": "19f80eb5",
   "metadata": {},
   "outputs": [],
   "source": []
  },
  {
   "cell_type": "code",
   "execution_count": 60,
   "id": "3a1702f2",
   "metadata": {},
   "outputs": [
    {
     "data": {
      "text/html": [
       "<div>\n",
       "<style scoped>\n",
       "    .dataframe tbody tr th:only-of-type {\n",
       "        vertical-align: middle;\n",
       "    }\n",
       "\n",
       "    .dataframe tbody tr th {\n",
       "        vertical-align: top;\n",
       "    }\n",
       "\n",
       "    .dataframe thead th {\n",
       "        text-align: right;\n",
       "    }\n",
       "</style>\n",
       "<table border=\"1\" class=\"dataframe\">\n",
       "  <thead>\n",
       "    <tr style=\"text-align: right;\">\n",
       "      <th></th>\n",
       "      <th>42370</th>\n",
       "      <th>485</th>\n",
       "      <th>27665</th>\n",
       "      <th>38395</th>\n",
       "      <th>437</th>\n",
       "      <th>528</th>\n",
       "      <th>1417</th>\n",
       "      <th>1549</th>\n",
       "      <th>531</th>\n",
       "      <th>1414</th>\n",
       "      <th>...</th>\n",
       "      <th>53157</th>\n",
       "      <th>53266</th>\n",
       "      <th>53267</th>\n",
       "      <th>54840</th>\n",
       "      <th>57714</th>\n",
       "      <th>57716</th>\n",
       "      <th>57718</th>\n",
       "      <th>57719</th>\n",
       "      <th>57720</th>\n",
       "      <th>57754</th>\n",
       "    </tr>\n",
       "  </thead>\n",
       "  <tbody>\n",
       "    <tr>\n",
       "      <th>BAYL-09014</th>\n",
       "      <td>0.187195</td>\n",
       "      <td>-0.411608</td>\n",
       "      <td>-0.201654</td>\n",
       "      <td>-0.086973</td>\n",
       "      <td>-0.309109</td>\n",
       "      <td>-0.203433</td>\n",
       "      <td>-0.713625</td>\n",
       "      <td>-0.778418</td>\n",
       "      <td>-1.113101</td>\n",
       "      <td>-0.866871</td>\n",
       "      <td>...</td>\n",
       "      <td>-0.143234</td>\n",
       "      <td>-0.106908</td>\n",
       "      <td>-1.411424</td>\n",
       "      <td>0.302590</td>\n",
       "      <td>-0.360792</td>\n",
       "      <td>-0.172929</td>\n",
       "      <td>-0.611234</td>\n",
       "      <td>-0.480311</td>\n",
       "      <td>-0.812788</td>\n",
       "      <td>-0.482809</td>\n",
       "    </tr>\n",
       "    <tr>\n",
       "      <th>BAYL-09015</th>\n",
       "      <td>0.116498</td>\n",
       "      <td>0.383105</td>\n",
       "      <td>-0.360268</td>\n",
       "      <td>-0.463560</td>\n",
       "      <td>6.005495</td>\n",
       "      <td>4.367434</td>\n",
       "      <td>-1.694316</td>\n",
       "      <td>-0.689994</td>\n",
       "      <td>-0.512699</td>\n",
       "      <td>-0.901225</td>\n",
       "      <td>...</td>\n",
       "      <td>-0.166551</td>\n",
       "      <td>-0.106908</td>\n",
       "      <td>-0.639404</td>\n",
       "      <td>0.050890</td>\n",
       "      <td>-0.294085</td>\n",
       "      <td>0.396847</td>\n",
       "      <td>-0.657205</td>\n",
       "      <td>-0.432585</td>\n",
       "      <td>0.152489</td>\n",
       "      <td>-0.483516</td>\n",
       "    </tr>\n",
       "    <tr>\n",
       "      <th>BAYL-09016</th>\n",
       "      <td>0.328494</td>\n",
       "      <td>-0.351793</td>\n",
       "      <td>0.032687</td>\n",
       "      <td>0.278353</td>\n",
       "      <td>-0.466042</td>\n",
       "      <td>0.347924</td>\n",
       "      <td>-0.919203</td>\n",
       "      <td>-0.611164</td>\n",
       "      <td>-0.401548</td>\n",
       "      <td>-0.738094</td>\n",
       "      <td>...</td>\n",
       "      <td>0.077473</td>\n",
       "      <td>-0.106908</td>\n",
       "      <td>-0.399493</td>\n",
       "      <td>0.050890</td>\n",
       "      <td>-0.130459</td>\n",
       "      <td>0.353794</td>\n",
       "      <td>-0.724256</td>\n",
       "      <td>0.272478</td>\n",
       "      <td>0.152489</td>\n",
       "      <td>0.023825</td>\n",
       "    </tr>\n",
       "    <tr>\n",
       "      <th>BAYL-09017</th>\n",
       "      <td>0.372754</td>\n",
       "      <td>0.223826</td>\n",
       "      <td>-0.084264</td>\n",
       "      <td>0.468975</td>\n",
       "      <td>-0.299095</td>\n",
       "      <td>0.116690</td>\n",
       "      <td>0.917165</td>\n",
       "      <td>-0.641642</td>\n",
       "      <td>-0.458021</td>\n",
       "      <td>-0.464570</td>\n",
       "      <td>...</td>\n",
       "      <td>1.807032</td>\n",
       "      <td>-0.106908</td>\n",
       "      <td>-0.905314</td>\n",
       "      <td>0.050890</td>\n",
       "      <td>-0.527920</td>\n",
       "      <td>0.345362</td>\n",
       "      <td>0.399237</td>\n",
       "      <td>0.137705</td>\n",
       "      <td>0.152489</td>\n",
       "      <td>-0.399870</td>\n",
       "    </tr>\n",
       "    <tr>\n",
       "      <th>BAYL-09018</th>\n",
       "      <td>0.103126</td>\n",
       "      <td>0.523683</td>\n",
       "      <td>-0.238103</td>\n",
       "      <td>-1.071461</td>\n",
       "      <td>-0.336122</td>\n",
       "      <td>0.168030</td>\n",
       "      <td>0.032885</td>\n",
       "      <td>0.054229</td>\n",
       "      <td>0.430654</td>\n",
       "      <td>-0.579905</td>\n",
       "      <td>...</td>\n",
       "      <td>-0.358738</td>\n",
       "      <td>-0.403598</td>\n",
       "      <td>-0.138321</td>\n",
       "      <td>0.050890</td>\n",
       "      <td>-0.435343</td>\n",
       "      <td>1.017162</td>\n",
       "      <td>1.103591</td>\n",
       "      <td>0.000695</td>\n",
       "      <td>0.152489</td>\n",
       "      <td>-0.308875</td>\n",
       "    </tr>\n",
       "    <tr>\n",
       "      <th>...</th>\n",
       "      <td>...</td>\n",
       "      <td>...</td>\n",
       "      <td>...</td>\n",
       "      <td>...</td>\n",
       "      <td>...</td>\n",
       "      <td>...</td>\n",
       "      <td>...</td>\n",
       "      <td>...</td>\n",
       "      <td>...</td>\n",
       "      <td>...</td>\n",
       "      <td>...</td>\n",
       "      <td>...</td>\n",
       "      <td>...</td>\n",
       "      <td>...</td>\n",
       "      <td>...</td>\n",
       "      <td>...</td>\n",
       "      <td>...</td>\n",
       "      <td>...</td>\n",
       "      <td>...</td>\n",
       "      <td>...</td>\n",
       "      <td>...</td>\n",
       "    </tr>\n",
       "    <tr>\n",
       "      <th>s_23077</th>\n",
       "      <td>-0.052360</td>\n",
       "      <td>-0.645759</td>\n",
       "      <td>-0.928460</td>\n",
       "      <td>0.322687</td>\n",
       "      <td>-0.011331</td>\n",
       "      <td>-0.009173</td>\n",
       "      <td>-1.298761</td>\n",
       "      <td>-0.056718</td>\n",
       "      <td>-0.104810</td>\n",
       "      <td>-0.513336</td>\n",
       "      <td>...</td>\n",
       "      <td>-0.736803</td>\n",
       "      <td>-0.663873</td>\n",
       "      <td>-0.115364</td>\n",
       "      <td>0.032251</td>\n",
       "      <td>-0.928072</td>\n",
       "      <td>-0.391278</td>\n",
       "      <td>2.037867</td>\n",
       "      <td>-0.016027</td>\n",
       "      <td>1.079962</td>\n",
       "      <td>-0.623414</td>\n",
       "    </tr>\n",
       "    <tr>\n",
       "      <th>s_23123</th>\n",
       "      <td>-0.052360</td>\n",
       "      <td>-0.166949</td>\n",
       "      <td>0.115088</td>\n",
       "      <td>-0.439904</td>\n",
       "      <td>-0.011331</td>\n",
       "      <td>-0.332268</td>\n",
       "      <td>-0.551854</td>\n",
       "      <td>0.175810</td>\n",
       "      <td>-0.489038</td>\n",
       "      <td>-0.477625</td>\n",
       "      <td>...</td>\n",
       "      <td>-0.610517</td>\n",
       "      <td>-0.854820</td>\n",
       "      <td>-0.115364</td>\n",
       "      <td>0.032251</td>\n",
       "      <td>-2.891681</td>\n",
       "      <td>-0.114168</td>\n",
       "      <td>1.405134</td>\n",
       "      <td>-0.016027</td>\n",
       "      <td>1.153829</td>\n",
       "      <td>-0.559394</td>\n",
       "    </tr>\n",
       "    <tr>\n",
       "      <th>s_22787</th>\n",
       "      <td>-0.052360</td>\n",
       "      <td>0.534076</td>\n",
       "      <td>-1.303274</td>\n",
       "      <td>-1.122262</td>\n",
       "      <td>-0.011331</td>\n",
       "      <td>0.466516</td>\n",
       "      <td>-1.077055</td>\n",
       "      <td>-0.012729</td>\n",
       "      <td>1.205847</td>\n",
       "      <td>-0.321399</td>\n",
       "      <td>...</td>\n",
       "      <td>-0.012596</td>\n",
       "      <td>-0.725384</td>\n",
       "      <td>-0.115364</td>\n",
       "      <td>0.032251</td>\n",
       "      <td>0.505416</td>\n",
       "      <td>1.012587</td>\n",
       "      <td>-1.602580</td>\n",
       "      <td>-0.016027</td>\n",
       "      <td>-1.581236</td>\n",
       "      <td>-0.520321</td>\n",
       "    </tr>\n",
       "    <tr>\n",
       "      <th>s_23294</th>\n",
       "      <td>-0.052360</td>\n",
       "      <td>-0.597626</td>\n",
       "      <td>0.781302</td>\n",
       "      <td>1.685294</td>\n",
       "      <td>-0.011331</td>\n",
       "      <td>-0.980053</td>\n",
       "      <td>-0.276637</td>\n",
       "      <td>0.632209</td>\n",
       "      <td>-0.021027</td>\n",
       "      <td>-0.833430</td>\n",
       "      <td>...</td>\n",
       "      <td>-1.089903</td>\n",
       "      <td>0.229379</td>\n",
       "      <td>-0.115364</td>\n",
       "      <td>0.032251</td>\n",
       "      <td>-0.049360</td>\n",
       "      <td>-0.354491</td>\n",
       "      <td>-0.570818</td>\n",
       "      <td>-0.016027</td>\n",
       "      <td>-0.574198</td>\n",
       "      <td>-0.587279</td>\n",
       "    </tr>\n",
       "    <tr>\n",
       "      <th>s_73385</th>\n",
       "      <td>-0.052360</td>\n",
       "      <td>-1.199764</td>\n",
       "      <td>-0.202655</td>\n",
       "      <td>-1.669582</td>\n",
       "      <td>-0.011331</td>\n",
       "      <td>-0.440943</td>\n",
       "      <td>-0.204341</td>\n",
       "      <td>0.651641</td>\n",
       "      <td>-0.819509</td>\n",
       "      <td>0.247728</td>\n",
       "      <td>...</td>\n",
       "      <td>-1.321522</td>\n",
       "      <td>-0.031761</td>\n",
       "      <td>-0.115364</td>\n",
       "      <td>0.032251</td>\n",
       "      <td>-1.582903</td>\n",
       "      <td>-1.138093</td>\n",
       "      <td>0.495655</td>\n",
       "      <td>-0.016027</td>\n",
       "      <td>0.643745</td>\n",
       "      <td>-0.337945</td>\n",
       "    </tr>\n",
       "  </tbody>\n",
       "</table>\n",
       "<p>312 rows × 948 columns</p>\n",
       "</div>"
      ],
      "text/plain": [
       "               42370     485       27665     38395     437       528    \\\n",
       "BAYL-09014  0.187195 -0.411608 -0.201654 -0.086973 -0.309109 -0.203433   \n",
       "BAYL-09015  0.116498  0.383105 -0.360268 -0.463560  6.005495  4.367434   \n",
       "BAYL-09016  0.328494 -0.351793  0.032687  0.278353 -0.466042  0.347924   \n",
       "BAYL-09017  0.372754  0.223826 -0.084264  0.468975 -0.299095  0.116690   \n",
       "BAYL-09018  0.103126  0.523683 -0.238103 -1.071461 -0.336122  0.168030   \n",
       "...              ...       ...       ...       ...       ...       ...   \n",
       "s_23077    -0.052360 -0.645759 -0.928460  0.322687 -0.011331 -0.009173   \n",
       "s_23123    -0.052360 -0.166949  0.115088 -0.439904 -0.011331 -0.332268   \n",
       "s_22787    -0.052360  0.534076 -1.303274 -1.122262 -0.011331  0.466516   \n",
       "s_23294    -0.052360 -0.597626  0.781302  1.685294 -0.011331 -0.980053   \n",
       "s_73385    -0.052360 -1.199764 -0.202655 -1.669582 -0.011331 -0.440943   \n",
       "\n",
       "               1417      1549      531       1414   ...     53157     53266  \\\n",
       "BAYL-09014 -0.713625 -0.778418 -1.113101 -0.866871  ... -0.143234 -0.106908   \n",
       "BAYL-09015 -1.694316 -0.689994 -0.512699 -0.901225  ... -0.166551 -0.106908   \n",
       "BAYL-09016 -0.919203 -0.611164 -0.401548 -0.738094  ...  0.077473 -0.106908   \n",
       "BAYL-09017  0.917165 -0.641642 -0.458021 -0.464570  ...  1.807032 -0.106908   \n",
       "BAYL-09018  0.032885  0.054229  0.430654 -0.579905  ... -0.358738 -0.403598   \n",
       "...              ...       ...       ...       ...  ...       ...       ...   \n",
       "s_23077    -1.298761 -0.056718 -0.104810 -0.513336  ... -0.736803 -0.663873   \n",
       "s_23123    -0.551854  0.175810 -0.489038 -0.477625  ... -0.610517 -0.854820   \n",
       "s_22787    -1.077055 -0.012729  1.205847 -0.321399  ... -0.012596 -0.725384   \n",
       "s_23294    -0.276637  0.632209 -0.021027 -0.833430  ... -1.089903  0.229379   \n",
       "s_73385    -0.204341  0.651641 -0.819509  0.247728  ... -1.321522 -0.031761   \n",
       "\n",
       "               53267     54840     57714     57716     57718     57719  \\\n",
       "BAYL-09014 -1.411424  0.302590 -0.360792 -0.172929 -0.611234 -0.480311   \n",
       "BAYL-09015 -0.639404  0.050890 -0.294085  0.396847 -0.657205 -0.432585   \n",
       "BAYL-09016 -0.399493  0.050890 -0.130459  0.353794 -0.724256  0.272478   \n",
       "BAYL-09017 -0.905314  0.050890 -0.527920  0.345362  0.399237  0.137705   \n",
       "BAYL-09018 -0.138321  0.050890 -0.435343  1.017162  1.103591  0.000695   \n",
       "...              ...       ...       ...       ...       ...       ...   \n",
       "s_23077    -0.115364  0.032251 -0.928072 -0.391278  2.037867 -0.016027   \n",
       "s_23123    -0.115364  0.032251 -2.891681 -0.114168  1.405134 -0.016027   \n",
       "s_22787    -0.115364  0.032251  0.505416  1.012587 -1.602580 -0.016027   \n",
       "s_23294    -0.115364  0.032251 -0.049360 -0.354491 -0.570818 -0.016027   \n",
       "s_73385    -0.115364  0.032251 -1.582903 -1.138093  0.495655 -0.016027   \n",
       "\n",
       "               57720     57754  \n",
       "BAYL-09014 -0.812788 -0.482809  \n",
       "BAYL-09015  0.152489 -0.483516  \n",
       "BAYL-09016  0.152489  0.023825  \n",
       "BAYL-09017  0.152489 -0.399870  \n",
       "BAYL-09018  0.152489 -0.308875  \n",
       "...              ...       ...  \n",
       "s_23077     1.079962 -0.623414  \n",
       "s_23123     1.153829 -0.559394  \n",
       "s_22787    -1.581236 -0.520321  \n",
       "s_23294    -0.574198 -0.587279  \n",
       "s_73385     0.643745 -0.337945  \n",
       "\n",
       "[312 rows x 948 columns]"
      ]
     },
     "execution_count": 60,
     "metadata": {},
     "output_type": "execute_result"
    }
   ],
   "source": [
    "df"
   ]
  },
  {
   "cell_type": "markdown",
   "id": "685525c5",
   "metadata": {},
   "source": [
    "### Feature selection"
   ]
  },
  {
   "cell_type": "code",
   "execution_count": 61,
   "id": "2078bd95",
   "metadata": {},
   "outputs": [],
   "source": [
    "from pymrmre import mrmr"
   ]
  },
  {
   "cell_type": "code",
   "execution_count": 62,
   "id": "c70559ba",
   "metadata": {},
   "outputs": [],
   "source": [
    "# iteritems is deprecated, downgrade pandas....\n",
    "# !pip install pandas==1.5.3 "
   ]
  },
  {
   "cell_type": "code",
   "execution_count": 225,
   "id": "54530e0f",
   "metadata": {},
   "outputs": [],
   "source": [
    "# TODO: choose hyperparameters solution_length, solution_count... (GridSearchCV ?)\n",
    "# FIX: feature selection after train test split or evaluation using cv"
   ]
  },
  {
   "cell_type": "code",
   "execution_count": 174,
   "id": "a742c052",
   "metadata": {
    "scrolled": false
   },
   "outputs": [
    {
     "name": "stderr",
     "output_type": "stream",
     "text": [
      "/home/lucija/.local/lib/python3.10/site-packages/pymrmre/MrmreData.py:19: FutureWarning: The default dtype for empty Series will be 'object' instead of 'float64' in a future version. Specify a dtype explicitly to silence this warning.\n",
      "  self._feature_types  = pd.Series()\n",
      "/home/lucija/.local/lib/python3.10/site-packages/pymrmre/MrmreData.py:20: FutureWarning: The default dtype for empty Series will be 'object' instead of 'float64' in a future version. Specify a dtype explicitly to silence this warning.\n",
      "  self._strata         = pd.Series()\n",
      "/home/lucija/.local/lib/python3.10/site-packages/pymrmre/MrmreData.py:21: FutureWarning: The default dtype for empty Series will be 'object' instead of 'float64' in a future version. Specify a dtype explicitly to silence this warning.\n",
      "  self._weights        = pd.Series()\n",
      "/home/lucija/.local/lib/python3.10/site-packages/pymrmre/MrmreFilter.py:24: FutureWarning: The default dtype for empty Series will be 'object' instead of 'float64' in a future version. Specify a dtype explicitly to silence this warning.\n",
      "  self._filters = pd.Series()\n",
      "/home/lucija/.local/lib/python3.10/site-packages/pymrmre/MrmreFilter.py:25: FutureWarning: The default dtype for empty Series will be 'object' instead of 'float64' in a future version. Specify a dtype explicitly to silence this warning.\n",
      "  self._scores = pd.Series()\n",
      "/home/lucija/.local/lib/python3.10/site-packages/pymrmre/MrmreFilter.py:26: FutureWarning: The default dtype for empty Series will be 'object' instead of 'float64' in a future version. Specify a dtype explicitly to silence this warning.\n",
      "  self._causality_list = pd.Series()\n",
      "/home/lucija/.local/lib/python3.10/site-packages/pymrmre/MrmreData.py:270: FutureWarning: iteritems is deprecated and will be removed in a future version. Use .items instead.\n",
      "  for _, item in self._feature_types.iteritems():\n",
      "/home/lucija/.local/lib/python3.10/site-packages/pymrmre/MrmreData.py:287: FutureWarning: iteritems is deprecated and will be removed in a future version. Use .items instead.\n",
      "  for _, item in self._feature_types.iteritems():\n",
      "/home/lucija/.local/lib/python3.10/site-packages/pymrmre/MrmreData.py:287: FutureWarning: iteritems is deprecated and will be removed in a future version. Use .items instead.\n",
      "  for _, item in self._feature_types.iteritems():\n",
      "/home/lucija/.local/lib/python3.10/site-packages/pymrmre/MrmreData.py:258: FutureWarning: iteritems is deprecated and will be removed in a future version. Use .items instead.\n",
      "  for _, item in self._feature_types.iteritems():\n"
     ]
    }
   ],
   "source": [
    "solutions = mrmr.mrmr_ensemble(features=df, targets=pd.DataFrame(target), solution_length=100, solution_count=10)"
   ]
  },
  {
   "cell_type": "code",
   "execution_count": 180,
   "id": "db6a5880",
   "metadata": {
    "scrolled": true
   },
   "outputs": [
    {
     "data": {
      "text/plain": [
       "10"
      ]
     },
     "execution_count": 180,
     "metadata": {},
     "output_type": "execute_result"
    }
   ],
   "source": [
    "len(solutions.iloc[0])"
   ]
  },
  {
   "cell_type": "code",
   "execution_count": 181,
   "id": "564542ab",
   "metadata": {},
   "outputs": [
    {
     "data": {
      "text/plain": [
       "Index([42370,   485, 27665, 38395,   437,   528,  1417,  1549,   531,  1414,\n",
       "       ...\n",
       "       53157, 53266, 53267, 54840, 57714, 57716, 57718, 57719, 57720, 57754],\n",
       "      dtype='object', length=948)"
      ]
     },
     "execution_count": 181,
     "metadata": {},
     "output_type": "execute_result"
    }
   ],
   "source": [
    "df.columns"
   ]
  },
  {
   "cell_type": "code",
   "execution_count": 182,
   "id": "a6992122",
   "metadata": {},
   "outputs": [
    {
     "data": {
      "text/html": [
       "<div>\n",
       "<style scoped>\n",
       "    .dataframe tbody tr th:only-of-type {\n",
       "        vertical-align: middle;\n",
       "    }\n",
       "\n",
       "    .dataframe tbody tr th {\n",
       "        vertical-align: top;\n",
       "    }\n",
       "\n",
       "    .dataframe thead th {\n",
       "        text-align: right;\n",
       "    }\n",
       "</style>\n",
       "<table border=\"1\" class=\"dataframe\">\n",
       "  <thead>\n",
       "    <tr style=\"text-align: right;\">\n",
       "      <th></th>\n",
       "      <th>38165</th>\n",
       "      <th>57591</th>\n",
       "      <th>53254</th>\n",
       "      <th>48009</th>\n",
       "      <th>62059</th>\n",
       "      <th>19263</th>\n",
       "      <th>37200</th>\n",
       "      <th>46992</th>\n",
       "      <th>47802</th>\n",
       "      <th>37184</th>\n",
       "      <th>...</th>\n",
       "      <th>46356</th>\n",
       "      <th>37203</th>\n",
       "      <th>52988</th>\n",
       "      <th>1651</th>\n",
       "      <th>15122</th>\n",
       "      <th>57754</th>\n",
       "      <th>40062</th>\n",
       "      <th>47673</th>\n",
       "      <th>61888</th>\n",
       "      <th>37432</th>\n",
       "    </tr>\n",
       "  </thead>\n",
       "  <tbody>\n",
       "    <tr>\n",
       "      <th>BAYL-09014</th>\n",
       "      <td>0.226008</td>\n",
       "      <td>-0.649723</td>\n",
       "      <td>0.133451</td>\n",
       "      <td>-0.873967</td>\n",
       "      <td>-1.445462</td>\n",
       "      <td>0.052194</td>\n",
       "      <td>1.722469</td>\n",
       "      <td>0.072381</td>\n",
       "      <td>0.180460</td>\n",
       "      <td>-0.377999</td>\n",
       "      <td>...</td>\n",
       "      <td>-0.263853</td>\n",
       "      <td>-0.460205</td>\n",
       "      <td>0.904831</td>\n",
       "      <td>-0.780663</td>\n",
       "      <td>-0.284867</td>\n",
       "      <td>-0.482809</td>\n",
       "      <td>1.151714</td>\n",
       "      <td>0.101554</td>\n",
       "      <td>0.035625</td>\n",
       "      <td>-1.176474</td>\n",
       "    </tr>\n",
       "    <tr>\n",
       "      <th>BAYL-09015</th>\n",
       "      <td>0.280088</td>\n",
       "      <td>-1.169474</td>\n",
       "      <td>0.133451</td>\n",
       "      <td>0.267714</td>\n",
       "      <td>-1.434013</td>\n",
       "      <td>0.085407</td>\n",
       "      <td>1.604613</td>\n",
       "      <td>0.072381</td>\n",
       "      <td>0.233187</td>\n",
       "      <td>0.938145</td>\n",
       "      <td>...</td>\n",
       "      <td>-0.024652</td>\n",
       "      <td>-0.396398</td>\n",
       "      <td>0.603608</td>\n",
       "      <td>-0.985506</td>\n",
       "      <td>1.093458</td>\n",
       "      <td>-0.483516</td>\n",
       "      <td>-1.454366</td>\n",
       "      <td>0.144196</td>\n",
       "      <td>0.035625</td>\n",
       "      <td>-1.047642</td>\n",
       "    </tr>\n",
       "    <tr>\n",
       "      <th>BAYL-09016</th>\n",
       "      <td>0.345725</td>\n",
       "      <td>-0.581132</td>\n",
       "      <td>0.133451</td>\n",
       "      <td>-0.846086</td>\n",
       "      <td>-1.097334</td>\n",
       "      <td>0.327047</td>\n",
       "      <td>1.817750</td>\n",
       "      <td>0.072381</td>\n",
       "      <td>-1.070358</td>\n",
       "      <td>1.309655</td>\n",
       "      <td>...</td>\n",
       "      <td>-0.024652</td>\n",
       "      <td>-0.028450</td>\n",
       "      <td>1.263021</td>\n",
       "      <td>-0.785994</td>\n",
       "      <td>0.127121</td>\n",
       "      <td>0.023825</td>\n",
       "      <td>-0.915954</td>\n",
       "      <td>0.144196</td>\n",
       "      <td>0.035625</td>\n",
       "      <td>-0.650972</td>\n",
       "    </tr>\n",
       "    <tr>\n",
       "      <th>BAYL-09017</th>\n",
       "      <td>-0.493147</td>\n",
       "      <td>-0.393785</td>\n",
       "      <td>-0.085648</td>\n",
       "      <td>-0.751530</td>\n",
       "      <td>-0.934958</td>\n",
       "      <td>0.245958</td>\n",
       "      <td>0.436989</td>\n",
       "      <td>0.072381</td>\n",
       "      <td>0.233187</td>\n",
       "      <td>0.506806</td>\n",
       "      <td>...</td>\n",
       "      <td>-0.024652</td>\n",
       "      <td>0.008105</td>\n",
       "      <td>0.668270</td>\n",
       "      <td>-0.580400</td>\n",
       "      <td>-0.505265</td>\n",
       "      <td>-0.399870</td>\n",
       "      <td>-0.884001</td>\n",
       "      <td>0.053112</td>\n",
       "      <td>0.035625</td>\n",
       "      <td>0.156994</td>\n",
       "    </tr>\n",
       "    <tr>\n",
       "      <th>BAYL-09018</th>\n",
       "      <td>0.447983</td>\n",
       "      <td>-0.620911</td>\n",
       "      <td>0.146754</td>\n",
       "      <td>-0.524852</td>\n",
       "      <td>-0.935897</td>\n",
       "      <td>0.359894</td>\n",
       "      <td>0.675523</td>\n",
       "      <td>0.126687</td>\n",
       "      <td>0.233187</td>\n",
       "      <td>0.506806</td>\n",
       "      <td>...</td>\n",
       "      <td>-0.024652</td>\n",
       "      <td>-0.155257</td>\n",
       "      <td>1.116742</td>\n",
       "      <td>-0.697442</td>\n",
       "      <td>-0.322457</td>\n",
       "      <td>-0.308875</td>\n",
       "      <td>-0.960419</td>\n",
       "      <td>0.144196</td>\n",
       "      <td>0.035625</td>\n",
       "      <td>-0.659620</td>\n",
       "    </tr>\n",
       "    <tr>\n",
       "      <th>...</th>\n",
       "      <td>...</td>\n",
       "      <td>...</td>\n",
       "      <td>...</td>\n",
       "      <td>...</td>\n",
       "      <td>...</td>\n",
       "      <td>...</td>\n",
       "      <td>...</td>\n",
       "      <td>...</td>\n",
       "      <td>...</td>\n",
       "      <td>...</td>\n",
       "      <td>...</td>\n",
       "      <td>...</td>\n",
       "      <td>...</td>\n",
       "      <td>...</td>\n",
       "      <td>...</td>\n",
       "      <td>...</td>\n",
       "      <td>...</td>\n",
       "      <td>...</td>\n",
       "      <td>...</td>\n",
       "      <td>...</td>\n",
       "      <td>...</td>\n",
       "    </tr>\n",
       "    <tr>\n",
       "      <th>s_23077</th>\n",
       "      <td>-0.645360</td>\n",
       "      <td>-0.202399</td>\n",
       "      <td>0.537433</td>\n",
       "      <td>-0.712418</td>\n",
       "      <td>0.131810</td>\n",
       "      <td>1.170193</td>\n",
       "      <td>1.156250</td>\n",
       "      <td>-0.425683</td>\n",
       "      <td>-1.611838</td>\n",
       "      <td>0.661654</td>\n",
       "      <td>...</td>\n",
       "      <td>-0.201810</td>\n",
       "      <td>0.048535</td>\n",
       "      <td>-0.651815</td>\n",
       "      <td>0.906641</td>\n",
       "      <td>-0.496966</td>\n",
       "      <td>-0.623414</td>\n",
       "      <td>2.122115</td>\n",
       "      <td>0.045606</td>\n",
       "      <td>1.072564</td>\n",
       "      <td>-0.202843</td>\n",
       "    </tr>\n",
       "    <tr>\n",
       "      <th>s_23123</th>\n",
       "      <td>0.084574</td>\n",
       "      <td>1.225293</td>\n",
       "      <td>-0.159983</td>\n",
       "      <td>-0.839823</td>\n",
       "      <td>-0.305401</td>\n",
       "      <td>1.316196</td>\n",
       "      <td>1.211545</td>\n",
       "      <td>0.395122</td>\n",
       "      <td>-0.191890</td>\n",
       "      <td>0.274139</td>\n",
       "      <td>...</td>\n",
       "      <td>0.065861</td>\n",
       "      <td>0.266852</td>\n",
       "      <td>-0.542062</td>\n",
       "      <td>0.876260</td>\n",
       "      <td>-0.748052</td>\n",
       "      <td>-0.559394</td>\n",
       "      <td>0.766482</td>\n",
       "      <td>0.206543</td>\n",
       "      <td>0.544920</td>\n",
       "      <td>0.288671</td>\n",
       "    </tr>\n",
       "    <tr>\n",
       "      <th>s_22787</th>\n",
       "      <td>-0.693663</td>\n",
       "      <td>-0.290048</td>\n",
       "      <td>0.987804</td>\n",
       "      <td>0.183337</td>\n",
       "      <td>0.027231</td>\n",
       "      <td>0.845691</td>\n",
       "      <td>0.903213</td>\n",
       "      <td>0.255769</td>\n",
       "      <td>-0.454045</td>\n",
       "      <td>0.501257</td>\n",
       "      <td>...</td>\n",
       "      <td>-0.201810</td>\n",
       "      <td>-0.305440</td>\n",
       "      <td>-0.293155</td>\n",
       "      <td>-0.708969</td>\n",
       "      <td>-0.139152</td>\n",
       "      <td>-0.520321</td>\n",
       "      <td>-2.261789</td>\n",
       "      <td>-0.405235</td>\n",
       "      <td>-0.377701</td>\n",
       "      <td>0.880294</td>\n",
       "    </tr>\n",
       "    <tr>\n",
       "      <th>s_23294</th>\n",
       "      <td>-0.212521</td>\n",
       "      <td>1.085546</td>\n",
       "      <td>1.146002</td>\n",
       "      <td>0.153304</td>\n",
       "      <td>-0.495719</td>\n",
       "      <td>0.457104</td>\n",
       "      <td>1.205941</td>\n",
       "      <td>0.466277</td>\n",
       "      <td>-0.187356</td>\n",
       "      <td>0.178998</td>\n",
       "      <td>...</td>\n",
       "      <td>-0.842581</td>\n",
       "      <td>-0.115502</td>\n",
       "      <td>-0.900354</td>\n",
       "      <td>0.289218</td>\n",
       "      <td>-1.506112</td>\n",
       "      <td>-0.587279</td>\n",
       "      <td>0.652660</td>\n",
       "      <td>-0.260279</td>\n",
       "      <td>0.628742</td>\n",
       "      <td>0.253831</td>\n",
       "    </tr>\n",
       "    <tr>\n",
       "      <th>s_73385</th>\n",
       "      <td>-0.776960</td>\n",
       "      <td>0.391221</td>\n",
       "      <td>-0.336570</td>\n",
       "      <td>-0.609536</td>\n",
       "      <td>-0.703642</td>\n",
       "      <td>-0.067829</td>\n",
       "      <td>1.193959</td>\n",
       "      <td>-0.425683</td>\n",
       "      <td>0.110392</td>\n",
       "      <td>0.060518</td>\n",
       "      <td>...</td>\n",
       "      <td>1.042247</td>\n",
       "      <td>0.447442</td>\n",
       "      <td>-1.335113</td>\n",
       "      <td>-0.564557</td>\n",
       "      <td>-0.707663</td>\n",
       "      <td>-0.337945</td>\n",
       "      <td>-0.026702</td>\n",
       "      <td>-0.023274</td>\n",
       "      <td>0.266336</td>\n",
       "      <td>0.422661</td>\n",
       "    </tr>\n",
       "  </tbody>\n",
       "</table>\n",
       "<p>312 rows × 100 columns</p>\n",
       "</div>"
      ],
      "text/plain": [
       "               38165     57591     53254     48009     62059     19263  \\\n",
       "BAYL-09014  0.226008 -0.649723  0.133451 -0.873967 -1.445462  0.052194   \n",
       "BAYL-09015  0.280088 -1.169474  0.133451  0.267714 -1.434013  0.085407   \n",
       "BAYL-09016  0.345725 -0.581132  0.133451 -0.846086 -1.097334  0.327047   \n",
       "BAYL-09017 -0.493147 -0.393785 -0.085648 -0.751530 -0.934958  0.245958   \n",
       "BAYL-09018  0.447983 -0.620911  0.146754 -0.524852 -0.935897  0.359894   \n",
       "...              ...       ...       ...       ...       ...       ...   \n",
       "s_23077    -0.645360 -0.202399  0.537433 -0.712418  0.131810  1.170193   \n",
       "s_23123     0.084574  1.225293 -0.159983 -0.839823 -0.305401  1.316196   \n",
       "s_22787    -0.693663 -0.290048  0.987804  0.183337  0.027231  0.845691   \n",
       "s_23294    -0.212521  1.085546  1.146002  0.153304 -0.495719  0.457104   \n",
       "s_73385    -0.776960  0.391221 -0.336570 -0.609536 -0.703642 -0.067829   \n",
       "\n",
       "               37200     46992     47802     37184  ...     46356     37203  \\\n",
       "BAYL-09014  1.722469  0.072381  0.180460 -0.377999  ... -0.263853 -0.460205   \n",
       "BAYL-09015  1.604613  0.072381  0.233187  0.938145  ... -0.024652 -0.396398   \n",
       "BAYL-09016  1.817750  0.072381 -1.070358  1.309655  ... -0.024652 -0.028450   \n",
       "BAYL-09017  0.436989  0.072381  0.233187  0.506806  ... -0.024652  0.008105   \n",
       "BAYL-09018  0.675523  0.126687  0.233187  0.506806  ... -0.024652 -0.155257   \n",
       "...              ...       ...       ...       ...  ...       ...       ...   \n",
       "s_23077     1.156250 -0.425683 -1.611838  0.661654  ... -0.201810  0.048535   \n",
       "s_23123     1.211545  0.395122 -0.191890  0.274139  ...  0.065861  0.266852   \n",
       "s_22787     0.903213  0.255769 -0.454045  0.501257  ... -0.201810 -0.305440   \n",
       "s_23294     1.205941  0.466277 -0.187356  0.178998  ... -0.842581 -0.115502   \n",
       "s_73385     1.193959 -0.425683  0.110392  0.060518  ...  1.042247  0.447442   \n",
       "\n",
       "               52988     1651      15122     57754     40062     47673  \\\n",
       "BAYL-09014  0.904831 -0.780663 -0.284867 -0.482809  1.151714  0.101554   \n",
       "BAYL-09015  0.603608 -0.985506  1.093458 -0.483516 -1.454366  0.144196   \n",
       "BAYL-09016  1.263021 -0.785994  0.127121  0.023825 -0.915954  0.144196   \n",
       "BAYL-09017  0.668270 -0.580400 -0.505265 -0.399870 -0.884001  0.053112   \n",
       "BAYL-09018  1.116742 -0.697442 -0.322457 -0.308875 -0.960419  0.144196   \n",
       "...              ...       ...       ...       ...       ...       ...   \n",
       "s_23077    -0.651815  0.906641 -0.496966 -0.623414  2.122115  0.045606   \n",
       "s_23123    -0.542062  0.876260 -0.748052 -0.559394  0.766482  0.206543   \n",
       "s_22787    -0.293155 -0.708969 -0.139152 -0.520321 -2.261789 -0.405235   \n",
       "s_23294    -0.900354  0.289218 -1.506112 -0.587279  0.652660 -0.260279   \n",
       "s_73385    -1.335113 -0.564557 -0.707663 -0.337945 -0.026702 -0.023274   \n",
       "\n",
       "               61888     37432  \n",
       "BAYL-09014  0.035625 -1.176474  \n",
       "BAYL-09015  0.035625 -1.047642  \n",
       "BAYL-09016  0.035625 -0.650972  \n",
       "BAYL-09017  0.035625  0.156994  \n",
       "BAYL-09018  0.035625 -0.659620  \n",
       "...              ...       ...  \n",
       "s_23077     1.072564 -0.202843  \n",
       "s_23123     0.544920  0.288671  \n",
       "s_22787    -0.377701  0.880294  \n",
       "s_23294     0.628742  0.253831  \n",
       "s_73385     0.266336  0.422661  \n",
       "\n",
       "[312 rows x 100 columns]"
      ]
     },
     "execution_count": 182,
     "metadata": {},
     "output_type": "execute_result"
    }
   ],
   "source": [
    "df[solutions.iloc[0][0]]"
   ]
  },
  {
   "cell_type": "code",
   "execution_count": null,
   "id": "39bd10d1",
   "metadata": {},
   "outputs": [],
   "source": []
  },
  {
   "cell_type": "markdown",
   "id": "388618c9",
   "metadata": {},
   "source": [
    "### Classification"
   ]
  },
  {
   "cell_type": "code",
   "execution_count": null,
   "id": "b347d94c",
   "metadata": {},
   "outputs": [],
   "source": [
    "# TODO: try different classifiers...."
   ]
  },
  {
   "cell_type": "code",
   "execution_count": 183,
   "id": "97a8e296",
   "metadata": {},
   "outputs": [],
   "source": [
    "from sklearn.preprocessing import StandardScaler\n",
    "from sklearn.model_selection import train_test_split\n",
    "from sklearn.ensemble import RandomForestClassifier\n",
    "from sklearn.metrics import accuracy_score, classification_report, confusion_matrix"
   ]
  },
  {
   "cell_type": "markdown",
   "id": "faf3c3ce",
   "metadata": {},
   "source": [
    "## shape (312, 948)"
   ]
  },
  {
   "cell_type": "code",
   "execution_count": 184,
   "id": "37e6a6dc",
   "metadata": {},
   "outputs": [],
   "source": [
    "X_train, X_test, y_train, y_test = train_test_split(df, target, stratify=target, test_size=0.2)"
   ]
  },
  {
   "cell_type": "code",
   "execution_count": 185,
   "id": "407faa33",
   "metadata": {},
   "outputs": [
    {
     "data": {
      "text/plain": [
       "(249, 948)"
      ]
     },
     "execution_count": 185,
     "metadata": {},
     "output_type": "execute_result"
    }
   ],
   "source": [
    "X_train.shape"
   ]
  },
  {
   "cell_type": "code",
   "execution_count": 186,
   "id": "b405e500",
   "metadata": {},
   "outputs": [
    {
     "data": {
      "text/plain": [
       "(63, 948)"
      ]
     },
     "execution_count": 186,
     "metadata": {},
     "output_type": "execute_result"
    }
   ],
   "source": [
    "X_test.shape"
   ]
  },
  {
   "cell_type": "code",
   "execution_count": 187,
   "id": "41a28a11",
   "metadata": {},
   "outputs": [],
   "source": [
    "scaler = StandardScaler()"
   ]
  },
  {
   "cell_type": "code",
   "execution_count": 188,
   "id": "bc45a7d6",
   "metadata": {},
   "outputs": [],
   "source": [
    "scaler.fit(X_train)\n",
    "X_train = scaler.transform(X_train)\n",
    "X_test = scaler.transform(X_test)"
   ]
  },
  {
   "cell_type": "code",
   "execution_count": null,
   "id": "6795e029",
   "metadata": {},
   "outputs": [],
   "source": []
  },
  {
   "cell_type": "code",
   "execution_count": 189,
   "id": "07a7004e",
   "metadata": {},
   "outputs": [],
   "source": [
    "model = RandomForestClassifier(n_estimators=10, max_depth=20)"
   ]
  },
  {
   "cell_type": "code",
   "execution_count": 190,
   "id": "47283bb8",
   "metadata": {
    "scrolled": true
   },
   "outputs": [
    {
     "data": {
      "text/html": [
       "<style>#sk-container-id-8 {color: black;background-color: white;}#sk-container-id-8 pre{padding: 0;}#sk-container-id-8 div.sk-toggleable {background-color: white;}#sk-container-id-8 label.sk-toggleable__label {cursor: pointer;display: block;width: 100%;margin-bottom: 0;padding: 0.3em;box-sizing: border-box;text-align: center;}#sk-container-id-8 label.sk-toggleable__label-arrow:before {content: \"▸\";float: left;margin-right: 0.25em;color: #696969;}#sk-container-id-8 label.sk-toggleable__label-arrow:hover:before {color: black;}#sk-container-id-8 div.sk-estimator:hover label.sk-toggleable__label-arrow:before {color: black;}#sk-container-id-8 div.sk-toggleable__content {max-height: 0;max-width: 0;overflow: hidden;text-align: left;background-color: #f0f8ff;}#sk-container-id-8 div.sk-toggleable__content pre {margin: 0.2em;color: black;border-radius: 0.25em;background-color: #f0f8ff;}#sk-container-id-8 input.sk-toggleable__control:checked~div.sk-toggleable__content {max-height: 200px;max-width: 100%;overflow: auto;}#sk-container-id-8 input.sk-toggleable__control:checked~label.sk-toggleable__label-arrow:before {content: \"▾\";}#sk-container-id-8 div.sk-estimator input.sk-toggleable__control:checked~label.sk-toggleable__label {background-color: #d4ebff;}#sk-container-id-8 div.sk-label input.sk-toggleable__control:checked~label.sk-toggleable__label {background-color: #d4ebff;}#sk-container-id-8 input.sk-hidden--visually {border: 0;clip: rect(1px 1px 1px 1px);clip: rect(1px, 1px, 1px, 1px);height: 1px;margin: -1px;overflow: hidden;padding: 0;position: absolute;width: 1px;}#sk-container-id-8 div.sk-estimator {font-family: monospace;background-color: #f0f8ff;border: 1px dotted black;border-radius: 0.25em;box-sizing: border-box;margin-bottom: 0.5em;}#sk-container-id-8 div.sk-estimator:hover {background-color: #d4ebff;}#sk-container-id-8 div.sk-parallel-item::after {content: \"\";width: 100%;border-bottom: 1px solid gray;flex-grow: 1;}#sk-container-id-8 div.sk-label:hover label.sk-toggleable__label {background-color: #d4ebff;}#sk-container-id-8 div.sk-serial::before {content: \"\";position: absolute;border-left: 1px solid gray;box-sizing: border-box;top: 0;bottom: 0;left: 50%;z-index: 0;}#sk-container-id-8 div.sk-serial {display: flex;flex-direction: column;align-items: center;background-color: white;padding-right: 0.2em;padding-left: 0.2em;position: relative;}#sk-container-id-8 div.sk-item {position: relative;z-index: 1;}#sk-container-id-8 div.sk-parallel {display: flex;align-items: stretch;justify-content: center;background-color: white;position: relative;}#sk-container-id-8 div.sk-item::before, #sk-container-id-8 div.sk-parallel-item::before {content: \"\";position: absolute;border-left: 1px solid gray;box-sizing: border-box;top: 0;bottom: 0;left: 50%;z-index: -1;}#sk-container-id-8 div.sk-parallel-item {display: flex;flex-direction: column;z-index: 1;position: relative;background-color: white;}#sk-container-id-8 div.sk-parallel-item:first-child::after {align-self: flex-end;width: 50%;}#sk-container-id-8 div.sk-parallel-item:last-child::after {align-self: flex-start;width: 50%;}#sk-container-id-8 div.sk-parallel-item:only-child::after {width: 0;}#sk-container-id-8 div.sk-dashed-wrapped {border: 1px dashed gray;margin: 0 0.4em 0.5em 0.4em;box-sizing: border-box;padding-bottom: 0.4em;background-color: white;}#sk-container-id-8 div.sk-label label {font-family: monospace;font-weight: bold;display: inline-block;line-height: 1.2em;}#sk-container-id-8 div.sk-label-container {text-align: center;}#sk-container-id-8 div.sk-container {/* jupyter's `normalize.less` sets `[hidden] { display: none; }` but bootstrap.min.css set `[hidden] { display: none !important; }` so we also need the `!important` here to be able to override the default hidden behavior on the sphinx rendered scikit-learn.org. See: https://github.com/scikit-learn/scikit-learn/issues/21755 */display: inline-block !important;position: relative;}#sk-container-id-8 div.sk-text-repr-fallback {display: none;}</style><div id=\"sk-container-id-8\" class=\"sk-top-container\"><div class=\"sk-text-repr-fallback\"><pre>RandomForestClassifier(max_depth=20, n_estimators=10)</pre><b>In a Jupyter environment, please rerun this cell to show the HTML representation or trust the notebook. <br />On GitHub, the HTML representation is unable to render, please try loading this page with nbviewer.org.</b></div><div class=\"sk-container\" hidden><div class=\"sk-item\"><div class=\"sk-estimator sk-toggleable\"><input class=\"sk-toggleable__control sk-hidden--visually\" id=\"sk-estimator-id-8\" type=\"checkbox\" checked><label for=\"sk-estimator-id-8\" class=\"sk-toggleable__label sk-toggleable__label-arrow\">RandomForestClassifier</label><div class=\"sk-toggleable__content\"><pre>RandomForestClassifier(max_depth=20, n_estimators=10)</pre></div></div></div></div></div>"
      ],
      "text/plain": [
       "RandomForestClassifier(max_depth=20, n_estimators=10)"
      ]
     },
     "execution_count": 190,
     "metadata": {},
     "output_type": "execute_result"
    }
   ],
   "source": [
    "model.fit(X_train, y_train)"
   ]
  },
  {
   "cell_type": "code",
   "execution_count": 191,
   "id": "333585d3",
   "metadata": {},
   "outputs": [],
   "source": [
    "y_pred = model.predict(X_test)"
   ]
  },
  {
   "cell_type": "code",
   "execution_count": 192,
   "id": "dbe97ecb",
   "metadata": {},
   "outputs": [
    {
     "data": {
      "text/plain": [
       "0.7301587301587301"
      ]
     },
     "execution_count": 192,
     "metadata": {},
     "output_type": "execute_result"
    }
   ],
   "source": [
    "accuracy_score(y_test, y_pred)"
   ]
  },
  {
   "cell_type": "code",
   "execution_count": 193,
   "id": "90dc1c18",
   "metadata": {},
   "outputs": [
    {
     "name": "stdout",
     "output_type": "stream",
     "text": [
      "              precision    recall  f1-score   support\n",
      "\n",
      "         0.0       0.74      0.93      0.82        43\n",
      "         1.0       0.67      0.30      0.41        20\n",
      "\n",
      "    accuracy                           0.73        63\n",
      "   macro avg       0.70      0.62      0.62        63\n",
      "weighted avg       0.72      0.73      0.69        63\n",
      "\n"
     ]
    }
   ],
   "source": [
    "print(classification_report(y_test, y_pred))"
   ]
  },
  {
   "cell_type": "code",
   "execution_count": 194,
   "id": "42da8ad8",
   "metadata": {},
   "outputs": [
    {
     "data": {
      "text/plain": [
       "array([[40,  3],\n",
       "       [14,  6]])"
      ]
     },
     "execution_count": 194,
     "metadata": {},
     "output_type": "execute_result"
    }
   ],
   "source": [
    "confusion_matrix(y_test, y_pred)"
   ]
  },
  {
   "cell_type": "code",
   "execution_count": null,
   "id": "d7dba783",
   "metadata": {},
   "outputs": [],
   "source": []
  },
  {
   "cell_type": "code",
   "execution_count": 195,
   "id": "f882561a",
   "metadata": {},
   "outputs": [],
   "source": [
    "importances = model.feature_importances_"
   ]
  },
  {
   "cell_type": "code",
   "execution_count": 196,
   "id": "dea63db6",
   "metadata": {},
   "outputs": [
    {
     "data": {
      "text/plain": [
       "0.028619211005344168"
      ]
     },
     "execution_count": 196,
     "metadata": {},
     "output_type": "execute_result"
    }
   ],
   "source": [
    "importances.max()"
   ]
  },
  {
   "cell_type": "code",
   "execution_count": 197,
   "id": "4766374c",
   "metadata": {},
   "outputs": [
    {
     "data": {
      "text/plain": [
       "0.0"
      ]
     },
     "execution_count": 197,
     "metadata": {},
     "output_type": "execute_result"
    }
   ],
   "source": [
    "importances.min()"
   ]
  },
  {
   "cell_type": "code",
   "execution_count": 198,
   "id": "fb8b2b91",
   "metadata": {},
   "outputs": [
    {
     "data": {
      "text/plain": [
       "769"
      ]
     },
     "execution_count": 198,
     "metadata": {},
     "output_type": "execute_result"
    }
   ],
   "source": [
    "len([x for x in importances if x == 0])"
   ]
  },
  {
   "cell_type": "code",
   "execution_count": null,
   "id": "7e47a840",
   "metadata": {},
   "outputs": [],
   "source": []
  },
  {
   "cell_type": "code",
   "execution_count": 199,
   "id": "fa76771d",
   "metadata": {},
   "outputs": [],
   "source": [
    "from xgboost import XGBClassifier"
   ]
  },
  {
   "cell_type": "code",
   "execution_count": 200,
   "id": "85846d39",
   "metadata": {},
   "outputs": [],
   "source": [
    "bst = XGBClassifier(n_estimators=10, max_depth=20, learning_rate=1, objective='binary:logistic')"
   ]
  },
  {
   "cell_type": "code",
   "execution_count": 201,
   "id": "5aee0c76",
   "metadata": {},
   "outputs": [
    {
     "data": {
      "text/html": [
       "<style>#sk-container-id-9 {color: black;background-color: white;}#sk-container-id-9 pre{padding: 0;}#sk-container-id-9 div.sk-toggleable {background-color: white;}#sk-container-id-9 label.sk-toggleable__label {cursor: pointer;display: block;width: 100%;margin-bottom: 0;padding: 0.3em;box-sizing: border-box;text-align: center;}#sk-container-id-9 label.sk-toggleable__label-arrow:before {content: \"▸\";float: left;margin-right: 0.25em;color: #696969;}#sk-container-id-9 label.sk-toggleable__label-arrow:hover:before {color: black;}#sk-container-id-9 div.sk-estimator:hover label.sk-toggleable__label-arrow:before {color: black;}#sk-container-id-9 div.sk-toggleable__content {max-height: 0;max-width: 0;overflow: hidden;text-align: left;background-color: #f0f8ff;}#sk-container-id-9 div.sk-toggleable__content pre {margin: 0.2em;color: black;border-radius: 0.25em;background-color: #f0f8ff;}#sk-container-id-9 input.sk-toggleable__control:checked~div.sk-toggleable__content {max-height: 200px;max-width: 100%;overflow: auto;}#sk-container-id-9 input.sk-toggleable__control:checked~label.sk-toggleable__label-arrow:before {content: \"▾\";}#sk-container-id-9 div.sk-estimator input.sk-toggleable__control:checked~label.sk-toggleable__label {background-color: #d4ebff;}#sk-container-id-9 div.sk-label input.sk-toggleable__control:checked~label.sk-toggleable__label {background-color: #d4ebff;}#sk-container-id-9 input.sk-hidden--visually {border: 0;clip: rect(1px 1px 1px 1px);clip: rect(1px, 1px, 1px, 1px);height: 1px;margin: -1px;overflow: hidden;padding: 0;position: absolute;width: 1px;}#sk-container-id-9 div.sk-estimator {font-family: monospace;background-color: #f0f8ff;border: 1px dotted black;border-radius: 0.25em;box-sizing: border-box;margin-bottom: 0.5em;}#sk-container-id-9 div.sk-estimator:hover {background-color: #d4ebff;}#sk-container-id-9 div.sk-parallel-item::after {content: \"\";width: 100%;border-bottom: 1px solid gray;flex-grow: 1;}#sk-container-id-9 div.sk-label:hover label.sk-toggleable__label {background-color: #d4ebff;}#sk-container-id-9 div.sk-serial::before {content: \"\";position: absolute;border-left: 1px solid gray;box-sizing: border-box;top: 0;bottom: 0;left: 50%;z-index: 0;}#sk-container-id-9 div.sk-serial {display: flex;flex-direction: column;align-items: center;background-color: white;padding-right: 0.2em;padding-left: 0.2em;position: relative;}#sk-container-id-9 div.sk-item {position: relative;z-index: 1;}#sk-container-id-9 div.sk-parallel {display: flex;align-items: stretch;justify-content: center;background-color: white;position: relative;}#sk-container-id-9 div.sk-item::before, #sk-container-id-9 div.sk-parallel-item::before {content: \"\";position: absolute;border-left: 1px solid gray;box-sizing: border-box;top: 0;bottom: 0;left: 50%;z-index: -1;}#sk-container-id-9 div.sk-parallel-item {display: flex;flex-direction: column;z-index: 1;position: relative;background-color: white;}#sk-container-id-9 div.sk-parallel-item:first-child::after {align-self: flex-end;width: 50%;}#sk-container-id-9 div.sk-parallel-item:last-child::after {align-self: flex-start;width: 50%;}#sk-container-id-9 div.sk-parallel-item:only-child::after {width: 0;}#sk-container-id-9 div.sk-dashed-wrapped {border: 1px dashed gray;margin: 0 0.4em 0.5em 0.4em;box-sizing: border-box;padding-bottom: 0.4em;background-color: white;}#sk-container-id-9 div.sk-label label {font-family: monospace;font-weight: bold;display: inline-block;line-height: 1.2em;}#sk-container-id-9 div.sk-label-container {text-align: center;}#sk-container-id-9 div.sk-container {/* jupyter's `normalize.less` sets `[hidden] { display: none; }` but bootstrap.min.css set `[hidden] { display: none !important; }` so we also need the `!important` here to be able to override the default hidden behavior on the sphinx rendered scikit-learn.org. See: https://github.com/scikit-learn/scikit-learn/issues/21755 */display: inline-block !important;position: relative;}#sk-container-id-9 div.sk-text-repr-fallback {display: none;}</style><div id=\"sk-container-id-9\" class=\"sk-top-container\"><div class=\"sk-text-repr-fallback\"><pre>XGBClassifier(base_score=None, booster=None, callbacks=None,\n",
       "              colsample_bylevel=None, colsample_bynode=None,\n",
       "              colsample_bytree=None, early_stopping_rounds=None,\n",
       "              enable_categorical=False, eval_metric=None, feature_types=None,\n",
       "              gamma=None, gpu_id=None, grow_policy=None, importance_type=None,\n",
       "              interaction_constraints=None, learning_rate=1, max_bin=None,\n",
       "              max_cat_threshold=None, max_cat_to_onehot=None,\n",
       "              max_delta_step=None, max_depth=20, max_leaves=None,\n",
       "              min_child_weight=None, missing=nan, monotone_constraints=None,\n",
       "              n_estimators=10, n_jobs=None, num_parallel_tree=None,\n",
       "              predictor=None, random_state=None, ...)</pre><b>In a Jupyter environment, please rerun this cell to show the HTML representation or trust the notebook. <br />On GitHub, the HTML representation is unable to render, please try loading this page with nbviewer.org.</b></div><div class=\"sk-container\" hidden><div class=\"sk-item\"><div class=\"sk-estimator sk-toggleable\"><input class=\"sk-toggleable__control sk-hidden--visually\" id=\"sk-estimator-id-9\" type=\"checkbox\" checked><label for=\"sk-estimator-id-9\" class=\"sk-toggleable__label sk-toggleable__label-arrow\">XGBClassifier</label><div class=\"sk-toggleable__content\"><pre>XGBClassifier(base_score=None, booster=None, callbacks=None,\n",
       "              colsample_bylevel=None, colsample_bynode=None,\n",
       "              colsample_bytree=None, early_stopping_rounds=None,\n",
       "              enable_categorical=False, eval_metric=None, feature_types=None,\n",
       "              gamma=None, gpu_id=None, grow_policy=None, importance_type=None,\n",
       "              interaction_constraints=None, learning_rate=1, max_bin=None,\n",
       "              max_cat_threshold=None, max_cat_to_onehot=None,\n",
       "              max_delta_step=None, max_depth=20, max_leaves=None,\n",
       "              min_child_weight=None, missing=nan, monotone_constraints=None,\n",
       "              n_estimators=10, n_jobs=None, num_parallel_tree=None,\n",
       "              predictor=None, random_state=None, ...)</pre></div></div></div></div></div>"
      ],
      "text/plain": [
       "XGBClassifier(base_score=None, booster=None, callbacks=None,\n",
       "              colsample_bylevel=None, colsample_bynode=None,\n",
       "              colsample_bytree=None, early_stopping_rounds=None,\n",
       "              enable_categorical=False, eval_metric=None, feature_types=None,\n",
       "              gamma=None, gpu_id=None, grow_policy=None, importance_type=None,\n",
       "              interaction_constraints=None, learning_rate=1, max_bin=None,\n",
       "              max_cat_threshold=None, max_cat_to_onehot=None,\n",
       "              max_delta_step=None, max_depth=20, max_leaves=None,\n",
       "              min_child_weight=None, missing=nan, monotone_constraints=None,\n",
       "              n_estimators=10, n_jobs=None, num_parallel_tree=None,\n",
       "              predictor=None, random_state=None, ...)"
      ]
     },
     "execution_count": 201,
     "metadata": {},
     "output_type": "execute_result"
    }
   ],
   "source": [
    "bst.fit(X_train, y_train)"
   ]
  },
  {
   "cell_type": "code",
   "execution_count": 202,
   "id": "04c3ec40",
   "metadata": {},
   "outputs": [],
   "source": [
    "y_pred = bst.predict(X_test)"
   ]
  },
  {
   "cell_type": "code",
   "execution_count": 203,
   "id": "0e36f0df",
   "metadata": {
    "scrolled": true
   },
   "outputs": [
    {
     "name": "stdout",
     "output_type": "stream",
     "text": [
      "              precision    recall  f1-score   support\n",
      "\n",
      "         0.0       0.73      0.74      0.74        43\n",
      "         1.0       0.42      0.40      0.41        20\n",
      "\n",
      "    accuracy                           0.63        63\n",
      "   macro avg       0.57      0.57      0.57        63\n",
      "weighted avg       0.63      0.63      0.63        63\n",
      "\n"
     ]
    }
   ],
   "source": [
    "print(classification_report(y_test, y_pred))"
   ]
  },
  {
   "cell_type": "code",
   "execution_count": 204,
   "id": "9b825c36",
   "metadata": {},
   "outputs": [
    {
     "data": {
      "text/plain": [
       "array([[32, 11],\n",
       "       [12,  8]])"
      ]
     },
     "execution_count": 204,
     "metadata": {},
     "output_type": "execute_result"
    }
   ],
   "source": [
    "confusion_matrix(y_test, y_pred)"
   ]
  },
  {
   "cell_type": "code",
   "execution_count": null,
   "id": "211cb064",
   "metadata": {},
   "outputs": [],
   "source": []
  },
  {
   "cell_type": "code",
   "execution_count": null,
   "id": "60ecdbeb",
   "metadata": {},
   "outputs": [],
   "source": []
  },
  {
   "cell_type": "code",
   "execution_count": null,
   "id": "5f4b5fbf",
   "metadata": {},
   "outputs": [],
   "source": []
  },
  {
   "cell_type": "markdown",
   "id": "29288670",
   "metadata": {},
   "source": [
    "## shape (312, 100)"
   ]
  },
  {
   "cell_type": "code",
   "execution_count": 205,
   "id": "6e86610d",
   "metadata": {},
   "outputs": [],
   "source": [
    "X_train, X_test, y_train, y_test = train_test_split(df[solutions.iloc[0][0]], target, stratify=target, test_size=0.2)"
   ]
  },
  {
   "cell_type": "code",
   "execution_count": 206,
   "id": "8e8c2ec1",
   "metadata": {},
   "outputs": [
    {
     "data": {
      "text/plain": [
       "(249, 100)"
      ]
     },
     "execution_count": 206,
     "metadata": {},
     "output_type": "execute_result"
    }
   ],
   "source": [
    "X_train.shape"
   ]
  },
  {
   "cell_type": "code",
   "execution_count": 207,
   "id": "8a76e2e3",
   "metadata": {},
   "outputs": [
    {
     "data": {
      "text/plain": [
       "(63, 100)"
      ]
     },
     "execution_count": 207,
     "metadata": {},
     "output_type": "execute_result"
    }
   ],
   "source": [
    "X_test.shape"
   ]
  },
  {
   "cell_type": "code",
   "execution_count": 208,
   "id": "f27ca755",
   "metadata": {},
   "outputs": [],
   "source": [
    "scaler = StandardScaler()"
   ]
  },
  {
   "cell_type": "code",
   "execution_count": 209,
   "id": "18530ce1",
   "metadata": {},
   "outputs": [],
   "source": [
    "scaler.fit(X_train)\n",
    "X_train = scaler.transform(X_train)\n",
    "X_test = scaler.transform(X_test)"
   ]
  },
  {
   "cell_type": "code",
   "execution_count": null,
   "id": "7d64852e",
   "metadata": {},
   "outputs": [],
   "source": []
  },
  {
   "cell_type": "code",
   "execution_count": 210,
   "id": "4aad4960",
   "metadata": {},
   "outputs": [],
   "source": [
    "model = RandomForestClassifier(n_estimators=10, max_depth=20)"
   ]
  },
  {
   "cell_type": "code",
   "execution_count": 211,
   "id": "bbc95f9c",
   "metadata": {
    "scrolled": true
   },
   "outputs": [
    {
     "data": {
      "text/html": [
       "<style>#sk-container-id-10 {color: black;background-color: white;}#sk-container-id-10 pre{padding: 0;}#sk-container-id-10 div.sk-toggleable {background-color: white;}#sk-container-id-10 label.sk-toggleable__label {cursor: pointer;display: block;width: 100%;margin-bottom: 0;padding: 0.3em;box-sizing: border-box;text-align: center;}#sk-container-id-10 label.sk-toggleable__label-arrow:before {content: \"▸\";float: left;margin-right: 0.25em;color: #696969;}#sk-container-id-10 label.sk-toggleable__label-arrow:hover:before {color: black;}#sk-container-id-10 div.sk-estimator:hover label.sk-toggleable__label-arrow:before {color: black;}#sk-container-id-10 div.sk-toggleable__content {max-height: 0;max-width: 0;overflow: hidden;text-align: left;background-color: #f0f8ff;}#sk-container-id-10 div.sk-toggleable__content pre {margin: 0.2em;color: black;border-radius: 0.25em;background-color: #f0f8ff;}#sk-container-id-10 input.sk-toggleable__control:checked~div.sk-toggleable__content {max-height: 200px;max-width: 100%;overflow: auto;}#sk-container-id-10 input.sk-toggleable__control:checked~label.sk-toggleable__label-arrow:before {content: \"▾\";}#sk-container-id-10 div.sk-estimator input.sk-toggleable__control:checked~label.sk-toggleable__label {background-color: #d4ebff;}#sk-container-id-10 div.sk-label input.sk-toggleable__control:checked~label.sk-toggleable__label {background-color: #d4ebff;}#sk-container-id-10 input.sk-hidden--visually {border: 0;clip: rect(1px 1px 1px 1px);clip: rect(1px, 1px, 1px, 1px);height: 1px;margin: -1px;overflow: hidden;padding: 0;position: absolute;width: 1px;}#sk-container-id-10 div.sk-estimator {font-family: monospace;background-color: #f0f8ff;border: 1px dotted black;border-radius: 0.25em;box-sizing: border-box;margin-bottom: 0.5em;}#sk-container-id-10 div.sk-estimator:hover {background-color: #d4ebff;}#sk-container-id-10 div.sk-parallel-item::after {content: \"\";width: 100%;border-bottom: 1px solid gray;flex-grow: 1;}#sk-container-id-10 div.sk-label:hover label.sk-toggleable__label {background-color: #d4ebff;}#sk-container-id-10 div.sk-serial::before {content: \"\";position: absolute;border-left: 1px solid gray;box-sizing: border-box;top: 0;bottom: 0;left: 50%;z-index: 0;}#sk-container-id-10 div.sk-serial {display: flex;flex-direction: column;align-items: center;background-color: white;padding-right: 0.2em;padding-left: 0.2em;position: relative;}#sk-container-id-10 div.sk-item {position: relative;z-index: 1;}#sk-container-id-10 div.sk-parallel {display: flex;align-items: stretch;justify-content: center;background-color: white;position: relative;}#sk-container-id-10 div.sk-item::before, #sk-container-id-10 div.sk-parallel-item::before {content: \"\";position: absolute;border-left: 1px solid gray;box-sizing: border-box;top: 0;bottom: 0;left: 50%;z-index: -1;}#sk-container-id-10 div.sk-parallel-item {display: flex;flex-direction: column;z-index: 1;position: relative;background-color: white;}#sk-container-id-10 div.sk-parallel-item:first-child::after {align-self: flex-end;width: 50%;}#sk-container-id-10 div.sk-parallel-item:last-child::after {align-self: flex-start;width: 50%;}#sk-container-id-10 div.sk-parallel-item:only-child::after {width: 0;}#sk-container-id-10 div.sk-dashed-wrapped {border: 1px dashed gray;margin: 0 0.4em 0.5em 0.4em;box-sizing: border-box;padding-bottom: 0.4em;background-color: white;}#sk-container-id-10 div.sk-label label {font-family: monospace;font-weight: bold;display: inline-block;line-height: 1.2em;}#sk-container-id-10 div.sk-label-container {text-align: center;}#sk-container-id-10 div.sk-container {/* jupyter's `normalize.less` sets `[hidden] { display: none; }` but bootstrap.min.css set `[hidden] { display: none !important; }` so we also need the `!important` here to be able to override the default hidden behavior on the sphinx rendered scikit-learn.org. See: https://github.com/scikit-learn/scikit-learn/issues/21755 */display: inline-block !important;position: relative;}#sk-container-id-10 div.sk-text-repr-fallback {display: none;}</style><div id=\"sk-container-id-10\" class=\"sk-top-container\"><div class=\"sk-text-repr-fallback\"><pre>RandomForestClassifier(max_depth=20, n_estimators=10)</pre><b>In a Jupyter environment, please rerun this cell to show the HTML representation or trust the notebook. <br />On GitHub, the HTML representation is unable to render, please try loading this page with nbviewer.org.</b></div><div class=\"sk-container\" hidden><div class=\"sk-item\"><div class=\"sk-estimator sk-toggleable\"><input class=\"sk-toggleable__control sk-hidden--visually\" id=\"sk-estimator-id-10\" type=\"checkbox\" checked><label for=\"sk-estimator-id-10\" class=\"sk-toggleable__label sk-toggleable__label-arrow\">RandomForestClassifier</label><div class=\"sk-toggleable__content\"><pre>RandomForestClassifier(max_depth=20, n_estimators=10)</pre></div></div></div></div></div>"
      ],
      "text/plain": [
       "RandomForestClassifier(max_depth=20, n_estimators=10)"
      ]
     },
     "execution_count": 211,
     "metadata": {},
     "output_type": "execute_result"
    }
   ],
   "source": [
    "model.fit(X_train, y_train)"
   ]
  },
  {
   "cell_type": "code",
   "execution_count": 212,
   "id": "1b3cd325",
   "metadata": {},
   "outputs": [],
   "source": [
    "y_pred = model.predict(X_test)"
   ]
  },
  {
   "cell_type": "code",
   "execution_count": 213,
   "id": "4ec09b64",
   "metadata": {},
   "outputs": [
    {
     "data": {
      "text/plain": [
       "0.7777777777777778"
      ]
     },
     "execution_count": 213,
     "metadata": {},
     "output_type": "execute_result"
    }
   ],
   "source": [
    "accuracy_score(y_test, y_pred)"
   ]
  },
  {
   "cell_type": "code",
   "execution_count": 214,
   "id": "a345819e",
   "metadata": {},
   "outputs": [
    {
     "name": "stdout",
     "output_type": "stream",
     "text": [
      "              precision    recall  f1-score   support\n",
      "\n",
      "         0.0       0.76      0.98      0.86        43\n",
      "         1.0       0.88      0.35      0.50        20\n",
      "\n",
      "    accuracy                           0.78        63\n",
      "   macro avg       0.82      0.66      0.68        63\n",
      "weighted avg       0.80      0.78      0.74        63\n",
      "\n"
     ]
    }
   ],
   "source": [
    "print(classification_report(y_test, y_pred))"
   ]
  },
  {
   "cell_type": "code",
   "execution_count": 215,
   "id": "20cbc1ca",
   "metadata": {},
   "outputs": [
    {
     "data": {
      "text/plain": [
       "array([[42,  1],\n",
       "       [13,  7]])"
      ]
     },
     "execution_count": 215,
     "metadata": {},
     "output_type": "execute_result"
    }
   ],
   "source": [
    "confusion_matrix(y_test, y_pred)"
   ]
  },
  {
   "cell_type": "code",
   "execution_count": null,
   "id": "1430e6d2",
   "metadata": {},
   "outputs": [],
   "source": []
  },
  {
   "cell_type": "code",
   "execution_count": 216,
   "id": "66593d66",
   "metadata": {},
   "outputs": [],
   "source": [
    "importances = model.feature_importances_"
   ]
  },
  {
   "cell_type": "code",
   "execution_count": 217,
   "id": "88a92610",
   "metadata": {},
   "outputs": [
    {
     "data": {
      "text/plain": [
       "0.04551156443319198"
      ]
     },
     "execution_count": 217,
     "metadata": {},
     "output_type": "execute_result"
    }
   ],
   "source": [
    "importances.max()"
   ]
  },
  {
   "cell_type": "code",
   "execution_count": 218,
   "id": "75a6fc33",
   "metadata": {},
   "outputs": [
    {
     "data": {
      "text/plain": [
       "0.0"
      ]
     },
     "execution_count": 218,
     "metadata": {},
     "output_type": "execute_result"
    }
   ],
   "source": [
    "importances.min()"
   ]
  },
  {
   "cell_type": "code",
   "execution_count": 219,
   "id": "c7161a17",
   "metadata": {},
   "outputs": [
    {
     "data": {
      "text/plain": [
       "7"
      ]
     },
     "execution_count": 219,
     "metadata": {},
     "output_type": "execute_result"
    }
   ],
   "source": [
    "len([x for x in importances if x == 0])"
   ]
  },
  {
   "cell_type": "code",
   "execution_count": null,
   "id": "8d117adf",
   "metadata": {},
   "outputs": [],
   "source": []
  },
  {
   "cell_type": "code",
   "execution_count": 220,
   "id": "cff42821",
   "metadata": {},
   "outputs": [],
   "source": [
    "bst = XGBClassifier(n_estimators=10, max_depth=20, learning_rate=1, objective='binary:logistic')"
   ]
  },
  {
   "cell_type": "code",
   "execution_count": 221,
   "id": "19d4d82b",
   "metadata": {},
   "outputs": [
    {
     "data": {
      "text/html": [
       "<style>#sk-container-id-11 {color: black;background-color: white;}#sk-container-id-11 pre{padding: 0;}#sk-container-id-11 div.sk-toggleable {background-color: white;}#sk-container-id-11 label.sk-toggleable__label {cursor: pointer;display: block;width: 100%;margin-bottom: 0;padding: 0.3em;box-sizing: border-box;text-align: center;}#sk-container-id-11 label.sk-toggleable__label-arrow:before {content: \"▸\";float: left;margin-right: 0.25em;color: #696969;}#sk-container-id-11 label.sk-toggleable__label-arrow:hover:before {color: black;}#sk-container-id-11 div.sk-estimator:hover label.sk-toggleable__label-arrow:before {color: black;}#sk-container-id-11 div.sk-toggleable__content {max-height: 0;max-width: 0;overflow: hidden;text-align: left;background-color: #f0f8ff;}#sk-container-id-11 div.sk-toggleable__content pre {margin: 0.2em;color: black;border-radius: 0.25em;background-color: #f0f8ff;}#sk-container-id-11 input.sk-toggleable__control:checked~div.sk-toggleable__content {max-height: 200px;max-width: 100%;overflow: auto;}#sk-container-id-11 input.sk-toggleable__control:checked~label.sk-toggleable__label-arrow:before {content: \"▾\";}#sk-container-id-11 div.sk-estimator input.sk-toggleable__control:checked~label.sk-toggleable__label {background-color: #d4ebff;}#sk-container-id-11 div.sk-label input.sk-toggleable__control:checked~label.sk-toggleable__label {background-color: #d4ebff;}#sk-container-id-11 input.sk-hidden--visually {border: 0;clip: rect(1px 1px 1px 1px);clip: rect(1px, 1px, 1px, 1px);height: 1px;margin: -1px;overflow: hidden;padding: 0;position: absolute;width: 1px;}#sk-container-id-11 div.sk-estimator {font-family: monospace;background-color: #f0f8ff;border: 1px dotted black;border-radius: 0.25em;box-sizing: border-box;margin-bottom: 0.5em;}#sk-container-id-11 div.sk-estimator:hover {background-color: #d4ebff;}#sk-container-id-11 div.sk-parallel-item::after {content: \"\";width: 100%;border-bottom: 1px solid gray;flex-grow: 1;}#sk-container-id-11 div.sk-label:hover label.sk-toggleable__label {background-color: #d4ebff;}#sk-container-id-11 div.sk-serial::before {content: \"\";position: absolute;border-left: 1px solid gray;box-sizing: border-box;top: 0;bottom: 0;left: 50%;z-index: 0;}#sk-container-id-11 div.sk-serial {display: flex;flex-direction: column;align-items: center;background-color: white;padding-right: 0.2em;padding-left: 0.2em;position: relative;}#sk-container-id-11 div.sk-item {position: relative;z-index: 1;}#sk-container-id-11 div.sk-parallel {display: flex;align-items: stretch;justify-content: center;background-color: white;position: relative;}#sk-container-id-11 div.sk-item::before, #sk-container-id-11 div.sk-parallel-item::before {content: \"\";position: absolute;border-left: 1px solid gray;box-sizing: border-box;top: 0;bottom: 0;left: 50%;z-index: -1;}#sk-container-id-11 div.sk-parallel-item {display: flex;flex-direction: column;z-index: 1;position: relative;background-color: white;}#sk-container-id-11 div.sk-parallel-item:first-child::after {align-self: flex-end;width: 50%;}#sk-container-id-11 div.sk-parallel-item:last-child::after {align-self: flex-start;width: 50%;}#sk-container-id-11 div.sk-parallel-item:only-child::after {width: 0;}#sk-container-id-11 div.sk-dashed-wrapped {border: 1px dashed gray;margin: 0 0.4em 0.5em 0.4em;box-sizing: border-box;padding-bottom: 0.4em;background-color: white;}#sk-container-id-11 div.sk-label label {font-family: monospace;font-weight: bold;display: inline-block;line-height: 1.2em;}#sk-container-id-11 div.sk-label-container {text-align: center;}#sk-container-id-11 div.sk-container {/* jupyter's `normalize.less` sets `[hidden] { display: none; }` but bootstrap.min.css set `[hidden] { display: none !important; }` so we also need the `!important` here to be able to override the default hidden behavior on the sphinx rendered scikit-learn.org. See: https://github.com/scikit-learn/scikit-learn/issues/21755 */display: inline-block !important;position: relative;}#sk-container-id-11 div.sk-text-repr-fallback {display: none;}</style><div id=\"sk-container-id-11\" class=\"sk-top-container\"><div class=\"sk-text-repr-fallback\"><pre>XGBClassifier(base_score=None, booster=None, callbacks=None,\n",
       "              colsample_bylevel=None, colsample_bynode=None,\n",
       "              colsample_bytree=None, early_stopping_rounds=None,\n",
       "              enable_categorical=False, eval_metric=None, feature_types=None,\n",
       "              gamma=None, gpu_id=None, grow_policy=None, importance_type=None,\n",
       "              interaction_constraints=None, learning_rate=1, max_bin=None,\n",
       "              max_cat_threshold=None, max_cat_to_onehot=None,\n",
       "              max_delta_step=None, max_depth=20, max_leaves=None,\n",
       "              min_child_weight=None, missing=nan, monotone_constraints=None,\n",
       "              n_estimators=10, n_jobs=None, num_parallel_tree=None,\n",
       "              predictor=None, random_state=None, ...)</pre><b>In a Jupyter environment, please rerun this cell to show the HTML representation or trust the notebook. <br />On GitHub, the HTML representation is unable to render, please try loading this page with nbviewer.org.</b></div><div class=\"sk-container\" hidden><div class=\"sk-item\"><div class=\"sk-estimator sk-toggleable\"><input class=\"sk-toggleable__control sk-hidden--visually\" id=\"sk-estimator-id-11\" type=\"checkbox\" checked><label for=\"sk-estimator-id-11\" class=\"sk-toggleable__label sk-toggleable__label-arrow\">XGBClassifier</label><div class=\"sk-toggleable__content\"><pre>XGBClassifier(base_score=None, booster=None, callbacks=None,\n",
       "              colsample_bylevel=None, colsample_bynode=None,\n",
       "              colsample_bytree=None, early_stopping_rounds=None,\n",
       "              enable_categorical=False, eval_metric=None, feature_types=None,\n",
       "              gamma=None, gpu_id=None, grow_policy=None, importance_type=None,\n",
       "              interaction_constraints=None, learning_rate=1, max_bin=None,\n",
       "              max_cat_threshold=None, max_cat_to_onehot=None,\n",
       "              max_delta_step=None, max_depth=20, max_leaves=None,\n",
       "              min_child_weight=None, missing=nan, monotone_constraints=None,\n",
       "              n_estimators=10, n_jobs=None, num_parallel_tree=None,\n",
       "              predictor=None, random_state=None, ...)</pre></div></div></div></div></div>"
      ],
      "text/plain": [
       "XGBClassifier(base_score=None, booster=None, callbacks=None,\n",
       "              colsample_bylevel=None, colsample_bynode=None,\n",
       "              colsample_bytree=None, early_stopping_rounds=None,\n",
       "              enable_categorical=False, eval_metric=None, feature_types=None,\n",
       "              gamma=None, gpu_id=None, grow_policy=None, importance_type=None,\n",
       "              interaction_constraints=None, learning_rate=1, max_bin=None,\n",
       "              max_cat_threshold=None, max_cat_to_onehot=None,\n",
       "              max_delta_step=None, max_depth=20, max_leaves=None,\n",
       "              min_child_weight=None, missing=nan, monotone_constraints=None,\n",
       "              n_estimators=10, n_jobs=None, num_parallel_tree=None,\n",
       "              predictor=None, random_state=None, ...)"
      ]
     },
     "execution_count": 221,
     "metadata": {},
     "output_type": "execute_result"
    }
   ],
   "source": [
    "bst.fit(X_train, y_train)"
   ]
  },
  {
   "cell_type": "code",
   "execution_count": 222,
   "id": "898f614f",
   "metadata": {},
   "outputs": [],
   "source": [
    "y_pred = bst.predict(X_test)"
   ]
  },
  {
   "cell_type": "code",
   "execution_count": 223,
   "id": "341a5ffc",
   "metadata": {
    "scrolled": true
   },
   "outputs": [
    {
     "name": "stdout",
     "output_type": "stream",
     "text": [
      "              precision    recall  f1-score   support\n",
      "\n",
      "         0.0       0.78      0.91      0.84        43\n",
      "         1.0       0.69      0.45      0.55        20\n",
      "\n",
      "    accuracy                           0.76        63\n",
      "   macro avg       0.74      0.68      0.69        63\n",
      "weighted avg       0.75      0.76      0.75        63\n",
      "\n"
     ]
    }
   ],
   "source": [
    "print(classification_report(y_test, y_pred))"
   ]
  },
  {
   "cell_type": "code",
   "execution_count": 224,
   "id": "6c812360",
   "metadata": {},
   "outputs": [
    {
     "data": {
      "text/plain": [
       "array([[39,  4],\n",
       "       [11,  9]])"
      ]
     },
     "execution_count": 224,
     "metadata": {},
     "output_type": "execute_result"
    }
   ],
   "source": [
    "confusion_matrix(y_test, y_pred)"
   ]
  },
  {
   "cell_type": "code",
   "execution_count": null,
   "id": "51ac0a5a",
   "metadata": {},
   "outputs": [],
   "source": []
  },
  {
   "cell_type": "code",
   "execution_count": null,
   "id": "e8dc206e",
   "metadata": {},
   "outputs": [],
   "source": []
  }
 ],
 "metadata": {
  "kernelspec": {
   "display_name": "Python 3 (ipykernel)",
   "language": "python",
   "name": "python3"
  },
  "language_info": {
   "codemirror_mode": {
    "name": "ipython",
    "version": 3
   },
   "file_extension": ".py",
   "mimetype": "text/x-python",
   "name": "python",
   "nbconvert_exporter": "python",
   "pygments_lexer": "ipython3",
   "version": "3.10.12"
  }
 },
 "nbformat": 4,
 "nbformat_minor": 5
}
